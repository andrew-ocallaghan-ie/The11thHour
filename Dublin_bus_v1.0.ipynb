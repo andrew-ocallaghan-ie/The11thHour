{
 "cells": [
  {
   "cell_type": "code",
   "execution_count": 11,
   "metadata": {
    "collapsed": false
   },
   "outputs": [
    {
     "name": "stderr",
     "output_type": "stream",
     "text": [
      "/Users/user/anaconda/lib/python3.5/site-packages/IPython/core/interactiveshell.py:2717: DtypeWarning: Columns (14) have mixed types. Specify dtype option on import or set low_memory=False.\n",
      "  interactivity=interactivity, compiler=compiler, result=result)\n"
     ]
    },
    {
     "data": {
      "text/html": [
       "<div>\n",
       "<table border=\"1\" class=\"dataframe\">\n",
       "  <thead>\n",
       "    <tr style=\"text-align: right;\">\n",
       "      <th></th>\n",
       "      <th>Unnamed: 0</th>\n",
       "      <th>Timestamp</th>\n",
       "      <th>LineID</th>\n",
       "      <th>Direction</th>\n",
       "      <th>Journey_Pattern_ID</th>\n",
       "      <th>Timeframe</th>\n",
       "      <th>Vehicle_Journey_ID</th>\n",
       "      <th>Operator</th>\n",
       "      <th>Congestion</th>\n",
       "      <th>Lon</th>\n",
       "      <th>Lat</th>\n",
       "      <th>Delay</th>\n",
       "      <th>Block_ID</th>\n",
       "      <th>Vehicle_ID</th>\n",
       "      <th>Stop_ID</th>\n",
       "      <th>At_Stop</th>\n",
       "    </tr>\n",
       "  </thead>\n",
       "  <tbody>\n",
       "    <tr>\n",
       "      <th>0</th>\n",
       "      <td>8</td>\n",
       "      <td>1356998427000000</td>\n",
       "      <td>4.0</td>\n",
       "      <td>0</td>\n",
       "      <td>null</td>\n",
       "      <td>2012-12-31</td>\n",
       "      <td>4243</td>\n",
       "      <td>HN</td>\n",
       "      <td>0</td>\n",
       "      <td>-6.279000</td>\n",
       "      <td>53.416683</td>\n",
       "      <td>0</td>\n",
       "      <td>4001</td>\n",
       "      <td>43043</td>\n",
       "      <td>7226</td>\n",
       "      <td>0</td>\n",
       "    </tr>\n",
       "    <tr>\n",
       "      <th>1</th>\n",
       "      <td>20</td>\n",
       "      <td>1356998427000000</td>\n",
       "      <td>4.0</td>\n",
       "      <td>0</td>\n",
       "      <td>00041002</td>\n",
       "      <td>2012-12-31</td>\n",
       "      <td>4599</td>\n",
       "      <td>HN</td>\n",
       "      <td>0</td>\n",
       "      <td>-6.277317</td>\n",
       "      <td>53.415817</td>\n",
       "      <td>0</td>\n",
       "      <td>4012</td>\n",
       "      <td>43035</td>\n",
       "      <td>281</td>\n",
       "      <td>1</td>\n",
       "    </tr>\n",
       "    <tr>\n",
       "      <th>2</th>\n",
       "      <td>44</td>\n",
       "      <td>1356998485000000</td>\n",
       "      <td>4.0</td>\n",
       "      <td>0</td>\n",
       "      <td>null</td>\n",
       "      <td>2012-12-31</td>\n",
       "      <td>4243</td>\n",
       "      <td>HN</td>\n",
       "      <td>0</td>\n",
       "      <td>-6.279000</td>\n",
       "      <td>53.416683</td>\n",
       "      <td>0</td>\n",
       "      <td>4001</td>\n",
       "      <td>43043</td>\n",
       "      <td>7226</td>\n",
       "      <td>0</td>\n",
       "    </tr>\n",
       "    <tr>\n",
       "      <th>3</th>\n",
       "      <td>46</td>\n",
       "      <td>1356998485000000</td>\n",
       "      <td>4.0</td>\n",
       "      <td>0</td>\n",
       "      <td>00041002</td>\n",
       "      <td>2012-12-31</td>\n",
       "      <td>4599</td>\n",
       "      <td>HN</td>\n",
       "      <td>0</td>\n",
       "      <td>-6.277317</td>\n",
       "      <td>53.415817</td>\n",
       "      <td>0</td>\n",
       "      <td>4012</td>\n",
       "      <td>43035</td>\n",
       "      <td>281</td>\n",
       "      <td>1</td>\n",
       "    </tr>\n",
       "    <tr>\n",
       "      <th>4</th>\n",
       "      <td>67</td>\n",
       "      <td>1356998546000000</td>\n",
       "      <td>4.0</td>\n",
       "      <td>0</td>\n",
       "      <td>00041002</td>\n",
       "      <td>2012-12-31</td>\n",
       "      <td>4599</td>\n",
       "      <td>HN</td>\n",
       "      <td>0</td>\n",
       "      <td>-6.277317</td>\n",
       "      <td>53.415817</td>\n",
       "      <td>0</td>\n",
       "      <td>4012</td>\n",
       "      <td>43035</td>\n",
       "      <td>281</td>\n",
       "      <td>1</td>\n",
       "    </tr>\n",
       "  </tbody>\n",
       "</table>\n",
       "</div>"
      ],
      "text/plain": [
       "   Unnamed: 0         Timestamp  LineID  Direction Journey_Pattern_ID  \\\n",
       "0           8  1356998427000000     4.0          0               null   \n",
       "1          20  1356998427000000     4.0          0           00041002   \n",
       "2          44  1356998485000000     4.0          0               null   \n",
       "3          46  1356998485000000     4.0          0           00041002   \n",
       "4          67  1356998546000000     4.0          0           00041002   \n",
       "\n",
       "    Timeframe  Vehicle_Journey_ID Operator  Congestion       Lon        Lat  \\\n",
       "0  2012-12-31                4243       HN           0 -6.279000  53.416683   \n",
       "1  2012-12-31                4599       HN           0 -6.277317  53.415817   \n",
       "2  2012-12-31                4243       HN           0 -6.279000  53.416683   \n",
       "3  2012-12-31                4599       HN           0 -6.277317  53.415817   \n",
       "4  2012-12-31                4599       HN           0 -6.277317  53.415817   \n",
       "\n",
       "   Delay  Block_ID  Vehicle_ID Stop_ID  At_Stop  \n",
       "0      0      4001       43043    7226        0  \n",
       "1      0      4012       43035     281        1  \n",
       "2      0      4001       43043    7226        0  \n",
       "3      0      4012       43035     281        1  \n",
       "4      0      4012       43035     281        1  "
      ]
     },
     "execution_count": 11,
     "metadata": {},
     "output_type": "execute_result"
    }
   ],
   "source": [
    "#Read into a dataframe a CSV dataset\n",
    "#Timestamp micro since 1970 01 01 00:00:00 GMT'\n",
    "#Line ID\n",
    "#Direction\n",
    "#Journey Pattern ID\n",
    "#Time Frame (The start date of the production time table - in Dublin the production time table starts at 6am and ends at 3am)\n",
    "#Vehicle Journey ID (A given run on the journey pattern)\n",
    "#Operator (Bus operator, not the driver)\n",
    "#Congestion [0=no,1=yes]\n",
    "#Lon WGS84'Lat WGS84'\n",
    "#Delay (seconds, negative if bus is ahead of schedule)\n",
    "#Block ID (a section ID of the journey pattern)\n",
    "#Vehicle ID\n",
    "#Stop ID\n",
    "#At Stop [0=no,1=yes]\n",
    "\n",
    "# the ultimate target feature: delay per stop\n",
    "\n",
    "# Imports.\n",
    "import pandas as pd\n",
    "import matplotlib.pyplot as plt\n",
    "import numpy as np\n",
    "import datetime\n",
    "\n",
    "%matplotlib inline\n",
    "\n",
    "# Read csv file into a dataframe.\n",
    "df = pd.read_csv('route4.csv')\n",
    "df.head()"
   ]
  },
  {
   "cell_type": "code",
   "execution_count": 12,
   "metadata": {
    "collapsed": false
   },
   "outputs": [
    {
     "data": {
      "text/plain": [
       "(689030, 16)"
      ]
     },
     "execution_count": 12,
     "metadata": {},
     "output_type": "execute_result"
    }
   ],
   "source": [
    "df.shape"
   ]
  },
  {
   "cell_type": "code",
   "execution_count": 46,
   "metadata": {
    "collapsed": false,
    "scrolled": true
   },
   "outputs": [
    {
     "data": {
      "text/html": [
       "<div>\n",
       "<table border=\"1\" class=\"dataframe\">\n",
       "  <thead>\n",
       "    <tr style=\"text-align: right;\">\n",
       "      <th></th>\n",
       "      <th>Unnamed: 0</th>\n",
       "      <th>Timestamp</th>\n",
       "      <th>Journey_Pattern_ID</th>\n",
       "      <th>Timeframe</th>\n",
       "      <th>Vehicle_Journey_ID</th>\n",
       "      <th>Operator</th>\n",
       "      <th>Congestion</th>\n",
       "      <th>Lon</th>\n",
       "      <th>Lat</th>\n",
       "      <th>Delay</th>\n",
       "      <th>Block_ID</th>\n",
       "      <th>Vehicle_ID</th>\n",
       "      <th>Stop_ID</th>\n",
       "      <th>At_Stop</th>\n",
       "      <th>Time</th>\n",
       "    </tr>\n",
       "  </thead>\n",
       "  <tbody>\n",
       "    <tr>\n",
       "      <th>0</th>\n",
       "      <td>8</td>\n",
       "      <td>1356998427000000</td>\n",
       "      <td>null</td>\n",
       "      <td>2012-12-31</td>\n",
       "      <td>4243</td>\n",
       "      <td>HN</td>\n",
       "      <td>0</td>\n",
       "      <td>-6.279000</td>\n",
       "      <td>53.416683</td>\n",
       "      <td>0</td>\n",
       "      <td>4001</td>\n",
       "      <td>43043</td>\n",
       "      <td>7226</td>\n",
       "      <td>0</td>\n",
       "      <td>2013-01-01 00:00:27</td>\n",
       "    </tr>\n",
       "    <tr>\n",
       "      <th>1</th>\n",
       "      <td>20</td>\n",
       "      <td>1356998427000000</td>\n",
       "      <td>00041002</td>\n",
       "      <td>2012-12-31</td>\n",
       "      <td>4599</td>\n",
       "      <td>HN</td>\n",
       "      <td>0</td>\n",
       "      <td>-6.277317</td>\n",
       "      <td>53.415817</td>\n",
       "      <td>0</td>\n",
       "      <td>4012</td>\n",
       "      <td>43035</td>\n",
       "      <td>281</td>\n",
       "      <td>1</td>\n",
       "      <td>2013-01-01 00:00:27</td>\n",
       "    </tr>\n",
       "    <tr>\n",
       "      <th>2</th>\n",
       "      <td>44</td>\n",
       "      <td>1356998485000000</td>\n",
       "      <td>null</td>\n",
       "      <td>2012-12-31</td>\n",
       "      <td>4243</td>\n",
       "      <td>HN</td>\n",
       "      <td>0</td>\n",
       "      <td>-6.279000</td>\n",
       "      <td>53.416683</td>\n",
       "      <td>0</td>\n",
       "      <td>4001</td>\n",
       "      <td>43043</td>\n",
       "      <td>7226</td>\n",
       "      <td>0</td>\n",
       "      <td>2013-01-01 00:01:25</td>\n",
       "    </tr>\n",
       "    <tr>\n",
       "      <th>3</th>\n",
       "      <td>46</td>\n",
       "      <td>1356998485000000</td>\n",
       "      <td>00041002</td>\n",
       "      <td>2012-12-31</td>\n",
       "      <td>4599</td>\n",
       "      <td>HN</td>\n",
       "      <td>0</td>\n",
       "      <td>-6.277317</td>\n",
       "      <td>53.415817</td>\n",
       "      <td>0</td>\n",
       "      <td>4012</td>\n",
       "      <td>43035</td>\n",
       "      <td>281</td>\n",
       "      <td>1</td>\n",
       "      <td>2013-01-01 00:01:25</td>\n",
       "    </tr>\n",
       "    <tr>\n",
       "      <th>4</th>\n",
       "      <td>67</td>\n",
       "      <td>1356998546000000</td>\n",
       "      <td>00041002</td>\n",
       "      <td>2012-12-31</td>\n",
       "      <td>4599</td>\n",
       "      <td>HN</td>\n",
       "      <td>0</td>\n",
       "      <td>-6.277317</td>\n",
       "      <td>53.415817</td>\n",
       "      <td>0</td>\n",
       "      <td>4012</td>\n",
       "      <td>43035</td>\n",
       "      <td>281</td>\n",
       "      <td>1</td>\n",
       "      <td>2013-01-01 00:02:26</td>\n",
       "    </tr>\n",
       "  </tbody>\n",
       "</table>\n",
       "</div>"
      ],
      "text/plain": [
       "   Unnamed: 0         Timestamp Journey_Pattern_ID   Timeframe  \\\n",
       "0           8  1356998427000000               null  2012-12-31   \n",
       "1          20  1356998427000000           00041002  2012-12-31   \n",
       "2          44  1356998485000000               null  2012-12-31   \n",
       "3          46  1356998485000000           00041002  2012-12-31   \n",
       "4          67  1356998546000000           00041002  2012-12-31   \n",
       "\n",
       "  Vehicle_Journey_ID Operator Congestion       Lon        Lat  Delay  \\\n",
       "0               4243       HN          0 -6.279000  53.416683      0   \n",
       "1               4599       HN          0 -6.277317  53.415817      0   \n",
       "2               4243       HN          0 -6.279000  53.416683      0   \n",
       "3               4599       HN          0 -6.277317  53.415817      0   \n",
       "4               4599       HN          0 -6.277317  53.415817      0   \n",
       "\n",
       "   Block_ID  Vehicle_ID Stop_ID  At_Stop                Time  \n",
       "0      4001       43043    7226        0 2013-01-01 00:00:27  \n",
       "1      4012       43035     281        1 2013-01-01 00:00:27  \n",
       "2      4001       43043    7226        0 2013-01-01 00:01:25  \n",
       "3      4012       43035     281        1 2013-01-01 00:01:25  \n",
       "4      4012       43035     281        1 2013-01-01 00:02:26  "
      ]
     },
     "execution_count": 46,
     "metadata": {},
     "output_type": "execute_result"
    }
   ],
   "source": [
    "#update the timestamp:\n",
    "\n",
    "df[\"Time\"] = pd.to_datetime(df['Timestamp']*1000, unit=\"ns\")\n",
    "df.head(5)\n"
   ]
  },
  {
   "cell_type": "markdown",
   "metadata": {},
   "source": [
    "# Dropping duplicates"
   ]
  },
  {
   "cell_type": "code",
   "execution_count": 14,
   "metadata": {
    "collapsed": false
   },
   "outputs": [
    {
     "data": {
      "text/plain": [
       "(681530, 17)"
      ]
     },
     "execution_count": 14,
     "metadata": {},
     "output_type": "execute_result"
    }
   ],
   "source": [
    "df=df.drop_duplicates(keep='first')\n",
    "df.shape"
   ]
  },
  {
   "cell_type": "code",
   "execution_count": 15,
   "metadata": {
    "collapsed": false
   },
   "outputs": [],
   "source": [
    "#df.T.drop_duplicates().T\n",
    "#there are no duplicate columns and this exercise is crashing the kernal due to the size of the dataframe\n"
   ]
  },
  {
   "cell_type": "code",
   "execution_count": 16,
   "metadata": {
    "collapsed": false,
    "scrolled": true
   },
   "outputs": [
    {
     "data": {
      "text/plain": [
       "Unnamed: 0                     int64\n",
       "Timestamp                      int64\n",
       "LineID                       float64\n",
       "Direction                      int64\n",
       "Journey_Pattern_ID            object\n",
       "Timeframe                     object\n",
       "Vehicle_Journey_ID             int64\n",
       "Operator                      object\n",
       "Congestion                     int64\n",
       "Lon                          float64\n",
       "Lat                          float64\n",
       "Delay                          int64\n",
       "Block_ID                       int64\n",
       "Vehicle_ID                     int64\n",
       "Stop_ID                       object\n",
       "At_Stop                        int64\n",
       "Time                  datetime64[ns]\n",
       "dtype: object"
      ]
     },
     "execution_count": 16,
     "metadata": {},
     "output_type": "execute_result"
    }
   ],
   "source": [
    "#as we are seeing 'mixed types' warning for column 14 checking the data types:\n",
    "df.dtypes"
   ]
  },
  {
   "cell_type": "code",
   "execution_count": 17,
   "metadata": {
    "collapsed": false
   },
   "outputs": [
    {
     "data": {
      "text/html": [
       "<div>\n",
       "<table border=\"1\" class=\"dataframe\">\n",
       "  <thead>\n",
       "    <tr style=\"text-align: right;\">\n",
       "      <th></th>\n",
       "      <th>Unnamed: 0</th>\n",
       "      <th>Timestamp</th>\n",
       "      <th>LineID</th>\n",
       "      <th>Direction</th>\n",
       "      <th>Vehicle_Journey_ID</th>\n",
       "      <th>Congestion</th>\n",
       "      <th>Lon</th>\n",
       "      <th>Lat</th>\n",
       "      <th>Delay</th>\n",
       "      <th>Block_ID</th>\n",
       "      <th>Vehicle_ID</th>\n",
       "      <th>At_Stop</th>\n",
       "    </tr>\n",
       "  </thead>\n",
       "  <tbody>\n",
       "    <tr>\n",
       "      <th>count</th>\n",
       "      <td>6.815300e+05</td>\n",
       "      <td>6.815300e+05</td>\n",
       "      <td>681530.0</td>\n",
       "      <td>681530.0</td>\n",
       "      <td>681530.000000</td>\n",
       "      <td>681530.000000</td>\n",
       "      <td>681530.000000</td>\n",
       "      <td>681530.000000</td>\n",
       "      <td>681530.000000</td>\n",
       "      <td>681530.000000</td>\n",
       "      <td>681530.000000</td>\n",
       "      <td>681530.000000</td>\n",
       "    </tr>\n",
       "    <tr>\n",
       "      <th>mean</th>\n",
       "      <td>8.055587e+05</td>\n",
       "      <td>1.358318e+15</td>\n",
       "      <td>4.0</td>\n",
       "      <td>0.0</td>\n",
       "      <td>18419.449694</td>\n",
       "      <td>0.004907</td>\n",
       "      <td>-6.234028</td>\n",
       "      <td>53.347626</td>\n",
       "      <td>-116.597129</td>\n",
       "      <td>12353.638370</td>\n",
       "      <td>41911.664822</td>\n",
       "      <td>0.231095</td>\n",
       "    </tr>\n",
       "    <tr>\n",
       "      <th>std</th>\n",
       "      <td>4.709227e+05</td>\n",
       "      <td>7.341666e+11</td>\n",
       "      <td>0.0</td>\n",
       "      <td>0.0</td>\n",
       "      <td>108430.909990</td>\n",
       "      <td>0.069875</td>\n",
       "      <td>0.042438</td>\n",
       "      <td>0.041926</td>\n",
       "      <td>410.184561</td>\n",
       "      <td>82127.537945</td>\n",
       "      <td>2827.356145</td>\n",
       "      <td>0.421533</td>\n",
       "    </tr>\n",
       "    <tr>\n",
       "      <th>min</th>\n",
       "      <td>1.000000e+00</td>\n",
       "      <td>1.356998e+15</td>\n",
       "      <td>4.0</td>\n",
       "      <td>0.0</td>\n",
       "      <td>4229.000000</td>\n",
       "      <td>0.000000</td>\n",
       "      <td>-6.312333</td>\n",
       "      <td>53.278816</td>\n",
       "      <td>-2551.000000</td>\n",
       "      <td>4001.000000</td>\n",
       "      <td>33069.000000</td>\n",
       "      <td>0.000000</td>\n",
       "    </tr>\n",
       "    <tr>\n",
       "      <th>25%</th>\n",
       "      <td>4.127305e+05</td>\n",
       "      <td>1.357718e+15</td>\n",
       "      <td>4.0</td>\n",
       "      <td>0.0</td>\n",
       "      <td>4574.000000</td>\n",
       "      <td>0.000000</td>\n",
       "      <td>-6.265824</td>\n",
       "      <td>53.312439</td>\n",
       "      <td>-313.000000</td>\n",
       "      <td>4003.000000</td>\n",
       "      <td>43033.000000</td>\n",
       "      <td>0.000000</td>\n",
       "    </tr>\n",
       "    <tr>\n",
       "      <th>50%</th>\n",
       "      <td>7.618050e+05</td>\n",
       "      <td>1.358327e+15</td>\n",
       "      <td>4.0</td>\n",
       "      <td>0.0</td>\n",
       "      <td>4903.000000</td>\n",
       "      <td>0.000000</td>\n",
       "      <td>-6.257762</td>\n",
       "      <td>53.345348</td>\n",
       "      <td>-46.000000</td>\n",
       "      <td>4006.000000</td>\n",
       "      <td>43037.000000</td>\n",
       "      <td>0.000000</td>\n",
       "    </tr>\n",
       "    <tr>\n",
       "      <th>75%</th>\n",
       "      <td>1.196948e+06</td>\n",
       "      <td>1.358948e+15</td>\n",
       "      <td>4.0</td>\n",
       "      <td>0.0</td>\n",
       "      <td>4943.000000</td>\n",
       "      <td>0.000000</td>\n",
       "      <td>-6.201565</td>\n",
       "      <td>53.380424</td>\n",
       "      <td>53.000000</td>\n",
       "      <td>4009.000000</td>\n",
       "      <td>43042.000000</td>\n",
       "      <td>0.000000</td>\n",
       "    </tr>\n",
       "    <tr>\n",
       "      <th>max</th>\n",
       "      <td>1.733592e+06</td>\n",
       "      <td>1.359633e+15</td>\n",
       "      <td>4.0</td>\n",
       "      <td>0.0</td>\n",
       "      <td>999254.000000</td>\n",
       "      <td>1.000000</td>\n",
       "      <td>-6.134333</td>\n",
       "      <td>53.418999</td>\n",
       "      <td>5550.000000</td>\n",
       "      <td>822025.000000</td>\n",
       "      <td>43054.000000</td>\n",
       "      <td>1.000000</td>\n",
       "    </tr>\n",
       "  </tbody>\n",
       "</table>\n",
       "</div>"
      ],
      "text/plain": [
       "         Unnamed: 0     Timestamp    LineID  Direction  Vehicle_Journey_ID  \\\n",
       "count  6.815300e+05  6.815300e+05  681530.0   681530.0       681530.000000   \n",
       "mean   8.055587e+05  1.358318e+15       4.0        0.0        18419.449694   \n",
       "std    4.709227e+05  7.341666e+11       0.0        0.0       108430.909990   \n",
       "min    1.000000e+00  1.356998e+15       4.0        0.0         4229.000000   \n",
       "25%    4.127305e+05  1.357718e+15       4.0        0.0         4574.000000   \n",
       "50%    7.618050e+05  1.358327e+15       4.0        0.0         4903.000000   \n",
       "75%    1.196948e+06  1.358948e+15       4.0        0.0         4943.000000   \n",
       "max    1.733592e+06  1.359633e+15       4.0        0.0       999254.000000   \n",
       "\n",
       "          Congestion            Lon            Lat          Delay  \\\n",
       "count  681530.000000  681530.000000  681530.000000  681530.000000   \n",
       "mean        0.004907      -6.234028      53.347626    -116.597129   \n",
       "std         0.069875       0.042438       0.041926     410.184561   \n",
       "min         0.000000      -6.312333      53.278816   -2551.000000   \n",
       "25%         0.000000      -6.265824      53.312439    -313.000000   \n",
       "50%         0.000000      -6.257762      53.345348     -46.000000   \n",
       "75%         0.000000      -6.201565      53.380424      53.000000   \n",
       "max         1.000000      -6.134333      53.418999    5550.000000   \n",
       "\n",
       "            Block_ID     Vehicle_ID        At_Stop  \n",
       "count  681530.000000  681530.000000  681530.000000  \n",
       "mean    12353.638370   41911.664822       0.231095  \n",
       "std     82127.537945    2827.356145       0.421533  \n",
       "min      4001.000000   33069.000000       0.000000  \n",
       "25%      4003.000000   43033.000000       0.000000  \n",
       "50%      4006.000000   43037.000000       0.000000  \n",
       "75%      4009.000000   43042.000000       0.000000  \n",
       "max    822025.000000   43054.000000       1.000000  "
      ]
     },
     "execution_count": 17,
     "metadata": {},
     "output_type": "execute_result"
    }
   ],
   "source": [
    "df.describe()\n"
   ]
  },
  {
   "cell_type": "markdown",
   "metadata": {},
   "source": [
    "# Checking for constant columns - cardinality = 1"
   ]
  },
  {
   "cell_type": "code",
   "execution_count": 18,
   "metadata": {
    "collapsed": false
   },
   "outputs": [
    {
     "name": "stdout",
     "output_type": "stream",
     "text": [
      "Unnamed: 0,563375\n",
      "Timestamp,387316\n",
      "LineID,1\n",
      "Direction,1\n",
      "Journey_Pattern_ID,7\n",
      "Timeframe,32\n",
      "Vehicle_Journey_ID,596\n",
      "Operator,4\n",
      "Congestion,2\n",
      "Lon,34662\n",
      "Lat,28283\n",
      "Delay,3876\n",
      "Block_ID,42\n",
      "Vehicle_ID,116\n",
      "Stop_ID,242\n",
      "At_Stop,2\n",
      "Time,387316\n"
     ]
    }
   ],
   "source": [
    "for column in df.columns:\n",
    "    print(column + \",\" + str(len(df[column].unique())))"
   ]
  },
  {
   "cell_type": "code",
   "execution_count": 19,
   "metadata": {
    "collapsed": false
   },
   "outputs": [
    {
     "data": {
      "text/plain": [
       "array(['HN', 'D1', 'SL', 'D2'], dtype=object)"
      ]
     },
     "execution_count": 19,
     "metadata": {},
     "output_type": "execute_result"
    }
   ],
   "source": [
    "df.Operator.unique()"
   ]
  },
  {
   "cell_type": "markdown",
   "metadata": {},
   "source": [
    "# Notes on missing values"
   ]
  },
  {
   "cell_type": "code",
   "execution_count": 20,
   "metadata": {
    "collapsed": false
   },
   "outputs": [
    {
     "data": {
      "text/plain": [
       "Unnamed: 0             0\n",
       "Timestamp              0\n",
       "LineID                 0\n",
       "Direction              0\n",
       "Journey_Pattern_ID    15\n",
       "Timeframe              0\n",
       "Vehicle_Journey_ID     0\n",
       "Operator               0\n",
       "Congestion             0\n",
       "Lon                    0\n",
       "Lat                    0\n",
       "Delay                  0\n",
       "Block_ID               0\n",
       "Vehicle_ID             0\n",
       "Stop_ID                0\n",
       "At_Stop                0\n",
       "Time                   0\n",
       "dtype: int64"
      ]
     },
     "execution_count": 20,
     "metadata": {},
     "output_type": "execute_result"
    }
   ],
   "source": [
    "df.isnull().sum()"
   ]
  },
  {
   "cell_type": "markdown",
   "metadata": {},
   "source": [
    "It does not appear that any feature has so many missing values that the feature should be dropped right now. So there is no missing value work at the outset. "
   ]
  },
  {
   "cell_type": "markdown",
   "metadata": {},
   "source": [
    "# Looking at the data to check what some features represent by checking their unique values"
   ]
  },
  {
   "cell_type": "code",
   "execution_count": 47,
   "metadata": {
    "collapsed": false
   },
   "outputs": [
    {
     "data": {
      "text/plain": [
       "array(['2012-12-31', '2013-01-01', '2013-01-02', '2013-01-03',\n",
       "       '2013-01-04', '2013-01-05', '2013-01-06', '2013-01-07',\n",
       "       '2013-01-08', '2013-01-09', '2013-01-10', '2013-01-11',\n",
       "       '2013-01-12', '2013-01-13', '2013-01-14', '2013-01-15',\n",
       "       '2013-01-16', '2013-01-17', '2013-01-18', '2013-01-19',\n",
       "       '2013-01-20', '2013-01-21', '2013-01-22', '2013-01-23',\n",
       "       '2013-01-24', '2013-01-25', '2013-01-26', '2013-01-27',\n",
       "       '2013-01-28', '2013-01-29', '2013-01-30', '2013-01-31'], dtype=object)"
      ]
     },
     "execution_count": 47,
     "metadata": {},
     "output_type": "execute_result"
    }
   ],
   "source": [
    "df.Timeframe.unique()"
   ]
  },
  {
   "cell_type": "code",
   "execution_count": 48,
   "metadata": {
    "collapsed": false
   },
   "outputs": [
    {
     "data": {
      "text/plain": [
       "array([  4001,   4012,   4002,   4003,   4004,   4005,   4007,   4006,\n",
       "         4009,   4008,   4010, 822025,   4070,   4011,   4075,   4013,\n",
       "         4014,   4015,   4016,   4017,   4018,   4019,   4020,   4099,\n",
       "        40312,  40507,   4090,   4091,   4085,   4501,   4508,   4021,\n",
       "         4022,   4069,   4068,   4023,   4071,   4072,   4076,   4312,\n",
       "         4507,   4024])"
      ]
     },
     "execution_count": 48,
     "metadata": {},
     "output_type": "execute_result"
    }
   ],
   "source": [
    "df.Block_ID.unique()"
   ]
  },
  {
   "cell_type": "code",
   "execution_count": 49,
   "metadata": {
    "collapsed": false
   },
   "outputs": [
    {
     "data": {
      "text/plain": [
       "array(['null', '00041002', '00040001', '00041001', '00040002', '033X1001',\n",
       "       'nan'], dtype=object)"
      ]
     },
     "execution_count": 49,
     "metadata": {},
     "output_type": "execute_result"
    }
   ],
   "source": [
    "df.Journey_Pattern_ID.unique()"
   ]
  },
  {
   "cell_type": "markdown",
   "metadata": {},
   "source": [
    "So journey pattern ID relates to Block ID"
   ]
  },
  {
   "cell_type": "code",
   "execution_count": 50,
   "metadata": {
    "collapsed": false
   },
   "outputs": [
    {
     "data": {
      "text/plain": [
       "array(['7226', '281', 'null', '324', '7480', '327', '7482', '7113', '127',\n",
       "       '112', '113', '114', '115', '37', '38', '39', '146', '147', '184',\n",
       "       '185', '186', '187', '188', '189', '190', '191', '819', '7457',\n",
       "       '4725', '273', '402', '405', '408', '409', '410', '411', '412',\n",
       "       '413', '414', '415', '416', '417', '418', '419', '420', '421',\n",
       "       '423', '424', '425', '426', '427', '428', '429', '6334', '3115',\n",
       "       '3116', '6085', '2026', '7330', '2051', '6086', '3162', '3163',\n",
       "       '3164', '3084', '469', '470', '471', '472', '473', '475', '476',\n",
       "       '477', '478', '479', '481', '482', '483', '485', '487', '488',\n",
       "       '489', '490', '491', '492', '493', '494', '495', '400', '6', '194',\n",
       "       '40', '195', '196', '197', '198', '199', '200', '201', '148', '149',\n",
       "       '150', '27', '29', '4680', '90', '91', '92', '93', '94', '126',\n",
       "       '6182', '322', '323', '332', '3161', '4705', '480', '28', '422',\n",
       "       '3114', '748', 324, 2026, 429, 39, 478, 411, 199, 189, 489, 94, 479,\n",
       "       190, 40, 191, 6334, 480, 412, 490, 200, 413, 481, 126, 201, 146,\n",
       "       482, 6182, 147, 414, 491, 819, 322, 483, 148, 415, 149, 2051, 485,\n",
       "       3114, 150, 7330, 327, 184, 492, 6086, 7457, 3115, 27, 185, 3161,\n",
       "       487, 493, 4725, 416, 494, 29, 3162, 4680, 186, 417, 7480, 488, 90,\n",
       "       3116, 418, 323, 495, 419, 91, 3163, 6085, 92, 187, 7482, 420, 400,\n",
       "       93, 3164, 421, 273, 7113, 422, 188, 423, 424, 425, 127, 3084, 426,\n",
       "       281, 112, 469, 427, 428, 402, 470, 471, 472, 114, 473, 405, 4705, 6,\n",
       "       115, 475, 37, 476, 194, 477, 38, 408, 409, 195, 196, 410, 197, 198,\n",
       "       7226, 113, 332, 28], dtype=object)"
      ]
     },
     "execution_count": 50,
     "metadata": {},
     "output_type": "execute_result"
    }
   ],
   "source": [
    "df.Stop_ID.unique()"
   ]
  },
  {
   "cell_type": "code",
   "execution_count": 51,
   "metadata": {
    "collapsed": false
   },
   "outputs": [
    {
     "data": {
      "text/html": [
       "<div>\n",
       "<table border=\"1\" class=\"dataframe\">\n",
       "  <thead>\n",
       "    <tr style=\"text-align: right;\">\n",
       "      <th></th>\n",
       "      <th>count</th>\n",
       "      <th>unique</th>\n",
       "      <th>top</th>\n",
       "      <th>freq</th>\n",
       "    </tr>\n",
       "  </thead>\n",
       "  <tbody>\n",
       "    <tr>\n",
       "      <th>Journey_Pattern_ID</th>\n",
       "      <td>681530</td>\n",
       "      <td>7</td>\n",
       "      <td>00040001</td>\n",
       "      <td>308104</td>\n",
       "    </tr>\n",
       "    <tr>\n",
       "      <th>Timeframe</th>\n",
       "      <td>681530</td>\n",
       "      <td>32</td>\n",
       "      <td>2013-01-16</td>\n",
       "      <td>29885</td>\n",
       "    </tr>\n",
       "    <tr>\n",
       "      <th>Stop_ID</th>\n",
       "      <td>681530</td>\n",
       "      <td>242</td>\n",
       "      <td>7330</td>\n",
       "      <td>34054</td>\n",
       "    </tr>\n",
       "  </tbody>\n",
       "</table>\n",
       "</div>"
      ],
      "text/plain": [
       "                     count unique         top    freq\n",
       "Journey_Pattern_ID  681530      7    00040001  308104\n",
       "Timeframe           681530     32  2013-01-16   29885\n",
       "Stop_ID             681530    242        7330   34054"
      ]
     },
     "execution_count": 51,
     "metadata": {},
     "output_type": "execute_result"
    }
   ],
   "source": [
    "df.select_dtypes(['object']).describe().T"
   ]
  },
  {
   "cell_type": "markdown",
   "metadata": {},
   "source": [
    "Issue is equating the number of journey patters to either daily schedules (weekday, sat, sun, BH perhaps?), directional schedules or variations of the bus route (4A for example). "
   ]
  },
  {
   "cell_type": "code",
   "execution_count": 42,
   "metadata": {
    "collapsed": false
   },
   "outputs": [
    {
     "data": {
      "text/plain": [
       "Journey_Pattern_ID\n",
       "00040001    308104\n",
       "00040002      2919\n",
       "00041001    307252\n",
       "00041002      2613\n",
       "033X1001         9\n",
       "nan             15\n",
       "null         60618\n",
       "Name: Block_ID, dtype: int64"
      ]
     },
     "execution_count": 42,
     "metadata": {},
     "output_type": "execute_result"
    }
   ],
   "source": [
    "df['Block_ID'].groupby(df['Journey_Pattern_ID']).count().T"
   ]
  },
  {
   "cell_type": "markdown",
   "metadata": {},
   "source": [
    "\n",
    "To find out: Why are there 242 unique stop IDs when the number 4 does not have 242 stops?"
   ]
  },
  {
   "cell_type": "markdown",
   "metadata": {},
   "source": [
    "Why are we seeing 'nan' here when we have converted to string - what is this and what does this feature really represent:\n",
    "\n",
    "Is it days of the week schedules (sat/BH/sun/weekday etc)? \n",
    "Is it variants on the routes?"
   ]
  },
  {
   "cell_type": "code",
   "execution_count": 35,
   "metadata": {
    "collapsed": false
   },
   "outputs": [
    {
     "data": {
      "text/plain": [
       "<matplotlib.axes._subplots.AxesSubplot at 0x1159eab38>"
      ]
     },
     "execution_count": 35,
     "metadata": {},
     "output_type": "execute_result"
    },
    {
     "data": {
      "image/png": "[encoded data removed]",
      "text/plain": [
       "<matplotlib.figure.Figure at 0x1159eac18>"
      ]
     },
     "metadata": {},
     "output_type": "display_data"
    }
   ],
   "source": [
    "df['Vehicle_ID'].plot(kind='hist')"
   ]
  },
  {
   "cell_type": "code",
   "execution_count": 36,
   "metadata": {
    "collapsed": false
   },
   "outputs": [
    {
     "data": {
      "text/plain": [
       "<matplotlib.axes._subplots.AxesSubplot at 0x115a63160>"
      ]
     },
     "execution_count": 36,
     "metadata": {},
     "output_type": "execute_result"
    },
    {
     "data": {
      "image/png": "[encoded data removed]",
      "text/plain": [
       "<matplotlib.figure.Figure at 0x115a6e0f0>"
      ]
     },
     "metadata": {},
     "output_type": "display_data"
    }
   ],
   "source": [
    "df['Vehicle_ID'].value_counts().plot(kind='bar')"
   ]
  },
  {
   "cell_type": "markdown",
   "metadata": {},
   "source": [
    "Perhaps these do represent direction given there are no variants on the route (A/B etc) decommissioned 4A in 2010 according to this http://www.boards.ie/vbulletin/showthread.php?t=2056040487"
   ]
  },
  {
   "cell_type": "code",
   "execution_count": 52,
   "metadata": {
    "collapsed": false
   },
   "outputs": [
    {
     "data": {
      "text/plain": [
       "<matplotlib.axes._subplots.AxesSubplot at 0x12a353ac8>"
      ]
     },
     "execution_count": 52,
     "metadata": {},
     "output_type": "execute_result"
    },
    {
     "data": {
      "image/png": "[encoded data removed]",
      "text/plain": [
       "<matplotlib.figure.Figure at 0x12a338f60>"
      ]
     },
     "metadata": {},
     "output_type": "display_data"
    }
   ],
   "source": [
    "df['Block_ID'].plot(kind='hist')"
   ]
  },
  {
   "cell_type": "code",
   "execution_count": 53,
   "metadata": {
    "collapsed": false
   },
   "outputs": [
    {
     "data": {
      "text/plain": [
       "<matplotlib.axes._subplots.AxesSubplot at 0x12bffa5f8>"
      ]
     },
     "execution_count": 53,
     "metadata": {},
     "output_type": "execute_result"
    },
    {
     "data": {
      "image/png": "[encoded data removed]",
      "text/plain": [
       "<matplotlib.figure.Figure at 0x12c006470>"
      ]
     },
     "metadata": {},
     "output_type": "display_data"
    }
   ],
   "source": [
    "df['Block_ID'].value_counts().plot(kind='bar')"
   ]
  },
  {
   "cell_type": "markdown",
   "metadata": {},
   "source": [
    "# Dropping constant columns"
   ]
  },
  {
   "cell_type": "markdown",
   "metadata": {},
   "source": [
    "Direction is a constant - that is unexpected\n",
    "Line is constant as we filtered for line"
   ]
  },
  {
   "cell_type": "code",
   "execution_count": 44,
   "metadata": {
    "collapsed": false
   },
   "outputs": [
    {
     "data": {
      "text/plain": [
       "(681530, 15)"
      ]
     },
     "execution_count": 44,
     "metadata": {},
     "output_type": "execute_result"
    }
   ],
   "source": [
    "df = df.drop('LineID', 1)\n",
    "df = df.drop('Direction', 1)\n",
    "df.shape"
   ]
  },
  {
   "cell_type": "markdown",
   "metadata": {},
   "source": [
    "# Group continuous and categorical data "
   ]
  },
  {
   "cell_type": "code",
   "execution_count": 39,
   "metadata": {
    "collapsed": false
   },
   "outputs": [
    {
     "name": "stderr",
     "output_type": "stream",
     "text": [
      "/Users/user/anaconda/lib/python3.5/site-packages/ipykernel/__main__.py:3: SettingWithCopyWarning: \n",
      "A value is trying to be set on a copy of a slice from a DataFrame.\n",
      "Try using .loc[row_indexer,col_indexer] = value instead\n",
      "\n",
      "See the caveats in the documentation: http://pandas.pydata.org/pandas-docs/stable/indexing.html#indexing-view-versus-copy\n",
      "  app.launch_new_instance()\n",
      "/Users/user/anaconda/lib/python3.5/site-packages/ipykernel/__main__.py:4: SettingWithCopyWarning: \n",
      "A value is trying to be set on a copy of a slice from a DataFrame.\n",
      "Try using .loc[row_indexer,col_indexer] = value instead\n",
      "\n",
      "See the caveats in the documentation: http://pandas.pydata.org/pandas-docs/stable/indexing.html#indexing-view-versus-copy\n"
     ]
    }
   ],
   "source": [
    "#grouping continuous and categorical data fields\n",
    "\n",
    "df['Congestion'] = df['Congestion'].astype('category')\n",
    "df['Operator'] = df['Operator'].astype('category')"
   ]
  },
  {
   "cell_type": "code",
   "execution_count": null,
   "metadata": {
    "collapsed": true
   },
   "outputs": [],
   "source": []
  },
  {
   "cell_type": "code",
   "execution_count": null,
   "metadata": {
    "collapsed": true
   },
   "outputs": [],
   "source": []
  }
 ],
 "metadata": {
  "anaconda-cloud": {},
  "kernelspec": {
   "display_name": "Python [conda root]",
   "language": "python",
   "name": "conda-root-py"
  },
  "language_info": {
   "codemirror_mode": {
    "name": "ipython",
    "version": 3
   },
   "file_extension": ".py",
   "mimetype": "text/x-python",
   "name": "python",
   "nbconvert_exporter": "python",
   "pygments_lexer": "ipython3",
   "version": "3.5.2"
  }
 },
 "nbformat": 4,
 "nbformat_minor": 1
}
