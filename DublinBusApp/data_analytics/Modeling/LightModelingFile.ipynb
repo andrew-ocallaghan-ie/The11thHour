{
 "cells": [
  {
   "cell_type": "code",
   "execution_count": 1,
   "metadata": {
    "collapsed": true
   },
   "outputs": [],
   "source": [
    "import pandas as pd\n",
    "import numpy as np\n",
    "\n",
    "from datetime import date, datetime\n",
    "from patsy import dmatrices\n",
    "\n",
    "import seaborn as sns\n",
    "import matplotlib.pyplot as plt\n",
    "import matplotlib.patches as mpatches\n",
    "\n",
    "from sklearn.linear_model import LogisticRegression\n",
    "from sklearn import metrics\n",
    "from sklearn.tree import export_graphviz, DecisionTreeRegressor, DecisionTreeClassifier\n",
    "from sklearn.ensemble import RandomForestClassifier, RandomForestRegressor\n",
    "from sklearn import preprocessing\n",
    "from sklearn.pipeline import make_pipeline\n",
    "from sklearn.tree import export_graphviz \n",
    "from sklearn import tree\n",
    "from sklearn.model_selection import GridSearchCV, train_test_split, cross_val_score\n",
    "from sklearn.metrics import mean_squared_error, r2_score\n",
    "from sklearn.externals import joblib \n",
    "from statsmodels.formula.api import ols\n",
    "\n",
    "import models_func\n",
    "\n",
    "import shutil\n",
    "\n",
    "import os\n",
    "\n",
    "import time\n",
    "import multiprocessing\n",
    "from multiprocessing import Pool\n",
    "import threading"
   ]
  },
  {
   "cell_type": "code",
   "execution_count": 2,
   "metadata": {},
   "outputs": [
    {
     "name": "stdout",
     "output_type": "stream",
     "text": [
      "Folders Made\n",
      "Modeling Jan .DS_Store\n",
      "Modeling Jan beta4.csv\n"
     ]
    },
    {
     "name": "stderr",
     "output_type": "stream",
     "text": [
      "Exception in thread Thread-4:\n",
      "Traceback (most recent call last):\n",
      "  File \"/Users/katerooney/anaconda3/lib/python3.6/site-packages/patsy/compat.py\", line 117, in call_and_wrap_exc\n",
      "    return f(*args, **kwargs)\n",
      "  File \"/Users/katerooney/anaconda3/lib/python3.6/site-packages/patsy/eval.py\", line 166, in eval\n",
      "    + self._namespaces))\n",
      "  File \"<string>\", line 1, in <module>\n",
      "NameError: name 'Time_To_Travel' is not defined\n",
      "\n",
      "The above exception was the direct cause of the following exception:\n",
      "\n",
      "Traceback (most recent call last):\n",
      "  File \"/Users/katerooney/anaconda3/lib/python3.6/threading.py\", line 916, in _bootstrap_inner\n",
      "    self.run()\n",
      "  File \"/Users/katerooney/anaconda3/lib/python3.6/threading.py\", line 864, in run\n",
      "    self._target(*self._args, **self._kwargs)\n",
      "  File \"/Users/katerooney/Documents/DataAnalytics/The11thHour/DublinBusApp/data_analytics/Modeling/models_func.py\", line 113, in model_file\n",
      "    return_type=\"dataframe\")\n",
      "  File \"/Users/katerooney/anaconda3/lib/python3.6/site-packages/patsy/highlevel.py\", line 310, in dmatrices\n",
      "    NA_action, return_type)\n",
      "  File \"/Users/katerooney/anaconda3/lib/python3.6/site-packages/patsy/highlevel.py\", line 165, in _do_highlevel_design\n",
      "    NA_action)\n",
      "  File \"/Users/katerooney/anaconda3/lib/python3.6/site-packages/patsy/highlevel.py\", line 70, in _try_incr_builders\n",
      "    NA_action)\n",
      "  File \"/Users/katerooney/anaconda3/lib/python3.6/site-packages/patsy/build.py\", line 696, in design_matrix_builders\n",
      "    NA_action)\n",
      "  File \"/Users/katerooney/anaconda3/lib/python3.6/site-packages/patsy/build.py\", line 443, in _examine_factor_types\n",
      "    value = factor.eval(factor_states[factor], data)\n",
      "  File \"/Users/katerooney/anaconda3/lib/python3.6/site-packages/patsy/eval.py\", line 566, in eval\n",
      "    data)\n",
      "  File \"/Users/katerooney/anaconda3/lib/python3.6/site-packages/patsy/eval.py\", line 551, in _eval\n",
      "    inner_namespace=inner_namespace)\n",
      "  File \"/Users/katerooney/anaconda3/lib/python3.6/site-packages/patsy/compat.py\", line 124, in call_and_wrap_exc\n",
      "    exec(\"raise new_exc from e\")\n",
      "  File \"<string>\", line 1, in <module>\n",
      "patsy.PatsyError: Error evaluating factor: NameError: name 'Time_To_Travel' is not defined\n",
      "    Time_To_Travel ~ Day_Of_Week + Time_Bin_Start + Wind_Speed + Temperature + Holiday + Scheduled_Speed_Per_Stop + Stops_To_Travel + Stop_Sequence\n",
      "    ^^^^^^^^^^^^^^\n",
      "\n",
      "Exception in thread Thread-5:\n",
      "Traceback (most recent call last):\n",
      "  File \"/Users/katerooney/anaconda3/lib/python3.6/site-packages/patsy/compat.py\", line 117, in call_and_wrap_exc\n",
      "    return f(*args, **kwargs)\n",
      "  File \"/Users/katerooney/anaconda3/lib/python3.6/site-packages/patsy/eval.py\", line 166, in eval\n",
      "    + self._namespaces))\n",
      "  File \"<string>\", line 1, in <module>\n",
      "NameError: name 'Time_To_Travel' is not defined\n",
      "\n",
      "The above exception was the direct cause of the following exception:\n",
      "\n",
      "Traceback (most recent call last):\n",
      "  File \"/Users/katerooney/anaconda3/lib/python3.6/threading.py\", line 916, in _bootstrap_inner\n",
      "    self.run()\n",
      "  File \"/Users/katerooney/anaconda3/lib/python3.6/threading.py\", line 864, in run\n",
      "    self._target(*self._args, **self._kwargs)\n",
      "  File \"/Users/katerooney/Documents/DataAnalytics/The11thHour/DublinBusApp/data_analytics/Modeling/models_func.py\", line 113, in model_file\n",
      "    return_type=\"dataframe\")\n",
      "  File \"/Users/katerooney/anaconda3/lib/python3.6/site-packages/patsy/highlevel.py\", line 310, in dmatrices\n",
      "    NA_action, return_type)\n",
      "  File \"/Users/katerooney/anaconda3/lib/python3.6/site-packages/patsy/highlevel.py\", line 165, in _do_highlevel_design\n",
      "    NA_action)\n",
      "  File \"/Users/katerooney/anaconda3/lib/python3.6/site-packages/patsy/highlevel.py\", line 70, in _try_incr_builders\n",
      "    NA_action)\n",
      "  File \"/Users/katerooney/anaconda3/lib/python3.6/site-packages/patsy/build.py\", line 696, in design_matrix_builders\n",
      "    NA_action)\n",
      "  File \"/Users/katerooney/anaconda3/lib/python3.6/site-packages/patsy/build.py\", line 443, in _examine_factor_types\n",
      "    value = factor.eval(factor_states[factor], data)\n",
      "  File \"/Users/katerooney/anaconda3/lib/python3.6/site-packages/patsy/eval.py\", line 566, in eval\n",
      "    data)\n",
      "  File \"/Users/katerooney/anaconda3/lib/python3.6/site-packages/patsy/eval.py\", line 551, in _eval\n",
      "    inner_namespace=inner_namespace)\n",
      "  File \"/Users/katerooney/anaconda3/lib/python3.6/site-packages/patsy/compat.py\", line 124, in call_and_wrap_exc\n",
      "    exec(\"raise new_exc from e\")\n",
      "  File \"<string>\", line 1, in <module>\n",
      "patsy.PatsyError: Error evaluating factor: NameError: name 'Time_To_Travel' is not defined\n",
      "    Time_To_Travel ~ Day_Of_Week + Time_Bin_Start + Wind_Speed + Temperature + Holiday + Scheduled_Speed_Per_Stop + Stops_To_Travel + Stop_Sequence\n",
      "    ^^^^^^^^^^^^^^\n",
      "\n"
     ]
    },
    {
     "name": "stdout",
     "output_type": "stream",
     "text": [
      "merging files...\n",
      "files merged!\n",
      "removed tree\n",
      "Multithreading Complete\n",
      "Result:  ['SUCCESS!']\n",
      "CPU times: user 9.38 ms, sys: 13.9 ms, total: 23.3 ms\n",
      "Wall time: 844 ms\n"
     ]
    }
   ],
   "source": [
    "%%time\n",
    "pool = Pool(processes=2) # initialize the Pool.\n",
    "months=[\"Jan\", \"Nov\"]\n",
    "result = pool.map(models_func.generate_models, months)       # map f to the data using the Pool of processes to do the work \n",
    "pool.close() # No more processes\n",
    "pool.join()\n",
    "print(\"Result: \", result)\n"
   ]
  },
  {
   "cell_type": "code",
   "execution_count": null,
   "metadata": {
    "collapsed": true
   },
   "outputs": [],
   "source": []
  }
 ],
 "metadata": {
  "kernelspec": {
   "display_name": "Python 3",
   "language": "python",
   "name": "python3"
  },
  "language_info": {
   "codemirror_mode": {
    "name": "ipython",
    "version": 3
   },
   "file_extension": ".py",
   "mimetype": "text/x-python",
   "name": "python",
   "nbconvert_exporter": "python",
   "pygments_lexer": "ipython3",
   "version": "3.6.1"
  }
 },
 "nbformat": 4,
 "nbformat_minor": 2
}
