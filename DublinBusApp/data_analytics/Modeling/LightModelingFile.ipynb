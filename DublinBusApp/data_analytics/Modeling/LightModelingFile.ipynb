{
 "cells": [
  {
   "cell_type": "code",
   "execution_count": 1,
   "metadata": {
    "collapsed": true
   },
   "outputs": [],
   "source": [
    "import pandas as pd\n",
    "import numpy as np\n",
    "\n",
    "from datetime import date, datetime\n",
    "from patsy import dmatrices\n",
    "\n",
    "import seaborn as sns\n",
    "import matplotlib.pyplot as plt\n",
    "import matplotlib.patches as mpatches\n",
    "\n",
    "from sklearn.linear_model import LogisticRegression\n",
    "from sklearn import metrics\n",
    "from sklearn.tree import export_graphviz, DecisionTreeRegressor, DecisionTreeClassifier\n",
    "from sklearn.ensemble import RandomForestClassifier, RandomForestRegressor\n",
    "from sklearn import preprocessing\n",
    "from sklearn.pipeline import make_pipeline\n",
    "from sklearn.tree import export_graphviz \n",
    "from sklearn import tree\n",
    "from sklearn.model_selection import GridSearchCV, train_test_split, cross_val_score\n",
    "from sklearn.metrics import mean_squared_error, r2_score\n",
    "from sklearn.externals import joblib \n",
    "from statsmodels.formula.api import ols\n",
    "\n",
    "import models_func\n",
    "\n",
    "import shutil\n",
    "\n",
    "import os\n",
    "\n",
    "import time\n",
    "import multiprocessing\n",
    "from multiprocessing import Pool\n",
    "import threading"
   ]
  },
  {
   "cell_type": "code",
   "execution_count": 2,
   "metadata": {},
   "outputs": [
    {
     "name": "stdout",
     "output_type": "stream",
     "text": [
      "Folders Made\n",
      "Folders Made\n",
      "Modeling Jan beta25B.csv\n",
      "Modeling Nov beta25B.csv\n",
      "Modeling Jan beta76.csv\n",
      "Modeling Nov beta76.csv\n",
      "PKL saved for Jan beta76.csv\n",
      "Modeling Jan beta66.csv\n",
      "PKL saved for Nov beta76.csv\n",
      "Modeling Nov beta66.csv\n",
      "PKL saved for Jan beta25B.csv\n",
      "Modeling Jan beta220.csv\n",
      "PKL saved for Nov beta25B.csv\n",
      "Modeling Nov beta220.csv\n",
      "PKL saved for Jan beta220.csv\n",
      "Modeling Jan beta120.csv\n",
      "PKL saved for Nov beta220.csv\n",
      "Modeling Nov beta120.csv\n",
      "PKL saved for Jan beta66.csv\n",
      "Modeling Jan beta44.csv\n",
      "PKL saved for Nov beta66.csv\n",
      "Modeling Nov beta44.csv\n",
      "PKL saved for Jan beta44.csv\n",
      "Modeling Jan beta39.csv\n",
      "PKL saved for Jan beta120.csv\n",
      "Modeling Jan beta32X.csv\n",
      "PKL saved for Nov beta44.csv\n",
      "Modeling Nov beta39.csv\n",
      "PKL saved for Jan beta32X.csv\n",
      "Modeling Jan beta25.csv\n",
      "PKL saved for Nov beta120.csv\n",
      "Modeling Nov beta32X.csv\n",
      "PKL saved for Jan beta25.csv\n",
      "Modeling Jan beta150.csv\n",
      "PKL saved for Nov beta32X.csv\n",
      "Modeling Nov beta25.csv\n",
      "PKL saved for Nov beta25.csv\n",
      "Modeling Nov beta150.csv\n",
      "PKL saved for Jan beta150.csv\n",
      "Modeling Jan beta140.csv\n",
      "PKL saved for Jan beta39.csv\n",
      "Modeling Jan beta79.csv\n",
      "PKL saved for Nov beta150.csv\n",
      "Modeling Nov beta140.csv\n",
      "PKL saved for Nov beta39.csv\n",
      "Modeling Nov beta79.csv\n",
      "PKL saved for Jan beta79.csv\n",
      "Modeling Jan beta40B.csv\n",
      "PKL saved for Jan beta40B.csv\n",
      "Modeling Jan beta747.csv\n",
      "PKL saved for Nov beta79.csv\n",
      "Modeling Nov beta40B.csv\n",
      "PKL saved for Jan beta140.csv\n",
      "Modeling Jan beta14C.csv\n",
      "PKL saved for Nov beta40B.csv\n",
      "Modeling Nov beta747.csv\n",
      "PKL saved for Jan beta14C.csv\n",
      "Modeling Jan beta27.csv\n",
      "PKL saved for Jan beta27.csv\n",
      "Modeling Jan beta14.csv\n",
      "PKL saved for Jan beta14.csv\n",
      "Modeling Jan beta270.csv\n",
      "PKL saved for Nov beta140.csv\n",
      "Modeling Nov beta14C.csv\n",
      "PKL saved for Jan beta747.csv\n",
      "Modeling Jan beta68.csv\n",
      "PKL saved for Nov beta14C.csv\n",
      "Modeling Nov beta27.csv\n"
     ]
    },
    {
     "name": "stderr",
     "output_type": "stream",
     "text": [
      "/Users/katerooney/anaconda3/lib/python3.6/site-packages/patsy/util.py:652: DeprecationWarning: pandas.core.common.is_categorical_dtype is deprecated. import from the public API: pandas.api.types.is_categorical_dtype instead\n",
      "  return safe_is_pandas_categorical_dtype(data.dtype)\n",
      "/Users/katerooney/anaconda3/lib/python3.6/site-packages/patsy/util.py:679: DeprecationWarning: pandas.core.common.is_categorical_dtype is deprecated. import from the public API: pandas.api.types.is_categorical_dtype instead\n",
      "  if safe_is_pandas_categorical_dtype(dt1):\n",
      "/Users/katerooney/anaconda3/lib/python3.6/site-packages/patsy/util.py:652: DeprecationWarning: pandas.core.common.is_categorical_dtype is deprecated. import from the public API: pandas.api.types.is_categorical_dtype instead\n",
      "  return safe_is_pandas_categorical_dtype(data.dtype)\n",
      "/Users/katerooney/anaconda3/lib/python3.6/site-packages/patsy/util.py:679: DeprecationWarning: pandas.core.common.is_categorical_dtype is deprecated. import from the public API: pandas.api.types.is_categorical_dtype instead\n",
      "  if safe_is_pandas_categorical_dtype(dt1):\n",
      "/Users/katerooney/anaconda3/lib/python3.6/site-packages/patsy/util.py:652: DeprecationWarning: pandas.core.common.is_categorical_dtype is deprecated. import from the public API: pandas.api.types.is_categorical_dtype instead\n",
      "  return safe_is_pandas_categorical_dtype(data.dtype)\n",
      "/Users/katerooney/anaconda3/lib/python3.6/site-packages/patsy/util.py:679: DeprecationWarning: pandas.core.common.is_categorical_dtype is deprecated. import from the public API: pandas.api.types.is_categorical_dtype instead\n",
      "  if safe_is_pandas_categorical_dtype(dt1):\n",
      "/Users/katerooney/anaconda3/lib/python3.6/site-packages/patsy/util.py:652: DeprecationWarning: pandas.core.common.is_categorical_dtype is deprecated. import from the public API: pandas.api.types.is_categorical_dtype instead\n",
      "  return safe_is_pandas_categorical_dtype(data.dtype)\n"
     ]
    },
    {
     "name": "stdout",
     "output_type": "stream",
     "text": [
      "PKL saved for Jan beta270.csv\n",
      "Modeling Jan beta33.csv\n",
      "PKL saved for Nov beta747.csv\n",
      "Modeling Nov beta68.csv\n"
     ]
    },
    {
     "name": "stderr",
     "output_type": "stream",
     "text": [
      "/Users/katerooney/anaconda3/lib/python3.6/site-packages/patsy/util.py:652: DeprecationWarning: pandas.core.common.is_categorical_dtype is deprecated. import from the public API: pandas.api.types.is_categorical_dtype instead\n",
      "  return safe_is_pandas_categorical_dtype(data.dtype)\n",
      "/Users/katerooney/anaconda3/lib/python3.6/site-packages/patsy/util.py:679: DeprecationWarning: pandas.core.common.is_categorical_dtype is deprecated. import from the public API: pandas.api.types.is_categorical_dtype instead\n",
      "  if safe_is_pandas_categorical_dtype(dt1):\n",
      "/Users/katerooney/anaconda3/lib/python3.6/site-packages/patsy/util.py:652: DeprecationWarning: pandas.core.common.is_categorical_dtype is deprecated. import from the public API: pandas.api.types.is_categorical_dtype instead\n",
      "  return safe_is_pandas_categorical_dtype(data.dtype)\n",
      "/Users/katerooney/anaconda3/lib/python3.6/site-packages/patsy/util.py:679: DeprecationWarning: pandas.core.common.is_categorical_dtype is deprecated. import from the public API: pandas.api.types.is_categorical_dtype instead\n",
      "  if safe_is_pandas_categorical_dtype(dt1):\n",
      "/Users/katerooney/anaconda3/lib/python3.6/site-packages/patsy/util.py:652: DeprecationWarning: pandas.core.common.is_categorical_dtype is deprecated. import from the public API: pandas.api.types.is_categorical_dtype instead\n",
      "  return safe_is_pandas_categorical_dtype(data.dtype)\n",
      "/Users/katerooney/anaconda3/lib/python3.6/site-packages/patsy/util.py:679: DeprecationWarning: pandas.core.common.is_categorical_dtype is deprecated. import from the public API: pandas.api.types.is_categorical_dtype instead\n",
      "  if safe_is_pandas_categorical_dtype(dt1):\n"
     ]
    },
    {
     "name": "stdout",
     "output_type": "stream",
     "text": [
      "PKL saved for Nov beta27.csv\n",
      "Modeling Nov beta14.csv\n"
     ]
    },
    {
     "name": "stderr",
     "output_type": "stream",
     "text": [
      "/Users/katerooney/anaconda3/lib/python3.6/site-packages/patsy/util.py:652: DeprecationWarning: pandas.core.common.is_categorical_dtype is deprecated. import from the public API: pandas.api.types.is_categorical_dtype instead\n",
      "  return safe_is_pandas_categorical_dtype(data.dtype)\n",
      "/Users/katerooney/anaconda3/lib/python3.6/site-packages/patsy/util.py:679: DeprecationWarning: pandas.core.common.is_categorical_dtype is deprecated. import from the public API: pandas.api.types.is_categorical_dtype instead\n",
      "  if safe_is_pandas_categorical_dtype(dt1):\n"
     ]
    },
    {
     "name": "stdout",
     "output_type": "stream",
     "text": [
      "PKL saved for Jan beta33.csv\n",
      "Modeling Jan beta26.csv\n",
      "PKL saved for Nov beta14.csv\n",
      "Modeling Nov beta270.csv\n"
     ]
    },
    {
     "name": "stderr",
     "output_type": "stream",
     "text": [
      "/Users/katerooney/anaconda3/lib/python3.6/site-packages/patsy/util.py:652: DeprecationWarning: pandas.core.common.is_categorical_dtype is deprecated. import from the public API: pandas.api.types.is_categorical_dtype instead\n",
      "  return safe_is_pandas_categorical_dtype(data.dtype)\n",
      "/Users/katerooney/anaconda3/lib/python3.6/site-packages/patsy/util.py:679: DeprecationWarning: pandas.core.common.is_categorical_dtype is deprecated. import from the public API: pandas.api.types.is_categorical_dtype instead\n",
      "  if safe_is_pandas_categorical_dtype(dt1):\n"
     ]
    },
    {
     "name": "stdout",
     "output_type": "stream",
     "text": [
      "PKL saved for Jan beta26.csv\n",
      "Modeling Jan beta239.csv\n",
      "PKL saved for Nov beta270.csv\n",
      "Modeling Nov beta33.csv\n"
     ]
    },
    {
     "name": "stderr",
     "output_type": "stream",
     "text": [
      "/Users/katerooney/anaconda3/lib/python3.6/site-packages/patsy/util.py:652: DeprecationWarning: pandas.core.common.is_categorical_dtype is deprecated. import from the public API: pandas.api.types.is_categorical_dtype instead\n",
      "  return safe_is_pandas_categorical_dtype(data.dtype)\n",
      "/Users/katerooney/anaconda3/lib/python3.6/site-packages/patsy/util.py:679: DeprecationWarning: pandas.core.common.is_categorical_dtype is deprecated. import from the public API: pandas.api.types.is_categorical_dtype instead\n",
      "  if safe_is_pandas_categorical_dtype(dt1):\n",
      "Exception in thread Thread-5:\n",
      "Traceback (most recent call last):\n",
      "  File \"/Users/katerooney/anaconda3/lib/python3.6/threading.py\", line 916, in _bootstrap_inner\n",
      "    self.run()\n",
      "  File \"/Users/katerooney/anaconda3/lib/python3.6/threading.py\", line 864, in run\n",
      "    self._target(*self._args, **self._kwargs)\n",
      "  File \"/Users/katerooney/Documents/DataAnalytics/The11thHour/DublinBusApp/data_analytics/Modeling/models_func.py\", line 133, in model_file\n",
      "    clf.fit(X_train, y_train)\n",
      "  File \"/Users/katerooney/anaconda3/lib/python3.6/site-packages/sklearn/model_selection/_search.py\", line 945, in fit\n",
      "    return self._fit(X, y, groups, ParameterGrid(self.param_grid))\n",
      "  File \"/Users/katerooney/anaconda3/lib/python3.6/site-packages/sklearn/model_selection/_search.py\", line 564, in _fit\n",
      "    for parameters in parameter_iterable\n",
      "  File \"/Users/katerooney/anaconda3/lib/python3.6/site-packages/sklearn/externals/joblib/parallel.py\", line 758, in __call__\n",
      "    while self.dispatch_one_batch(iterator):\n",
      "  File \"/Users/katerooney/anaconda3/lib/python3.6/site-packages/sklearn/externals/joblib/parallel.py\", line 608, in dispatch_one_batch\n",
      "    self._dispatch(tasks)\n",
      "  File \"/Users/katerooney/anaconda3/lib/python3.6/site-packages/sklearn/externals/joblib/parallel.py\", line 571, in _dispatch\n",
      "    job = self._backend.apply_async(batch, callback=cb)\n",
      "  File \"/Users/katerooney/anaconda3/lib/python3.6/site-packages/sklearn/externals/joblib/_parallel_backends.py\", line 109, in apply_async\n",
      "    result = ImmediateResult(func)\n",
      "  File \"/Users/katerooney/anaconda3/lib/python3.6/site-packages/sklearn/externals/joblib/_parallel_backends.py\", line 326, in __init__\n",
      "    self.results = batch()\n",
      "  File \"/Users/katerooney/anaconda3/lib/python3.6/site-packages/sklearn/externals/joblib/parallel.py\", line 131, in __call__\n",
      "    return [func(*args, **kwargs) for func, args, kwargs in self.items]\n",
      "  File \"/Users/katerooney/anaconda3/lib/python3.6/site-packages/sklearn/externals/joblib/parallel.py\", line 131, in <listcomp>\n",
      "    return [func(*args, **kwargs) for func, args, kwargs in self.items]\n",
      "  File \"/Users/katerooney/anaconda3/lib/python3.6/site-packages/sklearn/model_selection/_validation.py\", line 238, in _fit_and_score\n",
      "    estimator.fit(X_train, y_train, **fit_params)\n",
      "  File \"/Users/katerooney/anaconda3/lib/python3.6/site-packages/sklearn/pipeline.py\", line 270, in fit\n",
      "    self._final_estimator.fit(Xt, y, **fit_params)\n",
      "  File \"/Users/katerooney/anaconda3/lib/python3.6/site-packages/sklearn/ensemble/forest.py\", line 314, in fit\n",
      "    random_state=random_state)\n",
      "  File \"/Users/katerooney/anaconda3/lib/python3.6/site-packages/sklearn/ensemble/base.py\", line 124, in _make_estimator\n",
      "    _set_random_states(estimator, random_state)\n",
      "  File \"/Users/katerooney/anaconda3/lib/python3.6/site-packages/sklearn/ensemble/base.py\", line 47, in _set_random_states\n",
      "    for key in sorted(estimator.get_params(deep=True)):\n",
      "  File \"/Users/katerooney/anaconda3/lib/python3.6/site-packages/sklearn/base.py\", line 248, in get_params\n",
      "    warnings.filters.pop(0)\n",
      "IndexError: pop from empty list\n",
      "\n"
     ]
    },
    {
     "name": "stdout",
     "output_type": "stream",
     "text": [
      "PKL saved for Jan beta239.csv\n",
      "Modeling Jan beta122.csv\n",
      "PKL saved for Nov beta33.csv\n",
      "Modeling Nov beta26.csv\n"
     ]
    },
    {
     "name": "stderr",
     "output_type": "stream",
     "text": [
      "/Users/katerooney/anaconda3/lib/python3.6/site-packages/patsy/util.py:652: DeprecationWarning: pandas.core.common.is_categorical_dtype is deprecated. import from the public API: pandas.api.types.is_categorical_dtype instead\n",
      "  return safe_is_pandas_categorical_dtype(data.dtype)\n",
      "/Users/katerooney/anaconda3/lib/python3.6/site-packages/patsy/util.py:679: DeprecationWarning: pandas.core.common.is_categorical_dtype is deprecated. import from the public API: pandas.api.types.is_categorical_dtype instead\n",
      "  if safe_is_pandas_categorical_dtype(dt1):\n"
     ]
    },
    {
     "name": "stdout",
     "output_type": "stream",
     "text": [
      "PKL saved for Nov beta26.csv\n",
      "Modeling Nov beta239.csv\n"
     ]
    },
    {
     "name": "stderr",
     "output_type": "stream",
     "text": [
      "/Users/katerooney/anaconda3/lib/python3.6/site-packages/patsy/util.py:652: DeprecationWarning: pandas.core.common.is_categorical_dtype is deprecated. import from the public API: pandas.api.types.is_categorical_dtype instead\n",
      "  return safe_is_pandas_categorical_dtype(data.dtype)\n",
      "/Users/katerooney/anaconda3/lib/python3.6/site-packages/patsy/util.py:679: DeprecationWarning: pandas.core.common.is_categorical_dtype is deprecated. import from the public API: pandas.api.types.is_categorical_dtype instead\n",
      "  if safe_is_pandas_categorical_dtype(dt1):\n",
      "/Users/katerooney/anaconda3/lib/python3.6/site-packages/patsy/util.py:652: DeprecationWarning: pandas.core.common.is_categorical_dtype is deprecated. import from the public API: pandas.api.types.is_categorical_dtype instead\n",
      "  return safe_is_pandas_categorical_dtype(data.dtype)\n",
      "/Users/katerooney/anaconda3/lib/python3.6/site-packages/patsy/util.py:679: DeprecationWarning: pandas.core.common.is_categorical_dtype is deprecated. import from the public API: pandas.api.types.is_categorical_dtype instead\n",
      "  if safe_is_pandas_categorical_dtype(dt1):\n",
      "/Users/katerooney/anaconda3/lib/python3.6/site-packages/patsy/util.py:652: DeprecationWarning: pandas.core.common.is_categorical_dtype is deprecated. import from the public API: pandas.api.types.is_categorical_dtype instead\n",
      "  return safe_is_pandas_categorical_dtype(data.dtype)\n",
      "/Users/katerooney/anaconda3/lib/python3.6/site-packages/patsy/util.py:679: DeprecationWarning: pandas.core.common.is_categorical_dtype is deprecated. import from the public API: pandas.api.types.is_categorical_dtype instead\n",
      "  if safe_is_pandas_categorical_dtype(dt1):\n"
     ]
    },
    {
     "name": "stdout",
     "output_type": "stream",
     "text": [
      "PKL saved for Nov beta239.csv\n",
      "Modeling Nov beta122.csv\n",
      "PKL saved for Nov beta68.csv\n",
      "Modeling Nov beta69X.csv\n"
     ]
    },
    {
     "name": "stderr",
     "output_type": "stream",
     "text": [
      "/Users/katerooney/anaconda3/lib/python3.6/site-packages/patsy/eval.py:226: ResourceWarning: unclosed file <_io.TextIOWrapper name='Nov_Tests/beta68RF.txt' mode='w+' encoding='UTF-8'>\n",
      "  return cls([frame.f_locals, frame.f_globals],\n",
      "/Users/katerooney/anaconda3/lib/python3.6/site-packages/patsy/util.py:652: DeprecationWarning: pandas.core.common.is_categorical_dtype is deprecated. import from the public API: pandas.api.types.is_categorical_dtype instead\n",
      "  return safe_is_pandas_categorical_dtype(data.dtype)\n",
      "/Users/katerooney/anaconda3/lib/python3.6/site-packages/patsy/util.py:679: DeprecationWarning: pandas.core.common.is_categorical_dtype is deprecated. import from the public API: pandas.api.types.is_categorical_dtype instead\n",
      "  if safe_is_pandas_categorical_dtype(dt1):\n",
      "/Users/katerooney/anaconda3/lib/python3.6/site-packages/patsy/eval.py:226: ResourceWarning: unclosed file <_io.TextIOWrapper name='Nov_Tests/beta239RF.txt' mode='w+' encoding='UTF-8'>\n",
      "  return cls([frame.f_locals, frame.f_globals],\n",
      "/Users/katerooney/anaconda3/lib/python3.6/site-packages/patsy/util.py:652: DeprecationWarning: pandas.core.common.is_categorical_dtype is deprecated. import from the public API: pandas.api.types.is_categorical_dtype instead\n",
      "  return safe_is_pandas_categorical_dtype(data.dtype)\n",
      "/Users/katerooney/anaconda3/lib/python3.6/site-packages/patsy/util.py:679: DeprecationWarning: pandas.core.common.is_categorical_dtype is deprecated. import from the public API: pandas.api.types.is_categorical_dtype instead\n",
      "  if safe_is_pandas_categorical_dtype(dt1):\n",
      "/Users/katerooney/anaconda3/lib/python3.6/site-packages/patsy/util.py:652: DeprecationWarning: pandas.core.common.is_categorical_dtype is deprecated. import from the public API: pandas.api.types.is_categorical_dtype instead\n",
      "  return safe_is_pandas_categorical_dtype(data.dtype)\n",
      "/Users/katerooney/anaconda3/lib/python3.6/site-packages/patsy/util.py:679: DeprecationWarning: pandas.core.common.is_categorical_dtype is deprecated. import from the public API: pandas.api.types.is_categorical_dtype instead\n",
      "  if safe_is_pandas_categorical_dtype(dt1):\n",
      "/Users/katerooney/anaconda3/lib/python3.6/site-packages/patsy/util.py:679: DeprecationWarning: pandas.core.common.is_categorical_dtype is deprecated. import from the public API: pandas.api.types.is_categorical_dtype instead\n",
      "  if safe_is_pandas_categorical_dtype(dt1):\n",
      "/Users/katerooney/anaconda3/lib/python3.6/site-packages/patsy/util.py:679: DeprecationWarning: pandas.core.common.is_categorical_dtype is deprecated. import from the public API: pandas.api.types.is_categorical_dtype instead\n",
      "  if safe_is_pandas_categorical_dtype(dt1):\n",
      "/Users/katerooney/anaconda3/lib/python3.6/site-packages/patsy/util.py:679: DeprecationWarning: pandas.core.common.is_categorical_dtype is deprecated. import from the public API: pandas.api.types.is_categorical_dtype instead\n",
      "  if safe_is_pandas_categorical_dtype(dt1):\n"
     ]
    },
    {
     "name": "stdout",
     "output_type": "stream",
     "text": [
      "PKL saved for Nov beta69X.csv\n",
      "Modeling Nov beta40D.csv\n"
     ]
    },
    {
     "name": "stderr",
     "output_type": "stream",
     "text": [
      "/Users/katerooney/anaconda3/lib/python3.6/site-packages/patsy/eval.py:226: ResourceWarning: unclosed file <_io.TextIOWrapper name='Nov_Tests/beta69XRF.txt' mode='w+' encoding='UTF-8'>\n",
      "  return cls([frame.f_locals, frame.f_globals],\n",
      "/Users/katerooney/anaconda3/lib/python3.6/site-packages/patsy/util.py:652: DeprecationWarning: pandas.core.common.is_categorical_dtype is deprecated. import from the public API: pandas.api.types.is_categorical_dtype instead\n",
      "  return safe_is_pandas_categorical_dtype(data.dtype)\n",
      "/Users/katerooney/anaconda3/lib/python3.6/site-packages/patsy/util.py:679: DeprecationWarning: pandas.core.common.is_categorical_dtype is deprecated. import from the public API: pandas.api.types.is_categorical_dtype instead\n",
      "  if safe_is_pandas_categorical_dtype(dt1):\n"
     ]
    },
    {
     "name": "stdout",
     "output_type": "stream",
     "text": [
      "PKL saved for Nov beta40D.csv\n",
      "Modeling Nov beta70.csv\n"
     ]
    },
    {
     "name": "stderr",
     "output_type": "stream",
     "text": [
      "/Users/katerooney/anaconda3/lib/python3.6/site-packages/patsy/eval.py:226: ResourceWarning: unclosed file <_io.TextIOWrapper name='Nov_Tests/beta40DRF.txt' mode='w+' encoding='UTF-8'>\n",
      "  return cls([frame.f_locals, frame.f_globals],\n",
      "/Users/katerooney/anaconda3/lib/python3.6/site-packages/patsy/util.py:652: DeprecationWarning: pandas.core.common.is_categorical_dtype is deprecated. import from the public API: pandas.api.types.is_categorical_dtype instead\n",
      "  return safe_is_pandas_categorical_dtype(data.dtype)\n",
      "/Users/katerooney/anaconda3/lib/python3.6/site-packages/patsy/util.py:679: DeprecationWarning: pandas.core.common.is_categorical_dtype is deprecated. import from the public API: pandas.api.types.is_categorical_dtype instead\n",
      "  if safe_is_pandas_categorical_dtype(dt1):\n"
     ]
    },
    {
     "name": "stdout",
     "output_type": "stream",
     "text": [
      "PKL saved for Jan beta122.csv\n",
      "Modeling Jan beta104.csv\n"
     ]
    },
    {
     "name": "stderr",
     "output_type": "stream",
     "text": [
      "Exception in thread Thread-5:\n",
      "Traceback (most recent call last):\n",
      "  File \"/Users/katerooney/anaconda3/lib/python3.6/threading.py\", line 916, in _bootstrap_inner\n",
      "    self.run()\n",
      "  File \"/Users/katerooney/anaconda3/lib/python3.6/threading.py\", line 864, in run\n",
      "    self._target(*self._args, **self._kwargs)\n",
      "  File \"/Users/katerooney/Documents/DataAnalytics/The11thHour/DublinBusApp/data_analytics/Modeling/models_func.py\", line 133, in model_file\n",
      "    clf.fit(X_train, y_train)\n",
      "  File \"/Users/katerooney/anaconda3/lib/python3.6/site-packages/sklearn/model_selection/_search.py\", line 945, in fit\n",
      "    return self._fit(X, y, groups, ParameterGrid(self.param_grid))\n",
      "  File \"/Users/katerooney/anaconda3/lib/python3.6/site-packages/sklearn/model_selection/_search.py\", line 564, in _fit\n",
      "    for parameters in parameter_iterable\n",
      "  File \"/Users/katerooney/anaconda3/lib/python3.6/site-packages/sklearn/externals/joblib/parallel.py\", line 758, in __call__\n",
      "    while self.dispatch_one_batch(iterator):\n",
      "  File \"/Users/katerooney/anaconda3/lib/python3.6/site-packages/sklearn/externals/joblib/parallel.py\", line 608, in dispatch_one_batch\n",
      "    self._dispatch(tasks)\n",
      "  File \"/Users/katerooney/anaconda3/lib/python3.6/site-packages/sklearn/externals/joblib/parallel.py\", line 571, in _dispatch\n",
      "    job = self._backend.apply_async(batch, callback=cb)\n",
      "  File \"/Users/katerooney/anaconda3/lib/python3.6/site-packages/sklearn/externals/joblib/_parallel_backends.py\", line 109, in apply_async\n",
      "    result = ImmediateResult(func)\n",
      "  File \"/Users/katerooney/anaconda3/lib/python3.6/site-packages/sklearn/externals/joblib/_parallel_backends.py\", line 326, in __init__\n",
      "    self.results = batch()\n",
      "  File \"/Users/katerooney/anaconda3/lib/python3.6/site-packages/sklearn/externals/joblib/parallel.py\", line 131, in __call__\n",
      "    return [func(*args, **kwargs) for func, args, kwargs in self.items]\n",
      "  File \"/Users/katerooney/anaconda3/lib/python3.6/site-packages/sklearn/externals/joblib/parallel.py\", line 131, in <listcomp>\n",
      "    return [func(*args, **kwargs) for func, args, kwargs in self.items]\n",
      "  File \"/Users/katerooney/anaconda3/lib/python3.6/site-packages/sklearn/model_selection/_validation.py\", line 238, in _fit_and_score\n",
      "    estimator.fit(X_train, y_train, **fit_params)\n",
      "  File \"/Users/katerooney/anaconda3/lib/python3.6/site-packages/sklearn/pipeline.py\", line 270, in fit\n",
      "    self._final_estimator.fit(Xt, y, **fit_params)\n",
      "  File \"/Users/katerooney/anaconda3/lib/python3.6/site-packages/sklearn/ensemble/forest.py\", line 314, in fit\n",
      "    random_state=random_state)\n",
      "  File \"/Users/katerooney/anaconda3/lib/python3.6/site-packages/sklearn/ensemble/base.py\", line 121, in _make_estimator\n",
      "    for p in self.estimator_params))\n",
      "  File \"/Users/katerooney/anaconda3/lib/python3.6/site-packages/sklearn/base.py\", line 272, in set_params\n",
      "    valid_params = self.get_params(deep=True)\n",
      "  File \"/Users/katerooney/anaconda3/lib/python3.6/site-packages/sklearn/base.py\", line 248, in get_params\n",
      "    warnings.filters.pop(0)\n",
      "IndexError: pop from empty list\n",
      "\n",
      "/Users/katerooney/anaconda3/lib/python3.6/threading.py:949: ResourceWarning: unclosed file <_io.TextIOWrapper name='Nov_Tests/beta70RF.txt' mode='w+' encoding='UTF-8'>\n",
      "  del exc_type, exc_value, exc_tb\n"
     ]
    },
    {
     "name": "stdout",
     "output_type": "stream",
     "text": [
      "PKL saved for Jan beta104.csv\n",
      "Modeling Jan beta116.csv\n",
      "PKL saved for Jan beta116.csv\n",
      "Modeling Jan beta38A.csv\n",
      "PKL saved for Jan beta38A.csv\n",
      "Modeling Jan beta102.csv\n",
      "PKL saved for Jan beta102.csv\n",
      "Modeling Jan beta236.csv\n",
      "PKL saved for Jan beta236.csv\n",
      "Modeling Jan beta114.csv\n",
      "PKL saved for Nov beta122.csv\n",
      "Modeling Nov beta104.csv\n"
     ]
    },
    {
     "name": "stderr",
     "output_type": "stream",
     "text": [
      "/Users/katerooney/anaconda3/lib/python3.6/site-packages/patsy/eval.py:226: ResourceWarning: unclosed file <_io.TextIOWrapper name='Nov_Tests/beta122RF.txt' mode='w+' encoding='UTF-8'>\n",
      "  return cls([frame.f_locals, frame.f_globals],\n",
      "/Users/katerooney/anaconda3/lib/python3.6/site-packages/patsy/util.py:652: DeprecationWarning: pandas.core.common.is_categorical_dtype is deprecated. import from the public API: pandas.api.types.is_categorical_dtype instead\n",
      "  return safe_is_pandas_categorical_dtype(data.dtype)\n",
      "/Users/katerooney/anaconda3/lib/python3.6/site-packages/patsy/util.py:679: DeprecationWarning: pandas.core.common.is_categorical_dtype is deprecated. import from the public API: pandas.api.types.is_categorical_dtype instead\n",
      "  if safe_is_pandas_categorical_dtype(dt1):\n"
     ]
    },
    {
     "name": "stdout",
     "output_type": "stream",
     "text": [
      "PKL saved for Jan beta114.csv\n",
      "Modeling Jan beta31B.csv\n",
      "PKL saved for Nov beta104.csv\n",
      "Modeling Nov beta116.csv\n"
     ]
    },
    {
     "name": "stderr",
     "output_type": "stream",
     "text": [
      "/Users/katerooney/anaconda3/lib/python3.6/site-packages/patsy/eval.py:226: ResourceWarning: unclosed file <_io.TextIOWrapper name='Nov_Tests/beta104RF.txt' mode='w+' encoding='UTF-8'>\n",
      "  return cls([frame.f_locals, frame.f_globals],\n",
      "/Users/katerooney/anaconda3/lib/python3.6/site-packages/patsy/util.py:652: DeprecationWarning: pandas.core.common.is_categorical_dtype is deprecated. import from the public API: pandas.api.types.is_categorical_dtype instead\n",
      "  return safe_is_pandas_categorical_dtype(data.dtype)\n",
      "/Users/katerooney/anaconda3/lib/python3.6/site-packages/patsy/util.py:679: DeprecationWarning: pandas.core.common.is_categorical_dtype is deprecated. import from the public API: pandas.api.types.is_categorical_dtype instead\n",
      "  if safe_is_pandas_categorical_dtype(dt1):\n"
     ]
    },
    {
     "name": "stdout",
     "output_type": "stream",
     "text": [
      "PKL saved for Jan beta31B.csv\n",
      "Modeling Jan beta238.csv\n",
      "PKL saved for Nov beta116.csv\n",
      "Modeling Nov beta38A.csv\n"
     ]
    },
    {
     "name": "stderr",
     "output_type": "stream",
     "text": [
      "/Users/katerooney/anaconda3/lib/python3.6/site-packages/patsy/eval.py:226: ResourceWarning: unclosed file <_io.TextIOWrapper name='Nov_Tests/beta116RF.txt' mode='w+' encoding='UTF-8'>\n",
      "  return cls([frame.f_locals, frame.f_globals],\n",
      "/Users/katerooney/anaconda3/lib/python3.6/site-packages/patsy/util.py:652: DeprecationWarning: pandas.core.common.is_categorical_dtype is deprecated. import from the public API: pandas.api.types.is_categorical_dtype instead\n",
      "  return safe_is_pandas_categorical_dtype(data.dtype)\n",
      "/Users/katerooney/anaconda3/lib/python3.6/site-packages/patsy/util.py:679: DeprecationWarning: pandas.core.common.is_categorical_dtype is deprecated. import from the public API: pandas.api.types.is_categorical_dtype instead\n",
      "  if safe_is_pandas_categorical_dtype(dt1):\n"
     ]
    },
    {
     "name": "stdout",
     "output_type": "stream",
     "text": [
      "PKL saved for Jan beta238.csv\n",
      "Modeling Jan beta15.csv\n",
      "PKL saved for Nov beta38A.csv\n",
      "Modeling Nov beta102.csv\n"
     ]
    },
    {
     "name": "stderr",
     "output_type": "stream",
     "text": [
      "/Users/katerooney/anaconda3/lib/python3.6/site-packages/patsy/eval.py:226: ResourceWarning: unclosed file <_io.TextIOWrapper name='Nov_Tests/beta38ARF.txt' mode='w+' encoding='UTF-8'>\n",
      "  return cls([frame.f_locals, frame.f_globals],\n",
      "/Users/katerooney/anaconda3/lib/python3.6/site-packages/patsy/util.py:652: DeprecationWarning: pandas.core.common.is_categorical_dtype is deprecated. import from the public API: pandas.api.types.is_categorical_dtype instead\n",
      "  return safe_is_pandas_categorical_dtype(data.dtype)\n",
      "/Users/katerooney/anaconda3/lib/python3.6/site-packages/patsy/util.py:679: DeprecationWarning: pandas.core.common.is_categorical_dtype is deprecated. import from the public API: pandas.api.types.is_categorical_dtype instead\n",
      "  if safe_is_pandas_categorical_dtype(dt1):\n"
     ]
    },
    {
     "name": "stdout",
     "output_type": "stream",
     "text": [
      "PKL saved for Nov beta102.csv\n",
      "Modeling Nov beta236.csv\n"
     ]
    },
    {
     "name": "stderr",
     "output_type": "stream",
     "text": [
      "/Users/katerooney/anaconda3/lib/python3.6/site-packages/patsy/eval.py:226: ResourceWarning: unclosed file <_io.TextIOWrapper name='Nov_Tests/beta102RF.txt' mode='w+' encoding='UTF-8'>\n",
      "  return cls([frame.f_locals, frame.f_globals],\n",
      "/Users/katerooney/anaconda3/lib/python3.6/site-packages/patsy/util.py:652: DeprecationWarning: pandas.core.common.is_categorical_dtype is deprecated. import from the public API: pandas.api.types.is_categorical_dtype instead\n",
      "  return safe_is_pandas_categorical_dtype(data.dtype)\n",
      "/Users/katerooney/anaconda3/lib/python3.6/site-packages/patsy/util.py:679: DeprecationWarning: pandas.core.common.is_categorical_dtype is deprecated. import from the public API: pandas.api.types.is_categorical_dtype instead\n",
      "  if safe_is_pandas_categorical_dtype(dt1):\n"
     ]
    },
    {
     "name": "stdout",
     "output_type": "stream",
     "text": [
      "PKL saved for Nov beta236.csv\n",
      "Modeling Nov beta114.csv\n"
     ]
    },
    {
     "name": "stderr",
     "output_type": "stream",
     "text": [
      "/Users/katerooney/anaconda3/lib/python3.6/site-packages/patsy/eval.py:226: ResourceWarning: unclosed file <_io.TextIOWrapper name='Nov_Tests/beta236RF.txt' mode='w+' encoding='UTF-8'>\n",
      "  return cls([frame.f_locals, frame.f_globals],\n",
      "/Users/katerooney/anaconda3/lib/python3.6/site-packages/patsy/util.py:652: DeprecationWarning: pandas.core.common.is_categorical_dtype is deprecated. import from the public API: pandas.api.types.is_categorical_dtype instead\n",
      "  return safe_is_pandas_categorical_dtype(data.dtype)\n",
      "/Users/katerooney/anaconda3/lib/python3.6/site-packages/patsy/util.py:679: DeprecationWarning: pandas.core.common.is_categorical_dtype is deprecated. import from the public API: pandas.api.types.is_categorical_dtype instead\n",
      "  if safe_is_pandas_categorical_dtype(dt1):\n"
     ]
    },
    {
     "name": "stdout",
     "output_type": "stream",
     "text": [
      "PKL saved for Nov beta114.csv\n",
      "Modeling Nov beta31B.csv\n"
     ]
    },
    {
     "name": "stderr",
     "output_type": "stream",
     "text": [
      "/Users/katerooney/anaconda3/lib/python3.6/site-packages/patsy/eval.py:226: ResourceWarning: unclosed file <_io.TextIOWrapper name='Nov_Tests/beta114RF.txt' mode='w+' encoding='UTF-8'>\n",
      "  return cls([frame.f_locals, frame.f_globals],\n",
      "/Users/katerooney/anaconda3/lib/python3.6/site-packages/patsy/util.py:652: DeprecationWarning: pandas.core.common.is_categorical_dtype is deprecated. import from the public API: pandas.api.types.is_categorical_dtype instead\n",
      "  return safe_is_pandas_categorical_dtype(data.dtype)\n",
      "/Users/katerooney/anaconda3/lib/python3.6/site-packages/patsy/util.py:679: DeprecationWarning: pandas.core.common.is_categorical_dtype is deprecated. import from the public API: pandas.api.types.is_categorical_dtype instead\n",
      "  if safe_is_pandas_categorical_dtype(dt1):\n"
     ]
    },
    {
     "name": "stdout",
     "output_type": "stream",
     "text": [
      "PKL saved for Nov beta31B.csv\n",
      "Modeling Nov beta238.csv\n"
     ]
    },
    {
     "name": "stderr",
     "output_type": "stream",
     "text": [
      "/Users/katerooney/anaconda3/lib/python3.6/site-packages/patsy/eval.py:226: ResourceWarning: unclosed file <_io.TextIOWrapper name='Nov_Tests/beta31BRF.txt' mode='w+' encoding='UTF-8'>\n",
      "  return cls([frame.f_locals, frame.f_globals],\n",
      "/Users/katerooney/anaconda3/lib/python3.6/site-packages/patsy/util.py:652: DeprecationWarning: pandas.core.common.is_categorical_dtype is deprecated. import from the public API: pandas.api.types.is_categorical_dtype instead\n",
      "  return safe_is_pandas_categorical_dtype(data.dtype)\n",
      "/Users/katerooney/anaconda3/lib/python3.6/site-packages/patsy/util.py:679: DeprecationWarning: pandas.core.common.is_categorical_dtype is deprecated. import from the public API: pandas.api.types.is_categorical_dtype instead\n",
      "  if safe_is_pandas_categorical_dtype(dt1):\n"
     ]
    },
    {
     "name": "stdout",
     "output_type": "stream",
     "text": [
      "PKL saved for Nov beta238.csv\n",
      "Modeling Nov beta15.csv\n"
     ]
    },
    {
     "name": "stderr",
     "output_type": "stream",
     "text": [
      "/Users/katerooney/anaconda3/lib/python3.6/site-packages/patsy/eval.py:226: ResourceWarning: unclosed file <_io.TextIOWrapper name='Nov_Tests/beta238RF.txt' mode='w+' encoding='UTF-8'>\n",
      "  return cls([frame.f_locals, frame.f_globals],\n",
      "/Users/katerooney/anaconda3/lib/python3.6/site-packages/patsy/util.py:652: DeprecationWarning: pandas.core.common.is_categorical_dtype is deprecated. import from the public API: pandas.api.types.is_categorical_dtype instead\n",
      "  return safe_is_pandas_categorical_dtype(data.dtype)\n",
      "/Users/katerooney/anaconda3/lib/python3.6/site-packages/patsy/util.py:679: DeprecationWarning: pandas.core.common.is_categorical_dtype is deprecated. import from the public API: pandas.api.types.is_categorical_dtype instead\n",
      "  if safe_is_pandas_categorical_dtype(dt1):\n"
     ]
    },
    {
     "name": "stdout",
     "output_type": "stream",
     "text": [
      "PKL saved for Jan beta15.csv\n",
      "Modeling Jan beta38.csv\n",
      "PKL saved for Jan beta38.csv\n",
      "Modeling Jan beta16.csv\n",
      "PKL saved for Nov beta15.csv\n",
      "Modeling Nov beta38.csv\n"
     ]
    },
    {
     "name": "stderr",
     "output_type": "stream",
     "text": [
      "/Users/katerooney/anaconda3/lib/python3.6/site-packages/patsy/eval.py:226: ResourceWarning: unclosed file <_io.TextIOWrapper name='Nov_Tests/beta15RF.txt' mode='w+' encoding='UTF-8'>\n",
      "  return cls([frame.f_locals, frame.f_globals],\n",
      "/Users/katerooney/anaconda3/lib/python3.6/site-packages/patsy/util.py:652: DeprecationWarning: pandas.core.common.is_categorical_dtype is deprecated. import from the public API: pandas.api.types.is_categorical_dtype instead\n",
      "  return safe_is_pandas_categorical_dtype(data.dtype)\n",
      "/Users/katerooney/anaconda3/lib/python3.6/site-packages/patsy/util.py:679: DeprecationWarning: pandas.core.common.is_categorical_dtype is deprecated. import from the public API: pandas.api.types.is_categorical_dtype instead\n",
      "  if safe_is_pandas_categorical_dtype(dt1):\n"
     ]
    },
    {
     "name": "stdout",
     "output_type": "stream",
     "text": [
      "PKL saved for Nov beta38.csv\n",
      "Modeling Nov beta16.csv\n"
     ]
    },
    {
     "name": "stderr",
     "output_type": "stream",
     "text": [
      "/Users/katerooney/anaconda3/lib/python3.6/site-packages/patsy/eval.py:226: ResourceWarning: unclosed file <_io.TextIOWrapper name='Nov_Tests/beta38RF.txt' mode='w+' encoding='UTF-8'>\n",
      "  return cls([frame.f_locals, frame.f_globals],\n",
      "/Users/katerooney/anaconda3/lib/python3.6/site-packages/patsy/util.py:652: DeprecationWarning: pandas.core.common.is_categorical_dtype is deprecated. import from the public API: pandas.api.types.is_categorical_dtype instead\n",
      "  return safe_is_pandas_categorical_dtype(data.dtype)\n",
      "/Users/katerooney/anaconda3/lib/python3.6/site-packages/patsy/util.py:679: DeprecationWarning: pandas.core.common.is_categorical_dtype is deprecated. import from the public API: pandas.api.types.is_categorical_dtype instead\n",
      "  if safe_is_pandas_categorical_dtype(dt1):\n"
     ]
    },
    {
     "name": "stdout",
     "output_type": "stream",
     "text": [
      "PKL saved for Jan beta16.csv\n",
      "Modeling Jan beta33B.csv\n",
      "PKL saved for Jan beta33B.csv\n",
      "Modeling Jan beta123.csv\n",
      "PKL saved for Jan beta123.csv\n",
      "Modeling Jan beta145.csv\n",
      "PKL saved for Nov beta16.csv\n",
      "Modeling Nov beta33B.csv\n"
     ]
    },
    {
     "name": "stderr",
     "output_type": "stream",
     "text": [
      "/Users/katerooney/anaconda3/lib/python3.6/site-packages/patsy/eval.py:226: ResourceWarning: unclosed file <_io.TextIOWrapper name='Nov_Tests/beta16RF.txt' mode='w+' encoding='UTF-8'>\n",
      "  return cls([frame.f_locals, frame.f_globals],\n",
      "/Users/katerooney/anaconda3/lib/python3.6/site-packages/patsy/util.py:652: DeprecationWarning: pandas.core.common.is_categorical_dtype is deprecated. import from the public API: pandas.api.types.is_categorical_dtype instead\n",
      "  return safe_is_pandas_categorical_dtype(data.dtype)\n",
      "/Users/katerooney/anaconda3/lib/python3.6/site-packages/patsy/util.py:679: DeprecationWarning: pandas.core.common.is_categorical_dtype is deprecated. import from the public API: pandas.api.types.is_categorical_dtype instead\n",
      "  if safe_is_pandas_categorical_dtype(dt1):\n"
     ]
    },
    {
     "name": "stdout",
     "output_type": "stream",
     "text": [
      "PKL saved for Jan beta145.csv\n",
      "Modeling Jan beta184.csv\n",
      "PKL saved for Nov beta33B.csv\n",
      "Modeling Nov beta123.csv\n"
     ]
    },
    {
     "name": "stderr",
     "output_type": "stream",
     "text": [
      "/Users/katerooney/anaconda3/lib/python3.6/site-packages/patsy/eval.py:226: ResourceWarning: unclosed file <_io.TextIOWrapper name='Nov_Tests/beta33BRF.txt' mode='w+' encoding='UTF-8'>\n",
      "  return cls([frame.f_locals, frame.f_globals],\n",
      "/Users/katerooney/anaconda3/lib/python3.6/site-packages/patsy/util.py:652: DeprecationWarning: pandas.core.common.is_categorical_dtype is deprecated. import from the public API: pandas.api.types.is_categorical_dtype instead\n",
      "  return safe_is_pandas_categorical_dtype(data.dtype)\n",
      "/Users/katerooney/anaconda3/lib/python3.6/site-packages/patsy/util.py:679: DeprecationWarning: pandas.core.common.is_categorical_dtype is deprecated. import from the public API: pandas.api.types.is_categorical_dtype instead\n",
      "  if safe_is_pandas_categorical_dtype(dt1):\n"
     ]
    },
    {
     "name": "stdout",
     "output_type": "stream",
     "text": [
      "PKL saved for Jan beta184.csv\n",
      "Modeling Jan beta27X.csv\n",
      "PKL saved for Jan beta27X.csv\n",
      "Modeling Jan beta37.csv\n",
      "PKL saved for Jan beta37.csv\n",
      "Modeling Jan beta185.csv\n",
      "PKL saved for Jan beta185.csv\n",
      "Modeling Jan beta25X.csv\n",
      "PKL saved for Jan beta25X.csv\n",
      "Modeling Jan beta38B.csv\n",
      "PKL saved for Jan beta38B.csv\n",
      "Modeling Jan beta33X.csv\n",
      "PKL saved for Jan beta33X.csv\n",
      "Modeling Jan beta142.csv\n",
      "PKL saved for Nov beta123.csv\n",
      "Modeling Nov beta145.csv\n"
     ]
    },
    {
     "name": "stderr",
     "output_type": "stream",
     "text": [
      "/Users/katerooney/anaconda3/lib/python3.6/site-packages/patsy/eval.py:226: ResourceWarning: unclosed file <_io.TextIOWrapper name='Nov_Tests/beta123RF.txt' mode='w+' encoding='UTF-8'>\n",
      "  return cls([frame.f_locals, frame.f_globals],\n",
      "/Users/katerooney/anaconda3/lib/python3.6/site-packages/patsy/util.py:652: DeprecationWarning: pandas.core.common.is_categorical_dtype is deprecated. import from the public API: pandas.api.types.is_categorical_dtype instead\n",
      "  return safe_is_pandas_categorical_dtype(data.dtype)\n",
      "/Users/katerooney/anaconda3/lib/python3.6/site-packages/patsy/util.py:679: DeprecationWarning: pandas.core.common.is_categorical_dtype is deprecated. import from the public API: pandas.api.types.is_categorical_dtype instead\n",
      "  if safe_is_pandas_categorical_dtype(dt1):\n"
     ]
    },
    {
     "name": "stdout",
     "output_type": "stream",
     "text": [
      "PKL saved for Jan beta142.csv\n",
      "Modeling Jan beta161.csv\n",
      "PKL saved for Jan beta161.csv\n",
      "Modeling Jan beta13.csv\n",
      "PKL saved for Nov beta145.csv\n",
      "Modeling Nov beta184.csv\n"
     ]
    },
    {
     "name": "stderr",
     "output_type": "stream",
     "text": [
      "/Users/katerooney/anaconda3/lib/python3.6/site-packages/patsy/eval.py:226: ResourceWarning: unclosed file <_io.TextIOWrapper name='Nov_Tests/beta145RF.txt' mode='w+' encoding='UTF-8'>\n",
      "  return cls([frame.f_locals, frame.f_globals],\n",
      "/Users/katerooney/anaconda3/lib/python3.6/site-packages/patsy/util.py:652: DeprecationWarning: pandas.core.common.is_categorical_dtype is deprecated. import from the public API: pandas.api.types.is_categorical_dtype instead\n",
      "  return safe_is_pandas_categorical_dtype(data.dtype)\n",
      "/Users/katerooney/anaconda3/lib/python3.6/site-packages/patsy/util.py:679: DeprecationWarning: pandas.core.common.is_categorical_dtype is deprecated. import from the public API: pandas.api.types.is_categorical_dtype instead\n",
      "  if safe_is_pandas_categorical_dtype(dt1):\n"
     ]
    },
    {
     "name": "stdout",
     "output_type": "stream",
     "text": [
      "PKL saved for Nov beta184.csv\n",
      "Modeling Nov beta27X.csv\n"
     ]
    },
    {
     "name": "stderr",
     "output_type": "stream",
     "text": [
      "/Users/katerooney/anaconda3/lib/python3.6/site-packages/patsy/eval.py:226: ResourceWarning: unclosed file <_io.TextIOWrapper name='Nov_Tests/beta184RF.txt' mode='w+' encoding='UTF-8'>\n",
      "  return cls([frame.f_locals, frame.f_globals],\n",
      "/Users/katerooney/anaconda3/lib/python3.6/site-packages/patsy/util.py:652: DeprecationWarning: pandas.core.common.is_categorical_dtype is deprecated. import from the public API: pandas.api.types.is_categorical_dtype instead\n",
      "  return safe_is_pandas_categorical_dtype(data.dtype)\n",
      "/Users/katerooney/anaconda3/lib/python3.6/site-packages/patsy/util.py:679: DeprecationWarning: pandas.core.common.is_categorical_dtype is deprecated. import from the public API: pandas.api.types.is_categorical_dtype instead\n",
      "  if safe_is_pandas_categorical_dtype(dt1):\n"
     ]
    },
    {
     "name": "stdout",
     "output_type": "stream",
     "text": [
      "PKL saved for Nov beta27X.csv\n",
      "Modeling Nov beta37.csv\n"
     ]
    },
    {
     "name": "stderr",
     "output_type": "stream",
     "text": [
      "/Users/katerooney/anaconda3/lib/python3.6/site-packages/patsy/eval.py:226: ResourceWarning: unclosed file <_io.TextIOWrapper name='Nov_Tests/beta27XRF.txt' mode='w+' encoding='UTF-8'>\n",
      "  return cls([frame.f_locals, frame.f_globals],\n",
      "/Users/katerooney/anaconda3/lib/python3.6/site-packages/patsy/util.py:652: DeprecationWarning: pandas.core.common.is_categorical_dtype is deprecated. import from the public API: pandas.api.types.is_categorical_dtype instead\n",
      "  return safe_is_pandas_categorical_dtype(data.dtype)\n",
      "/Users/katerooney/anaconda3/lib/python3.6/site-packages/patsy/util.py:679: DeprecationWarning: pandas.core.common.is_categorical_dtype is deprecated. import from the public API: pandas.api.types.is_categorical_dtype instead\n",
      "  if safe_is_pandas_categorical_dtype(dt1):\n"
     ]
    },
    {
     "name": "stdout",
     "output_type": "stream",
     "text": [
      "PKL saved for Nov beta37.csv\n",
      "Modeling Nov beta185.csv\n"
     ]
    },
    {
     "name": "stderr",
     "output_type": "stream",
     "text": [
      "/Users/katerooney/anaconda3/lib/python3.6/site-packages/patsy/eval.py:226: ResourceWarning: unclosed file <_io.TextIOWrapper name='Nov_Tests/beta37RF.txt' mode='w+' encoding='UTF-8'>\n",
      "  return cls([frame.f_locals, frame.f_globals],\n",
      "/Users/katerooney/anaconda3/lib/python3.6/site-packages/patsy/util.py:652: DeprecationWarning: pandas.core.common.is_categorical_dtype is deprecated. import from the public API: pandas.api.types.is_categorical_dtype instead\n",
      "  return safe_is_pandas_categorical_dtype(data.dtype)\n",
      "/Users/katerooney/anaconda3/lib/python3.6/site-packages/patsy/util.py:679: DeprecationWarning: pandas.core.common.is_categorical_dtype is deprecated. import from the public API: pandas.api.types.is_categorical_dtype instead\n",
      "  if safe_is_pandas_categorical_dtype(dt1):\n"
     ]
    },
    {
     "name": "stdout",
     "output_type": "stream",
     "text": [
      "PKL saved for Nov beta185.csv\n",
      "Modeling Nov beta25X.csv\n"
     ]
    },
    {
     "name": "stderr",
     "output_type": "stream",
     "text": [
      "/Users/katerooney/anaconda3/lib/python3.6/site-packages/patsy/eval.py:226: ResourceWarning: unclosed file <_io.TextIOWrapper name='Nov_Tests/beta185RF.txt' mode='w+' encoding='UTF-8'>\n",
      "  return cls([frame.f_locals, frame.f_globals],\n",
      "/Users/katerooney/anaconda3/lib/python3.6/site-packages/patsy/util.py:652: DeprecationWarning: pandas.core.common.is_categorical_dtype is deprecated. import from the public API: pandas.api.types.is_categorical_dtype instead\n",
      "  return safe_is_pandas_categorical_dtype(data.dtype)\n",
      "/Users/katerooney/anaconda3/lib/python3.6/site-packages/patsy/util.py:679: DeprecationWarning: pandas.core.common.is_categorical_dtype is deprecated. import from the public API: pandas.api.types.is_categorical_dtype instead\n",
      "  if safe_is_pandas_categorical_dtype(dt1):\n"
     ]
    },
    {
     "name": "stdout",
     "output_type": "stream",
     "text": [
      "PKL saved for Nov beta25X.csv\n",
      "Modeling Nov beta38B.csv\n"
     ]
    },
    {
     "name": "stderr",
     "output_type": "stream",
     "text": [
      "/Users/katerooney/anaconda3/lib/python3.6/site-packages/patsy/eval.py:226: ResourceWarning: unclosed file <_io.TextIOWrapper name='Nov_Tests/beta25XRF.txt' mode='w+' encoding='UTF-8'>\n",
      "  return cls([frame.f_locals, frame.f_globals],\n",
      "/Users/katerooney/anaconda3/lib/python3.6/site-packages/patsy/util.py:652: DeprecationWarning: pandas.core.common.is_categorical_dtype is deprecated. import from the public API: pandas.api.types.is_categorical_dtype instead\n",
      "  return safe_is_pandas_categorical_dtype(data.dtype)\n",
      "/Users/katerooney/anaconda3/lib/python3.6/site-packages/patsy/util.py:679: DeprecationWarning: pandas.core.common.is_categorical_dtype is deprecated. import from the public API: pandas.api.types.is_categorical_dtype instead\n",
      "  if safe_is_pandas_categorical_dtype(dt1):\n"
     ]
    },
    {
     "name": "stdout",
     "output_type": "stream",
     "text": [
      "PKL saved for Nov beta38B.csv\n",
      "Modeling Nov beta33X.csv\n"
     ]
    },
    {
     "name": "stderr",
     "output_type": "stream",
     "text": [
      "/Users/katerooney/anaconda3/lib/python3.6/site-packages/patsy/eval.py:226: ResourceWarning: unclosed file <_io.TextIOWrapper name='Nov_Tests/beta38BRF.txt' mode='w+' encoding='UTF-8'>\n",
      "  return cls([frame.f_locals, frame.f_globals],\n",
      "/Users/katerooney/anaconda3/lib/python3.6/site-packages/patsy/util.py:652: DeprecationWarning: pandas.core.common.is_categorical_dtype is deprecated. import from the public API: pandas.api.types.is_categorical_dtype instead\n",
      "  return safe_is_pandas_categorical_dtype(data.dtype)\n",
      "/Users/katerooney/anaconda3/lib/python3.6/site-packages/patsy/util.py:679: DeprecationWarning: pandas.core.common.is_categorical_dtype is deprecated. import from the public API: pandas.api.types.is_categorical_dtype instead\n",
      "  if safe_is_pandas_categorical_dtype(dt1):\n"
     ]
    },
    {
     "name": "stdout",
     "output_type": "stream",
     "text": [
      "PKL saved for Nov beta33X.csv\n",
      "Modeling Nov beta142.csv\n"
     ]
    },
    {
     "name": "stderr",
     "output_type": "stream",
     "text": [
      "/Users/katerooney/anaconda3/lib/python3.6/site-packages/patsy/eval.py:226: ResourceWarning: unclosed file <_io.TextIOWrapper name='Nov_Tests/beta33XRF.txt' mode='w+' encoding='UTF-8'>\n",
      "  return cls([frame.f_locals, frame.f_globals],\n",
      "/Users/katerooney/anaconda3/lib/python3.6/site-packages/patsy/util.py:652: DeprecationWarning: pandas.core.common.is_categorical_dtype is deprecated. import from the public API: pandas.api.types.is_categorical_dtype instead\n",
      "  return safe_is_pandas_categorical_dtype(data.dtype)\n",
      "/Users/katerooney/anaconda3/lib/python3.6/site-packages/patsy/util.py:679: DeprecationWarning: pandas.core.common.is_categorical_dtype is deprecated. import from the public API: pandas.api.types.is_categorical_dtype instead\n",
      "  if safe_is_pandas_categorical_dtype(dt1):\n"
     ]
    },
    {
     "name": "stdout",
     "output_type": "stream",
     "text": [
      "PKL saved for Nov beta142.csv\n",
      "Modeling Nov beta161.csv\n"
     ]
    },
    {
     "name": "stderr",
     "output_type": "stream",
     "text": [
      "/Users/katerooney/anaconda3/lib/python3.6/site-packages/patsy/eval.py:226: ResourceWarning: unclosed file <_io.TextIOWrapper name='Nov_Tests/beta142RF.txt' mode='w+' encoding='UTF-8'>\n",
      "  return cls([frame.f_locals, frame.f_globals],\n",
      "/Users/katerooney/anaconda3/lib/python3.6/site-packages/patsy/util.py:652: DeprecationWarning: pandas.core.common.is_categorical_dtype is deprecated. import from the public API: pandas.api.types.is_categorical_dtype instead\n",
      "  return safe_is_pandas_categorical_dtype(data.dtype)\n",
      "/Users/katerooney/anaconda3/lib/python3.6/site-packages/patsy/util.py:679: DeprecationWarning: pandas.core.common.is_categorical_dtype is deprecated. import from the public API: pandas.api.types.is_categorical_dtype instead\n",
      "  if safe_is_pandas_categorical_dtype(dt1):\n"
     ]
    },
    {
     "name": "stdout",
     "output_type": "stream",
     "text": [
      "PKL saved for Jan beta13.csv\n",
      "Modeling Jan beta32.csv\n",
      "PKL saved for Nov beta161.csv\n",
      "Modeling Nov beta13.csv\n"
     ]
    },
    {
     "name": "stderr",
     "output_type": "stream",
     "text": [
      "/Users/katerooney/anaconda3/lib/python3.6/site-packages/patsy/eval.py:226: ResourceWarning: unclosed file <_io.TextIOWrapper name='Nov_Tests/beta161RF.txt' mode='w+' encoding='UTF-8'>\n",
      "  return cls([frame.f_locals, frame.f_globals],\n",
      "/Users/katerooney/anaconda3/lib/python3.6/site-packages/patsy/util.py:652: DeprecationWarning: pandas.core.common.is_categorical_dtype is deprecated. import from the public API: pandas.api.types.is_categorical_dtype instead\n",
      "  return safe_is_pandas_categorical_dtype(data.dtype)\n",
      "/Users/katerooney/anaconda3/lib/python3.6/site-packages/patsy/util.py:679: DeprecationWarning: pandas.core.common.is_categorical_dtype is deprecated. import from the public API: pandas.api.types.is_categorical_dtype instead\n",
      "  if safe_is_pandas_categorical_dtype(dt1):\n"
     ]
    },
    {
     "name": "stdout",
     "output_type": "stream",
     "text": [
      "PKL saved for Jan beta32.csv\n",
      "Modeling Jan beta31A.csv\n",
      "PKL saved for Jan beta31A.csv\n",
      "Modeling Jan beta27B.csv\n",
      "PKL saved for Jan beta27B.csv\n",
      "Modeling Jan beta31.csv\n",
      "PKL saved for Jan beta31.csv\n",
      "Modeling Jan beta1.csv\n",
      "PKL saved for Jan beta1.csv\n",
      "Modeling Jan beta130.csv\n",
      "PKL saved for Jan beta130.csv\n",
      "Modeling Jan beta11.csv\n",
      "PKL saved for Jan beta11.csv\n",
      "Modeling Jan beta17.csv\n",
      "PKL saved for Jan beta17.csv\n",
      "Modeling Jan beta15A.csv\n",
      "PKL saved for Nov beta13.csv\n",
      "Modeling Nov beta32.csv\n"
     ]
    },
    {
     "name": "stderr",
     "output_type": "stream",
     "text": [
      "/Users/katerooney/anaconda3/lib/python3.6/site-packages/patsy/eval.py:226: ResourceWarning: unclosed file <_io.TextIOWrapper name='Nov_Tests/beta13RF.txt' mode='w+' encoding='UTF-8'>\n",
      "  return cls([frame.f_locals, frame.f_globals],\n",
      "/Users/katerooney/anaconda3/lib/python3.6/site-packages/patsy/util.py:652: DeprecationWarning: pandas.core.common.is_categorical_dtype is deprecated. import from the public API: pandas.api.types.is_categorical_dtype instead\n",
      "  return safe_is_pandas_categorical_dtype(data.dtype)\n",
      "/Users/katerooney/anaconda3/lib/python3.6/site-packages/patsy/util.py:679: DeprecationWarning: pandas.core.common.is_categorical_dtype is deprecated. import from the public API: pandas.api.types.is_categorical_dtype instead\n",
      "  if safe_is_pandas_categorical_dtype(dt1):\n"
     ]
    },
    {
     "name": "stdout",
     "output_type": "stream",
     "text": [
      "PKL saved for Nov beta32.csv\n",
      "Modeling Nov beta31A.csv\n"
     ]
    },
    {
     "name": "stderr",
     "output_type": "stream",
     "text": [
      "/Users/katerooney/anaconda3/lib/python3.6/site-packages/patsy/eval.py:226: ResourceWarning: unclosed file <_io.TextIOWrapper name='Nov_Tests/beta32RF.txt' mode='w+' encoding='UTF-8'>\n",
      "  return cls([frame.f_locals, frame.f_globals],\n",
      "/Users/katerooney/anaconda3/lib/python3.6/site-packages/patsy/util.py:652: DeprecationWarning: pandas.core.common.is_categorical_dtype is deprecated. import from the public API: pandas.api.types.is_categorical_dtype instead\n",
      "  return safe_is_pandas_categorical_dtype(data.dtype)\n",
      "/Users/katerooney/anaconda3/lib/python3.6/site-packages/patsy/util.py:679: DeprecationWarning: pandas.core.common.is_categorical_dtype is deprecated. import from the public API: pandas.api.types.is_categorical_dtype instead\n",
      "  if safe_is_pandas_categorical_dtype(dt1):\n"
     ]
    },
    {
     "name": "stdout",
     "output_type": "stream",
     "text": [
      "PKL saved for Jan beta15A.csv\n",
      "merging files...\n",
      "files merged!\n",
      "removed tree\n",
      "Multithreading Complete\n",
      "PKL saved for Nov beta31A.csv\n",
      "Modeling Nov beta27B.csv\n"
     ]
    },
    {
     "name": "stderr",
     "output_type": "stream",
     "text": [
      "/Users/katerooney/anaconda3/lib/python3.6/site-packages/patsy/eval.py:226: ResourceWarning: unclosed file <_io.TextIOWrapper name='Nov_Tests/beta31ARF.txt' mode='w+' encoding='UTF-8'>\n",
      "  return cls([frame.f_locals, frame.f_globals],\n",
      "/Users/katerooney/anaconda3/lib/python3.6/site-packages/patsy/util.py:652: DeprecationWarning: pandas.core.common.is_categorical_dtype is deprecated. import from the public API: pandas.api.types.is_categorical_dtype instead\n",
      "  return safe_is_pandas_categorical_dtype(data.dtype)\n",
      "/Users/katerooney/anaconda3/lib/python3.6/site-packages/patsy/util.py:679: DeprecationWarning: pandas.core.common.is_categorical_dtype is deprecated. import from the public API: pandas.api.types.is_categorical_dtype instead\n",
      "  if safe_is_pandas_categorical_dtype(dt1):\n"
     ]
    },
    {
     "name": "stdout",
     "output_type": "stream",
     "text": [
      "PKL saved for Nov beta27B.csv\n",
      "Modeling Nov beta31.csv\n"
     ]
    },
    {
     "name": "stderr",
     "output_type": "stream",
     "text": [
      "/Users/katerooney/anaconda3/lib/python3.6/site-packages/patsy/eval.py:226: ResourceWarning: unclosed file <_io.TextIOWrapper name='Nov_Tests/beta27BRF.txt' mode='w+' encoding='UTF-8'>\n",
      "  return cls([frame.f_locals, frame.f_globals],\n",
      "/Users/katerooney/anaconda3/lib/python3.6/site-packages/patsy/util.py:652: DeprecationWarning: pandas.core.common.is_categorical_dtype is deprecated. import from the public API: pandas.api.types.is_categorical_dtype instead\n",
      "  return safe_is_pandas_categorical_dtype(data.dtype)\n",
      "/Users/katerooney/anaconda3/lib/python3.6/site-packages/patsy/util.py:679: DeprecationWarning: pandas.core.common.is_categorical_dtype is deprecated. import from the public API: pandas.api.types.is_categorical_dtype instead\n",
      "  if safe_is_pandas_categorical_dtype(dt1):\n"
     ]
    },
    {
     "name": "stdout",
     "output_type": "stream",
     "text": [
      "PKL saved for Nov beta31.csv\n",
      "Modeling Nov beta1.csv\n"
     ]
    },
    {
     "name": "stderr",
     "output_type": "stream",
     "text": [
      "/Users/katerooney/anaconda3/lib/python3.6/site-packages/patsy/eval.py:226: ResourceWarning: unclosed file <_io.TextIOWrapper name='Nov_Tests/beta31RF.txt' mode='w+' encoding='UTF-8'>\n",
      "  return cls([frame.f_locals, frame.f_globals],\n",
      "/Users/katerooney/anaconda3/lib/python3.6/site-packages/patsy/util.py:652: DeprecationWarning: pandas.core.common.is_categorical_dtype is deprecated. import from the public API: pandas.api.types.is_categorical_dtype instead\n",
      "  return safe_is_pandas_categorical_dtype(data.dtype)\n",
      "/Users/katerooney/anaconda3/lib/python3.6/site-packages/patsy/util.py:679: DeprecationWarning: pandas.core.common.is_categorical_dtype is deprecated. import from the public API: pandas.api.types.is_categorical_dtype instead\n",
      "  if safe_is_pandas_categorical_dtype(dt1):\n"
     ]
    },
    {
     "name": "stdout",
     "output_type": "stream",
     "text": [
      "PKL saved for Nov beta1.csv\n",
      "Modeling Nov beta130.csv\n"
     ]
    },
    {
     "name": "stderr",
     "output_type": "stream",
     "text": [
      "/Users/katerooney/anaconda3/lib/python3.6/site-packages/patsy/eval.py:226: ResourceWarning: unclosed file <_io.TextIOWrapper name='Nov_Tests/beta1RF.txt' mode='w+' encoding='UTF-8'>\n",
      "  return cls([frame.f_locals, frame.f_globals],\n",
      "/Users/katerooney/anaconda3/lib/python3.6/site-packages/patsy/util.py:652: DeprecationWarning: pandas.core.common.is_categorical_dtype is deprecated. import from the public API: pandas.api.types.is_categorical_dtype instead\n",
      "  return safe_is_pandas_categorical_dtype(data.dtype)\n",
      "/Users/katerooney/anaconda3/lib/python3.6/site-packages/patsy/util.py:679: DeprecationWarning: pandas.core.common.is_categorical_dtype is deprecated. import from the public API: pandas.api.types.is_categorical_dtype instead\n",
      "  if safe_is_pandas_categorical_dtype(dt1):\n"
     ]
    },
    {
     "name": "stdout",
     "output_type": "stream",
     "text": [
      "PKL saved for Nov beta130.csv\n",
      "Modeling Nov beta11.csv\n"
     ]
    },
    {
     "name": "stderr",
     "output_type": "stream",
     "text": [
      "/Users/katerooney/anaconda3/lib/python3.6/site-packages/patsy/eval.py:226: ResourceWarning: unclosed file <_io.TextIOWrapper name='Nov_Tests/beta130RF.txt' mode='w+' encoding='UTF-8'>\n",
      "  return cls([frame.f_locals, frame.f_globals],\n",
      "/Users/katerooney/anaconda3/lib/python3.6/site-packages/patsy/util.py:652: DeprecationWarning: pandas.core.common.is_categorical_dtype is deprecated. import from the public API: pandas.api.types.is_categorical_dtype instead\n",
      "  return safe_is_pandas_categorical_dtype(data.dtype)\n",
      "/Users/katerooney/anaconda3/lib/python3.6/site-packages/patsy/util.py:679: DeprecationWarning: pandas.core.common.is_categorical_dtype is deprecated. import from the public API: pandas.api.types.is_categorical_dtype instead\n",
      "  if safe_is_pandas_categorical_dtype(dt1):\n"
     ]
    },
    {
     "name": "stdout",
     "output_type": "stream",
     "text": [
      "PKL saved for Nov beta11.csv\n",
      "Modeling Nov beta17.csv\n"
     ]
    },
    {
     "name": "stderr",
     "output_type": "stream",
     "text": [
      "/Users/katerooney/anaconda3/lib/python3.6/site-packages/patsy/eval.py:226: ResourceWarning: unclosed file <_io.TextIOWrapper name='Nov_Tests/beta11RF.txt' mode='w+' encoding='UTF-8'>\n",
      "  return cls([frame.f_locals, frame.f_globals],\n",
      "/Users/katerooney/anaconda3/lib/python3.6/site-packages/patsy/util.py:652: DeprecationWarning: pandas.core.common.is_categorical_dtype is deprecated. import from the public API: pandas.api.types.is_categorical_dtype instead\n",
      "  return safe_is_pandas_categorical_dtype(data.dtype)\n",
      "/Users/katerooney/anaconda3/lib/python3.6/site-packages/patsy/util.py:679: DeprecationWarning: pandas.core.common.is_categorical_dtype is deprecated. import from the public API: pandas.api.types.is_categorical_dtype instead\n",
      "  if safe_is_pandas_categorical_dtype(dt1):\n"
     ]
    },
    {
     "name": "stdout",
     "output_type": "stream",
     "text": [
      "PKL saved for Nov beta17.csv\n",
      "Modeling Nov beta15A.csv\n"
     ]
    },
    {
     "name": "stderr",
     "output_type": "stream",
     "text": [
      "/Users/katerooney/anaconda3/lib/python3.6/site-packages/patsy/eval.py:226: ResourceWarning: unclosed file <_io.TextIOWrapper name='Nov_Tests/beta17RF.txt' mode='w+' encoding='UTF-8'>\n",
      "  return cls([frame.f_locals, frame.f_globals],\n",
      "/Users/katerooney/anaconda3/lib/python3.6/site-packages/patsy/util.py:652: DeprecationWarning: pandas.core.common.is_categorical_dtype is deprecated. import from the public API: pandas.api.types.is_categorical_dtype instead\n",
      "  return safe_is_pandas_categorical_dtype(data.dtype)\n",
      "/Users/katerooney/anaconda3/lib/python3.6/site-packages/patsy/util.py:679: DeprecationWarning: pandas.core.common.is_categorical_dtype is deprecated. import from the public API: pandas.api.types.is_categorical_dtype instead\n",
      "  if safe_is_pandas_categorical_dtype(dt1):\n"
     ]
    },
    {
     "name": "stdout",
     "output_type": "stream",
     "text": [
      "PKL saved for Nov beta15A.csv\n"
     ]
    },
    {
     "name": "stderr",
     "output_type": "stream",
     "text": [
      "/Users/katerooney/anaconda3/lib/python3.6/threading.py:864: ResourceWarning: unclosed file <_io.TextIOWrapper name='Nov_Tests/beta15ARF.txt' mode='w+' encoding='UTF-8'>\n",
      "  self._target(*self._args, **self._kwargs)\n"
     ]
    },
    {
     "name": "stdout",
     "output_type": "stream",
     "text": [
      "merging files...\n",
      "files merged!\n",
      "removed tree\n",
      "Multithreading Complete\n"
     ]
    },
    {
     "name": "stderr",
     "output_type": "stream",
     "text": [
      "/Users/katerooney/anaconda3/lib/python3.6/multiprocessing/pool.py:44: ResourceWarning: unclosed file <_io.TextIOWrapper name='Nov_Tests.txt' mode='w+' encoding='UTF-8'>\n",
      "  return list(map(*args))\n"
     ]
    },
    {
     "name": "stdout",
     "output_type": "stream",
     "text": [
      "Result:  ['SUCCESS!', 'SUCCESS!']\n",
      "CPU times: user 230 ms, sys: 145 ms, total: 375 ms\n",
      "Wall time: 4min 55s\n"
     ]
    }
   ],
   "source": [
    "%%time\n",
    "pool = Pool(processes=2) # initialize the Pool.\n",
    "months=[\"Jan\", \"Nov\"]\n",
    "result = pool.map(models_func.generate_models, months)       # map f to the data using the Pool of processes to do the work \n",
    "pool.close() # No more processes\n",
    "pool.join()\n",
    "print(\"Result: \", result)\n"
   ]
  },
  {
   "cell_type": "code",
   "execution_count": null,
   "metadata": {
    "collapsed": true
   },
   "outputs": [],
   "source": []
  }
 ],
 "metadata": {
  "kernelspec": {
   "display_name": "Python 3",
   "language": "python",
   "name": "python3"
  },
  "language_info": {
   "codemirror_mode": {
    "name": "ipython",
    "version": 3
   },
   "file_extension": ".py",
   "mimetype": "text/x-python",
   "name": "python",
   "nbconvert_exporter": "python",
   "pygments_lexer": "ipython3",
   "version": "3.6.1"
  }
 },
 "nbformat": 4,
 "nbformat_minor": 2
}
