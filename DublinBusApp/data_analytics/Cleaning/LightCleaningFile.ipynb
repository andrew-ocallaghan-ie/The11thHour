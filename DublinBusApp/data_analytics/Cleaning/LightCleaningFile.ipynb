{
 "cells": [
  {
   "cell_type": "code",
   "execution_count": 1,
   "metadata": {},
   "outputs": [
    {
     "name": "stderr",
     "output_type": "stream",
     "text": [
      "/Users/katerooney/anaconda3/lib/python3.6/site-packages/sklearn/cross_validation.py:44: DeprecationWarning: This module was deprecated in version 0.18 in favor of the model_selection module into which all the refactored classes and functions are moved. Also note that the interface of the new CV iterators are different from that of this module. This module will be removed in 0.20.\n",
      "  \"This module will be removed in 0.20.\", DeprecationWarning)\n"
     ]
    }
   ],
   "source": [
    "#import sections something to cover all bases\n",
    "import pandas as pd\n",
    "import matplotlib.pyplot as plt\n",
    "import seaborn as sns\n",
    "import numpy as np\n",
    "from patsy import dmatrices\n",
    "import matplotlib.patches as mpatches\n",
    "import statsmodels.formula.api as sm\n",
    "import sklearn\n",
    "from sklearn.linear_model import LogisticRegression\n",
    "from sklearn import metrics\n",
    "from sklearn.tree import DecisionTreeClassifier\n",
    "from sklearn.ensemble import RandomForestClassifier\n",
    "\n",
    "from statsmodels.formula.api import logit\n",
    "from sklearn.cross_validation import train_test_split\n",
    "\n",
    "import os\n",
    "import glob\n",
    "\n",
    "import time\n",
    "import multiprocessing\n",
    "from multiprocessing import Pool\n",
    "import threading\n",
    "\n",
    "import cleaning_functions"
   ]
  },
  {
   "cell_type": "code",
   "execution_count": 2,
   "metadata": {
    "scrolled": false
   },
   "outputs": [
    {
     "name": "stdout",
     "output_type": "stream",
     "text": [
      "Reconstructing .DS_Store\n",
      "Reconstructing siri.20130110.csv\n",
      "Reconstructing siri.20121118.csv\n",
      "Reconstructing siri.20121120.csv\n"
     ]
    },
    {
     "name": "stderr",
     "output_type": "stream",
     "text": [
      "Exception in thread Thread-4:\n",
      "Traceback (most recent call last):\n",
      "  File \"/Users/katerooney/anaconda3/lib/python3.6/threading.py\", line 916, in _bootstrap_inner\n",
      "    self.run()\n",
      "  File \"/Users/katerooney/anaconda3/lib/python3.6/threading.py\", line 864, in run\n",
      "    self._target(*self._args, **self._kwargs)\n",
      "  File \"/Users/katerooney/Documents/DataAnalytics/The11thHour/DublinBusApp/data_analytics/Cleaning/cleaning_functions.py\", line 327, in re_construct\n",
      "    modify_me.columns = columns\n",
      "  File \"/Users/katerooney/anaconda3/lib/python3.6/site-packages/pandas/core/generic.py\", line 2983, in __setattr__\n",
      "    return object.__setattr__(self, name, value)\n",
      "  File \"pandas/_libs/src/properties.pyx\", line 65, in pandas._libs.lib.AxisProperty.__set__ (pandas/_libs/lib.c:45103)\n",
      "  File \"/Users/katerooney/anaconda3/lib/python3.6/site-packages/pandas/core/generic.py\", line 471, in _set_axis\n",
      "    self._data.set_axis(axis, labels)\n",
      "  File \"/Users/katerooney/anaconda3/lib/python3.6/site-packages/pandas/core/internals.py\", line 2836, in set_axis\n",
      "    (old_len, new_len))\n",
      "ValueError: Length mismatch: Expected axis has 1 elements, new values have 15 elements\n",
      "\n",
      "/Users/katerooney/anaconda3/lib/python3.6/threading.py:884: DtypeWarning: Columns (1) have mixed types. Specify dtype option on import or set low_memory=False.\n",
      "  self._bootstrap_inner()\n"
     ]
    },
    {
     "name": "stdout",
     "output_type": "stream",
     "text": [
      "\tDropped Columns\n",
      "\tDropped Not Stop data\n",
      "\tDirection & LineID Re-Derived\n",
      "\tDropped Columns\n",
      "\tDropped Not Stop data\n",
      "\tDirection & LineID Re-Derived\n"
     ]
    },
    {
     "name": "stderr",
     "output_type": "stream",
     "text": [
      "/Users/katerooney/anaconda3/lib/python3.6/threading.py:884: DtypeWarning: Columns (1,13) have mixed types. Specify dtype option on import or set low_memory=False.\n",
      "  self._bootstrap_inner()\n"
     ]
    },
    {
     "name": "stdout",
     "output_type": "stream",
     "text": [
      "\tDropped Columns\n",
      "\tDropped Not Stop data\n",
      "\tDirection & LineID Re-Derived\n"
     ]
    },
    {
     "name": "stderr",
     "output_type": "stream",
     "text": [
      "/Users/katerooney/Documents/DataAnalytics/The11thHour/DublinBusApp/data_analytics/Cleaning/cleaning_functions.py:131: FutureWarning: 'Vehicle_Journey_ID' is both a column name and an index level.\n",
      "Defaulting to column but this will raise an ambiguity error in a future version\n",
      "  modified_frame = modified_frame.groupby(['Vehicle_Journey_ID', 'Timeframe'])\n",
      "/Users/katerooney/Documents/DataAnalytics/The11thHour/DublinBusApp/data_analytics/Cleaning/cleaning_functions.py:131: FutureWarning: 'Timeframe' is both a column name and an index level.\n",
      "Defaulting to column but this will raise an ambiguity error in a future version\n",
      "  modified_frame = modified_frame.groupby(['Vehicle_Journey_ID', 'Timeframe'])\n",
      "/Users/katerooney/Documents/DataAnalytics/The11thHour/DublinBusApp/data_analytics/Cleaning/cleaning_functions.py:131: FutureWarning: 'Vehicle_Journey_ID' is both a column name and an index level.\n",
      "Defaulting to column but this will raise an ambiguity error in a future version\n",
      "  modified_frame = modified_frame.groupby(['Vehicle_Journey_ID', 'Timeframe'])\n",
      "/Users/katerooney/Documents/DataAnalytics/The11thHour/DublinBusApp/data_analytics/Cleaning/cleaning_functions.py:131: FutureWarning: 'Timeframe' is both a column name and an index level.\n",
      "Defaulting to column but this will raise an ambiguity error in a future version\n",
      "  modified_frame = modified_frame.groupby(['Vehicle_Journey_ID', 'Timeframe'])\n"
     ]
    },
    {
     "name": "stdout",
     "output_type": "stream",
     "text": [
      "\tIdling removed and stops_made column created\n",
      "\tDropped Dupes\n"
     ]
    },
    {
     "name": "stderr",
     "output_type": "stream",
     "text": [
      "/Users/katerooney/Documents/DataAnalytics/The11thHour/DublinBusApp/data_analytics/Cleaning/cleaning_functions.py:151: FutureWarning: 'Vehicle_Journey_ID' is both a column name and an index level.\n",
      "Defaulting to column but this will raise an ambiguity error in a future version\n",
      "  \"Timeframe\"])[\"Timestamp\"].transform(max)\n",
      "/Users/katerooney/Documents/DataAnalytics/The11thHour/DublinBusApp/data_analytics/Cleaning/cleaning_functions.py:151: FutureWarning: 'Timeframe' is both a column name and an index level.\n",
      "Defaulting to column but this will raise an ambiguity error in a future version\n",
      "  \"Timeframe\"])[\"Timestamp\"].transform(max)\n",
      "/Users/katerooney/Documents/DataAnalytics/The11thHour/DublinBusApp/data_analytics/Cleaning/cleaning_functions.py:154: FutureWarning: 'Vehicle_Journey_ID' is both a column name and an index level.\n",
      "Defaulting to column but this will raise an ambiguity error in a future version\n",
      "  \"Timeframe\"])[\"Timestamp\"].transform(min)\n",
      "/Users/katerooney/Documents/DataAnalytics/The11thHour/DublinBusApp/data_analytics/Cleaning/cleaning_functions.py:154: FutureWarning: 'Timeframe' is both a column name and an index level.\n",
      "Defaulting to column but this will raise an ambiguity error in a future version\n",
      "  \"Timeframe\"])[\"Timestamp\"].transform(min)\n"
     ]
    },
    {
     "name": "stdout",
     "output_type": "stream",
     "text": [
      "\tIdling removed and stops_made column created\n",
      "\tDropped Dupes\n"
     ]
    },
    {
     "name": "stderr",
     "output_type": "stream",
     "text": [
      "/Users/katerooney/Documents/DataAnalytics/The11thHour/DublinBusApp/data_analytics/Cleaning/cleaning_functions.py:151: FutureWarning: 'Vehicle_Journey_ID' is both a column name and an index level.\n",
      "Defaulting to column but this will raise an ambiguity error in a future version\n",
      "  \"Timeframe\"])[\"Timestamp\"].transform(max)\n",
      "/Users/katerooney/Documents/DataAnalytics/The11thHour/DublinBusApp/data_analytics/Cleaning/cleaning_functions.py:151: FutureWarning: 'Timeframe' is both a column name and an index level.\n",
      "Defaulting to column but this will raise an ambiguity error in a future version\n",
      "  \"Timeframe\"])[\"Timestamp\"].transform(max)\n",
      "/Users/katerooney/Documents/DataAnalytics/The11thHour/DublinBusApp/data_analytics/Cleaning/cleaning_functions.py:154: FutureWarning: 'Vehicle_Journey_ID' is both a column name and an index level.\n",
      "Defaulting to column but this will raise an ambiguity error in a future version\n",
      "  \"Timeframe\"])[\"Timestamp\"].transform(min)\n",
      "/Users/katerooney/Documents/DataAnalytics/The11thHour/DublinBusApp/data_analytics/Cleaning/cleaning_functions.py:154: FutureWarning: 'Timeframe' is both a column name and an index level.\n",
      "Defaulting to column but this will raise an ambiguity error in a future version\n",
      "  \"Timeframe\"])[\"Timestamp\"].transform(min)\n"
     ]
    },
    {
     "name": "stdout",
     "output_type": "stream",
     "text": [
      "\tTiming Columns added\n",
      "\tSpeed made\n",
      "\tTiming Columns added\n",
      "\tSpeed made\n",
      "\tscheduled speed per stop column created\n",
      "\tTime Binning Applied\n",
      "\tDrop zero Journey Times\n",
      "\tscheduled speed per stop column created\n",
      "\tTime Binning Applied\n",
      "\tDrop zero Journey Times\n",
      "re_constructed_Nov/re_consiri.20121118.csv \tSaved!\n",
      "Reconstructing .DS_Store\n"
     ]
    },
    {
     "name": "stderr",
     "output_type": "stream",
     "text": [
      "Exception in thread Thread-4:\n",
      "Traceback (most recent call last):\n",
      "  File \"/Users/katerooney/anaconda3/lib/python3.6/threading.py\", line 916, in _bootstrap_inner\n",
      "    self.run()\n",
      "  File \"/Users/katerooney/anaconda3/lib/python3.6/threading.py\", line 864, in run\n",
      "    self._target(*self._args, **self._kwargs)\n",
      "  File \"/Users/katerooney/Documents/DataAnalytics/The11thHour/DublinBusApp/data_analytics/Cleaning/cleaning_functions.py\", line 327, in re_construct\n",
      "    modify_me.columns = columns\n",
      "  File \"/Users/katerooney/anaconda3/lib/python3.6/site-packages/pandas/core/generic.py\", line 2983, in __setattr__\n",
      "    return object.__setattr__(self, name, value)\n",
      "  File \"pandas/_libs/src/properties.pyx\", line 65, in pandas._libs.lib.AxisProperty.__set__ (pandas/_libs/lib.c:45103)\n",
      "  File \"/Users/katerooney/anaconda3/lib/python3.6/site-packages/pandas/core/generic.py\", line 471, in _set_axis\n",
      "    self._data.set_axis(axis, labels)\n",
      "  File \"/Users/katerooney/anaconda3/lib/python3.6/site-packages/pandas/core/internals.py\", line 2836, in set_axis\n",
      "    (old_len, new_len))\n",
      "ValueError: Length mismatch: Expected axis has 1 elements, new values have 15 elements\n",
      "\n"
     ]
    },
    {
     "name": "stdout",
     "output_type": "stream",
     "text": [
      "re_constructed_Jan/re_consiri.20130110.csv \tSaved!\n",
      "Reconstructing siri.20130112.csv\n"
     ]
    },
    {
     "name": "stderr",
     "output_type": "stream",
     "text": [
      "/Users/katerooney/anaconda3/lib/python3.6/threading.py:884: DtypeWarning: Columns (13) have mixed types. Specify dtype option on import or set low_memory=False.\n",
      "  self._bootstrap_inner()\n"
     ]
    },
    {
     "name": "stdout",
     "output_type": "stream",
     "text": [
      "\tDropped Columns\n",
      "\tDropped Not Stop data\n",
      "\tDirection & LineID Re-Derived\n",
      "\tIdling removed and stops_made column created\n",
      "\tDropped Dupes\n",
      "\tTiming Columns added\n",
      "\tSpeed made\n",
      "\tscheduled speed per stop column created\n",
      "\tTime Binning Applied\n",
      "\tDrop zero Journey Times\n",
      "re_constructed_Nov/re_consiri.20121120.csv \tSaved!\n",
      "Reconstructing siri.20121124.csv\n",
      "\tDropped Columns\n",
      "\tDropped Not Stop data\n",
      "\tDirection & LineID Re-Derived\n",
      "\tIdling removed and stops_made column created\n",
      "\tDropped Dupes\n",
      "\tTiming Columns added\n",
      "\tSpeed made\n",
      "\tscheduled speed per stop column created\n",
      "\tTime Binning Applied\n",
      "\tDrop zero Journey Times\n",
      "re_constructed_Jan/re_consiri.20130112.csv \tSaved!\n",
      "Reconstructing siri.20130111.csv\n",
      "\tDropped Columns\n",
      "\tDropped Not Stop data\n",
      "\tDirection & LineID Re-Derived\n",
      "\tIdling removed and stops_made column created\n",
      "\tDropped Dupes\n",
      "\tTiming Columns added\n",
      "\tSpeed made\n",
      "\tscheduled speed per stop column created\n",
      "\tTime Binning Applied\n",
      "\tDrop zero Journey Times\n",
      "re_constructed_Nov/re_consiri.20121124.csv \tSaved!\n",
      "Reconstructing siri.20121123.csv\n",
      "\tDropped Columns\n",
      "\tDropped Not Stop data\n",
      "\tDirection & LineID Re-Derived\n",
      "\tIdling removed and stops_made column created\n",
      "\tDropped Dupes\n",
      "\tTiming Columns added\n",
      "\tSpeed made\n",
      "\tscheduled speed per stop column created\n",
      "\tTime Binning Applied\n",
      "\tDrop zero Journey Times\n",
      "re_constructed_Jan/re_consiri.20130111.csv \tSaved!\n",
      "Reconstructing siri.20130113.csv\n",
      "\tDropped Columns\n",
      "\tDropped Not Stop data\n",
      "\tIdling removed and stops_made column created\n",
      "\tDropped Dupes\n",
      "\tDirection & LineID Re-Derived\n",
      "\tTiming Columns added\n",
      "\tSpeed made\n",
      "\tscheduled speed per stop column created\n",
      "\tTime Binning Applied\n",
      "\tDrop zero Journey Times\n",
      "\tIdling removed and stops_made column created\n",
      "\tDropped Dupes\n",
      "re_constructed_Nov/re_consiri.20121123.csv \tSaved!\n",
      "Reconstructing siri.20121121.csv\n",
      "\tTiming Columns added\n",
      "\tSpeed made\n",
      "\tscheduled speed per stop column created\n",
      "\tTime Binning Applied\n",
      "\tDrop zero Journey Times\n",
      "\tDropped Columns\n",
      "\tDropped Not Stop data\n",
      "re_constructed_Jan/re_consiri.20130113.csv \tSaved!\n",
      "Multithreading Complete\n",
      "\tDirection & LineID Re-Derived\n",
      "\tIdling removed and stops_made column created\n",
      "\tDropped Dupes\n",
      "\tTiming Columns added\n",
      "\tSpeed made\n",
      "\tscheduled speed per stop column created\n",
      "\tTime Binning Applied\n",
      "\tDrop zero Journey Times\n",
      "re_constructed_Nov/re_consiri.20121121.csv \tSaved!\n",
      "Reconstructing siri.20121122.csv\n",
      "\tDropped Columns\n",
      "\tDropped Not Stop data\n",
      "\tDirection & LineID Re-Derived\n",
      "\tIdling removed and stops_made column created\n",
      "\tDropped Dupes\n",
      "\tTiming Columns added\n",
      "\tSpeed made\n",
      "\tscheduled speed per stop column created\n",
      "\tTime Binning Applied\n",
      "\tDrop zero Journey Times\n",
      "re_constructed_Nov/re_consiri.20121122.csv \tSaved!\n",
      "Multithreading Complete\n",
      "Result:  ['SUCCESS!', 'SUCCESS!']\n",
      "CPU times: user 125 ms, sys: 86 ms, total: 211 ms\n",
      "Wall time: 3min 7s\n"
     ]
    }
   ],
   "source": [
    "%%time\n",
    "pool = Pool(processes=2) # initialize the Pool.\n",
    "months=[\"Jan\", \"Nov\"]\n",
    "result = pool.map(cleaning_functions.wrap_re_construct, months)       # map f to the data using the Pool of processes to do the work \n",
    "pool.close() # No more processes\n",
    "pool.join()\n",
    "print(\"Result: \", result)"
   ]
  },
  {
   "cell_type": "code",
   "execution_count": 3,
   "metadata": {},
   "outputs": [
    {
     "name": "stdout",
     "output_type": "stream",
     "text": [
      "Starting Extraction :  Jan\n",
      "Starting Extraction :  Nov\n"
     ]
    },
    {
     "name": "stderr",
     "output_type": "stream",
     "text": [
      "/Users/katerooney/anaconda3/lib/python3.6/multiprocessing/pool.py:119: DtypeWarning: Columns (3) have mixed types. Specify dtype option on import or set low_memory=False.\n",
      "  result = (True, func(*args, **kwds))\n"
     ]
    },
    {
     "name": "stdout",
     "output_type": "stream",
     "text": [
      "Extrating 1 from: /Users/katerooney/Documents/DataAnalytics/The11thHour/DublinBusApp/data_analytics/Cleaning/re_constructed_Jan\n"
     ]
    },
    {
     "name": "stderr",
     "output_type": "stream",
     "text": [
      "/Users/katerooney/anaconda3/lib/python3.6/multiprocessing/pool.py:119: DtypeWarning: Columns (3) have mixed types. Specify dtype option on import or set low_memory=False.\n",
      "  result = (True, func(*args, **kwds))\n"
     ]
    },
    {
     "name": "stdout",
     "output_type": "stream",
     "text": [
      "Extrating 1 from: /Users/katerooney/Documents/DataAnalytics/The11thHour/DublinBusApp/data_analytics/Cleaning/re_constructed_Nov\n"
     ]
    },
    {
     "name": "stderr",
     "output_type": "stream",
     "text": [
      "/Users/katerooney/anaconda3/lib/python3.6/multiprocessing/pool.py:119: DtypeWarning: Columns (1,3) have mixed types. Specify dtype option on import or set low_memory=False.\n",
      "  result = (True, func(*args, **kwds))\n"
     ]
    },
    {
     "name": "stdout",
     "output_type": "stream",
     "text": [
      "Extrating 102 from: /Users/katerooney/Documents/DataAnalytics/The11thHour/DublinBusApp/data_analytics/Cleaning/re_constructed_Jan\n"
     ]
    },
    {
     "name": "stderr",
     "output_type": "stream",
     "text": [
      "/Users/katerooney/anaconda3/lib/python3.6/multiprocessing/pool.py:119: DtypeWarning: Columns (1,3) have mixed types. Specify dtype option on import or set low_memory=False.\n",
      "  result = (True, func(*args, **kwds))\n"
     ]
    },
    {
     "name": "stdout",
     "output_type": "stream",
     "text": [
      "Extrating 102 from: /Users/katerooney/Documents/DataAnalytics/The11thHour/DublinBusApp/data_analytics/Cleaning/re_constructed_Nov\n",
      "Extrating 104 from: /Users/katerooney/Documents/DataAnalytics/The11thHour/DublinBusApp/data_analytics/Cleaning/re_constructed_Jan\n",
      "Extrating 11 from: /Users/katerooney/Documents/DataAnalytics/The11thHour/DublinBusApp/data_analytics/Cleaning/re_constructed_Jan\n",
      "Extrating 104 from: /Users/katerooney/Documents/DataAnalytics/The11thHour/DublinBusApp/data_analytics/Cleaning/re_constructed_Nov\n",
      "Extrating 111 from: /Users/katerooney/Documents/DataAnalytics/The11thHour/DublinBusApp/data_analytics/Cleaning/re_constructed_Jan\n",
      "Extrating 11 from: /Users/katerooney/Documents/DataAnalytics/The11thHour/DublinBusApp/data_analytics/Cleaning/re_constructed_Nov\n",
      "Extrating 114 from: /Users/katerooney/Documents/DataAnalytics/The11thHour/DublinBusApp/data_analytics/Cleaning/re_constructed_Jan\n",
      "Extrating 114 from: /Users/katerooney/Documents/DataAnalytics/The11thHour/DublinBusApp/data_analytics/Cleaning/re_constructed_Nov\n",
      "Extrating 116 from: /Users/katerooney/Documents/DataAnalytics/The11thHour/DublinBusApp/data_analytics/Cleaning/re_constructed_Jan\n",
      "Extrating 118 from: /Users/katerooney/Documents/DataAnalytics/The11thHour/DublinBusApp/data_analytics/Cleaning/re_constructed_Jan\n",
      "Extrating 120 from: /Users/katerooney/Documents/DataAnalytics/The11thHour/DublinBusApp/data_analytics/Cleaning/re_constructed_Nov\n",
      "Extrating 120 from: /Users/katerooney/Documents/DataAnalytics/The11thHour/DublinBusApp/data_analytics/Cleaning/re_constructed_Jan\n",
      "Extrating 122 from: /Users/katerooney/Documents/DataAnalytics/The11thHour/DublinBusApp/data_analytics/Cleaning/re_constructed_Nov\n",
      "Extrating 122 from: /Users/katerooney/Documents/DataAnalytics/The11thHour/DublinBusApp/data_analytics/Cleaning/re_constructed_Jan\n",
      "Extrating 123 from: /Users/katerooney/Documents/DataAnalytics/The11thHour/DublinBusApp/data_analytics/Cleaning/re_constructed_Jan\n",
      "Extrating 123 from: /Users/katerooney/Documents/DataAnalytics/The11thHour/DublinBusApp/data_analytics/Cleaning/re_constructed_Nov\n",
      "Extrating 13 from: /Users/katerooney/Documents/DataAnalytics/The11thHour/DublinBusApp/data_analytics/Cleaning/re_constructed_Jan\n",
      "Extrating 13 from: /Users/katerooney/Documents/DataAnalytics/The11thHour/DublinBusApp/data_analytics/Cleaning/re_constructed_Nov\n",
      "Extrating 130 from: /Users/katerooney/Documents/DataAnalytics/The11thHour/DublinBusApp/data_analytics/Cleaning/re_constructed_Jan\n",
      "Extrating 130 from: /Users/katerooney/Documents/DataAnalytics/The11thHour/DublinBusApp/data_analytics/Cleaning/re_constructed_Nov\n",
      "Extrating 14 from: /Users/katerooney/Documents/DataAnalytics/The11thHour/DublinBusApp/data_analytics/Cleaning/re_constructed_Jan\n",
      "Extrating 140 from: /Users/katerooney/Documents/DataAnalytics/The11thHour/DublinBusApp/data_analytics/Cleaning/re_constructed_Jan\n",
      "Extrating 14 from: /Users/katerooney/Documents/DataAnalytics/The11thHour/DublinBusApp/data_analytics/Cleaning/re_constructed_Nov\n",
      "Extrating 142 from: /Users/katerooney/Documents/DataAnalytics/The11thHour/DublinBusApp/data_analytics/Cleaning/re_constructed_Jan\n",
      "Extrating 140 from: /Users/katerooney/Documents/DataAnalytics/The11thHour/DublinBusApp/data_analytics/Cleaning/re_constructed_Nov\n",
      "Extrating 145 from: /Users/katerooney/Documents/DataAnalytics/The11thHour/DublinBusApp/data_analytics/Cleaning/re_constructed_Jan\n",
      "Extrating 145 from: /Users/katerooney/Documents/DataAnalytics/The11thHour/DublinBusApp/data_analytics/Cleaning/re_constructed_Nov\n",
      "Extrating 14C from: /Users/katerooney/Documents/DataAnalytics/The11thHour/DublinBusApp/data_analytics/Cleaning/re_constructed_Jan\n",
      "Extrating 15 from: /Users/katerooney/Documents/DataAnalytics/The11thHour/DublinBusApp/data_analytics/Cleaning/re_constructed_Jan\n",
      "Extrating 14C from: /Users/katerooney/Documents/DataAnalytics/The11thHour/DublinBusApp/data_analytics/Cleaning/re_constructed_Nov\n",
      "Extrating 150 from: /Users/katerooney/Documents/DataAnalytics/The11thHour/DublinBusApp/data_analytics/Cleaning/re_constructed_Jan\n",
      "Extrating 15 from: /Users/katerooney/Documents/DataAnalytics/The11thHour/DublinBusApp/data_analytics/Cleaning/re_constructed_Nov\n",
      "Extrating 151 from: /Users/katerooney/Documents/DataAnalytics/The11thHour/DublinBusApp/data_analytics/Cleaning/re_constructed_Jan\n",
      "Extrating 15A from: /Users/katerooney/Documents/DataAnalytics/The11thHour/DublinBusApp/data_analytics/Cleaning/re_constructed_Jan\n",
      "Extrating 150 from: /Users/katerooney/Documents/DataAnalytics/The11thHour/DublinBusApp/data_analytics/Cleaning/re_constructed_Nov\n",
      "Extrating 15B from: /Users/katerooney/Documents/DataAnalytics/The11thHour/DublinBusApp/data_analytics/Cleaning/re_constructed_Jan\n",
      "Extrating 151 from: /Users/katerooney/Documents/DataAnalytics/The11thHour/DublinBusApp/data_analytics/Cleaning/re_constructed_Nov\n",
      "Extrating 16 from: /Users/katerooney/Documents/DataAnalytics/The11thHour/DublinBusApp/data_analytics/Cleaning/re_constructed_Jan\n",
      "Extrating 15A from: /Users/katerooney/Documents/DataAnalytics/The11thHour/DublinBusApp/data_analytics/Cleaning/re_constructed_Nov\n",
      "Extrating 161 from: /Users/katerooney/Documents/DataAnalytics/The11thHour/DublinBusApp/data_analytics/Cleaning/re_constructed_Jan\n",
      "Extrating 16C from: /Users/katerooney/Documents/DataAnalytics/The11thHour/DublinBusApp/data_analytics/Cleaning/re_constructed_Jan\n",
      "Extrating 15B from: /Users/katerooney/Documents/DataAnalytics/The11thHour/DublinBusApp/data_analytics/Cleaning/re_constructed_Nov\n",
      "Extrating 17 from: /Users/katerooney/Documents/DataAnalytics/The11thHour/DublinBusApp/data_analytics/Cleaning/re_constructed_Jan\n",
      "Extrating 16 from: /Users/katerooney/Documents/DataAnalytics/The11thHour/DublinBusApp/data_analytics/Cleaning/re_constructed_Nov\n",
      "Extrating 17A from: /Users/katerooney/Documents/DataAnalytics/The11thHour/DublinBusApp/data_analytics/Cleaning/re_constructed_Jan\n",
      "Extrating 18 from: /Users/katerooney/Documents/DataAnalytics/The11thHour/DublinBusApp/data_analytics/Cleaning/re_constructed_Jan\n",
      "Extrating 16C from: /Users/katerooney/Documents/DataAnalytics/The11thHour/DublinBusApp/data_analytics/Cleaning/re_constructed_Nov\n",
      "Extrating 184 from: /Users/katerooney/Documents/DataAnalytics/The11thHour/DublinBusApp/data_analytics/Cleaning/re_constructed_Jan\n",
      "Extrating 17 from: /Users/katerooney/Documents/DataAnalytics/The11thHour/DublinBusApp/data_analytics/Cleaning/re_constructed_Nov\n",
      "Extrating 185 from: /Users/katerooney/Documents/DataAnalytics/The11thHour/DublinBusApp/data_analytics/Cleaning/re_constructed_Jan\n",
      "Extrating 17A from: /Users/katerooney/Documents/DataAnalytics/The11thHour/DublinBusApp/data_analytics/Cleaning/re_constructed_Nov\n",
      "Extrating 220 from: /Users/katerooney/Documents/DataAnalytics/The11thHour/DublinBusApp/data_analytics/Cleaning/re_constructed_Jan\n",
      "Extrating 236 from: /Users/katerooney/Documents/DataAnalytics/The11thHour/DublinBusApp/data_analytics/Cleaning/re_constructed_Jan\n",
      "Extrating 18 from: /Users/katerooney/Documents/DataAnalytics/The11thHour/DublinBusApp/data_analytics/Cleaning/re_constructed_Nov\n",
      "Extrating 238 from: /Users/katerooney/Documents/DataAnalytics/The11thHour/DublinBusApp/data_analytics/Cleaning/re_constructed_Jan\n",
      "Extrating 184 from: /Users/katerooney/Documents/DataAnalytics/The11thHour/DublinBusApp/data_analytics/Cleaning/re_constructed_Nov\n",
      "Extrating 239 from: /Users/katerooney/Documents/DataAnalytics/The11thHour/DublinBusApp/data_analytics/Cleaning/re_constructed_Jan\n",
      "Extrating 185 from: /Users/katerooney/Documents/DataAnalytics/The11thHour/DublinBusApp/data_analytics/Cleaning/re_constructed_Nov\n",
      "Extrating 25 from: /Users/katerooney/Documents/DataAnalytics/The11thHour/DublinBusApp/data_analytics/Cleaning/re_constructed_Jan\n",
      "Extrating 25A from: /Users/katerooney/Documents/DataAnalytics/The11thHour/DublinBusApp/data_analytics/Cleaning/re_constructed_Jan\n",
      "Extrating 220 from: /Users/katerooney/Documents/DataAnalytics/The11thHour/DublinBusApp/data_analytics/Cleaning/re_constructed_Nov\n",
      "Extrating 25B from: /Users/katerooney/Documents/DataAnalytics/The11thHour/DublinBusApp/data_analytics/Cleaning/re_constructed_Jan\n",
      "Extrating 238 from: /Users/katerooney/Documents/DataAnalytics/The11thHour/DublinBusApp/data_analytics/Cleaning/re_constructed_Nov\n",
      "Extrating 25X from: /Users/katerooney/Documents/DataAnalytics/The11thHour/DublinBusApp/data_analytics/Cleaning/re_constructed_Jan\n"
     ]
    },
    {
     "name": "stdout",
     "output_type": "stream",
     "text": [
      "Extrating 239 from: /Users/katerooney/Documents/DataAnalytics/The11thHour/DublinBusApp/data_analytics/Cleaning/re_constructed_Nov\n",
      "Extrating 26 from: /Users/katerooney/Documents/DataAnalytics/The11thHour/DublinBusApp/data_analytics/Cleaning/re_constructed_Jan\n",
      "Extrating 27 from: /Users/katerooney/Documents/DataAnalytics/The11thHour/DublinBusApp/data_analytics/Cleaning/re_constructed_Jan\n",
      "Extrating 25 from: /Users/katerooney/Documents/DataAnalytics/The11thHour/DublinBusApp/data_analytics/Cleaning/re_constructed_Nov\n",
      "Extrating 270 from: /Users/katerooney/Documents/DataAnalytics/The11thHour/DublinBusApp/data_analytics/Cleaning/re_constructed_Jan\n",
      "Extrating 25A from: /Users/katerooney/Documents/DataAnalytics/The11thHour/DublinBusApp/data_analytics/Cleaning/re_constructed_Nov\n",
      "Extrating 27A from: /Users/katerooney/Documents/DataAnalytics/The11thHour/DublinBusApp/data_analytics/Cleaning/re_constructed_Jan\n",
      "Extrating 25B from: /Users/katerooney/Documents/DataAnalytics/The11thHour/DublinBusApp/data_analytics/Cleaning/re_constructed_Nov\n",
      "Extrating 27B from: /Users/katerooney/Documents/DataAnalytics/The11thHour/DublinBusApp/data_analytics/Cleaning/re_constructed_Jan\n",
      "Extrating 27X from: /Users/katerooney/Documents/DataAnalytics/The11thHour/DublinBusApp/data_analytics/Cleaning/re_constructed_Jan\n",
      "Extrating 26 from: /Users/katerooney/Documents/DataAnalytics/The11thHour/DublinBusApp/data_analytics/Cleaning/re_constructed_Nov\n",
      "Extrating 29A from: /Users/katerooney/Documents/DataAnalytics/The11thHour/DublinBusApp/data_analytics/Cleaning/re_constructed_Jan\n",
      "Extrating 27 from: /Users/katerooney/Documents/DataAnalytics/The11thHour/DublinBusApp/data_analytics/Cleaning/re_constructed_Nov\n",
      "Extrating 31 from: /Users/katerooney/Documents/DataAnalytics/The11thHour/DublinBusApp/data_analytics/Cleaning/re_constructed_Jan\n",
      "Extrating 31A from: /Users/katerooney/Documents/DataAnalytics/The11thHour/DublinBusApp/data_analytics/Cleaning/re_constructed_Jan\n",
      "Extrating 270 from: /Users/katerooney/Documents/DataAnalytics/The11thHour/DublinBusApp/data_analytics/Cleaning/re_constructed_Nov\n",
      "Extrating 31B from: /Users/katerooney/Documents/DataAnalytics/The11thHour/DublinBusApp/data_analytics/Cleaning/re_constructed_Jan\n",
      "Extrating 27A from: /Users/katerooney/Documents/DataAnalytics/The11thHour/DublinBusApp/data_analytics/Cleaning/re_constructed_Nov\n",
      "Extrating 32 from: /Users/katerooney/Documents/DataAnalytics/The11thHour/DublinBusApp/data_analytics/Cleaning/re_constructed_Jan\n",
      "Extrating 27B from: /Users/katerooney/Documents/DataAnalytics/The11thHour/DublinBusApp/data_analytics/Cleaning/re_constructed_Nov\n",
      "Extrating 32X from: /Users/katerooney/Documents/DataAnalytics/The11thHour/DublinBusApp/data_analytics/Cleaning/re_constructed_Jan\n",
      "Extrating 33 from: /Users/katerooney/Documents/DataAnalytics/The11thHour/DublinBusApp/data_analytics/Cleaning/re_constructed_Jan\n",
      "Extrating 29A from: /Users/katerooney/Documents/DataAnalytics/The11thHour/DublinBusApp/data_analytics/Cleaning/re_constructed_Nov\n",
      "Extrating 33A from: /Users/katerooney/Documents/DataAnalytics/The11thHour/DublinBusApp/data_analytics/Cleaning/re_constructed_Jan\n",
      "Extrating 31 from: /Users/katerooney/Documents/DataAnalytics/The11thHour/DublinBusApp/data_analytics/Cleaning/re_constructed_Nov\n",
      "Extrating 33B from: /Users/katerooney/Documents/DataAnalytics/The11thHour/DublinBusApp/data_analytics/Cleaning/re_constructed_Jan\n",
      "Extrating 31A from: /Users/katerooney/Documents/DataAnalytics/The11thHour/DublinBusApp/data_analytics/Cleaning/re_constructed_Nov\n",
      "Extrating 33X from: /Users/katerooney/Documents/DataAnalytics/The11thHour/DublinBusApp/data_analytics/Cleaning/re_constructed_Jan\n",
      "Extrating 37 from: /Users/katerooney/Documents/DataAnalytics/The11thHour/DublinBusApp/data_analytics/Cleaning/re_constructed_Jan\n",
      "Extrating 32 from: /Users/katerooney/Documents/DataAnalytics/The11thHour/DublinBusApp/data_analytics/Cleaning/re_constructed_Nov\n",
      "Extrating 38 from: /Users/katerooney/Documents/DataAnalytics/The11thHour/DublinBusApp/data_analytics/Cleaning/re_constructed_Jan\n",
      "Extrating 33 from: /Users/katerooney/Documents/DataAnalytics/The11thHour/DublinBusApp/data_analytics/Cleaning/re_constructed_Nov\n",
      "Extrating 38A from: /Users/katerooney/Documents/DataAnalytics/The11thHour/DublinBusApp/data_analytics/Cleaning/re_constructed_Jan\n",
      "Extrating 33A from: /Users/katerooney/Documents/DataAnalytics/The11thHour/DublinBusApp/data_analytics/Cleaning/re_constructed_Nov\n",
      "Extrating 38B from: /Users/katerooney/Documents/DataAnalytics/The11thHour/DublinBusApp/data_analytics/Cleaning/re_constructed_Jan\n",
      "Extrating 39 from: /Users/katerooney/Documents/DataAnalytics/The11thHour/DublinBusApp/data_analytics/Cleaning/re_constructed_Jan\n",
      "Extrating 33B from: /Users/katerooney/Documents/DataAnalytics/The11thHour/DublinBusApp/data_analytics/Cleaning/re_constructed_Nov\n",
      "Extrating 39A from: /Users/katerooney/Documents/DataAnalytics/The11thHour/DublinBusApp/data_analytics/Cleaning/re_constructed_Jan\n",
      "Extrating 37 from: /Users/katerooney/Documents/DataAnalytics/The11thHour/DublinBusApp/data_analytics/Cleaning/re_constructed_Nov\n",
      "Extrating 4 from: /Users/katerooney/Documents/DataAnalytics/The11thHour/DublinBusApp/data_analytics/Cleaning/re_constructed_Jan\n",
      "Extrating 38 from: /Users/katerooney/Documents/DataAnalytics/The11thHour/DublinBusApp/data_analytics/Cleaning/re_constructed_Nov\n",
      "Extrating 40 from: /Users/katerooney/Documents/DataAnalytics/The11thHour/DublinBusApp/data_analytics/Cleaning/re_constructed_Jan\n",
      "Extrating 38A from: /Users/katerooney/Documents/DataAnalytics/The11thHour/DublinBusApp/data_analytics/Cleaning/re_constructed_Nov\n",
      "Extrating 40B from: /Users/katerooney/Documents/DataAnalytics/The11thHour/DublinBusApp/data_analytics/Cleaning/re_constructed_Jan\n",
      "Extrating 40D from: /Users/katerooney/Documents/DataAnalytics/The11thHour/DublinBusApp/data_analytics/Cleaning/re_constructed_Jan\n",
      "Extrating 39 from: /Users/katerooney/Documents/DataAnalytics/The11thHour/DublinBusApp/data_analytics/Cleaning/re_constructed_Nov\n",
      "Extrating 41 from: /Users/katerooney/Documents/DataAnalytics/The11thHour/DublinBusApp/data_analytics/Cleaning/re_constructed_Jan\n",
      "Extrating 39A from: /Users/katerooney/Documents/DataAnalytics/The11thHour/DublinBusApp/data_analytics/Cleaning/re_constructed_Nov\n",
      "Extrating 41A from: /Users/katerooney/Documents/DataAnalytics/The11thHour/DublinBusApp/data_analytics/Cleaning/re_constructed_Jan\n",
      "Extrating 41B from: /Users/katerooney/Documents/DataAnalytics/The11thHour/DublinBusApp/data_analytics/Cleaning/re_constructed_Jan\n",
      "Extrating 4 from: /Users/katerooney/Documents/DataAnalytics/The11thHour/DublinBusApp/data_analytics/Cleaning/re_constructed_Nov\n",
      "Extrating 41C from: /Users/katerooney/Documents/DataAnalytics/The11thHour/DublinBusApp/data_analytics/Cleaning/re_constructed_Jan\n",
      "Extrating 40 from: /Users/katerooney/Documents/DataAnalytics/The11thHour/DublinBusApp/data_analytics/Cleaning/re_constructed_Nov\n",
      "Extrating 41X from: /Users/katerooney/Documents/DataAnalytics/The11thHour/DublinBusApp/data_analytics/Cleaning/re_constructed_Jan\n",
      "Extrating 42 from: /Users/katerooney/Documents/DataAnalytics/The11thHour/DublinBusApp/data_analytics/Cleaning/re_constructed_Jan\n",
      "Extrating 40B from: /Users/katerooney/Documents/DataAnalytics/The11thHour/DublinBusApp/data_analytics/Cleaning/re_constructed_Nov\n",
      "Extrating 43 from: /Users/katerooney/Documents/DataAnalytics/The11thHour/DublinBusApp/data_analytics/Cleaning/re_constructed_Jan\n",
      "Extrating 40D from: /Users/katerooney/Documents/DataAnalytics/The11thHour/DublinBusApp/data_analytics/Cleaning/re_constructed_Nov\n",
      "Extrating 44 from: /Users/katerooney/Documents/DataAnalytics/The11thHour/DublinBusApp/data_analytics/Cleaning/re_constructed_Jan\n",
      "Extrating 44B from: /Users/katerooney/Documents/DataAnalytics/The11thHour/DublinBusApp/data_analytics/Cleaning/re_constructed_Jan\n",
      "Extrating 41 from: /Users/katerooney/Documents/DataAnalytics/The11thHour/DublinBusApp/data_analytics/Cleaning/re_constructed_Nov\n",
      "Extrating 45A from: /Users/katerooney/Documents/DataAnalytics/The11thHour/DublinBusApp/data_analytics/Cleaning/re_constructed_Jan\n",
      "Extrating 41B from: /Users/katerooney/Documents/DataAnalytics/The11thHour/DublinBusApp/data_analytics/Cleaning/re_constructed_Nov\n",
      "Extrating 46A from: /Users/katerooney/Documents/DataAnalytics/The11thHour/DublinBusApp/data_analytics/Cleaning/re_constructed_Jan\n"
     ]
    },
    {
     "name": "stdout",
     "output_type": "stream",
     "text": [
      "Extrating 41C from: /Users/katerooney/Documents/DataAnalytics/The11thHour/DublinBusApp/data_analytics/Cleaning/re_constructed_Nov\n",
      "Extrating 46E from: /Users/katerooney/Documents/DataAnalytics/The11thHour/DublinBusApp/data_analytics/Cleaning/re_constructed_Jan\n",
      "Extrating 42 from: /Users/katerooney/Documents/DataAnalytics/The11thHour/DublinBusApp/data_analytics/Cleaning/re_constructed_Nov\n",
      "Extrating 47 from: /Users/katerooney/Documents/DataAnalytics/The11thHour/DublinBusApp/data_analytics/Cleaning/re_constructed_Jan\n",
      "Extrating 49 from: /Users/katerooney/Documents/DataAnalytics/The11thHour/DublinBusApp/data_analytics/Cleaning/re_constructed_Jan\n",
      "Extrating 43 from: /Users/katerooney/Documents/DataAnalytics/The11thHour/DublinBusApp/data_analytics/Cleaning/re_constructed_Nov\n",
      "Extrating 51D from: /Users/katerooney/Documents/DataAnalytics/The11thHour/DublinBusApp/data_analytics/Cleaning/re_constructed_Jan\n",
      "Extrating 44 from: /Users/katerooney/Documents/DataAnalytics/The11thHour/DublinBusApp/data_analytics/Cleaning/re_constructed_Nov\n",
      "Extrating 51X from: /Users/katerooney/Documents/DataAnalytics/The11thHour/DublinBusApp/data_analytics/Cleaning/re_constructed_Jan\n",
      "Extrating 53 from: /Users/katerooney/Documents/DataAnalytics/The11thHour/DublinBusApp/data_analytics/Cleaning/re_constructed_Jan\n",
      "Extrating 45A from: /Users/katerooney/Documents/DataAnalytics/The11thHour/DublinBusApp/data_analytics/Cleaning/re_constructed_Nov\n",
      "Extrating 54A from: /Users/katerooney/Documents/DataAnalytics/The11thHour/DublinBusApp/data_analytics/Cleaning/re_constructed_Jan\n",
      "Extrating 46A from: /Users/katerooney/Documents/DataAnalytics/The11thHour/DublinBusApp/data_analytics/Cleaning/re_constructed_Nov\n",
      "Extrating 56A from: /Users/katerooney/Documents/DataAnalytics/The11thHour/DublinBusApp/data_analytics/Cleaning/re_constructed_Jan\n",
      "Extrating 59 from: /Users/katerooney/Documents/DataAnalytics/The11thHour/DublinBusApp/data_analytics/Cleaning/re_constructed_Jan\n",
      "Extrating 47 from: /Users/katerooney/Documents/DataAnalytics/The11thHour/DublinBusApp/data_analytics/Cleaning/re_constructed_Nov\n",
      "Extrating 61 from: /Users/katerooney/Documents/DataAnalytics/The11thHour/DublinBusApp/data_analytics/Cleaning/re_constructed_Jan\n",
      "Extrating 49 from: /Users/katerooney/Documents/DataAnalytics/The11thHour/DublinBusApp/data_analytics/Cleaning/re_constructed_Nov\n",
      "Extrating 63 from: /Users/katerooney/Documents/DataAnalytics/The11thHour/DublinBusApp/data_analytics/Cleaning/re_constructed_Jan\n",
      "Extrating 53 from: /Users/katerooney/Documents/DataAnalytics/The11thHour/DublinBusApp/data_analytics/Cleaning/re_constructed_Nov\n",
      "Extrating 65 from: /Users/katerooney/Documents/DataAnalytics/The11thHour/DublinBusApp/data_analytics/Cleaning/re_constructed_Jan\n",
      "Extrating 65B from: /Users/katerooney/Documents/DataAnalytics/The11thHour/DublinBusApp/data_analytics/Cleaning/re_constructed_Jan\n",
      "Extrating 54A from: /Users/katerooney/Documents/DataAnalytics/The11thHour/DublinBusApp/data_analytics/Cleaning/re_constructed_Nov\n",
      "Extrating 66 from: /Users/katerooney/Documents/DataAnalytics/The11thHour/DublinBusApp/data_analytics/Cleaning/re_constructed_Jan\n",
      "Extrating 56A from: /Users/katerooney/Documents/DataAnalytics/The11thHour/DublinBusApp/data_analytics/Cleaning/re_constructed_Nov\n",
      "Extrating 66A from: /Users/katerooney/Documents/DataAnalytics/The11thHour/DublinBusApp/data_analytics/Cleaning/re_constructed_Jan\n",
      "Extrating 59 from: /Users/katerooney/Documents/DataAnalytics/The11thHour/DublinBusApp/data_analytics/Cleaning/re_constructed_Nov\n",
      "Extrating 66B from: /Users/katerooney/Documents/DataAnalytics/The11thHour/DublinBusApp/data_analytics/Cleaning/re_constructed_Jan\n",
      "Extrating 66X from: /Users/katerooney/Documents/DataAnalytics/The11thHour/DublinBusApp/data_analytics/Cleaning/re_constructed_Jan\n",
      "Extrating 61 from: /Users/katerooney/Documents/DataAnalytics/The11thHour/DublinBusApp/data_analytics/Cleaning/re_constructed_Nov\n",
      "Extrating 67 from: /Users/katerooney/Documents/DataAnalytics/The11thHour/DublinBusApp/data_analytics/Cleaning/re_constructed_Jan\n",
      "Extrating 63 from: /Users/katerooney/Documents/DataAnalytics/The11thHour/DublinBusApp/data_analytics/Cleaning/re_constructed_Nov\n",
      "Extrating 67X from: /Users/katerooney/Documents/DataAnalytics/The11thHour/DublinBusApp/data_analytics/Cleaning/re_constructed_Jan\n",
      "Extrating 65 from: /Users/katerooney/Documents/DataAnalytics/The11thHour/DublinBusApp/data_analytics/Cleaning/re_constructed_Nov\n",
      "Extrating 68 from: /Users/katerooney/Documents/DataAnalytics/The11thHour/DublinBusApp/data_analytics/Cleaning/re_constructed_Jan\n",
      "Extrating 68A from: /Users/katerooney/Documents/DataAnalytics/The11thHour/DublinBusApp/data_analytics/Cleaning/re_constructed_Jan\n",
      "Extrating 65B from: /Users/katerooney/Documents/DataAnalytics/The11thHour/DublinBusApp/data_analytics/Cleaning/re_constructed_Nov\n",
      "Extrating 69 from: /Users/katerooney/Documents/DataAnalytics/The11thHour/DublinBusApp/data_analytics/Cleaning/re_constructed_Jan\n",
      "Extrating 66 from: /Users/katerooney/Documents/DataAnalytics/The11thHour/DublinBusApp/data_analytics/Cleaning/re_constructed_Nov\n",
      "Extrating 69X from: /Users/katerooney/Documents/DataAnalytics/The11thHour/DublinBusApp/data_analytics/Cleaning/re_constructed_Jan\n",
      "Extrating 7 from: /Users/katerooney/Documents/DataAnalytics/The11thHour/DublinBusApp/data_analytics/Cleaning/re_constructed_Jan\n",
      "Extrating 66A from: /Users/katerooney/Documents/DataAnalytics/The11thHour/DublinBusApp/data_analytics/Cleaning/re_constructed_Nov\n",
      "Extrating 70 from: /Users/katerooney/Documents/DataAnalytics/The11thHour/DublinBusApp/data_analytics/Cleaning/re_constructed_Jan\n",
      "Extrating 66B from: /Users/katerooney/Documents/DataAnalytics/The11thHour/DublinBusApp/data_analytics/Cleaning/re_constructed_Nov\n",
      "Extrating 747 from: /Users/katerooney/Documents/DataAnalytics/The11thHour/DublinBusApp/data_analytics/Cleaning/re_constructed_Jan\n",
      "Extrating 67 from: /Users/katerooney/Documents/DataAnalytics/The11thHour/DublinBusApp/data_analytics/Cleaning/re_constructed_Nov\n",
      "Extrating 75 from: /Users/katerooney/Documents/DataAnalytics/The11thHour/DublinBusApp/data_analytics/Cleaning/re_constructed_Jan\n",
      "Extrating 76 from: /Users/katerooney/Documents/DataAnalytics/The11thHour/DublinBusApp/data_analytics/Cleaning/re_constructed_Jan\n",
      "Extrating 68 from: /Users/katerooney/Documents/DataAnalytics/The11thHour/DublinBusApp/data_analytics/Cleaning/re_constructed_Nov\n",
      "Extrating 76A from: /Users/katerooney/Documents/DataAnalytics/The11thHour/DublinBusApp/data_analytics/Cleaning/re_constructed_Jan\n",
      "Extrating 69 from: /Users/katerooney/Documents/DataAnalytics/The11thHour/DublinBusApp/data_analytics/Cleaning/re_constructed_Nov\n",
      "Extrating 77A from: /Users/katerooney/Documents/DataAnalytics/The11thHour/DublinBusApp/data_analytics/Cleaning/re_constructed_Jan\n",
      "Extrating 7 from: /Users/katerooney/Documents/DataAnalytics/The11thHour/DublinBusApp/data_analytics/Cleaning/re_constructed_Nov\n",
      "Extrating 79 from: /Users/katerooney/Documents/DataAnalytics/The11thHour/DublinBusApp/data_analytics/Cleaning/re_constructed_Jan\n",
      "Extrating 79A from: /Users/katerooney/Documents/DataAnalytics/The11thHour/DublinBusApp/data_analytics/Cleaning/re_constructed_Jan\n",
      "Extrating 70 from: /Users/katerooney/Documents/DataAnalytics/The11thHour/DublinBusApp/data_analytics/Cleaning/re_constructed_Nov\n",
      "Extrating 7B from: /Users/katerooney/Documents/DataAnalytics/The11thHour/DublinBusApp/data_analytics/Cleaning/re_constructed_Jan\n",
      "Extrating 747 from: /Users/katerooney/Documents/DataAnalytics/The11thHour/DublinBusApp/data_analytics/Cleaning/re_constructed_Nov\n",
      "Extrating 7D from: /Users/katerooney/Documents/DataAnalytics/The11thHour/DublinBusApp/data_analytics/Cleaning/re_constructed_Jan\n",
      "Extrating 75 from: /Users/katerooney/Documents/DataAnalytics/The11thHour/DublinBusApp/data_analytics/Cleaning/re_constructed_Nov\n",
      "Extrating 8 from: /Users/katerooney/Documents/DataAnalytics/The11thHour/DublinBusApp/data_analytics/Cleaning/re_constructed_Jan\n",
      "Extrating 83 from: /Users/katerooney/Documents/DataAnalytics/The11thHour/DublinBusApp/data_analytics/Cleaning/re_constructed_Jan\n",
      "Extrating 76 from: /Users/katerooney/Documents/DataAnalytics/The11thHour/DublinBusApp/data_analytics/Cleaning/re_constructed_Nov\n",
      "Extrating 83A from: /Users/katerooney/Documents/DataAnalytics/The11thHour/DublinBusApp/data_analytics/Cleaning/re_constructed_Jan\n"
     ]
    },
    {
     "name": "stdout",
     "output_type": "stream",
     "text": [
      "Extrating 77A from: /Users/katerooney/Documents/DataAnalytics/The11thHour/DublinBusApp/data_analytics/Cleaning/re_constructed_Nov\n",
      "Extrating 84 from: /Users/katerooney/Documents/DataAnalytics/The11thHour/DublinBusApp/data_analytics/Cleaning/re_constructed_Jan\n",
      "Extrating 79 from: /Users/katerooney/Documents/DataAnalytics/The11thHour/DublinBusApp/data_analytics/Cleaning/re_constructed_Nov\n",
      "Extrating 84A from: /Users/katerooney/Documents/DataAnalytics/The11thHour/DublinBusApp/data_analytics/Cleaning/re_constructed_Jan\n",
      "Extrating 84X from: /Users/katerooney/Documents/DataAnalytics/The11thHour/DublinBusApp/data_analytics/Cleaning/re_constructed_Jan\n",
      "Extrating 79A from: /Users/katerooney/Documents/DataAnalytics/The11thHour/DublinBusApp/data_analytics/Cleaning/re_constructed_Nov\n",
      "Extrating 9 from: /Users/katerooney/Documents/DataAnalytics/The11thHour/DublinBusApp/data_analytics/Cleaning/re_constructed_Jan\n",
      "Extrating 7D from: /Users/katerooney/Documents/DataAnalytics/The11thHour/DublinBusApp/data_analytics/Cleaning/re_constructed_Nov\n",
      "Extrating 83 from: /Users/katerooney/Documents/DataAnalytics/The11thHour/DublinBusApp/data_analytics/Cleaning/re_constructed_Nov\n",
      "Extrating 83A from: /Users/katerooney/Documents/DataAnalytics/The11thHour/DublinBusApp/data_analytics/Cleaning/re_constructed_Nov\n",
      "Extrating 84 from: /Users/katerooney/Documents/DataAnalytics/The11thHour/DublinBusApp/data_analytics/Cleaning/re_constructed_Nov\n",
      "Extrating 9 from: /Users/katerooney/Documents/DataAnalytics/The11thHour/DublinBusApp/data_analytics/Cleaning/re_constructed_Nov\n",
      "Result:  ['Success', 'Success']\n",
      "CPU times: user 286 ms, sys: 123 ms, total: 408 ms\n",
      "Wall time: 9min 7s\n"
     ]
    }
   ],
   "source": [
    "%%time\n",
    "pool = Pool(processes=2) # initialize the Pool.\n",
    "months=[\"Jan\", \"Nov\"]\n",
    "result = pool.map(cleaning_functions.complete_extraction, months)       # map f to the data using the Pool of processes to do the work \n",
    "pool.close() # No more processes\n",
    "pool.join()\n",
    "print(\"Result: \", result)"
   ]
  },
  {
   "cell_type": "code",
   "execution_count": 4,
   "metadata": {
    "collapsed": true
   },
   "outputs": [],
   "source": [
    "def make_speed_check():\n",
    "    sequence_dataframe = pd.read_csv(\"route_seq.csv\",\n",
    "                                     encoding = \"latin1\",\n",
    "                                     header = 0,\n",
    "                                     index_col = None,\n",
    "                                     converters = {\"LineID\":str,\n",
    "                                                   \"Stop_ID\":str,\n",
    "                                                   \"Stop_Sequence\": str})\n",
    "    \n",
    "    \n",
    "    sequence_dataframe = sequence_dataframe[[\"LineID\",\n",
    "                                             \"Stop_ID\",\n",
    "                                             \"Stop_Sequence\",\n",
    "                                             \"Destination\"]]\n",
    "\n",
    "    LIDS = set( sequence_dataframe.LineID.unique())\n",
    "\n",
    "    for LID in LIDS:\n",
    "\n",
    "        DIRS = set (sequence_dataframe[sequence_dataframe[\"LineID\"] == LID].Destination.unique())\n",
    "        for DIR in DIRS:\n",
    "            SIDS = set (sequence_dataframe[(sequence_dataframe[\"LineID\"] == LID) &\\\n",
    "                                           (sequence_dataframe[\"Destination\"]==DIR)].Stop_ID.unique())\n",
    "            for SID in SIDS:\n",
    "                SEQS = set(sequence_dataframe[(sequence_dataframe[\"LineID\"]==LID) &\\\n",
    "                                              (sequence_dataframe[\"Destination\"]==DIR) &\\\n",
    "                                              (sequence_dataframe[\"Stop_ID\"] == SID)].Stop_Sequence.unique())\n",
    "                if len(SEQS) != 1:\n",
    "                    print(\"Problem:\", LID,\":\", DIR, SID, SEQS)\n",
    "\n",
    "\n",
    "    \n"
   ]
  },
  {
   "cell_type": "code",
   "execution_count": 5,
   "metadata": {},
   "outputs": [
    {
     "name": "stdout",
     "output_type": "stream",
     "text": [
      "Problem: 747 : Heuston Stn 7399 {'8', '9'}\n",
      "Problem: 747 : Heuston Stn 7397 {'13', '12'}\n",
      "Problem: 747 : Heuston Stn 4521 {'21', '20'}\n",
      "Problem: 747 : Heuston Stn 6032 {'17', '18'}\n",
      "Problem: 236 : Blanchardstown SC 4747 {'16', '1'}\n"
     ]
    }
   ],
   "source": [
    "make_speed_check()"
   ]
  },
  {
   "cell_type": "markdown",
   "metadata": {},
   "source": []
  },
  {
   "cell_type": "markdown",
   "metadata": {},
   "source": [
    "\n",
    "\n",
    "Only the FINAL outputs appear as cell output, but you can track progress in the ipy terminal. (if you activate jupyter notebook withing terminal you will see outputs such as print statements running in each function.) When multiprocessing  you can expect 4 outputs to occur simultaneously. \n",
    "\n",
    "e.g.\n",
    "reconstucting x\n",
    "reconstucting y\n",
    "reconstucting a\n",
    "reconstucting b\n",
    "\n"
   ]
  }
 ],
 "metadata": {
  "kernelspec": {
   "display_name": "Python 3",
   "language": "python",
   "name": "python3"
  },
  "language_info": {
   "codemirror_mode": {
    "name": "ipython",
    "version": 3
   },
   "file_extension": ".py",
   "mimetype": "text/x-python",
   "name": "python",
   "nbconvert_exporter": "python",
   "pygments_lexer": "ipython3",
   "version": "3.6.1"
  }
 },
 "nbformat": 4,
 "nbformat_minor": 2
}
