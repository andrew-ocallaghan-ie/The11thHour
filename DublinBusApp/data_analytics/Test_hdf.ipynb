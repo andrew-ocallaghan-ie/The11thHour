<<<<<<< HEAD
{
 "cells": [
  {
   "cell_type": "code",
   "execution_count": 1,
   "metadata": {
    "collapsed": true
   },
   "outputs": [],
   "source": [
    "import pandas as pd\n",
    "import numpy as np\n",
    "import os"
   ]
  },
  {
   "cell_type": "code",
   "execution_count": 2,
   "metadata": {
    "collapsed": false
   },
   "outputs": [],
   "source": [
    "# %%time\n",
    "# df = pd.read_csv(\"siri.20130101.csv\")\n",
    "# df.to_csv(\"siri.20130101.csv\")\n",
    "# # df_hdf = read_hdf(\"test\")\n",
    "# df"
   ]
  },
  {
   "cell_type": "code",
   "execution_count": 3,
   "metadata": {
    "collapsed": false
   },
   "outputs": [],
   "source": [
    "# %%time\n",
    "# df.to_hdf(\"test\", key=\"moo\", mode=\"a\")\n",
    "# test = pd.read_hdf(\"test\")\n",
    "# test"
   ]
  },
  {
   "cell_type": "code",
   "execution_count": 4,
   "metadata": {
    "collapsed": false
   },
   "outputs": [
    {
     "name": "stdout",
     "output_type": "stream",
     "text": [
      "route_times\n",
      "  Route  Scheduled_Time_OP Notes\n",
      "0     1                 45   NaN\n",
      "1     4                 60   NaN\n",
      "2     7                 80   NaN\n",
      "3    7A                 80   NaN\n",
      "4    7B                 80   NaN\n",
      "stops\n",
      "  Route  First_1 First_2  First_3  Last_1  Last_2  Last_3  \\\n",
      "0     1      381     382     4451     226     225     224   \n",
      "1     1      226     228      229     380     378     377   \n",
      "2     4     7330    2051     6086     332     323     322   \n",
      "3     4      324     327     7113    7660    7226    2026   \n",
      "4     7     7639    7640     5047       4     281     400   \n",
      "\n",
      "                                          Direction   \\\n",
      "0  From Sandymount (St. John's Church) Towards Sa...   \n",
      "1  From Santry (Shanard Rd.) To Sandymount (St. J...   \n",
      "2                From Monkstown Avenue To Harristown   \n",
      "3                From Harristown To Monkstown Avenue   \n",
      "4              From Brides Glen Luas To Mountjoy Sq.   \n",
      "\n",
      "                          Notes for route as at 2012  *Stops as at 2017  \n",
      "0                                                NaN                NaN  \n",
      "1                                                NaN                NaN  \n",
      "2                                                NaN                NaN  \n",
      "3                                                NaN                NaN  \n",
      "4  Brides Glen Luas not open, used to stop at Lou...                NaN  \n",
      "weather\n",
      "               Time  Rain  Temperature  Wind_Speed\n",
      "0  01/11/2012 00:00   0.0          2.4           6\n",
      "1  01/11/2012 01:00   0.0          1.7           7\n",
      "2  01/11/2012 02:00   0.0          1.1           7\n",
      "3  01/11/2012 03:00   0.0          0.7           7\n",
      "4  01/11/2012 04:00   0.0          0.6           8\n",
      "Wall time: 220 ms\n"
     ]
    },
    {
     "name": "stderr",
     "output_type": "stream",
     "text": [
      "C:\\Users\\Andy\\Anaconda3\\lib\\site-packages\\pandas\\core\\generic.py:1299: PerformanceWarning: \n",
      "your performance may suffer as PyTables will pickle object types that it cannot\n",
      "map directly to c-types [inferred_type->mixed,key->block1_values] [items->['Route', 'Notes']]\n",
      "\n",
      "  return pytables.to_hdf(path_or_buf, key, self, **kwargs)\n",
      "C:\\Users\\Andy\\Anaconda3\\lib\\site-packages\\pandas\\core\\generic.py:1299: PerformanceWarning: \n",
      "your performance may suffer as PyTables will pickle object types that it cannot\n",
      "map directly to c-types [inferred_type->mixed,key->block2_values] [items->['Route', 'First_2', 'Direction ', 'Notes for route as at 2012']]\n",
      "\n",
      "  return pytables.to_hdf(path_or_buf, key, self, **kwargs)\n"
     ]
    }
   ],
   "source": [
    "%%time\n",
    "def converter():\n",
    "    csvs = [\"route_times.csv\", \"stops.csv\", \"weather.csv\"]\n",
    "    for csv in csvs:\n",
    "        print(csv[:-4])\n",
    "        df = pd.read_csv(csv,\n",
    "                    encoding=\"utf-8\",\n",
    "                    header = 0,\n",
    "                    index_col = None)\n",
    "        df.to_hdf(csv[:-4], mode=\"w\", key=\"moo\")\n",
    "        print(df.head())\n",
    "    \n",
    "    df = pd.read_csv(\"route_seq.csv\",\n",
    "                     encoding = \"latin1\",\n",
    "                     header = 0,\n",
    "                     index_col = None,\n",
    "                     converters = {\"LineID\":str})\n",
    "    df.to_hdf(\"route_seq\", mode = \"w\", key=\"moo\")\n",
    "    \n",
    "    return df\n",
    "    #     for csv in csvs:\n",
    "#         df = pd.read_csv(csv)\n",
    "\n",
    "converter()"
   ]
  },
  {
   "cell_type": "code",
   "execution_count": 4,
   "metadata": {
    "collapsed": false
   },
   "outputs": [
    {
     "name": "stdout",
     "output_type": "stream",
     "text": [
      "  LineID Direction  Day_Of_Week Hour Time_Bin_Start  Journey_Time  Holiday  \\\n",
      "0     41         0            1   45          45110          31.0        1   \n",
      "1     41         0            1   50          50111          31.0        1   \n",
      "2     41         0            1   51          51111          31.0        1   \n",
      "3    747         1            1   54          54111          46.0        1   \n",
      "4     41         0            1   56          56111          31.0        1   \n",
      "\n",
      "   Scheduled_Time_OP  Time_Traveling  Stop_Sequence  Late  Stops_To_Travel  \\\n",
      "0                 68             0.0              7     0               43   \n",
      "1                 68             5.0             17     0               43   \n",
      "2                 68             6.0             18     0               43   \n",
      "3                 60             0.0              1     0               23   \n",
      "4                 68            11.0             23     0               43   \n",
      "\n",
      "   Time_To_Travel  Scheduled_Speed_Per_Stop  Rain  Temperature  Wind_Speed  \\\n",
      "0            31.0                      1.36   0.0          1.9          16   \n",
      "1            26.0                      1.36   0.0          1.9          16   \n",
      "2            25.0                      1.36   0.0          1.9          16   \n",
      "3            46.0                      2.50   0.0          1.9          16   \n",
      "4            20.0                      1.36   0.0          1.9          16   \n",
      "\n",
      "   Hour_Of_Day  \n",
      "0            6  \n",
      "1            6  \n",
      "2            6  \n",
      "3            6  \n",
      "4            6  \n"
     ]
    }
   ],
   "source": [
    "df = pd.read_hdf(\"re_con_Jan\\\\siri.20130101.h5\")\n",
    "print(df.head())\n"
   ]
  },
  {
   "cell_type": "code",
   "execution_count": 8,
   "metadata": {
    "collapsed": false
   },
   "outputs": [
    {
     "data": {
      "text/plain": [
       "Index(['Timestamp', 'LineID', 'Direction', 'Journey_Pattern_ID', 'Timeframe',\n",
       "       'Vehicle_Journey_ID', 'Operator', 'Congestion', 'Lon', 'Lat', 'Delay',\n",
       "       'Block_ID', 'Vehicle_ID', 'Stop_ID', 'At_Stop'],\n",
       "      dtype='object')"
      ]
     },
     "execution_count": 8,
     "metadata": {},
     "output_type": "execute_result"
    }
   ],
   "source": [
    "df.columns"
   ]
  },
  {
   "cell_type": "code",
   "execution_count": 9,
   "metadata": {
    "collapsed": false
   },
   "outputs": [
    {
     "data": {
      "text/plain": [
       "0"
      ]
     },
     "execution_count": 9,
     "metadata": {},
     "output_type": "execute_result"
    }
   ],
   "source": [
    "NovJan_path = os.path.join(os.getcwd(),\"NovJan_routes\")\n",
    "contents = os.listdir(NovJan_path)\n",
    "check_list = []\n",
    "for i in contents:\n",
    "    path_to_file = os.path.join(NovJan_path, i)\n",
    "    df = pd.read_hdf(path_to_file)\n",
    "    print(df.shape, i)\n",
    "    check_list.append(df.shape[0])\n",
    "sum(check_list)    "
   ]
  },
  {
   "cell_type": "code",
   "execution_count": 5,
   "metadata": {
    "collapsed": false
   },
   "outputs": [
    {
     "name": "stdout",
     "output_type": "stream",
     "text": [
      "(87341, 18) siri.20121106.h5\n",
      "(88713, 18) siri.20121107.h5\n",
      "(89436, 18) siri.20121108.h5\n",
      "(87373, 18) siri.20121109.h5\n",
      "(55539, 18) siri.20121110.h5\n",
      "(36974, 18) siri.20121111.h5\n",
      "(87274, 18) siri.20121112.h5\n",
      "(87494, 18) siri.20121113.h5\n",
      "(89084, 18) siri.20121114.h5\n",
      "(90269, 18) siri.20121115.h5\n",
      "(89635, 18) siri.20121116.h5\n",
      "(54338, 18) siri.20121117.h5\n",
      "(35732, 18) siri.20121118.h5\n",
      "(84522, 18) siri.20121119.h5\n",
      "(87039, 18) siri.20121120.h5\n",
      "(84832, 18) siri.20121121.h5\n",
      "(85790, 18) siri.20121122.h5\n",
      "(87741, 18) siri.20121123.h5\n",
      "(46323, 18) siri.20121124.h5\n",
      "(34610, 18) siri.20121125.h5\n",
      "(85755, 18) siri.20121126.h5\n",
      "(87780, 18) siri.20121127.h5\n",
      "(83572, 18) siri.20121128.h5\n",
      "(87961, 18) siri.20121129.h5\n",
      "(74592, 18) siri.20121130.h5\n"
     ]
    },
    {
     "data": {
      "text/plain": [
       "1909719"
      ]
     },
     "execution_count": 5,
     "metadata": {},
     "output_type": "execute_result"
    }
   ],
   "source": [
    "NovJan_path = os.path.join(os.getcwd(),\"re_con_Nov\")\n",
    "contents = os.listdir(NovJan_path)\n",
    "check_list = []\n",
    "for i in contents:\n",
    "    path_to_file = os.path.join(NovJan_path, i)\n",
    "    df = pd.read_hdf(path_to_file)\n",
    "    print(df.shape, i)\n",
    "    check_list.append(df.shape[0])\n",
    "sum(check_list)    "
   ]
  },
  {
   "cell_type": "code",
   "execution_count": 7,
   "metadata": {
    "collapsed": false
   },
   "outputs": [
    {
     "name": "stdout",
     "output_type": "stream",
     "text": [
      "(28463, 18) siri.20130101.h5\n",
      "(73666, 18) siri.20130102.h5\n",
      "(77625, 18) siri.20130103.h5\n",
      "(78728, 18) siri.20130104.h5\n",
      "(50746, 18) siri.20130105.h5\n",
      "(34090, 18) siri.20130106.h5\n",
      "(80992, 18) siri.20130107.h5\n",
      "(82433, 18) siri.20130108.h5\n",
      "(83307, 18) siri.20130109.h5\n",
      "(84130, 18) siri.20130110.h5\n",
      "(87182, 18) siri.20130111.h5\n",
      "(54472, 18) siri.20130112.h5\n",
      "(34068, 18) siri.20130113.h5\n",
      "(82672, 18) siri.20130114.h5\n",
      "(84552, 18) siri.20130115.h5\n",
      "(83937, 18) siri.20130116.h5\n",
      "(85389, 18) siri.20130117.h5\n",
      "(77851, 18) siri.20130118.h5\n",
      "(53667, 18) siri.20130119.h5\n",
      "(34150, 18) siri.20130120.h5\n",
      "(80890, 18) siri.20130121.h5\n",
      "(84617, 18) siri.20130122.h5\n",
      "(79174, 18) siri.20130123.h5\n",
      "(85058, 18) siri.20130124.h5\n",
      "(83204, 18) siri.20130125.h5\n",
      "(55035, 18) siri.20130126.h5\n",
      "(34276, 18) siri.20130127.h5\n",
      "(80777, 18) siri.20130128.h5\n",
      "(83250, 18) siri.20130129.h5\n",
      "(45987, 18) siri.20130130.h5\n"
     ]
    },
    {
     "data": {
      "text/plain": [
       "2064388"
      ]
     },
     "execution_count": 7,
     "metadata": {},
     "output_type": "execute_result"
    }
   ],
   "source": [
    "NovJan_path = os.path.join(os.getcwd(),\"re_con_Jan\")\n",
    "contents = os.listdir(NovJan_path)\n",
    "check_list = []\n",
    "for i in contents:\n",
    "    path_to_file = os.path.join(NovJan_path, i)\n",
    "    df = pd.read_hdf(path_to_file)\n",
    "    print(df.shape, i)\n",
    "    check_list.append(df.shape[0])\n",
    "sum(check_list)   "
   ]
  },
  {
   "cell_type": "code",
   "execution_count": null,
   "metadata": {
    "collapsed": true
   },
   "outputs": [],
   "source": []
  }
 ],
 "metadata": {
  "kernelspec": {
   "display_name": "Python 3",
   "language": "python",
   "name": "python3"
  },
  "language_info": {
   "codemirror_mode": {
    "name": "ipython",
    "version": 3
   },
   "file_extension": ".py",
   "mimetype": "text/x-python",
   "name": "python",
   "nbconvert_exporter": "python",
   "pygments_lexer": "ipython3",
   "version": "3.6.0"
  }
 },
 "nbformat": 4,
 "nbformat_minor": 2
}
=======
{
 "cells": [
  {
   "cell_type": "code",
   "execution_count": 1,
   "metadata": {
    "collapsed": true
   },
   "outputs": [],
   "source": [
    "import pandas as pd\n",
    "import numpy as np\n",
    "import os"
   ]
  },
  {
   "cell_type": "code",
   "execution_count": 2,
   "metadata": {
    "collapsed": false
   },
   "outputs": [],
   "source": [
    "# %%time\n",
    "# df = pd.read_csv(\"siri.20130101.csv\")\n",
    "# df.to_csv(\"siri.20130101.csv\")\n",
    "# # df_hdf = read_hdf(\"test\")\n",
    "# df"
   ]
  },
  {
   "cell_type": "code",
   "execution_count": 3,
   "metadata": {
    "collapsed": false
   },
   "outputs": [],
   "source": [
    "# %%time\n",
    "# df.to_hdf(\"test\", key=\"moo\", mode=\"a\")\n",
    "# test = pd.read_hdf(\"test\")\n",
    "# test"
   ]
  },
  {
   "cell_type": "code",
   "execution_count": 4,
   "metadata": {
    "collapsed": false
   },
   "outputs": [
    {
     "name": "stdout",
     "output_type": "stream",
     "text": [
      "route_times\n",
      "  Route  Scheduled_Time_OP Notes\n",
      "0     1                 45   NaN\n",
      "1     4                 60   NaN\n",
      "2     7                 80   NaN\n",
      "3    7A                 80   NaN\n",
      "4    7B                 80   NaN\n",
      "stops\n",
      "  Route  First_1 First_2  First_3  Last_1  Last_2  Last_3  \\\n",
      "0     1      381     382     4451     226     225     224   \n",
      "1     1      226     228      229     380     378     377   \n",
      "2     4     7330    2051     6086     332     323     322   \n",
      "3     4      324     327     7113    7660    7226    2026   \n",
      "4     7     7639    7640     5047       4     281     400   \n",
      "\n",
      "                                          Direction   \\\n",
      "0  From Sandymount (St. John's Church) Towards Sa...   \n",
      "1  From Santry (Shanard Rd.) To Sandymount (St. J...   \n",
      "2                From Monkstown Avenue To Harristown   \n",
      "3                From Harristown To Monkstown Avenue   \n",
      "4              From Brides Glen Luas To Mountjoy Sq.   \n",
      "\n",
      "                          Notes for route as at 2012  *Stops as at 2017  \n",
      "0                                                NaN                NaN  \n",
      "1                                                NaN                NaN  \n",
      "2                                                NaN                NaN  \n",
      "3                                                NaN                NaN  \n",
      "4  Brides Glen Luas not open, used to stop at Lou...                NaN  \n",
      "weather\n",
      "               Time  Rain  Temperature  Wind_Speed\n",
      "0  01/11/2012 00:00   0.0          2.4           6\n",
      "1  01/11/2012 01:00   0.0          1.7           7\n",
      "2  01/11/2012 02:00   0.0          1.1           7\n",
      "3  01/11/2012 03:00   0.0          0.7           7\n",
      "4  01/11/2012 04:00   0.0          0.6           8\n",
      "Wall time: 220 ms\n"
     ]
    },
    {
     "name": "stderr",
     "output_type": "stream",
     "text": [
      "C:\\Users\\Andy\\Anaconda3\\lib\\site-packages\\pandas\\core\\generic.py:1299: PerformanceWarning: \n",
      "your performance may suffer as PyTables will pickle object types that it cannot\n",
      "map directly to c-types [inferred_type->mixed,key->block1_values] [items->['Route', 'Notes']]\n",
      "\n",
      "  return pytables.to_hdf(path_or_buf, key, self, **kwargs)\n",
      "C:\\Users\\Andy\\Anaconda3\\lib\\site-packages\\pandas\\core\\generic.py:1299: PerformanceWarning: \n",
      "your performance may suffer as PyTables will pickle object types that it cannot\n",
      "map directly to c-types [inferred_type->mixed,key->block2_values] [items->['Route', 'First_2', 'Direction ', 'Notes for route as at 2012']]\n",
      "\n",
      "  return pytables.to_hdf(path_or_buf, key, self, **kwargs)\n"
     ]
    }
   ],
   "source": [
    "%%time\n",
    "def converter():\n",
    "    csvs = [\"route_times.csv\", \"stops.csv\", \"weather.csv\"]\n",
    "    for csv in csvs:\n",
    "        print(csv[:-4])\n",
    "        df = pd.read_csv(csv,\n",
    "                    encoding=\"utf-8\",\n",
    "                    header = 0,\n",
    "                    index_col = None)\n",
    "        df.to_hdf(csv[:-4], mode=\"w\", key=\"moo\")\n",
    "        print(df.head())\n",
    "    \n",
    "    df = pd.read_csv(\"route_seq.csv\",\n",
    "                     encoding = \"latin1\",\n",
    "                     header = 0,\n",
    "                     index_col = None,\n",
    "                     converters = {\"LineID\":str})\n",
    "    df.to_hdf(\"route_seq\", mode = \"w\", key=\"moo\")\n",
    "    \n",
    "    return df\n",
    "    #     for csv in csvs:\n",
    "#         df = pd.read_csv(csv)\n",
    "\n",
    "converter()"
   ]
  },
  {
   "cell_type": "code",
   "execution_count": 4,
   "metadata": {
    "collapsed": false
   },
   "outputs": [
    {
     "name": "stdout",
     "output_type": "stream",
     "text": [
      "  LineID Direction  Day_Of_Week Hour Time_Bin_Start  Journey_Time  Holiday  \\\n",
      "0     41         0            1   45          45110          31.0        1   \n",
      "1     41         0            1   50          50111          31.0        1   \n",
      "2     41         0            1   51          51111          31.0        1   \n",
      "3    747         1            1   54          54111          46.0        1   \n",
      "4     41         0            1   56          56111          31.0        1   \n",
      "\n",
      "   Scheduled_Time_OP  Time_Traveling  Stop_Sequence  Late  Stops_To_Travel  \\\n",
      "0                 68             0.0              7     0               43   \n",
      "1                 68             5.0             17     0               43   \n",
      "2                 68             6.0             18     0               43   \n",
      "3                 60             0.0              1     0               23   \n",
      "4                 68            11.0             23     0               43   \n",
      "\n",
      "   Time_To_Travel  Scheduled_Speed_Per_Stop  Rain  Temperature  Wind_Speed  \\\n",
      "0            31.0                      1.36   0.0          1.9          16   \n",
      "1            26.0                      1.36   0.0          1.9          16   \n",
      "2            25.0                      1.36   0.0          1.9          16   \n",
      "3            46.0                      2.50   0.0          1.9          16   \n",
      "4            20.0                      1.36   0.0          1.9          16   \n",
      "\n",
      "   Hour_Of_Day  \n",
      "0            6  \n",
      "1            6  \n",
      "2            6  \n",
      "3            6  \n",
      "4            6  \n"
     ]
    }
   ],
   "source": [
    "df = pd.read_hdf(\"re_con_Jan\\\\siri.20130101.h5\")\n",
    "print(df.head())\n"
   ]
  },
  {
   "cell_type": "code",
   "execution_count": 8,
   "metadata": {
    "collapsed": false
   },
   "outputs": [
    {
     "data": {
      "text/plain": [
       "Index(['Timestamp', 'LineID', 'Direction', 'Journey_Pattern_ID', 'Timeframe',\n",
       "       'Vehicle_Journey_ID', 'Operator', 'Congestion', 'Lon', 'Lat', 'Delay',\n",
       "       'Block_ID', 'Vehicle_ID', 'Stop_ID', 'At_Stop'],\n",
       "      dtype='object')"
      ]
     },
     "execution_count": 8,
     "metadata": {},
     "output_type": "execute_result"
    }
   ],
   "source": [
    "df.columns"
   ]
  },
  {
   "cell_type": "code",
   "execution_count": 9,
   "metadata": {
    "collapsed": false
   },
   "outputs": [
    {
     "data": {
      "text/plain": [
       "0"
      ]
     },
     "execution_count": 9,
     "metadata": {},
     "output_type": "execute_result"
    }
   ],
   "source": [
    "NovJan_path = os.path.join(os.getcwd(),\"NovJan_routes\")\n",
    "contents = os.listdir(NovJan_path)\n",
    "check_list = []\n",
    "for i in contents:\n",
    "    path_to_file = os.path.join(NovJan_path, i)\n",
    "    df = pd.read_hdf(path_to_file)\n",
    "    print(df.shape, i)\n",
    "    check_list.append(df.shape[0])\n",
    "sum(check_list)    "
   ]
  },
  {
   "cell_type": "code",
   "execution_count": 5,
   "metadata": {
    "collapsed": false
   },
   "outputs": [
    {
     "name": "stdout",
     "output_type": "stream",
     "text": [
      "(87341, 18) siri.20121106.h5\n",
      "(88713, 18) siri.20121107.h5\n",
      "(89436, 18) siri.20121108.h5\n",
      "(87373, 18) siri.20121109.h5\n",
      "(55539, 18) siri.20121110.h5\n",
      "(36974, 18) siri.20121111.h5\n",
      "(87274, 18) siri.20121112.h5\n",
      "(87494, 18) siri.20121113.h5\n",
      "(89084, 18) siri.20121114.h5\n",
      "(90269, 18) siri.20121115.h5\n",
      "(89635, 18) siri.20121116.h5\n",
      "(54338, 18) siri.20121117.h5\n",
      "(35732, 18) siri.20121118.h5\n",
      "(84522, 18) siri.20121119.h5\n",
      "(87039, 18) siri.20121120.h5\n",
      "(84832, 18) siri.20121121.h5\n",
      "(85790, 18) siri.20121122.h5\n",
      "(87741, 18) siri.20121123.h5\n",
      "(46323, 18) siri.20121124.h5\n",
      "(34610, 18) siri.20121125.h5\n",
      "(85755, 18) siri.20121126.h5\n",
      "(87780, 18) siri.20121127.h5\n",
      "(83572, 18) siri.20121128.h5\n",
      "(87961, 18) siri.20121129.h5\n",
      "(74592, 18) siri.20121130.h5\n"
     ]
    },
    {
     "data": {
      "text/plain": [
       "1909719"
      ]
     },
     "execution_count": 5,
     "metadata": {},
     "output_type": "execute_result"
    }
   ],
   "source": [
    "NovJan_path = os.path.join(os.getcwd(),\"re_con_Nov\")\n",
    "contents = os.listdir(NovJan_path)\n",
    "check_list = []\n",
    "for i in contents:\n",
    "    path_to_file = os.path.join(NovJan_path, i)\n",
    "    df = pd.read_hdf(path_to_file)\n",
    "    print(df.shape, i)\n",
    "    check_list.append(df.shape[0])\n",
    "sum(check_list)    "
   ]
  },
  {
   "cell_type": "code",
   "execution_count": 7,
   "metadata": {
    "collapsed": false
   },
   "outputs": [
    {
     "name": "stdout",
     "output_type": "stream",
     "text": [
      "(28463, 18) siri.20130101.h5\n",
      "(73666, 18) siri.20130102.h5\n",
      "(77625, 18) siri.20130103.h5\n",
      "(78728, 18) siri.20130104.h5\n",
      "(50746, 18) siri.20130105.h5\n",
      "(34090, 18) siri.20130106.h5\n",
      "(80992, 18) siri.20130107.h5\n",
      "(82433, 18) siri.20130108.h5\n",
      "(83307, 18) siri.20130109.h5\n",
      "(84130, 18) siri.20130110.h5\n",
      "(87182, 18) siri.20130111.h5\n",
      "(54472, 18) siri.20130112.h5\n",
      "(34068, 18) siri.20130113.h5\n",
      "(82672, 18) siri.20130114.h5\n",
      "(84552, 18) siri.20130115.h5\n",
      "(83937, 18) siri.20130116.h5\n",
      "(85389, 18) siri.20130117.h5\n",
      "(77851, 18) siri.20130118.h5\n",
      "(53667, 18) siri.20130119.h5\n",
      "(34150, 18) siri.20130120.h5\n",
      "(80890, 18) siri.20130121.h5\n",
      "(84617, 18) siri.20130122.h5\n",
      "(79174, 18) siri.20130123.h5\n",
      "(85058, 18) siri.20130124.h5\n",
      "(83204, 18) siri.20130125.h5\n",
      "(55035, 18) siri.20130126.h5\n",
      "(34276, 18) siri.20130127.h5\n",
      "(80777, 18) siri.20130128.h5\n",
      "(83250, 18) siri.20130129.h5\n",
      "(45987, 18) siri.20130130.h5\n"
     ]
    },
    {
     "data": {
      "text/plain": [
       "2064388"
      ]
     },
     "execution_count": 7,
     "metadata": {},
     "output_type": "execute_result"
    }
   ],
   "source": [
    "NovJan_path = os.path.join(os.getcwd(),\"re_con_Jan\")\n",
    "contents = os.listdir(NovJan_path)\n",
    "check_list = []\n",
    "for i in contents:\n",
    "    path_to_file = os.path.join(NovJan_path, i)\n",
    "    df = pd.read_hdf(path_to_file)\n",
    "    print(df.shape, i)\n",
    "    check_list.append(df.shape[0])\n",
    "sum(check_list)   "
   ]
  },
  {
   "cell_type": "code",
   "execution_count": null,
   "metadata": {
    "collapsed": true
   },
   "outputs": [],
   "source": []
  }
 ],
 "metadata": {
  "kernelspec": {
   "display_name": "Python 3",
   "language": "python",
   "name": "python3"
  },
  "language_info": {
   "codemirror_mode": {
    "name": "ipython",
    "version": 3
   },
   "file_extension": ".py",
   "mimetype": "text/x-python",
   "name": "python",
   "nbconvert_exporter": "python",
   "pygments_lexer": "ipython3",
   "version": "3.6.0"
  }
 },
 "nbformat": 4,
 "nbformat_minor": 2
}
>>>>>>> reggie
