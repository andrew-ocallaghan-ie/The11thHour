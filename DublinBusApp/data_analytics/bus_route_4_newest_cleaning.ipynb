{
 "cells": [
  {
   "cell_type": "code",
   "execution_count": 1,
   "metadata": {},
   "outputs": [
    {
     "name": "stderr",
     "output_type": "stream",
     "text": [
      "/Users/katerooney/anaconda3/lib/python3.6/site-packages/IPython/core/interactiveshell.py:2717: DtypeWarning: Columns (14) have mixed types. Specify dtype option on import or set low_memory=False.\n",
      "  interactivity=interactivity, compiler=compiler, result=result)\n"
     ]
    }
   ],
   "source": [
    "# The ultimate target feature: time from one stop to another\n",
    "\n",
    "# Imports\n",
    "import pandas as pd\n",
    "import numpy as np\n",
    "from datetime import date, datetime\n",
    "from patsy import dmatrices\n",
    "import seaborn as sns\n",
    "import matplotlib.pyplot as plt\n",
    "import matplotlib.patches as mpatches\n",
    "%matplotlib inline\n",
    "from sklearn.linear_model import LogisticRegression\n",
    "from sklearn import metrics\n",
    "from sklearn.tree import export_graphviz, DecisionTreeRegressor, DecisionTreeClassifier\n",
    "from sklearn.ensemble import RandomForestClassifier, RandomForestRegressor\n",
    "from sklearn import preprocessing\n",
    "from sklearn.pipeline import make_pipeline\n",
    "from sklearn.model_selection import GridSearchCV, train_test_split, cross_val_score\n",
    "from sklearn.metrics import mean_squared_error, r2_score\n",
    "from sklearn.externals import joblib \n",
    "from statsmodels.formula.api import ols\n",
    "\n",
    "# Read csv file into a dataframe.\n",
    "df = pd.read_csv('csv_data/route4.csv')"
   ]
  },
  {
   "cell_type": "markdown",
   "metadata": {},
   "source": [
    "# 1.0 Data Cleaning "
   ]
  },
  {
   "cell_type": "markdown",
   "metadata": {},
   "source": [
    "## 1.1 Rename column names"
   ]
  },
  {
   "cell_type": "code",
   "execution_count": 2,
   "metadata": {
    "collapsed": true
   },
   "outputs": [],
   "source": [
    "df = df.rename(columns={'Timeframe': 'Start_date'})"
   ]
  },
  {
   "cell_type": "markdown",
   "metadata": {},
   "source": [
    "## 1.2 Dropping duplicates"
   ]
  },
  {
   "cell_type": "code",
   "execution_count": 3,
   "metadata": {
    "collapsed": true
   },
   "outputs": [],
   "source": [
    "df=df.drop_duplicates(keep='first')"
   ]
  },
  {
   "cell_type": "markdown",
   "metadata": {},
   "source": [
    "## 1.3 Dropping constant columns or columns with missing data"
   ]
  },
  {
   "cell_type": "code",
   "execution_count": 4,
   "metadata": {
    "collapsed": true
   },
   "outputs": [],
   "source": [
    "df = df.drop('Direction', axis=1)\n",
    "df = df.drop('Unnamed: 0', axis=1)\n",
    "df = df.drop('Congestion', axis=1)\n",
    "df[df.Journey_Pattern_ID == 'null']\n",
    "df = df[df['Journey_Pattern_ID'] != '00040002']\n",
    "df = df[df['Journey_Pattern_ID'] != '00041002']"
   ]
  },
  {
   "cell_type": "markdown",
   "metadata": {},
   "source": [
    "## 1.4 Remove rows where bus is not at stop"
   ]
  },
  {
   "cell_type": "code",
   "execution_count": 5,
   "metadata": {
    "collapsed": true
   },
   "outputs": [],
   "source": [
    "df = df.loc[(df != 0).all(axis=1), :]"
   ]
  },
  {
   "cell_type": "markdown",
   "metadata": {},
   "source": [
    "## 1.5 Group to normalise time & remove rows where bus idle at stop"
   ]
  },
  {
   "cell_type": "code",
   "execution_count": 6,
   "metadata": {
    "collapsed": true
   },
   "outputs": [],
   "source": [
    "# Create empty column which will hold normalised time\n",
    "df['normal_time'] = 0"
   ]
  },
  {
   "cell_type": "code",
   "execution_count": 7,
   "metadata": {
    "collapsed": true
   },
   "outputs": [],
   "source": [
    "# Create empty column which will hold the stop order\n",
    "df['stop_order'] = 0"
   ]
  },
  {
   "cell_type": "code",
   "execution_count": 8,
   "metadata": {
    "collapsed": true
   },
   "outputs": [],
   "source": [
    "grouped_df = df.groupby(['Vehicle_Journey_ID', 'Start_date'])"
   ]
  },
  {
   "cell_type": "code",
   "execution_count": 9,
   "metadata": {
    "collapsed": true
   },
   "outputs": [],
   "source": [
    "def normalize_time(df):\n",
    "    \"\"\"Normalise the time for each journey\"\"\"\n",
    "    for i in range(df['Timestamp'].size):\n",
    "        df['normal_time'].values[i] = (df['Timestamp'].values[i] - df['Timestamp'].values[0]) / 1000000\n",
    "        \n",
    "    return df"
   ]
  },
  {
   "cell_type": "code",
   "execution_count": 10,
   "metadata": {
    "collapsed": true
   },
   "outputs": [],
   "source": [
    "norm_gb = grouped_df.apply(normalize_time)"
   ]
  },
  {
   "cell_type": "code",
   "execution_count": 11,
   "metadata": {
    "collapsed": true
   },
   "outputs": [],
   "source": [
    "grouped_df = norm_gb.groupby(['Vehicle_Journey_ID', 'Start_date'])"
   ]
  },
  {
   "cell_type": "code",
   "execution_count": 12,
   "metadata": {
    "collapsed": true
   },
   "outputs": [],
   "source": [
    "def remove_idle_at_stop(df):\n",
    "    df = df.drop_duplicates(subset='Stop_ID', keep='first')\n",
    "    \n",
    "    return df"
   ]
  },
  {
   "cell_type": "code",
   "execution_count": 13,
   "metadata": {
    "collapsed": true
   },
   "outputs": [],
   "source": [
    "norm_gb = grouped_df.apply(remove_idle_at_stop)"
   ]
  },
  {
   "cell_type": "code",
   "execution_count": 14,
   "metadata": {
    "scrolled": true
   },
   "outputs": [
    {
     "name": "stderr",
     "output_type": "stream",
     "text": [
      "/Users/katerooney/anaconda3/lib/python3.6/site-packages/ipykernel_launcher.py:1: FutureWarning: 'Vehicle_Journey_ID' is both a column name and an index level.\n",
      "Defaulting to column but this will raise an ambiguity error in a future version\n",
      "  \"\"\"Entry point for launching an IPython kernel.\n",
      "/Users/katerooney/anaconda3/lib/python3.6/site-packages/ipykernel_launcher.py:1: FutureWarning: 'Start_date' is both a column name and an index level.\n",
      "Defaulting to column but this will raise an ambiguity error in a future version\n",
      "  \"\"\"Entry point for launching an IPython kernel.\n"
     ]
    }
   ],
   "source": [
    "grouped_df = norm_gb.groupby(['Vehicle_Journey_ID', 'Start_date'])"
   ]
  },
  {
   "cell_type": "code",
   "execution_count": 15,
   "metadata": {
    "collapsed": true
   },
   "outputs": [],
   "source": [
    "def route_order(df):\n",
    "    for i in range(df['Timestamp'].size):\n",
    "        df['stop_order'].values[i] = i+1\n",
    "    \n",
    "    return df"
   ]
  },
  {
   "cell_type": "code",
   "execution_count": 16,
   "metadata": {
    "collapsed": true
   },
   "outputs": [],
   "source": [
    "df = grouped_df.apply(route_order)"
   ]
  },
  {
   "cell_type": "code",
   "execution_count": 17,
   "metadata": {},
   "outputs": [
    {
     "name": "stderr",
     "output_type": "stream",
     "text": [
      "/Users/katerooney/anaconda3/lib/python3.6/site-packages/ipykernel_launcher.py:1: FutureWarning: 'Vehicle_Journey_ID' is both a column name and an index level.\n",
      "Defaulting to column but this will raise an ambiguity error in a future version\n",
      "  \"\"\"Entry point for launching an IPython kernel.\n",
      "/Users/katerooney/anaconda3/lib/python3.6/site-packages/ipykernel_launcher.py:1: FutureWarning: 'Start_date' is both a column name and an index level.\n",
      "Defaulting to column but this will raise an ambiguity error in a future version\n",
      "  \"\"\"Entry point for launching an IPython kernel.\n"
     ]
    }
   ],
   "source": [
    "grouped_df = df.groupby(['Vehicle_Journey_ID', 'Start_date'])"
   ]
  },
  {
   "cell_type": "code",
   "execution_count": 18,
   "metadata": {
    "collapsed": true
   },
   "outputs": [],
   "source": [
    "#removed crystallising end stop as take that out later on - for flexibility to run checks beforehand\n",
    "#have to add stops near the beginning as just the first stop is not capturing all journies, drivers must not be setting the \n",
    "#vehicle journey ID before starting off\n",
    "def stop_start_only(df):\n",
    "    if ( (df['Stop_ID'][0] == '7330') | (df['Stop_ID'][0] == '7113') | (df['Stop_ID'][0] == '324') | (df['Stop_ID'][0] == '327') | (df['Stop_ID'][0] == '2051')| (df['Stop_ID'][0] == '6086')):\n",
    "                                                                        \n",
    "        df['full_trip'] = 1\n",
    "    return df"
   ]
  },
  {
   "cell_type": "code",
   "execution_count": 19,
   "metadata": {
    "collapsed": true
   },
   "outputs": [],
   "source": [
    "df = grouped_df.apply(stop_start_only)"
   ]
  },
  {
   "cell_type": "code",
   "execution_count": 20,
   "metadata": {
    "collapsed": true
   },
   "outputs": [],
   "source": [
    "df = df.loc[df['full_trip'] == 1]"
   ]
  },
  {
   "cell_type": "markdown",
   "metadata": {},
   "source": [
    "## 1.6 Add new features"
   ]
  },
  {
   "cell_type": "code",
   "execution_count": 21,
   "metadata": {
    "collapsed": true
   },
   "outputs": [],
   "source": [
    "df[\"Time\"] = pd.to_datetime(df['Timestamp']*1000, unit=\"ns\")"
   ]
  },
  {
   "cell_type": "code",
   "execution_count": 22,
   "metadata": {
    "collapsed": true
   },
   "outputs": [],
   "source": [
    "df['IsWeekend'] = np.where((df['Time'].dt.dayofweek > 4), 1, 0)\n",
    "# df = df.loc[df['IsWeekend'] != 1]"
   ]
  },
  {
   "cell_type": "code",
   "execution_count": 23,
   "metadata": {
    "collapsed": true,
    "scrolled": true
   },
   "outputs": [],
   "source": [
    "df['HourOfDay'] = df['Time'].dt.hour"
   ]
  },
  {
   "cell_type": "code",
   "execution_count": 24,
   "metadata": {
    "collapsed": true
   },
   "outputs": [],
   "source": [
    "df['MinsOfHour'] = df['Time'].dt.minute\n",
    "df['MinsOfHour30'] = np.where((df['MinsOfHour'] > 30), 1, 0)\n",
    "df['MinsOfHour15'] = np.where((df['MinsOfHour'] > 15), 1, 0)\n",
    "df['MinsOfHour45'] = np.where((df['MinsOfHour'] > 45), 1, 0)"
   ]
  },
  {
   "cell_type": "code",
   "execution_count": 25,
   "metadata": {
    "collapsed": true
   },
   "outputs": [],
   "source": [
    "df['Time_bin_xxx'] =df.HourOfDay.astype('str') + df.MinsOfHour15.astype('str')+ df.MinsOfHour30.astype('str') + df.MinsOfHour45.astype('str')\n",
    "df['Time_bin_xxx']=df['Time_bin_xxx'].astype('int')\n"
   ]
  },
  {
   "cell_type": "code",
   "execution_count": 26,
   "metadata": {
    "collapsed": true
   },
   "outputs": [],
   "source": [
    "df['before_end'] = np.where(((df['Time_bin_xxx'] >= 22000) & (df['Time_bin_xxx'] <= 23001)), 1, 0)"
   ]
  },
  {
   "cell_type": "code",
   "execution_count": 27,
   "metadata": {
    "collapsed": true
   },
   "outputs": [],
   "source": [
    "df['before_tenPM'] = np.where(((df['Time_bin_xxx'] >= 18000) & (df['Time_bin_xxx'] <= 22000)), 1, 0)"
   ]
  },
  {
   "cell_type": "code",
   "execution_count": 28,
   "metadata": {
    "collapsed": true
   },
   "outputs": [],
   "source": [
    "df['before_six'] = np.where(((df['Time_bin_xxx'] >= 16000) & (df['Time_bin_xxx'] <= 18000)), 1, 0)"
   ]
  },
  {
   "cell_type": "code",
   "execution_count": 29,
   "metadata": {
    "collapsed": true
   },
   "outputs": [],
   "source": [
    "df['before_four'] = np.where(((df['Time_bin_xxx'] >= 11000) & (df['Time_bin_xxx'] <= 16000)), 1, 0)"
   ]
  },
  {
   "cell_type": "code",
   "execution_count": 30,
   "metadata": {
    "collapsed": true
   },
   "outputs": [],
   "source": [
    "df['before_eleven'] = np.where(((df['Time_bin_xxx'] >= 9000) & (df['Time_bin_xxx'] <= 11000)), 1, 0)"
   ]
  },
  {
   "cell_type": "code",
   "execution_count": 31,
   "metadata": {
    "collapsed": true
   },
   "outputs": [],
   "source": [
    "df['before_nine'] = np.where(((df['Time_bin_xxx'] >= 6000) & (df['Time_bin_xxx'] <= 9000)), 1, 0)"
   ]
  },
  {
   "cell_type": "code",
   "execution_count": 32,
   "metadata": {
    "collapsed": true
   },
   "outputs": [],
   "source": [
    "df['DayOfWeek'] = df['Time'].dt.dayofweek"
   ]
  },
  {
   "cell_type": "code",
   "execution_count": 33,
   "metadata": {
    "collapsed": true
   },
   "outputs": [],
   "source": [
    "df['IsEveningTime'] = np.where((df['Time'].dt.hour > 17), 1, 0)"
   ]
  },
  {
   "cell_type": "code",
   "execution_count": 34,
   "metadata": {
    "collapsed": true
   },
   "outputs": [],
   "source": [
    "df['Direction_north'] = np.where((df['Journey_Pattern_ID'] == '00041001'), 1,0)"
   ]
  },
  {
   "cell_type": "code",
   "execution_count": 35,
   "metadata": {
    "collapsed": true
   },
   "outputs": [],
   "source": [
    "df['RDS_Event'] = np.where((df['Time'].dt.date == datetime(2013, 1, 27).date()), 1, 0)"
   ]
  },
  {
   "cell_type": "code",
   "execution_count": 36,
   "metadata": {
    "collapsed": true
   },
   "outputs": [],
   "source": [
    "df['BankHoliday'] = np.where((df['Time'].dt.date == datetime(2013, 1, 1).date()), 1, 0)"
   ]
  },
  {
   "cell_type": "code",
   "execution_count": 37,
   "metadata": {
    "collapsed": true
   },
   "outputs": [],
   "source": [
    "df['SchoolHoliday'] = np.where((df['Time'].dt.date == datetime(2012, 11, 1).date()) | (\n",
    "\n",
    "df['Time'].dt.date == datetime(2012, 11, 2).date()) | (\n",
    "\n",
    "                                       df['Time'].dt.date == datetime(2013, 1, 1).date()) | (\n",
    "\n",
    "                                       df['Time'].dt.date == datetime(2013, 1, 2).date()) | (\n",
    "\n",
    "                                       df['Time'].dt.date == datetime(2013, 1, 3).date()) | (\n",
    "\n",
    "                                       df['Time'].dt.date == datetime(2013, 1, 4).date()), 1, 0)"
   ]
  },
  {
   "cell_type": "markdown",
   "metadata": {},
   "source": [
    "# 2.0 Merge Datasets"
   ]
  },
  {
   "cell_type": "markdown",
   "metadata": {},
   "source": [
    "## 2.1 Merge bus stop info"
   ]
  },
  {
   "cell_type": "markdown",
   "metadata": {
    "collapsed": true
   },
   "source": [
    "df_bus_stop = pd.read_csv('csv_data/busstopinfo.csv', encoding='latin-1')"
   ]
  },
  {
   "cell_type": "code",
   "execution_count": 38,
   "metadata": {},
   "outputs": [
    {
     "data": {
      "text/plain": [
       "array(['2051', '6086', '3162', '3163', '3084', '472', '473', '4705', '475',\n",
       "       '478', '483', '485', '487', '488', '491', '493', '494', '495',\n",
       "       '400', '281', '6', '195', '198', '148', '28', '322', '332', '3161',\n",
       "       '3164', '477', '479', '490', '199', '200', '4680', '94', '469',\n",
       "       '489', '194', '201', '476', '482', '7330', '471', '480', '93',\n",
       "       '6182', '470', '492', '196', '126', '197', '27', '150', '7113',\n",
       "       '127', '112', '115', '37', '40', '184', '186', '187', '188', '4725',\n",
       "       '273', '402', '405', '411', '414', '415', '416', '420', '422',\n",
       "       '428', '6334', '7226', '2026', '38', '39', '146', '190', '191',\n",
       "       '819', '409', '410', '427', '3114', '6085', '113', '408', '412',\n",
       "       '417', '418', '424', '425', '3115', '324', '147', '7457', '114',\n",
       "       '185', '429', '413', '421', '419', '3116', '426', '189', '423',\n",
       "       '149', '91', '481', '92', 190, 819, 4725, 273, 402, 405, 410, 416,\n",
       "       417, 419, 421, '90', '29', '323', '327', 429, 3115, 6085, 94, 323], dtype=object)"
      ]
     },
     "execution_count": 38,
     "metadata": {},
     "output_type": "execute_result"
    }
   ],
   "source": [
    "df.Stop_ID.unique()"
   ]
  },
  {
   "cell_type": "code",
   "execution_count": 39,
   "metadata": {},
   "outputs": [
    {
     "data": {
      "text/plain": [
       "(118, 8)"
      ]
     },
     "execution_count": 39,
     "metadata": {},
     "output_type": "execute_result"
    }
   ],
   "source": [
    "df_all_routes = pd.read_csv('csv_data/Route_4_stops.csv', encoding='latin-1')\n",
    "df_all_routes.shape"
   ]
  },
  {
   "cell_type": "markdown",
   "metadata": {},
   "source": [
    "df_bus_stop = df_bus_stop.rename(columns={'stopid': 'Stop_ID'})\n",
    "df_bus_stop = df_bus_stop.rename(columns={'fullname': 'Stop_name'})"
   ]
  },
  {
   "cell_type": "markdown",
   "metadata": {
    "collapsed": true
   },
   "source": [
    "df_bus_stop = df_bus_stop[['Stop_ID', 'Stop_name']]"
   ]
  },
  {
   "cell_type": "code",
   "execution_count": 40,
   "metadata": {},
   "outputs": [
    {
     "data": {
      "text/plain": [
       "array(['324', '327', '7113', '127', '112', '113', '114', '115', '37', '38',\n",
       "       '39', '40', '146', '147', '184', '185', '186', '187', '188', '189',\n",
       "       '190', '191', '819', '260', '4725', '273', '402', '405', '408',\n",
       "       '409', '410', '411', '412', '413', '414', '415', '416', '417',\n",
       "       '418', '419', '420', '421', '422', '423', '424', '425', '426',\n",
       "       '427', '428', '429', '6334', '3114', '3115', '3116', '6085', '2026',\n",
       "       '7226', '7330', '2051', '6086', '3161', '3162', '3163', '3164',\n",
       "       '3084', '469', '470', '471', '472', '473', '4705', '475', '476',\n",
       "       '477', '478', '479', '480', '481', '482', '483', '485', '487',\n",
       "       '488', '489', '490', '491', '492', '493', '494', '495', '400',\n",
       "       '281', '6', '194', '195', '196', '197', '198', '199', '200', '201',\n",
       "       '148', '149', '150', '27', '28', '29', '4680', '90', '91', '92',\n",
       "       '93', '94', '126', '6182', '322', '323', '332'], dtype=object)"
      ]
     },
     "execution_count": 40,
     "metadata": {},
     "output_type": "execute_result"
    }
   ],
   "source": [
    "df_all_routes['Stop_ID']=df_all_routes['Stop_ID'].astype('str')\n",
    "df_all_routes.Stop_ID.unique()"
   ]
  },
  {
   "cell_type": "code",
   "execution_count": 41,
   "metadata": {},
   "outputs": [
    {
     "data": {
      "text/html": [
       "<div>\n",
       "<style>\n",
       "    .dataframe thead tr:only-child th {\n",
       "        text-align: right;\n",
       "    }\n",
       "\n",
       "    .dataframe thead th {\n",
       "        text-align: left;\n",
       "    }\n",
       "\n",
       "    .dataframe tbody tr th {\n",
       "        vertical-align: top;\n",
       "    }\n",
       "</style>\n",
       "<table border=\"1\" class=\"dataframe\">\n",
       "  <thead>\n",
       "    <tr style=\"text-align: right;\">\n",
       "      <th></th>\n",
       "      <th>Stop_ID</th>\n",
       "      <th>Stop_name</th>\n",
       "      <th>Stop_sequence</th>\n",
       "    </tr>\n",
       "  </thead>\n",
       "  <tbody>\n",
       "    <tr>\n",
       "      <th>0</th>\n",
       "      <td>324</td>\n",
       "      <td>Bus Garage</td>\n",
       "      <td>1</td>\n",
       "    </tr>\n",
       "    <tr>\n",
       "      <th>1</th>\n",
       "      <td>327</td>\n",
       "      <td>Silloge Golf Club</td>\n",
       "      <td>2</td>\n",
       "    </tr>\n",
       "    <tr>\n",
       "      <th>2</th>\n",
       "      <td>7113</td>\n",
       "      <td>Santry Avenue</td>\n",
       "      <td>3</td>\n",
       "    </tr>\n",
       "    <tr>\n",
       "      <th>3</th>\n",
       "      <td>127</td>\n",
       "      <td>St. Pappin's Road</td>\n",
       "      <td>4</td>\n",
       "    </tr>\n",
       "    <tr>\n",
       "      <th>4</th>\n",
       "      <td>112</td>\n",
       "      <td>Silloge Road</td>\n",
       "      <td>5</td>\n",
       "    </tr>\n",
       "    <tr>\n",
       "      <th>5</th>\n",
       "      <td>113</td>\n",
       "      <td>Nursing Home</td>\n",
       "      <td>6</td>\n",
       "    </tr>\n",
       "    <tr>\n",
       "      <th>6</th>\n",
       "      <td>114</td>\n",
       "      <td>Shanliss Road</td>\n",
       "      <td>7</td>\n",
       "    </tr>\n",
       "    <tr>\n",
       "      <th>7</th>\n",
       "      <td>115</td>\n",
       "      <td>Glasnevin Avenue</td>\n",
       "      <td>8</td>\n",
       "    </tr>\n",
       "    <tr>\n",
       "      <th>8</th>\n",
       "      <td>37</td>\n",
       "      <td>DCU</td>\n",
       "      <td>9</td>\n",
       "    </tr>\n",
       "    <tr>\n",
       "      <th>9</th>\n",
       "      <td>38</td>\n",
       "      <td>Hamstead Avenue</td>\n",
       "      <td>10</td>\n",
       "    </tr>\n",
       "    <tr>\n",
       "      <th>10</th>\n",
       "      <td>39</td>\n",
       "      <td>Glasnevin Tennis Club</td>\n",
       "      <td>11</td>\n",
       "    </tr>\n",
       "    <tr>\n",
       "      <th>11</th>\n",
       "      <td>40</td>\n",
       "      <td>Home Farm Road</td>\n",
       "      <td>12</td>\n",
       "    </tr>\n",
       "    <tr>\n",
       "      <th>12</th>\n",
       "      <td>146</td>\n",
       "      <td>Na Fianna</td>\n",
       "      <td>13</td>\n",
       "    </tr>\n",
       "    <tr>\n",
       "      <th>13</th>\n",
       "      <td>147</td>\n",
       "      <td>Dean Swift Bridge</td>\n",
       "      <td>14</td>\n",
       "    </tr>\n",
       "    <tr>\n",
       "      <th>14</th>\n",
       "      <td>184</td>\n",
       "      <td>Cliftonville Road</td>\n",
       "      <td>15</td>\n",
       "    </tr>\n",
       "    <tr>\n",
       "      <th>15</th>\n",
       "      <td>185</td>\n",
       "      <td>Marguerite Road</td>\n",
       "      <td>16</td>\n",
       "    </tr>\n",
       "    <tr>\n",
       "      <th>16</th>\n",
       "      <td>186</td>\n",
       "      <td>Prospect Avenue</td>\n",
       "      <td>17</td>\n",
       "    </tr>\n",
       "    <tr>\n",
       "      <th>17</th>\n",
       "      <td>187</td>\n",
       "      <td>Royse Road</td>\n",
       "      <td>18</td>\n",
       "    </tr>\n",
       "    <tr>\n",
       "      <th>18</th>\n",
       "      <td>188</td>\n",
       "      <td>North Circular Road</td>\n",
       "      <td>19</td>\n",
       "    </tr>\n",
       "    <tr>\n",
       "      <th>19</th>\n",
       "      <td>189</td>\n",
       "      <td>Broadstone</td>\n",
       "      <td>20</td>\n",
       "    </tr>\n",
       "    <tr>\n",
       "      <th>20</th>\n",
       "      <td>190</td>\n",
       "      <td>Broadstone Depot</td>\n",
       "      <td>21</td>\n",
       "    </tr>\n",
       "    <tr>\n",
       "      <th>21</th>\n",
       "      <td>191</td>\n",
       "      <td>Youth Club</td>\n",
       "      <td>22</td>\n",
       "    </tr>\n",
       "    <tr>\n",
       "      <th>22</th>\n",
       "      <td>819</td>\n",
       "      <td>Blessington Street</td>\n",
       "      <td>23</td>\n",
       "    </tr>\n",
       "    <tr>\n",
       "      <th>23</th>\n",
       "      <td>260</td>\n",
       "      <td>Garden of Remembrance</td>\n",
       "      <td>24</td>\n",
       "    </tr>\n",
       "    <tr>\n",
       "      <th>24</th>\n",
       "      <td>4725</td>\n",
       "      <td>Parnell Street</td>\n",
       "      <td>25</td>\n",
       "    </tr>\n",
       "    <tr>\n",
       "      <th>25</th>\n",
       "      <td>273</td>\n",
       "      <td>O'Connell Bridge</td>\n",
       "      <td>26</td>\n",
       "    </tr>\n",
       "    <tr>\n",
       "      <th>26</th>\n",
       "      <td>402</td>\n",
       "      <td>Provost's House</td>\n",
       "      <td>27</td>\n",
       "    </tr>\n",
       "    <tr>\n",
       "      <th>27</th>\n",
       "      <td>405</td>\n",
       "      <td>South Frederick Street</td>\n",
       "      <td>28</td>\n",
       "    </tr>\n",
       "    <tr>\n",
       "      <th>28</th>\n",
       "      <td>408</td>\n",
       "      <td>Lincoln Place</td>\n",
       "      <td>29</td>\n",
       "    </tr>\n",
       "    <tr>\n",
       "      <th>29</th>\n",
       "      <td>409</td>\n",
       "      <td>Merrion Street</td>\n",
       "      <td>30</td>\n",
       "    </tr>\n",
       "    <tr>\n",
       "      <th>...</th>\n",
       "      <td>...</td>\n",
       "      <td>...</td>\n",
       "      <td>...</td>\n",
       "    </tr>\n",
       "    <tr>\n",
       "      <th>88</th>\n",
       "      <td>494</td>\n",
       "      <td>Lincoln Place</td>\n",
       "      <td>32</td>\n",
       "    </tr>\n",
       "    <tr>\n",
       "      <th>89</th>\n",
       "      <td>495</td>\n",
       "      <td>Pearse Station</td>\n",
       "      <td>33</td>\n",
       "    </tr>\n",
       "    <tr>\n",
       "      <th>90</th>\n",
       "      <td>400</td>\n",
       "      <td>Hawkins Street</td>\n",
       "      <td>34</td>\n",
       "    </tr>\n",
       "    <tr>\n",
       "      <th>91</th>\n",
       "      <td>281</td>\n",
       "      <td>Dublin Bus</td>\n",
       "      <td>35</td>\n",
       "    </tr>\n",
       "    <tr>\n",
       "      <th>92</th>\n",
       "      <td>6</td>\n",
       "      <td>Rotunda Hospital</td>\n",
       "      <td>36</td>\n",
       "    </tr>\n",
       "    <tr>\n",
       "      <th>93</th>\n",
       "      <td>194</td>\n",
       "      <td>Youth Club</td>\n",
       "      <td>37</td>\n",
       "    </tr>\n",
       "    <tr>\n",
       "      <th>94</th>\n",
       "      <td>195</td>\n",
       "      <td>Constitution Hill</td>\n",
       "      <td>38</td>\n",
       "    </tr>\n",
       "    <tr>\n",
       "      <th>95</th>\n",
       "      <td>196</td>\n",
       "      <td>Broadstone</td>\n",
       "      <td>39</td>\n",
       "    </tr>\n",
       "    <tr>\n",
       "      <th>96</th>\n",
       "      <td>197</td>\n",
       "      <td>Monck Place</td>\n",
       "      <td>40</td>\n",
       "    </tr>\n",
       "    <tr>\n",
       "      <th>97</th>\n",
       "      <td>198</td>\n",
       "      <td>Royse Road</td>\n",
       "      <td>41</td>\n",
       "    </tr>\n",
       "    <tr>\n",
       "      <th>98</th>\n",
       "      <td>199</td>\n",
       "      <td>Munster Street</td>\n",
       "      <td>42</td>\n",
       "    </tr>\n",
       "    <tr>\n",
       "      <th>99</th>\n",
       "      <td>200</td>\n",
       "      <td>Prospect Avenue</td>\n",
       "      <td>43</td>\n",
       "    </tr>\n",
       "    <tr>\n",
       "      <th>100</th>\n",
       "      <td>201</td>\n",
       "      <td>Cliftonville Road</td>\n",
       "      <td>44</td>\n",
       "    </tr>\n",
       "    <tr>\n",
       "      <th>101</th>\n",
       "      <td>148</td>\n",
       "      <td>Botanic Road</td>\n",
       "      <td>45</td>\n",
       "    </tr>\n",
       "    <tr>\n",
       "      <th>102</th>\n",
       "      <td>149</td>\n",
       "      <td>St. Mobhi Drive</td>\n",
       "      <td>46</td>\n",
       "    </tr>\n",
       "    <tr>\n",
       "      <th>103</th>\n",
       "      <td>150</td>\n",
       "      <td>Home Farm Road</td>\n",
       "      <td>47</td>\n",
       "    </tr>\n",
       "    <tr>\n",
       "      <th>104</th>\n",
       "      <td>27</td>\n",
       "      <td>Griffith Avenue</td>\n",
       "      <td>48</td>\n",
       "    </tr>\n",
       "    <tr>\n",
       "      <th>105</th>\n",
       "      <td>28</td>\n",
       "      <td>Glasnevin Tennis Club</td>\n",
       "      <td>49</td>\n",
       "    </tr>\n",
       "    <tr>\n",
       "      <th>106</th>\n",
       "      <td>29</td>\n",
       "      <td>St. Canice's Road</td>\n",
       "      <td>50</td>\n",
       "    </tr>\n",
       "    <tr>\n",
       "      <th>107</th>\n",
       "      <td>4680</td>\n",
       "      <td>DCU</td>\n",
       "      <td>51</td>\n",
       "    </tr>\n",
       "    <tr>\n",
       "      <th>108</th>\n",
       "      <td>90</td>\n",
       "      <td>St. Pappin's Road</td>\n",
       "      <td>52</td>\n",
       "    </tr>\n",
       "    <tr>\n",
       "      <th>109</th>\n",
       "      <td>91</td>\n",
       "      <td>Glasnevin Avenue</td>\n",
       "      <td>53</td>\n",
       "    </tr>\n",
       "    <tr>\n",
       "      <th>110</th>\n",
       "      <td>92</td>\n",
       "      <td>Shanliss Road</td>\n",
       "      <td>54</td>\n",
       "    </tr>\n",
       "    <tr>\n",
       "      <th>111</th>\n",
       "      <td>93</td>\n",
       "      <td>Shanliss Road</td>\n",
       "      <td>55</td>\n",
       "    </tr>\n",
       "    <tr>\n",
       "      <th>112</th>\n",
       "      <td>94</td>\n",
       "      <td>Silloge Road</td>\n",
       "      <td>56</td>\n",
       "    </tr>\n",
       "    <tr>\n",
       "      <th>113</th>\n",
       "      <td>126</td>\n",
       "      <td>Nursing Home</td>\n",
       "      <td>57</td>\n",
       "    </tr>\n",
       "    <tr>\n",
       "      <th>114</th>\n",
       "      <td>6182</td>\n",
       "      <td>Santry Avenue</td>\n",
       "      <td>58</td>\n",
       "    </tr>\n",
       "    <tr>\n",
       "      <th>115</th>\n",
       "      <td>322</td>\n",
       "      <td>Gulliver's Retail Park</td>\n",
       "      <td>59</td>\n",
       "    </tr>\n",
       "    <tr>\n",
       "      <th>116</th>\n",
       "      <td>323</td>\n",
       "      <td>Silloge Golf Club</td>\n",
       "      <td>60</td>\n",
       "    </tr>\n",
       "    <tr>\n",
       "      <th>117</th>\n",
       "      <td>332</td>\n",
       "      <td>Bus Garage</td>\n",
       "      <td>61</td>\n",
       "    </tr>\n",
       "  </tbody>\n",
       "</table>\n",
       "<p>118 rows × 3 columns</p>\n",
       "</div>"
      ],
      "text/plain": [
       "    Stop_ID               Stop_name  Stop_sequence\n",
       "0       324              Bus Garage              1\n",
       "1       327       Silloge Golf Club              2\n",
       "2      7113           Santry Avenue              3\n",
       "3       127       St. Pappin's Road              4\n",
       "4       112            Silloge Road              5\n",
       "5       113            Nursing Home              6\n",
       "6       114           Shanliss Road              7\n",
       "7       115        Glasnevin Avenue              8\n",
       "8        37                     DCU              9\n",
       "9        38         Hamstead Avenue             10\n",
       "10       39   Glasnevin Tennis Club             11\n",
       "11       40          Home Farm Road             12\n",
       "12      146               Na Fianna             13\n",
       "13      147       Dean Swift Bridge             14\n",
       "14      184       Cliftonville Road             15\n",
       "15      185         Marguerite Road             16\n",
       "16      186         Prospect Avenue             17\n",
       "17      187              Royse Road             18\n",
       "18      188     North Circular Road             19\n",
       "19      189              Broadstone             20\n",
       "20      190        Broadstone Depot             21\n",
       "21      191              Youth Club             22\n",
       "22      819      Blessington Street             23\n",
       "23      260   Garden of Remembrance             24\n",
       "24     4725          Parnell Street             25\n",
       "25      273        O'Connell Bridge             26\n",
       "26      402         Provost's House             27\n",
       "27      405  South Frederick Street             28\n",
       "28      408           Lincoln Place             29\n",
       "29      409          Merrion Street             30\n",
       "..      ...                     ...            ...\n",
       "88      494           Lincoln Place             32\n",
       "89      495          Pearse Station             33\n",
       "90      400          Hawkins Street             34\n",
       "91      281              Dublin Bus             35\n",
       "92        6        Rotunda Hospital             36\n",
       "93      194              Youth Club             37\n",
       "94      195       Constitution Hill             38\n",
       "95      196              Broadstone             39\n",
       "96      197             Monck Place             40\n",
       "97      198              Royse Road             41\n",
       "98      199          Munster Street             42\n",
       "99      200         Prospect Avenue             43\n",
       "100     201       Cliftonville Road             44\n",
       "101     148            Botanic Road             45\n",
       "102     149         St. Mobhi Drive             46\n",
       "103     150          Home Farm Road             47\n",
       "104      27         Griffith Avenue             48\n",
       "105      28   Glasnevin Tennis Club             49\n",
       "106      29       St. Canice's Road             50\n",
       "107    4680                     DCU             51\n",
       "108      90       St. Pappin's Road             52\n",
       "109      91        Glasnevin Avenue             53\n",
       "110      92           Shanliss Road             54\n",
       "111      93           Shanliss Road             55\n",
       "112      94            Silloge Road             56\n",
       "113     126            Nursing Home             57\n",
       "114    6182           Santry Avenue             58\n",
       "115     322  Gulliver's Retail Park             59\n",
       "116     323       Silloge Golf Club             60\n",
       "117     332              Bus Garage             61\n",
       "\n",
       "[118 rows x 3 columns]"
      ]
     },
     "execution_count": 41,
     "metadata": {},
     "output_type": "execute_result"
    }
   ],
   "source": [
    "df_routes = df_all_routes[['Stop_ID','Stop_name','Stop_sequence']]\n",
    "df_routes"
   ]
  },
  {
   "cell_type": "markdown",
   "metadata": {},
   "source": [
    "df = pd.merge(df, df_bus_stop, on=['Stop_ID'])\n",
    "df.head()"
   ]
  },
  {
   "cell_type": "code",
   "execution_count": 42,
   "metadata": {},
   "outputs": [
    {
     "data": {
      "text/plain": [
       "array(['2051', '6086', '3162', '3163', '3084', '472', '473', '4705', '475',\n",
       "       '478', '483', '485', '487', '488', '491', '493', '494', '495',\n",
       "       '400', '281', '6', '195', '198', '148', '28', '322', '332', '3161',\n",
       "       '3164', '477', '479', '490', '199', '200', '4680', '94', '469',\n",
       "       '489', '194', '201', '476', '482', '7330', '471', '480', '93',\n",
       "       '6182', '470', '492', '196', '126', '197', '27', '150', '7113',\n",
       "       '127', '112', '115', '37', '40', '184', '186', '187', '188', '4725',\n",
       "       '273', '402', '405', '411', '414', '415', '416', '420', '422',\n",
       "       '428', '6334', '7226', '2026', '38', '39', '146', '190', '191',\n",
       "       '819', '409', '410', '427', '3114', '6085', '113', '408', '412',\n",
       "       '417', '418', '424', '425', '3115', '324', '147', '114', '185',\n",
       "       '429', '413', '421', '419', '3116', '426', '189', '423', '149',\n",
       "       '91', '481', '92', '90', '29', '323', '327'], dtype=object)"
      ]
     },
     "execution_count": 42,
     "metadata": {},
     "output_type": "execute_result"
    }
   ],
   "source": [
    "df = pd.merge(df, df_routes, on=['Stop_ID'])\n",
    "df.Stop_ID.unique()"
   ]
  },
  {
   "cell_type": "code",
   "execution_count": 43,
   "metadata": {
    "collapsed": true
   },
   "outputs": [],
   "source": [
    "grouped_df = df.groupby(['Vehicle_Journey_ID', 'Start_date'])"
   ]
  },
  {
   "cell_type": "markdown",
   "metadata": {},
   "source": [
    "grouped_df.get_group((4558, '2013-01-03'))"
   ]
  },
  {
   "cell_type": "markdown",
   "metadata": {},
   "source": [
    "grouped_df.get_group((4542, '2013-01-15'))"
   ]
  },
  {
   "cell_type": "code",
   "execution_count": 44,
   "metadata": {},
   "outputs": [
    {
     "data": {
      "text/plain": [
       "(37033, 38)"
      ]
     },
     "execution_count": 44,
     "metadata": {},
     "output_type": "execute_result"
    }
   ],
   "source": [
    "df.shape"
   ]
  },
  {
   "cell_type": "markdown",
   "metadata": {},
   "source": [
    "## 2.2 Merge weather data"
   ]
  },
  {
   "cell_type": "code",
   "execution_count": 45,
   "metadata": {
    "collapsed": true
   },
   "outputs": [],
   "source": [
    "df_weather = pd.read_csv('csv_data/weather_data.csv', encoding='latin-1')"
   ]
  },
  {
   "cell_type": "code",
   "execution_count": 46,
   "metadata": {
    "collapsed": true
   },
   "outputs": [],
   "source": [
    "df_weather = df_weather.rename(columns={'Rainfall (Yes or No)': 'Rain'})\n",
    "df_weather = df_weather.rename(columns={'Temperature C': 'Temperature'})\n",
    "df_weather = df_weather.rename(columns={'Relative Humidity (%)': 'Humidity'})\n",
    "df_weather = df_weather.rename(columns={'Over 1mm Rain?': 'Heavy_rain'})\n",
    "df_weather = df_weather.rename(columns={'Precipitation (mm)': 'Precipitation'})\n",
    "df_weather = df_weather.rename(columns={'Date': 'Time'})\n",
    "df_weather['Time'] = pd.to_datetime(df_weather['Time'])\n",
    "df_weather.sort_values(['Time'], ascending=[True], inplace=True)\n",
    "df_weather['HourOfDay'] = df_weather['Time'].dt.hour"
   ]
  },
  {
   "cell_type": "code",
   "execution_count": 47,
   "metadata": {
    "collapsed": true
   },
   "outputs": [],
   "source": [
    "df.sort_values(['Time'], ascending=[True], inplace=True)\n",
    "df_weather.sort_values(['Time'], ascending=[True], inplace=True)\n",
    "df =  pd.merge_asof(df, df_weather, on='Time')"
   ]
  },
  {
   "cell_type": "code",
   "execution_count": 48,
   "metadata": {},
   "outputs": [
    {
     "data": {
      "text/plain": [
       "Index(['At_Stop', 'Block_ID', 'Delay', 'Journey_Pattern_ID', 'Lat', 'LineID',\n",
       "       'Lon', 'Operator', 'Start_date', 'Stop_ID', 'Timestamp', 'Vehicle_ID',\n",
       "       'Vehicle_Journey_ID', 'full_trip', 'normal_time', 'stop_order', 'Time',\n",
       "       'IsWeekend', 'HourOfDay_x', 'MinsOfHour', 'MinsOfHour30',\n",
       "       'MinsOfHour15', 'MinsOfHour45', 'Time_bin_xxx', 'before_end',\n",
       "       'before_tenPM', 'before_six', 'before_four', 'before_eleven',\n",
       "       'before_nine', 'DayOfWeek', 'IsEveningTime', 'Direction_north',\n",
       "       'RDS_Event', 'BankHoliday', 'SchoolHoliday', 'Stop_name',\n",
       "       'Stop_sequence', 'Precipitation', 'Temperature',\n",
       "       'Vapour Pressure (hPa)                ', 'Humidity',\n",
       "       'Mean Sea Level Pressure (hPa)', 'Rain', 'Heavy_rain'],\n",
       "      dtype='object')"
      ]
     },
     "execution_count": 48,
     "metadata": {},
     "output_type": "execute_result"
    }
   ],
   "source": [
    "#code from here: https://stackoverflow.com/questions/27313647/merging-two-pandas-dataframes-results-in-duplicate-columns\n",
    "\n",
    "def drop_y(df):\n",
    "    # list comprehension of the cols that end with '_y'\n",
    "    to_drop = [x for x in df if x.endswith('_y')]\n",
    "    df.drop(to_drop, axis=1, inplace=True)\n",
    "\n",
    "drop_y(df)\n",
    "df.columns"
   ]
  },
  {
   "cell_type": "code",
   "execution_count": 49,
   "metadata": {
    "collapsed": true
   },
   "outputs": [],
   "source": [
    "def rename_x(df):\n",
    "    for col in df:\n",
    "        if col.endswith('_x'):\n",
    "            df.rename(columns={col:col.rstrip('_x')}, inplace=True)\n",
    "rename_x(df)"
   ]
  },
  {
   "cell_type": "markdown",
   "metadata": {},
   "source": [
    "df['Proper_rain'] = np.where(((df['Precipitation'] < 2.3) & (df['Precipitation'] > 1.7) & (df['IsPeakTime']==1)), 1, 0)"
   ]
  },
  {
   "cell_type": "markdown",
   "metadata": {},
   "source": [
    "# 3.0 Remove and categories columns"
   ]
  },
  {
   "cell_type": "markdown",
   "metadata": {},
   "source": [
    "## 3.1 Drop missing values"
   ]
  },
  {
   "cell_type": "code",
   "execution_count": 50,
   "metadata": {
    "collapsed": true
   },
   "outputs": [],
   "source": [
    "df = df[df['Journey_Pattern_ID'] != 'null']"
   ]
  },
  {
   "cell_type": "markdown",
   "metadata": {},
   "source": [
    "## 3.2 Categorise to continuous and categorical"
   ]
  },
  {
   "cell_type": "code",
   "execution_count": 51,
   "metadata": {
    "collapsed": true
   },
   "outputs": [],
   "source": [
    "continuous_columns = df.select_dtypes(['int64', 'float64']).columns"
   ]
  },
  {
   "cell_type": "markdown",
   "metadata": {},
   "source": [
    "## 3.3 Drop columns no longer needed"
   ]
  },
  {
   "cell_type": "code",
   "execution_count": 52,
   "metadata": {
    "collapsed": true
   },
   "outputs": [],
   "source": [
    "df = df.drop('Lat', axis=1)\n",
    "df = df.drop('Lon', axis=1)\n",
    "df = df.drop('Block_ID', axis=1)\n",
    "df = df.drop('Operator', axis=1)"
   ]
  },
  {
   "cell_type": "markdown",
   "metadata": {},
   "source": [
    "## 3.4 Create time to destination feature"
   ]
  },
  {
   "cell_type": "code",
   "execution_count": 53,
   "metadata": {
    "collapsed": true
   },
   "outputs": [],
   "source": [
    "df['end_time'] = df.groupby(['Vehicle_Journey_ID', 'Start_date'])['Timestamp'].transform(max)"
   ]
  },
  {
   "cell_type": "code",
   "execution_count": 54,
   "metadata": {
    "collapsed": true
   },
   "outputs": [],
   "source": [
    "df['start_time'] = df.groupby(['Vehicle_Journey_ID', 'Start_date'])['Timestamp'].transform(min)"
   ]
  },
  {
   "cell_type": "code",
   "execution_count": 55,
   "metadata": {
    "collapsed": true
   },
   "outputs": [],
   "source": [
    "df['start_stop'] = df.groupby(['Vehicle_Journey_ID', 'Start_date'])['Stop_sequence'].transform(min)"
   ]
  },
  {
   "cell_type": "code",
   "execution_count": 56,
   "metadata": {
    "collapsed": true
   },
   "outputs": [],
   "source": [
    "df['max_stop_sequence'] = df.groupby(['Direction_north'])['Stop_sequence'].transform(max)"
   ]
  },
  {
   "cell_type": "code",
   "execution_count": 57,
   "metadata": {
    "collapsed": true
   },
   "outputs": [],
   "source": [
    "df['end_stop'] = df.groupby(['Vehicle_Journey_ID', 'Start_date'])['Stop_sequence'].transform(max)"
   ]
  },
  {
   "cell_type": "code",
   "execution_count": 58,
   "metadata": {
    "collapsed": true
   },
   "outputs": [],
   "source": [
    "df['stops_travelled'] = ((df['end_stop'] - df['start_stop']) )"
   ]
  },
  {
   "cell_type": "code",
   "execution_count": 59,
   "metadata": {
    "collapsed": true
   },
   "outputs": [],
   "source": [
    "df['scheduled__overall_journey_time']=60"
   ]
  },
  {
   "cell_type": "code",
   "execution_count": 60,
   "metadata": {},
   "outputs": [
    {
     "data": {
      "text/html": [
       "<div>\n",
       "<style>\n",
       "    .dataframe thead tr:only-child th {\n",
       "        text-align: right;\n",
       "    }\n",
       "\n",
       "    .dataframe thead th {\n",
       "        text-align: left;\n",
       "    }\n",
       "\n",
       "    .dataframe tbody tr th {\n",
       "        vertical-align: top;\n",
       "    }\n",
       "</style>\n",
       "<table border=\"1\" class=\"dataframe\">\n",
       "  <thead>\n",
       "    <tr style=\"text-align: right;\">\n",
       "      <th></th>\n",
       "      <th>At_Stop</th>\n",
       "      <th>Delay</th>\n",
       "      <th>Journey_Pattern_ID</th>\n",
       "      <th>LineID</th>\n",
       "      <th>Start_date</th>\n",
       "      <th>Stop_ID</th>\n",
       "      <th>Timestamp</th>\n",
       "      <th>Vehicle_ID</th>\n",
       "      <th>Vehicle_Journey_ID</th>\n",
       "      <th>full_trip</th>\n",
       "      <th>...</th>\n",
       "      <th>end_stop</th>\n",
       "      <th>stops_travelled</th>\n",
       "      <th>scheduled__overall_journey_time</th>\n",
       "      <th>late</th>\n",
       "      <th>time_travelling</th>\n",
       "      <th>time_to_travel</th>\n",
       "      <th>journey_time</th>\n",
       "      <th>mins_late</th>\n",
       "      <th>speed_journey_full</th>\n",
       "      <th>speed_trip</th>\n",
       "    </tr>\n",
       "  </thead>\n",
       "  <tbody>\n",
       "    <tr>\n",
       "      <th>0</th>\n",
       "      <td>1</td>\n",
       "      <td>-8</td>\n",
       "      <td>00040001</td>\n",
       "      <td>4.0</td>\n",
       "      <td>2013-01-01</td>\n",
       "      <td>7113</td>\n",
       "      <td>22617154.0</td>\n",
       "      <td>43046</td>\n",
       "      <td>15475</td>\n",
       "      <td>1.0</td>\n",
       "      <td>...</td>\n",
       "      <td>57</td>\n",
       "      <td>54</td>\n",
       "      <td>60</td>\n",
       "      <td>0</td>\n",
       "      <td>0.0</td>\n",
       "      <td>42.0</td>\n",
       "      <td>42.0</td>\n",
       "      <td>-18</td>\n",
       "      <td>0.724138</td>\n",
       "      <td>0.000000</td>\n",
       "    </tr>\n",
       "    <tr>\n",
       "      <th>1</th>\n",
       "      <td>1</td>\n",
       "      <td>-36</td>\n",
       "      <td>00040001</td>\n",
       "      <td>4.0</td>\n",
       "      <td>2013-01-01</td>\n",
       "      <td>127</td>\n",
       "      <td>22617156.0</td>\n",
       "      <td>43046</td>\n",
       "      <td>15475</td>\n",
       "      <td>1.0</td>\n",
       "      <td>...</td>\n",
       "      <td>57</td>\n",
       "      <td>54</td>\n",
       "      <td>60</td>\n",
       "      <td>0</td>\n",
       "      <td>1.0</td>\n",
       "      <td>40.0</td>\n",
       "      <td>42.0</td>\n",
       "      <td>-18</td>\n",
       "      <td>0.724138</td>\n",
       "      <td>0.250000</td>\n",
       "    </tr>\n",
       "    <tr>\n",
       "      <th>2</th>\n",
       "      <td>1</td>\n",
       "      <td>-108</td>\n",
       "      <td>00040001</td>\n",
       "      <td>4.0</td>\n",
       "      <td>2013-01-01</td>\n",
       "      <td>37</td>\n",
       "      <td>22617159.0</td>\n",
       "      <td>43046</td>\n",
       "      <td>15475</td>\n",
       "      <td>1.0</td>\n",
       "      <td>...</td>\n",
       "      <td>57</td>\n",
       "      <td>54</td>\n",
       "      <td>60</td>\n",
       "      <td>0</td>\n",
       "      <td>5.0</td>\n",
       "      <td>37.0</td>\n",
       "      <td>42.0</td>\n",
       "      <td>-18</td>\n",
       "      <td>0.724138</td>\n",
       "      <td>0.555556</td>\n",
       "    </tr>\n",
       "    <tr>\n",
       "      <th>3</th>\n",
       "      <td>1</td>\n",
       "      <td>-187</td>\n",
       "      <td>00040001</td>\n",
       "      <td>4.0</td>\n",
       "      <td>2013-01-01</td>\n",
       "      <td>185</td>\n",
       "      <td>22617162.0</td>\n",
       "      <td>43046</td>\n",
       "      <td>15475</td>\n",
       "      <td>1.0</td>\n",
       "      <td>...</td>\n",
       "      <td>57</td>\n",
       "      <td>54</td>\n",
       "      <td>60</td>\n",
       "      <td>0</td>\n",
       "      <td>8.0</td>\n",
       "      <td>34.0</td>\n",
       "      <td>42.0</td>\n",
       "      <td>-18</td>\n",
       "      <td>0.724138</td>\n",
       "      <td>0.500000</td>\n",
       "    </tr>\n",
       "    <tr>\n",
       "      <th>4</th>\n",
       "      <td>1</td>\n",
       "      <td>-496</td>\n",
       "      <td>00040001</td>\n",
       "      <td>4.0</td>\n",
       "      <td>2013-01-01</td>\n",
       "      <td>4725</td>\n",
       "      <td>22617168.0</td>\n",
       "      <td>43046</td>\n",
       "      <td>15475</td>\n",
       "      <td>1.0</td>\n",
       "      <td>...</td>\n",
       "      <td>57</td>\n",
       "      <td>54</td>\n",
       "      <td>60</td>\n",
       "      <td>0</td>\n",
       "      <td>14.0</td>\n",
       "      <td>28.0</td>\n",
       "      <td>42.0</td>\n",
       "      <td>-18</td>\n",
       "      <td>0.724138</td>\n",
       "      <td>0.560000</td>\n",
       "    </tr>\n",
       "  </tbody>\n",
       "</table>\n",
       "<p>5 rows × 55 columns</p>\n",
       "</div>"
      ],
      "text/plain": [
       "   At_Stop  Delay Journey_Pattern_ID  LineID  Start_date Stop_ID   Timestamp  \\\n",
       "0        1     -8           00040001     4.0  2013-01-01    7113  22617154.0   \n",
       "1        1    -36           00040001     4.0  2013-01-01     127  22617156.0   \n",
       "2        1   -108           00040001     4.0  2013-01-01      37  22617159.0   \n",
       "3        1   -187           00040001     4.0  2013-01-01     185  22617162.0   \n",
       "4        1   -496           00040001     4.0  2013-01-01    4725  22617168.0   \n",
       "\n",
       "   Vehicle_ID  Vehicle_Journey_ID  full_trip     ...      end_stop  \\\n",
       "0       43046               15475        1.0     ...            57   \n",
       "1       43046               15475        1.0     ...            57   \n",
       "2       43046               15475        1.0     ...            57   \n",
       "3       43046               15475        1.0     ...            57   \n",
       "4       43046               15475        1.0     ...            57   \n",
       "\n",
       "   stops_travelled scheduled__overall_journey_time  late  time_travelling  \\\n",
       "0               54                              60     0              0.0   \n",
       "1               54                              60     0              1.0   \n",
       "2               54                              60     0              5.0   \n",
       "3               54                              60     0              8.0   \n",
       "4               54                              60     0             14.0   \n",
       "\n",
       "   time_to_travel  journey_time  mins_late  speed_journey_full  speed_trip  \n",
       "0            42.0          42.0        -18            0.724138    0.000000  \n",
       "1            40.0          42.0        -18            0.724138    0.250000  \n",
       "2            37.0          42.0        -18            0.724138    0.555556  \n",
       "3            34.0          42.0        -18            0.724138    0.500000  \n",
       "4            28.0          42.0        -18            0.724138    0.560000  \n",
       "\n",
       "[5 rows x 55 columns]"
      ]
     },
     "execution_count": 60,
     "metadata": {},
     "output_type": "execute_result"
    }
   ],
   "source": [
    "df['late'] = ((df['end_time'] - df['start_time']) )\n",
    "df['time_travelling'] = ((df['Timestamp'] - df['start_time']) )\n",
    "df['time_to_travel'] = ((df['end_time'] - df['Timestamp'] ) )\n",
    "df['time_travelling'] = pd.to_timedelta(df['time_travelling']*1000, unit=\"ns\").astype('timedelta64[m]')\n",
    "df['time_to_travel'] = pd.to_timedelta(df['time_to_travel']*1000, unit=\"ns\").astype('timedelta64[m]')\n",
    "df['journey_time'] = pd.to_timedelta(df['late']*1000, unit=\"ns\").astype('timedelta64[m]')\n",
    "df['Timestamp'] = pd.to_timedelta(df['Timestamp']*1000, unit=\"ns\").astype('timedelta64[m]')\n",
    "df['mins_late'] = ((df['journey_time'].astype(int) - 60))\n",
    "df['late'] = np.where((df['mins_late'] > 1), 1, 0)\n",
    "# df = df.loc[ (df.Stop_ID == '7226') | (df.Stop_ID == '322') | (df.Stop_ID == '332') | (df.Stop_ID == '6085')| (df.Stop_ID == '2026')]\n",
    "df['speed_journey_full']= ((df['journey_time'] / df['max_stop_sequence'].astype('float64') ))\n",
    "df['speed_trip']= ((df['time_travelling'] / df['Stop_sequence'].astype('float64')) )\n",
    "df.head()"
   ]
  },
  {
   "cell_type": "markdown",
   "metadata": {},
   "source": [
    "df['number_stops_full_route'] = df.groupby(['Stop_sequence'])['Stop_sequence'].transform(max)\n",
    "df.to_csv('check_no_stops.csv')"
   ]
  },
  {
   "cell_type": "code",
   "execution_count": 61,
   "metadata": {
    "collapsed": true
   },
   "outputs": [],
   "source": [
    "df['scheduled_speed_per_stop'] = df['scheduled__overall_journey_time']/df['max_stop_sequence']"
   ]
  },
  {
   "cell_type": "code",
   "execution_count": 62,
   "metadata": {
    "collapsed": true
   },
   "outputs": [],
   "source": [
    "df['scheduled_journey_time']=df['scheduled_speed_per_stop'] * df['stops_travelled']\n",
    "df.to_csv('check.csv')"
   ]
  },
  {
   "cell_type": "markdown",
   "metadata": {},
   "source": [
    "df['distance']= 60/df['Stop_sequence']"
   ]
  },
  {
   "cell_type": "markdown",
   "metadata": {},
   "source": [
    "df['time_diff_to_destination'] = df['end_time'] - df['Timestamp']\n",
    "df.shape"
   ]
  },
  {
   "cell_type": "code",
   "execution_count": 63,
   "metadata": {},
   "outputs": [
    {
     "data": {
      "text/plain": [
       "(6175, 57)"
      ]
     },
     "execution_count": 63,
     "metadata": {},
     "output_type": "execute_result"
    }
   ],
   "source": [
    "df_count = df.loc[(df.DayOfWeek == 0)]\n",
    "df_count.shape"
   ]
  },
  {
   "cell_type": "code",
   "execution_count": 64,
   "metadata": {},
   "outputs": [
    {
     "data": {
      "text/plain": [
       "(6175, 57)"
      ]
     },
     "execution_count": 64,
     "metadata": {},
     "output_type": "execute_result"
    }
   ],
   "source": [
    "df_count = df.loc[(df.DayOfWeek == 0)]\n",
    "df_count.shape"
   ]
  },
  {
   "cell_type": "code",
   "execution_count": 65,
   "metadata": {
    "collapsed": true
   },
   "outputs": [],
   "source": [
    "#df = df.loc[(df.Stop_ID == '7113') | (df.Stop_ID == '7330') | (df.Stop_ID == '7226') | (df.Stop_ID == '322')]"
   ]
  },
  {
   "cell_type": "code",
   "execution_count": 66,
   "metadata": {
    "scrolled": false
   },
   "outputs": [
    {
     "data": {
      "text/plain": [
       "Index(['At_Stop', 'Delay', 'Journey_Pattern_ID', 'LineID', 'Start_date',\n",
       "       'Stop_ID', 'Timestamp', 'Vehicle_ID', 'Vehicle_Journey_ID', 'full_trip',\n",
       "       'normal_time', 'stop_order', 'Time', 'IsWeekend', 'HourOfDay',\n",
       "       'MinsOfHour', 'MinsOfHour30', 'MinsOfHour15', 'MinsOfHour45',\n",
       "       'Time_bin_xxx', 'before_end', 'before_tenPM', 'before_six',\n",
       "       'before_four', 'before_eleven', 'before_nine', 'DayOfWeek',\n",
       "       'IsEveningTime', 'Direction_north', 'RDS_Event', 'BankHoliday',\n",
       "       'SchoolHoliday', 'Stop_name', 'Stop_sequence', 'Precipitation',\n",
       "       'Temperature', 'Vapour Pressure (hPa)                ', 'Humidity',\n",
       "       'Mean Sea Level Pressure (hPa)', 'Rain', 'Heavy_rain', 'end_time',\n",
       "       'start_time', 'start_stop', 'max_stop_sequence', 'end_stop',\n",
       "       'stops_travelled', 'scheduled__overall_journey_time', 'late',\n",
       "       'time_travelling', 'time_to_travel', 'journey_time', 'mins_late',\n",
       "       'speed_journey_full', 'speed_trip', 'scheduled_speed_per_stop',\n",
       "       'scheduled_journey_time'],\n",
       "      dtype='object')"
      ]
     },
     "execution_count": 66,
     "metadata": {},
     "output_type": "execute_result"
    }
   ],
   "source": [
    "df.columns"
   ]
  },
  {
   "cell_type": "code",
   "execution_count": 67,
   "metadata": {
    "collapsed": true,
    "scrolled": true
   },
   "outputs": [],
   "source": [
    "#grouped_df.get_group((4601, '2013-01-29'))"
   ]
  },
  {
   "cell_type": "code",
   "execution_count": 68,
   "metadata": {},
   "outputs": [
    {
     "data": {
      "text/plain": [
       "(36975, 57)"
      ]
     },
     "execution_count": 68,
     "metadata": {},
     "output_type": "execute_result"
    }
   ],
   "source": [
    "df['Vehicle_Journey_ID'] = pd.to_numeric(df['Vehicle_Journey_ID'], errors='coerce')\n",
    "df.shape"
   ]
  },
  {
   "cell_type": "markdown",
   "metadata": {},
   "source": [
    "#    # Extra plots"
   ]
  },
  {
   "cell_type": "code",
   "execution_count": 69,
   "metadata": {},
   "outputs": [
    {
     "data": {
      "text/plain": [
       "<matplotlib.figure.Figure at 0x11611d0b8>"
      ]
     },
     "metadata": {},
     "output_type": "display_data"
    },
    {
     "data": {
      "image/png": "[encoded data removed]",
      "text/plain": [
       "<matplotlib.figure.Figure at 0x11611d390>"
      ]
     },
     "metadata": {},
     "output_type": "display_data"
    }
   ],
   "source": [
    "plt.figure()\n",
    "flierprops = dict(marker='o', markerfacecolor='green', markersize=6,\n",
    "                  linestyle='none')\n",
    "bp = df.boxplot(column=['journey_time'], by=['Time_bin_xxx'], showmeans=True, flierprops=flierprops, figsize=(20,14))\n",
    "plt.savefig('Temp_to_late.pdf')"
   ]
  },
  {
   "cell_type": "code",
   "execution_count": 70,
   "metadata": {},
   "outputs": [
    {
     "data": {
      "text/plain": [
       "<matplotlib.figure.Figure at 0x1149321d0>"
      ]
     },
     "metadata": {},
     "output_type": "display_data"
    },
    {
     "data": {
      "image/png": "[encoded data removed]",
      "text/plain": [
       "<matplotlib.figure.Figure at 0x11177c8d0>"
      ]
     },
     "metadata": {},
     "output_type": "display_data"
    }
   ],
   "source": [
    "plt.figure()\n",
    "flierprops = dict(marker='o', markerfacecolor='green', markersize=6,\n",
    "                  linestyle='none')\n",
    "bp = df.boxplot(column=['time_travelling'], by=['scheduled_speed_per_stop'], showmeans=True, flierprops=flierprops, figsize=(20,14))\n",
    "plt.savefig('Temp_to_late.pdf')"
   ]
  },
  {
   "cell_type": "code",
   "execution_count": 71,
   "metadata": {},
   "outputs": [
    {
     "data": {
      "text/plain": [
       "<matplotlib.figure.Figure at 0x11177ca20>"
      ]
     },
     "metadata": {},
     "output_type": "display_data"
    },
    {
     "data": {
      "image/png": "[encoded data removed]",
      "text/plain": [
       "<matplotlib.figure.Figure at 0x111aaf780>"
      ]
     },
     "metadata": {},
     "output_type": "display_data"
    }
   ],
   "source": [
    "plt.figure()\n",
    "flierprops = dict(marker='o', markerfacecolor='green', markersize=6,\n",
    "                  linestyle='none')\n",
    "bp = df.boxplot(column=['journey_time'], by=['MinsOfHour'], showmeans=True, flierprops=flierprops, figsize=(10,7))\n",
    "plt.savefig('Mins_to_journey_time.pdf')"
   ]
  },
  {
   "cell_type": "code",
   "execution_count": 72,
   "metadata": {},
   "outputs": [
    {
     "data": {
      "text/plain": [
       "<matplotlib.figure.Figure at 0x111b41cc0>"
      ]
     },
     "metadata": {},
     "output_type": "display_data"
    },
    {
     "data": {
      "image/png": "[encoded data removed]",
      "text/plain": [
       "<matplotlib.figure.Figure at 0x114d58d68>"
      ]
     },
     "metadata": {},
     "output_type": "display_data"
    }
   ],
   "source": [
    "plt.figure()\n",
    "flierprops = dict(marker='o', markerfacecolor='green', markersize=6,\n",
    "                  linestyle='none')\n",
    "bp = df.boxplot(column=['journey_time'], by=['DayOfWeek'], flierprops=flierprops, figsize=(10,7))\n",
    "plt.savefig('Rain_to_DayOfWeek_chart.pdf')"
   ]
  },
  {
   "cell_type": "markdown",
   "metadata": {},
   "source": [
    "What is this telling us that there are absolutely no outliers here?"
   ]
  },
  {
   "cell_type": "code",
   "execution_count": 73,
   "metadata": {},
   "outputs": [
    {
     "data": {
      "text/plain": [
       "<matplotlib.figure.Figure at 0x115e27ba8>"
      ]
     },
     "metadata": {},
     "output_type": "display_data"
    },
    {
     "data": {
      "image/png": "[encoded data removed]",
      "text/plain": [
       "<matplotlib.figure.Figure at 0x115e3dc50>"
      ]
     },
     "metadata": {},
     "output_type": "display_data"
    }
   ],
   "source": [
    "plt.figure()\n",
    "flierprops = dict(marker='o', markerfacecolor='green', markersize=6,\n",
    "                  linestyle='none')\n",
    "bp = df.boxplot(column=['journey_time'], by=['Precipitation'], flierprops=flierprops, figsize=(10,7))\n",
    "plt.savefig('Rain_to_late.pdf')"
   ]
  },
  {
   "cell_type": "code",
   "execution_count": 74,
   "metadata": {},
   "outputs": [
    {
     "data": {
      "text/plain": [
       "<matplotlib.figure.Figure at 0x115e4e550>"
      ]
     },
     "metadata": {},
     "output_type": "display_data"
    },
    {
     "data": {
      "image/png": "[encoded data removed]",
      "text/plain": [
       "<matplotlib.figure.Figure at 0x117503b70>"
      ]
     },
     "metadata": {},
     "output_type": "display_data"
    }
   ],
   "source": [
    "plt.figure()\n",
    "flierprops = dict(marker='o', markerfacecolor='green', markersize=6,\n",
    "                  linestyle='none')\n",
    "bp = df.boxplot(column=['journey_time'], by=['Direction_north'], flierprops=flierprops, figsize=(10,7))\n",
    "plt.savefig('Journey_Pattern_ID_to_late.pdf')"
   ]
  },
  {
   "cell_type": "markdown",
   "metadata": {},
   "source": [
    "Represents direction"
   ]
  },
  {
   "cell_type": "code",
   "execution_count": 75,
   "metadata": {
    "scrolled": true
   },
   "outputs": [
    {
     "data": {
      "text/plain": [
       "<matplotlib.axes._subplots.AxesSubplot at 0x1174ce320>"
      ]
     },
     "execution_count": 75,
     "metadata": {},
     "output_type": "execute_result"
    },
    {
     "data": {
      "image/png": "[encoded data removed]",
      "text/plain": [
       "<matplotlib.figure.Figure at 0x1182fdba8>"
      ]
     },
     "metadata": {},
     "output_type": "display_data"
    }
   ],
   "source": [
    "df.Vehicle_Journey_ID.value_counts().plot(kind='bar')"
   ]
  },
  {
   "cell_type": "markdown",
   "metadata": {},
   "source": [
    "More buses running certain vehicle journey IDs"
   ]
  },
  {
   "cell_type": "code",
   "execution_count": 76,
   "metadata": {},
   "outputs": [
    {
     "data": {
      "text/plain": [
       "array([ 15475,  15488,  15480,  15493,  15483,   4894,   4905,   4542,\n",
       "         4951,   4572,   4585,   4936,   4915,   4906,   4952,   4543,\n",
       "         4575,   4558,   4601,   4925,   4586,   4573,   4916,   4559,\n",
       "         4587,   4917,   4954,   4545,   4577,   4918,   4898,   4546,\n",
       "         4561,   4928,   4940,   4956,   4579,   4590,   4929,   4920,\n",
       "         4900,   4957,   4591,   4930,   4942,   4549,   4592,   4902,\n",
       "         4913,   4959,   4933,   4582,   4593,   4903,   4934,   4945,\n",
       "         4904,   4946,   4568,   4949,   4555,   4895,   4937,   4896,\n",
       "         4544,   4926,   4938,   4897,   4560,   4588,   4919,   4547,\n",
       "         4562,   4548,   4563,   4564,   4565,   4932,   4944,   4923,\n",
       "         4914,   4583,   4924,   4935,   4948,   4553,   4597,   4554,\n",
       "         4557,   4907,   4576,   4908,   4927,   4955,   4910,   4899,\n",
       "         4911,   4580,   4958,   4550,   4594,   4595,   4947,   4567,\n",
       "         4570,  11064,  11078,  11346,  11066,  11347,  11079,  11067,\n",
       "        11080,  11353,  11337,  11068,  11349,  11092,  11355,  11093,\n",
       "        11339,  11083,  11351,  11096,  11357,  11097,  11086,  11343,\n",
       "        11088,  15486,  15487,  15478,  15664,  15489,  15479,  15665,\n",
       "        15666,  15481,  15482,  15670,  15495,  15485,   4556,   4953,\n",
       "         4939,   4921,   4943,   4552,   4584,   4598,   4569,   4589,\n",
       "         4912,   4574,   4581,   4931,   4596,   4578,   4551,   4909,\n",
       "         4941,   4901,   4922,   4566,   4950,  11065,  11090,  11352,\n",
       "        11091,  11069,  11338,  11082,  11350,  11070,  11094,  11071,\n",
       "        11084,  11095,  11341,  11072,  11085,  11073,  11342,  11099,\n",
       "        11087,  11075,  11344,  15476,  15663,  15491,  15667,  15669,\n",
       "        15484,   4571,   4960,  11334,  11336,  11348,  11098,  11074,\n",
       "        15477,  15494,  11335,  11354, 947223, 963581])"
      ]
     },
     "execution_count": 76,
     "metadata": {},
     "output_type": "execute_result"
    }
   ],
   "source": [
    "df.Vehicle_Journey_ID.unique()"
   ]
  },
  {
   "cell_type": "markdown",
   "metadata": {},
   "source": [
    "import statsmodels.formula.api as sm\n",
    "\n",
    "# Train all continuous features.\n",
    "check1 = sm.ols(formula=\"journey_time ~ Proper_rain\", data=df).fit()\n",
    "# Print the weights learned for each feature.\n",
    "print(check1.summary())"
   ]
  },
  {
   "cell_type": "code",
   "execution_count": 77,
   "metadata": {},
   "outputs": [
    {
     "data": {
      "text/plain": [
       "<matplotlib.axes._subplots.AxesSubplot at 0x11079a438>"
      ]
     },
     "execution_count": 77,
     "metadata": {},
     "output_type": "execute_result"
    },
    {
     "data": {
      "image/png": "[encoded data removed]",
      "text/plain": [
       "<matplotlib.figure.Figure at 0x11232afd0>"
      ]
     },
     "metadata": {},
     "output_type": "display_data"
    }
   ],
   "source": [
    "df.plot(kind = 'scatter', y='journey_time', x='Humidity')"
   ]
  },
  {
   "cell_type": "code",
   "execution_count": 78,
   "metadata": {},
   "outputs": [
    {
     "data": {
      "text/plain": [
       "<matplotlib.axes._subplots.AxesSubplot at 0x1187076a0>"
      ]
     },
     "execution_count": 78,
     "metadata": {},
     "output_type": "execute_result"
    },
    {
     "data": {
      "image/png": "[encoded data removed]",
      "text/plain": [
       "<matplotlib.figure.Figure at 0x1182fd5f8>"
      ]
     },
     "metadata": {},
     "output_type": "display_data"
    }
   ],
   "source": [
    "df.plot(kind = 'scatter', y='journey_time', x='Precipitation')"
   ]
  },
  {
   "cell_type": "code",
   "execution_count": 79,
   "metadata": {},
   "outputs": [
    {
     "data": {
      "text/plain": [
       "<matplotlib.axes._subplots.AxesSubplot at 0x1124d1ef0>"
      ]
     },
     "execution_count": 79,
     "metadata": {},
     "output_type": "execute_result"
    },
    {
     "data": {
      "image/png": "[encoded data removed]",
      "text/plain": [
       "<matplotlib.figure.Figure at 0x111bb80b8>"
      ]
     },
     "metadata": {},
     "output_type": "display_data"
    }
   ],
   "source": [
    "df.plot(kind = 'scatter', y='journey_time', x='Temperature')"
   ]
  },
  {
   "cell_type": "code",
   "execution_count": 80,
   "metadata": {},
   "outputs": [
    {
     "data": {
      "text/plain": [
       "array([ 4585,  4906,  4543,  4575,  4601,  4925,  4586,  4917,  4954,\n",
       "        4545,  4918,  4898,  4561,  4928,  4579,  4929,  4920,  4900,\n",
       "        4591,  4942,  4549,  4592,  4902,  4913,  4959,  4933,  4593,\n",
       "        4903,  4936,  4895,  4952,  4558,  4916,  4937,  4544,  4587,\n",
       "        4938,  4577,  4560,  4588,  4940,  4919,  4547,  4562,  4563,\n",
       "        4564,  4565,  4932,  4944,  4914,  4915,  4907,  4576,  4908,\n",
       "        4927,  4955,  4899,  4911,  4580,  4930,  4958,  4550,  4594,\n",
       "        4923, 11080, 11349, 11093, 11339, 11083, 15664, 15489,  4951,\n",
       "        4897,  4939,  4590,  4548,  4943,  4582,  4573,  4953,  4546,\n",
       "        4910,  4912,  4896,  4926,  4581,  4931,  4572,  4559,  4578,\n",
       "        4589,  4921,  4909,  4956,  4941,  4957,  4901,  4922,  4934,\n",
       "       11353, 11091, 11092, 11338, 11350, 11070, 11351, 11094, 11071,\n",
       "       11357, 11095, 11085, 15663, 15488,  4905,  4542,  4960,  4551,\n",
       "        4566, 11336, 11348, 11337,  4574,  4583,  4945,  4584, 11335,\n",
       "       11347, 11090, 11354, 11069, 15665, 15481])"
      ]
     },
     "execution_count": 80,
     "metadata": {},
     "output_type": "execute_result"
    }
   ],
   "source": [
    "df_check_journey_ID = df.loc[df['mins_late'] > 1]\n",
    "df_check_journey_ID = df_check_journey_ID[['late','Vehicle_Journey_ID']]\n",
    "df_check_journey_ID.Vehicle_Journey_ID.unique()"
   ]
  },
  {
   "cell_type": "markdown",
   "metadata": {},
   "source": [
    "If Vehicle Journey ID starts with 9 it is never late"
   ]
  },
  {
   "cell_type": "code",
   "execution_count": 81,
   "metadata": {},
   "outputs": [
    {
     "data": {
      "text/plain": [
       "303     2013-01-02 08:22:59\n",
       "1601    2013-01-03 08:21:18\n",
       "3187    2013-01-04 08:29:35\n",
       "5885    2013-01-07 08:41:04\n",
       "10754   2013-01-10 08:30:42\n",
       "12412   2013-01-11 08:41:11\n",
       "15466   2013-01-14 08:41:52\n",
       "16871   2013-01-15 08:39:06\n",
       "22001   2013-01-18 08:35:24\n",
       "24446   2013-01-21 08:41:30\n",
       "25925   2013-01-22 08:32:19\n",
       "27480   2013-01-23 08:42:54\n",
       "32880   2013-01-28 08:38:46\n",
       "34246   2013-01-29 08:43:20\n",
       "Name: Time, dtype: datetime64[ns]"
      ]
     },
     "execution_count": 81,
     "metadata": {},
     "output_type": "execute_result"
    }
   ],
   "source": [
    "df_check_2 = df.loc[(df.Vehicle_Journey_ID == 4585) & (df.Stop_ID == '7226')]\n",
    "df_check_2.Time"
   ]
  },
  {
   "cell_type": "code",
   "execution_count": 82,
   "metadata": {},
   "outputs": [
    {
     "data": {
      "text/plain": [
       "(0, 100)"
      ]
     },
     "execution_count": 82,
     "metadata": {},
     "output_type": "execute_result"
    },
    {
     "data": {
      "image/png": "[encoded data removed]",
      "text/plain": [
       "<matplotlib.figure.Figure at 0x117265630>"
      ]
     },
     "metadata": {},
     "output_type": "display_data"
    }
   ],
   "source": [
    "SchoolHoliday = pd.unique(df.SchoolHoliday.ravel())\n",
    "\n",
    "# Insert a new column called 'percent' and fill it with 0s\n",
    "df['percent'] = 0\n",
    "\n",
    "for p in SchoolHoliday:\n",
    "    count = 1 / df[df.SchoolHoliday == p].count()['late']\n",
    "    index_list = df[df['SchoolHoliday'] == p].index.tolist()\n",
    "    for i in index_list:\n",
    "        df.loc[i, 'percent'] = count * 100\n",
    "        \n",
    "# Group dataframe and sum percent\n",
    "group = df[['percent','SchoolHoliday','late']].groupby(['SchoolHoliday','late']).sum()\n",
    "\n",
    "# Plot values of group in a stacked bar chart\n",
    "my_plot = group.unstack().plot(kind='bar', stacked=True, title=\"SchoolHoliday by Late\", figsize=(15,7))\n",
    "\n",
    "# Define label colours and text and add to the plot\n",
    "red_patch = mpatches.Patch(color='green', label='Late')\n",
    "blue_patch = mpatches.Patch(color='blue', label='NotLate')\n",
    "my_plot.legend(handles=[red_patch, blue_patch], frameon = True)\n",
    "\n",
    "# Define x and y labels and min and max values for the y axis\n",
    "my_plot.set_xlabel(\"SchoolHoliday\")\n",
    "my_plot.set_ylabel(\"late\")\n",
    "my_plot.set_ylim([0,100])"
   ]
  },
  {
   "cell_type": "code",
   "execution_count": 83,
   "metadata": {},
   "outputs": [
    {
     "data": {
      "text/plain": [
       "(0, 100)"
      ]
     },
     "execution_count": 83,
     "metadata": {},
     "output_type": "execute_result"
    },
    {
     "data": {
      "image/png": "[encoded data removed]",
      "text/plain": [
       "<matplotlib.figure.Figure at 0x1124fac18>"
      ]
     },
     "metadata": {},
     "output_type": "display_data"
    }
   ],
   "source": [
    "BankHoliday = pd.unique(df.BankHoliday.ravel())\n",
    "\n",
    "# Insert a new column called 'percent' and fill it with 0s\n",
    "df['percent'] = 0\n",
    "\n",
    "for p in BankHoliday:\n",
    "    count = 1 / df[df.BankHoliday == p].count()['late']\n",
    "    index_list = df[df['BankHoliday'] == p].index.tolist()\n",
    "    for i in index_list:\n",
    "        df.loc[i, 'percent'] = count * 100\n",
    "        \n",
    "# Group dataframe and sum percent\n",
    "group = df[['percent','BankHoliday','late']].groupby(['BankHoliday','late']).sum()\n",
    "\n",
    "# Plot values of group in a stacked bar chart\n",
    "my_plot = group.unstack().plot(kind='bar', stacked=True, title=\"BankHoliday by Late\", figsize=(15,7))\n",
    "\n",
    "# Define label colours and text and add to the plot\n",
    "red_patch = mpatches.Patch(color='green', label='Late')\n",
    "blue_patch = mpatches.Patch(color='blue', label='NotLate')\n",
    "my_plot.legend(handles=[red_patch, blue_patch], frameon = True)\n",
    "\n",
    "# Define x and y labels and min and max values for the y axis\n",
    "my_plot.set_xlabel(\"BankHoliday\")\n",
    "my_plot.set_ylabel(\"late\")\n",
    "my_plot.set_ylim([0,100])"
   ]
  },
  {
   "cell_type": "code",
   "execution_count": 84,
   "metadata": {},
   "outputs": [
    {
     "data": {
      "text/plain": [
       "(0, 100)"
      ]
     },
     "execution_count": 84,
     "metadata": {},
     "output_type": "execute_result"
    },
    {
     "data": {
      "image/png": "[encoded data removed]",
      "text/plain": [
       "<matplotlib.figure.Figure at 0x114c23710>"
      ]
     },
     "metadata": {},
     "output_type": "display_data"
    }
   ],
   "source": [
    "IsWeekend = pd.unique(df.IsWeekend.ravel())\n",
    "\n",
    "# Insert a new column called 'percent' and fill it with 0s\n",
    "df['percent'] = 0\n",
    "\n",
    "for p in SchoolHoliday:\n",
    "    count = 1 / df[df.IsWeekend == p].count()['late']\n",
    "    index_list = df[df['IsWeekend'] == p].index.tolist()\n",
    "    for i in index_list:\n",
    "        df.loc[i, 'percent'] = count * 100\n",
    "        \n",
    "# Group dataframe and sum percent\n",
    "group = df[['percent','IsWeekend','late']].groupby(['IsWeekend','late']).sum()\n",
    "\n",
    "# Plot values of group in a stacked bar chart\n",
    "my_plot = group.unstack().plot(kind='bar', stacked=True, title=\"IsWeekend by Late\", figsize=(15,7))\n",
    "\n",
    "# Define label colours and text and add to the plot\n",
    "red_patch = mpatches.Patch(color='green', label='Late')\n",
    "blue_patch = mpatches.Patch(color='blue', label='NotLate')\n",
    "my_plot.legend(handles=[red_patch, blue_patch], frameon = True)\n",
    "\n",
    "# Define x and y labels and min and max values for the y axis\n",
    "my_plot.set_xlabel(\"IsWeekend\")\n",
    "my_plot.set_ylabel(\"late\")\n",
    "my_plot.set_ylim([0,100])"
   ]
  },
  {
   "cell_type": "code",
   "execution_count": 85,
   "metadata": {},
   "outputs": [
    {
     "data": {
      "text/plain": [
       "(0, 100)"
      ]
     },
     "execution_count": 85,
     "metadata": {},
     "output_type": "execute_result"
    },
    {
     "data": {
      "image/png": "[encoded data removed]",
      "text/plain": [
       "<matplotlib.figure.Figure at 0x115e41b38>"
      ]
     },
     "metadata": {},
     "output_type": "display_data"
    }
   ],
   "source": [
    "# Group dataframe  and sum percent\n",
    "group = df[['percent','DayOfWeek','late']].groupby(['DayOfWeek','late']).sum()\n",
    "\n",
    "# Plot values of group in a stacked bar chart\n",
    "my_plot = group.unstack().plot(kind='bar', stacked=True, title=\"DayOfWeek by Late\", figsize=(15,7))\n",
    "\n",
    "# Define label colours and text and add to the plot\n",
    "red_patch = mpatches.Patch(color='green', label='Late')\n",
    "blue_patch = mpatches.Patch(color='blue', label='NotLate')\n",
    "my_plot.legend(handles=[red_patch, blue_patch], frameon = True)\n",
    "\n",
    "# Define x and y labels and min and max values for the y axis\n",
    "my_plot.set_xlabel(\"DayOfWeek\")\n",
    "my_plot.set_ylabel(\"late\")\n",
    "my_plot.set_ylim([0,100])"
   ]
  },
  {
   "cell_type": "code",
   "execution_count": 86,
   "metadata": {},
   "outputs": [
    {
     "data": {
      "text/plain": [
       "(0, 100)"
      ]
     },
     "execution_count": 86,
     "metadata": {},
     "output_type": "execute_result"
    },
    {
     "data": {
      "image/png": "[encoded data removed]",
      "text/plain": [
       "<matplotlib.figure.Figure at 0x1172bc2e8>"
      ]
     },
     "metadata": {},
     "output_type": "display_data"
    }
   ],
   "source": [
    "# Group dataframe and sum percent\n",
    "group = df[['percent','HourOfDay','late']].groupby(['HourOfDay','late']).sum()\n",
    "\n",
    "# Plot values of group in a stacked bar chart\n",
    "my_plot = group.unstack().plot(kind='bar', stacked=True, title=\"HourOfDay by Late\", figsize=(15,7))\n",
    "\n",
    "# Define label colours and text and add to the plot\n",
    "red_patch = mpatches.Patch(color='green', label='Late')\n",
    "blue_patch = mpatches.Patch(color='blue', label='NotLate')\n",
    "my_plot.legend(handles=[red_patch, blue_patch], frameon = True)\n",
    "\n",
    "# Define x and y labels and min and max values for the y axis\n",
    "my_plot.set_xlabel(\"HourOfDay\")\n",
    "my_plot.set_ylabel(\"late\")\n",
    "my_plot.set_ylim([0,100])"
   ]
  },
  {
   "cell_type": "code",
   "execution_count": 87,
   "metadata": {
    "collapsed": true
   },
   "outputs": [],
   "source": [
    "bins=[10,20,30,40,50,60,70,80,90,100,110]"
   ]
  },
  {
   "cell_type": "code",
   "execution_count": 88,
   "metadata": {},
   "outputs": [
    {
     "data": {
      "text/plain": [
       "array([ 4,  5,  6,  7,  3,  0,  8,  9,  2,  1, 10])"
      ]
     },
     "execution_count": 88,
     "metadata": {},
     "output_type": "execute_result"
    }
   ],
   "source": [
    "df['time_bins'] = np.digitize(df.journey_time.values, bins=bins)\n",
    "df.time_bins.unique()"
   ]
  },
  {
   "cell_type": "code",
   "execution_count": 89,
   "metadata": {},
   "outputs": [
    {
     "data": {
      "text/plain": [
       "(36975, 59)"
      ]
     },
     "execution_count": 89,
     "metadata": {},
     "output_type": "execute_result"
    }
   ],
   "source": [
    "df.shape"
   ]
  },
  {
   "cell_type": "code",
   "execution_count": 90,
   "metadata": {},
   "outputs": [
    {
     "data": {
      "text/html": [
       "<div>\n",
       "<style>\n",
       "    .dataframe thead tr:only-child th {\n",
       "        text-align: right;\n",
       "    }\n",
       "\n",
       "    .dataframe thead th {\n",
       "        text-align: left;\n",
       "    }\n",
       "\n",
       "    .dataframe tbody tr th {\n",
       "        vertical-align: top;\n",
       "    }\n",
       "</style>\n",
       "<table border=\"1\" class=\"dataframe\">\n",
       "  <thead>\n",
       "    <tr style=\"text-align: right;\">\n",
       "      <th></th>\n",
       "      <th>journey_time</th>\n",
       "      <th>Vehicle_Journey_ID</th>\n",
       "      <th>Time</th>\n",
       "      <th>stop_order</th>\n",
       "      <th>Stop_ID</th>\n",
       "      <th>end_time</th>\n",
       "    </tr>\n",
       "  </thead>\n",
       "  <tbody>\n",
       "    <tr>\n",
       "      <th>4691</th>\n",
       "      <td>0.0</td>\n",
       "      <td>4570</td>\n",
       "      <td>2013-01-04 23:24:44</td>\n",
       "      <td>1</td>\n",
       "      <td>324</td>\n",
       "      <td>1357341884000000</td>\n",
       "    </tr>\n",
       "    <tr>\n",
       "      <th>31093</th>\n",
       "      <td>0.0</td>\n",
       "      <td>4580</td>\n",
       "      <td>2013-01-25 14:46:13</td>\n",
       "      <td>1</td>\n",
       "      <td>324</td>\n",
       "      <td>1359125173000000</td>\n",
       "    </tr>\n",
       "    <tr>\n",
       "      <th>35500</th>\n",
       "      <td>0.0</td>\n",
       "      <td>4570</td>\n",
       "      <td>2013-01-29 23:26:05</td>\n",
       "      <td>1</td>\n",
       "      <td>324</td>\n",
       "      <td>1359501965000000</td>\n",
       "    </tr>\n",
       "    <tr>\n",
       "      <th>36394</th>\n",
       "      <td>0.0</td>\n",
       "      <td>4570</td>\n",
       "      <td>2013-01-30 23:24:54</td>\n",
       "      <td>1</td>\n",
       "      <td>324</td>\n",
       "      <td>1359588294000000</td>\n",
       "    </tr>\n",
       "    <tr>\n",
       "      <th>22810</th>\n",
       "      <td>0.0</td>\n",
       "      <td>4902</td>\n",
       "      <td>2013-01-18 16:48:11</td>\n",
       "      <td>1</td>\n",
       "      <td>7330</td>\n",
       "      <td>1358527691000000</td>\n",
       "    </tr>\n",
       "    <tr>\n",
       "      <th>18360</th>\n",
       "      <td>0.0</td>\n",
       "      <td>4570</td>\n",
       "      <td>2013-01-15 23:24:51</td>\n",
       "      <td>1</td>\n",
       "      <td>324</td>\n",
       "      <td>1358292291000000</td>\n",
       "    </tr>\n",
       "    <tr>\n",
       "      <th>16526</th>\n",
       "      <td>0.0</td>\n",
       "      <td>4570</td>\n",
       "      <td>2013-01-14 23:25:08</td>\n",
       "      <td>1</td>\n",
       "      <td>324</td>\n",
       "      <td>1358205908000000</td>\n",
       "    </tr>\n",
       "    <tr>\n",
       "      <th>14756</th>\n",
       "      <td>0.0</td>\n",
       "      <td>11087</td>\n",
       "      <td>2013-01-12 21:43:34</td>\n",
       "      <td>1</td>\n",
       "      <td>324</td>\n",
       "      <td>1358027014000000</td>\n",
       "    </tr>\n",
       "    <tr>\n",
       "      <th>13887</th>\n",
       "      <td>0.0</td>\n",
       "      <td>4904</td>\n",
       "      <td>2013-01-11 20:34:46</td>\n",
       "      <td>2</td>\n",
       "      <td>332</td>\n",
       "      <td>1357936486000000</td>\n",
       "    </tr>\n",
       "    <tr>\n",
       "      <th>26363</th>\n",
       "      <td>0.0</td>\n",
       "      <td>4547</td>\n",
       "      <td>2013-01-22 13:15:29</td>\n",
       "      <td>1</td>\n",
       "      <td>324</td>\n",
       "      <td>1358860529000000</td>\n",
       "    </tr>\n",
       "    <tr>\n",
       "      <th>10111</th>\n",
       "      <td>0.0</td>\n",
       "      <td>4959</td>\n",
       "      <td>2013-01-09 17:16:59</td>\n",
       "      <td>1</td>\n",
       "      <td>324</td>\n",
       "      <td>1357751819000000</td>\n",
       "    </tr>\n",
       "    <tr>\n",
       "      <th>7292</th>\n",
       "      <td>0.0</td>\n",
       "      <td>4570</td>\n",
       "      <td>2013-01-07 23:24:45</td>\n",
       "      <td>1</td>\n",
       "      <td>324</td>\n",
       "      <td>1357601085000000</td>\n",
       "    </tr>\n",
       "    <tr>\n",
       "      <th>8851</th>\n",
       "      <td>0.0</td>\n",
       "      <td>4570</td>\n",
       "      <td>2013-01-08 23:24:49</td>\n",
       "      <td>1</td>\n",
       "      <td>324</td>\n",
       "      <td>1357687489000000</td>\n",
       "    </tr>\n",
       "    <tr>\n",
       "      <th>10416</th>\n",
       "      <td>0.0</td>\n",
       "      <td>4570</td>\n",
       "      <td>2013-01-09 23:25:23</td>\n",
       "      <td>1</td>\n",
       "      <td>324</td>\n",
       "      <td>1357773923000000</td>\n",
       "    </tr>\n",
       "    <tr>\n",
       "      <th>13137</th>\n",
       "      <td>0.0</td>\n",
       "      <td>4547</td>\n",
       "      <td>2013-01-11 14:12:45</td>\n",
       "      <td>1</td>\n",
       "      <td>324</td>\n",
       "      <td>1357913565000000</td>\n",
       "    </tr>\n",
       "    <tr>\n",
       "      <th>9430</th>\n",
       "      <td>1.0</td>\n",
       "      <td>4897</td>\n",
       "      <td>2013-01-09 10:38:51</td>\n",
       "      <td>1</td>\n",
       "      <td>7113</td>\n",
       "      <td>1357728027000000</td>\n",
       "    </tr>\n",
       "    <tr>\n",
       "      <th>9435</th>\n",
       "      <td>1.0</td>\n",
       "      <td>4897</td>\n",
       "      <td>2013-01-09 10:40:27</td>\n",
       "      <td>2</td>\n",
       "      <td>127</td>\n",
       "      <td>1357728027000000</td>\n",
       "    </tr>\n",
       "    <tr>\n",
       "      <th>23760</th>\n",
       "      <td>3.0</td>\n",
       "      <td>11098</td>\n",
       "      <td>2013-01-19 20:37:29</td>\n",
       "      <td>2</td>\n",
       "      <td>112</td>\n",
       "      <td>1358627849000000</td>\n",
       "    </tr>\n",
       "    <tr>\n",
       "      <th>23758</th>\n",
       "      <td>3.0</td>\n",
       "      <td>11098</td>\n",
       "      <td>2013-01-19 20:34:29</td>\n",
       "      <td>1</td>\n",
       "      <td>7113</td>\n",
       "      <td>1358627849000000</td>\n",
       "    </tr>\n",
       "    <tr>\n",
       "      <th>27724</th>\n",
       "      <td>4.0</td>\n",
       "      <td>4954</td>\n",
       "      <td>2013-01-23 10:51:14</td>\n",
       "      <td>2</td>\n",
       "      <td>3163</td>\n",
       "      <td>1358938330000000</td>\n",
       "    </tr>\n",
       "    <tr>\n",
       "      <th>27725</th>\n",
       "      <td>4.0</td>\n",
       "      <td>4954</td>\n",
       "      <td>2013-01-23 10:52:10</td>\n",
       "      <td>3</td>\n",
       "      <td>3164</td>\n",
       "      <td>1358938330000000</td>\n",
       "    </tr>\n",
       "    <tr>\n",
       "      <th>27720</th>\n",
       "      <td>4.0</td>\n",
       "      <td>4954</td>\n",
       "      <td>2013-01-23 10:47:15</td>\n",
       "      <td>1</td>\n",
       "      <td>2051</td>\n",
       "      <td>1358938330000000</td>\n",
       "    </tr>\n",
       "    <tr>\n",
       "      <th>11671</th>\n",
       "      <td>5.0</td>\n",
       "      <td>4550</td>\n",
       "      <td>2013-01-10 17:15:21</td>\n",
       "      <td>2</td>\n",
       "      <td>6</td>\n",
       "      <td>1357838121000000</td>\n",
       "    </tr>\n",
       "    <tr>\n",
       "      <th>11667</th>\n",
       "      <td>5.0</td>\n",
       "      <td>4550</td>\n",
       "      <td>2013-01-10 17:10:20</td>\n",
       "      <td>1</td>\n",
       "      <td>7330</td>\n",
       "      <td>1357838121000000</td>\n",
       "    </tr>\n",
       "    <tr>\n",
       "      <th>14700</th>\n",
       "      <td>9.0</td>\n",
       "      <td>11342</td>\n",
       "      <td>2013-01-12 20:15:23</td>\n",
       "      <td>6</td>\n",
       "      <td>39</td>\n",
       "      <td>1358021723000000</td>\n",
       "    </tr>\n",
       "    <tr>\n",
       "      <th>14698</th>\n",
       "      <td>9.0</td>\n",
       "      <td>11342</td>\n",
       "      <td>2013-01-12 20:13:23</td>\n",
       "      <td>5</td>\n",
       "      <td>37</td>\n",
       "      <td>1358021723000000</td>\n",
       "    </tr>\n",
       "    <tr>\n",
       "      <th>14690</th>\n",
       "      <td>9.0</td>\n",
       "      <td>11342</td>\n",
       "      <td>2013-01-12 20:09:44</td>\n",
       "      <td>3</td>\n",
       "      <td>113</td>\n",
       "      <td>1358021723000000</td>\n",
       "    </tr>\n",
       "    <tr>\n",
       "      <th>14688</th>\n",
       "      <td>9.0</td>\n",
       "      <td>11342</td>\n",
       "      <td>2013-01-12 20:08:22</td>\n",
       "      <td>2</td>\n",
       "      <td>112</td>\n",
       "      <td>1358021723000000</td>\n",
       "    </tr>\n",
       "    <tr>\n",
       "      <th>14686</th>\n",
       "      <td>9.0</td>\n",
       "      <td>11342</td>\n",
       "      <td>2013-01-12 20:06:07</td>\n",
       "      <td>1</td>\n",
       "      <td>7113</td>\n",
       "      <td>1358021723000000</td>\n",
       "    </tr>\n",
       "    <tr>\n",
       "      <th>14692</th>\n",
       "      <td>9.0</td>\n",
       "      <td>11342</td>\n",
       "      <td>2013-01-12 20:10:21</td>\n",
       "      <td>4</td>\n",
       "      <td>114</td>\n",
       "      <td>1358021723000000</td>\n",
       "    </tr>\n",
       "    <tr>\n",
       "      <th>23782</th>\n",
       "      <td>10.0</td>\n",
       "      <td>11074</td>\n",
       "      <td>2013-01-19 21:14:25</td>\n",
       "      <td>7</td>\n",
       "      <td>184</td>\n",
       "      <td>1358630065000000</td>\n",
       "    </tr>\n",
       "    <tr>\n",
       "      <th>23781</th>\n",
       "      <td>10.0</td>\n",
       "      <td>11074</td>\n",
       "      <td>2013-01-19 21:11:44</td>\n",
       "      <td>6</td>\n",
       "      <td>40</td>\n",
       "      <td>1358630065000000</td>\n",
       "    </tr>\n",
       "    <tr>\n",
       "      <th>23780</th>\n",
       "      <td>10.0</td>\n",
       "      <td>11074</td>\n",
       "      <td>2013-01-19 21:09:25</td>\n",
       "      <td>5</td>\n",
       "      <td>37</td>\n",
       "      <td>1358630065000000</td>\n",
       "    </tr>\n",
       "    <tr>\n",
       "      <th>23779</th>\n",
       "      <td>10.0</td>\n",
       "      <td>11074</td>\n",
       "      <td>2013-01-19 21:08:44</td>\n",
       "      <td>4</td>\n",
       "      <td>115</td>\n",
       "      <td>1358630065000000</td>\n",
       "    </tr>\n",
       "    <tr>\n",
       "      <th>23778</th>\n",
       "      <td>10.0</td>\n",
       "      <td>11074</td>\n",
       "      <td>2013-01-19 21:07:45</td>\n",
       "      <td>3</td>\n",
       "      <td>113</td>\n",
       "      <td>1358630065000000</td>\n",
       "    </tr>\n",
       "    <tr>\n",
       "      <th>23775</th>\n",
       "      <td>10.0</td>\n",
       "      <td>11074</td>\n",
       "      <td>2013-01-19 21:03:48</td>\n",
       "      <td>1</td>\n",
       "      <td>7113</td>\n",
       "      <td>1358630065000000</td>\n",
       "    </tr>\n",
       "    <tr>\n",
       "      <th>23776</th>\n",
       "      <td>10.0</td>\n",
       "      <td>11074</td>\n",
       "      <td>2013-01-19 21:05:06</td>\n",
       "      <td>2</td>\n",
       "      <td>127</td>\n",
       "      <td>1358630065000000</td>\n",
       "    </tr>\n",
       "    <tr>\n",
       "      <th>36128</th>\n",
       "      <td>17.0</td>\n",
       "      <td>4546</td>\n",
       "      <td>2013-01-30 12:17:50</td>\n",
       "      <td>7</td>\n",
       "      <td>487</td>\n",
       "      <td>1359548270000000</td>\n",
       "    </tr>\n",
       "    <tr>\n",
       "      <th>36127</th>\n",
       "      <td>17.0</td>\n",
       "      <td>4546</td>\n",
       "      <td>2013-01-30 12:16:19</td>\n",
       "      <td>6</td>\n",
       "      <td>485</td>\n",
       "      <td>1359548270000000</td>\n",
       "    </tr>\n",
       "    <tr>\n",
       "      <th>36126</th>\n",
       "      <td>17.0</td>\n",
       "      <td>4546</td>\n",
       "      <td>2013-01-30 12:14:21</td>\n",
       "      <td>5</td>\n",
       "      <td>479</td>\n",
       "      <td>1359548270000000</td>\n",
       "    </tr>\n",
       "    <tr>\n",
       "      <th>36125</th>\n",
       "      <td>17.0</td>\n",
       "      <td>4546</td>\n",
       "      <td>2013-01-30 12:10:47</td>\n",
       "      <td>4</td>\n",
       "      <td>475</td>\n",
       "      <td>1359548270000000</td>\n",
       "    </tr>\n",
       "    <tr>\n",
       "      <th>36124</th>\n",
       "      <td>17.0</td>\n",
       "      <td>4546</td>\n",
       "      <td>2013-01-30 12:08:28</td>\n",
       "      <td>3</td>\n",
       "      <td>3084</td>\n",
       "      <td>1359548270000000</td>\n",
       "    </tr>\n",
       "    <tr>\n",
       "      <th>36122</th>\n",
       "      <td>17.0</td>\n",
       "      <td>4546</td>\n",
       "      <td>2013-01-30 12:00:25</td>\n",
       "      <td>1</td>\n",
       "      <td>7330</td>\n",
       "      <td>1359548270000000</td>\n",
       "    </tr>\n",
       "    <tr>\n",
       "      <th>36123</th>\n",
       "      <td>17.0</td>\n",
       "      <td>4546</td>\n",
       "      <td>2013-01-30 12:04:10</td>\n",
       "      <td>2</td>\n",
       "      <td>3162</td>\n",
       "      <td>1359548270000000</td>\n",
       "    </tr>\n",
       "    <tr>\n",
       "      <th>31423</th>\n",
       "      <td>17.0</td>\n",
       "      <td>4593</td>\n",
       "      <td>2013-01-25 18:36:29</td>\n",
       "      <td>6</td>\n",
       "      <td>188</td>\n",
       "      <td>1359139188000000</td>\n",
       "    </tr>\n",
       "    <tr>\n",
       "      <th>31418</th>\n",
       "      <td>17.0</td>\n",
       "      <td>4593</td>\n",
       "      <td>2013-01-25 18:33:50</td>\n",
       "      <td>5</td>\n",
       "      <td>186</td>\n",
       "      <td>1359139188000000</td>\n",
       "    </tr>\n",
       "    <tr>\n",
       "      <th>31414</th>\n",
       "      <td>17.0</td>\n",
       "      <td>4593</td>\n",
       "      <td>2013-01-25 18:28:49</td>\n",
       "      <td>4</td>\n",
       "      <td>37</td>\n",
       "      <td>1359139188000000</td>\n",
       "    </tr>\n",
       "    <tr>\n",
       "      <th>31408</th>\n",
       "      <td>17.0</td>\n",
       "      <td>4593</td>\n",
       "      <td>2013-01-25 18:25:08</td>\n",
       "      <td>3</td>\n",
       "      <td>112</td>\n",
       "      <td>1359139188000000</td>\n",
       "    </tr>\n",
       "    <tr>\n",
       "      <th>31407</th>\n",
       "      <td>17.0</td>\n",
       "      <td>4593</td>\n",
       "      <td>2013-01-25 18:24:08</td>\n",
       "      <td>2</td>\n",
       "      <td>127</td>\n",
       "      <td>1359139188000000</td>\n",
       "    </tr>\n",
       "    <tr>\n",
       "      <th>31402</th>\n",
       "      <td>17.0</td>\n",
       "      <td>4593</td>\n",
       "      <td>2013-01-25 18:21:49</td>\n",
       "      <td>1</td>\n",
       "      <td>7113</td>\n",
       "      <td>1359139188000000</td>\n",
       "    </tr>\n",
       "    <tr>\n",
       "      <th>31427</th>\n",
       "      <td>17.0</td>\n",
       "      <td>4593</td>\n",
       "      <td>2013-01-25 18:39:48</td>\n",
       "      <td>7</td>\n",
       "      <td>819</td>\n",
       "      <td>1359139188000000</td>\n",
       "    </tr>\n",
       "    <tr>\n",
       "      <th>37031</th>\n",
       "      <td>18.0</td>\n",
       "      <td>4545</td>\n",
       "      <td>2013-01-31 11:10:11</td>\n",
       "      <td>7</td>\n",
       "      <td>187</td>\n",
       "      <td>1359630711000000</td>\n",
       "    </tr>\n",
       "    <tr>\n",
       "      <th>36999</th>\n",
       "      <td>18.0</td>\n",
       "      <td>4545</td>\n",
       "      <td>2013-01-31 10:53:31</td>\n",
       "      <td>1</td>\n",
       "      <td>7113</td>\n",
       "      <td>1359630711000000</td>\n",
       "    </tr>\n",
       "    <tr>\n",
       "      <th>37006</th>\n",
       "      <td>18.0</td>\n",
       "      <td>4545</td>\n",
       "      <td>2013-01-31 10:55:55</td>\n",
       "      <td>2</td>\n",
       "      <td>112</td>\n",
       "      <td>1359630711000000</td>\n",
       "    </tr>\n",
       "    <tr>\n",
       "      <th>37014</th>\n",
       "      <td>18.0</td>\n",
       "      <td>4545</td>\n",
       "      <td>2013-01-31 11:00:27</td>\n",
       "      <td>3</td>\n",
       "      <td>37</td>\n",
       "      <td>1359630711000000</td>\n",
       "    </tr>\n",
       "    <tr>\n",
       "      <th>37021</th>\n",
       "      <td>18.0</td>\n",
       "      <td>4545</td>\n",
       "      <td>2013-01-31 11:02:47</td>\n",
       "      <td>4</td>\n",
       "      <td>40</td>\n",
       "      <td>1359630711000000</td>\n",
       "    </tr>\n",
       "    <tr>\n",
       "      <th>37023</th>\n",
       "      <td>18.0</td>\n",
       "      <td>4545</td>\n",
       "      <td>2013-01-31 11:04:32</td>\n",
       "      <td>5</td>\n",
       "      <td>146</td>\n",
       "      <td>1359630711000000</td>\n",
       "    </tr>\n",
       "    <tr>\n",
       "      <th>37029</th>\n",
       "      <td>18.0</td>\n",
       "      <td>4545</td>\n",
       "      <td>2013-01-31 11:08:26</td>\n",
       "      <td>6</td>\n",
       "      <td>186</td>\n",
       "      <td>1359630711000000</td>\n",
       "    </tr>\n",
       "    <tr>\n",
       "      <th>37032</th>\n",
       "      <td>18.0</td>\n",
       "      <td>4545</td>\n",
       "      <td>2013-01-31 11:11:51</td>\n",
       "      <td>8</td>\n",
       "      <td>188</td>\n",
       "      <td>1359630711000000</td>\n",
       "    </tr>\n",
       "  </tbody>\n",
       "</table>\n",
       "</div>"
      ],
      "text/plain": [
       "       journey_time  Vehicle_Journey_ID                Time  stop_order  \\\n",
       "4691            0.0                4570 2013-01-04 23:24:44           1   \n",
       "31093           0.0                4580 2013-01-25 14:46:13           1   \n",
       "35500           0.0                4570 2013-01-29 23:26:05           1   \n",
       "36394           0.0                4570 2013-01-30 23:24:54           1   \n",
       "22810           0.0                4902 2013-01-18 16:48:11           1   \n",
       "18360           0.0                4570 2013-01-15 23:24:51           1   \n",
       "16526           0.0                4570 2013-01-14 23:25:08           1   \n",
       "14756           0.0               11087 2013-01-12 21:43:34           1   \n",
       "13887           0.0                4904 2013-01-11 20:34:46           2   \n",
       "26363           0.0                4547 2013-01-22 13:15:29           1   \n",
       "10111           0.0                4959 2013-01-09 17:16:59           1   \n",
       "7292            0.0                4570 2013-01-07 23:24:45           1   \n",
       "8851            0.0                4570 2013-01-08 23:24:49           1   \n",
       "10416           0.0                4570 2013-01-09 23:25:23           1   \n",
       "13137           0.0                4547 2013-01-11 14:12:45           1   \n",
       "9430            1.0                4897 2013-01-09 10:38:51           1   \n",
       "9435            1.0                4897 2013-01-09 10:40:27           2   \n",
       "23760           3.0               11098 2013-01-19 20:37:29           2   \n",
       "23758           3.0               11098 2013-01-19 20:34:29           1   \n",
       "27724           4.0                4954 2013-01-23 10:51:14           2   \n",
       "27725           4.0                4954 2013-01-23 10:52:10           3   \n",
       "27720           4.0                4954 2013-01-23 10:47:15           1   \n",
       "11671           5.0                4550 2013-01-10 17:15:21           2   \n",
       "11667           5.0                4550 2013-01-10 17:10:20           1   \n",
       "14700           9.0               11342 2013-01-12 20:15:23           6   \n",
       "14698           9.0               11342 2013-01-12 20:13:23           5   \n",
       "14690           9.0               11342 2013-01-12 20:09:44           3   \n",
       "14688           9.0               11342 2013-01-12 20:08:22           2   \n",
       "14686           9.0               11342 2013-01-12 20:06:07           1   \n",
       "14692           9.0               11342 2013-01-12 20:10:21           4   \n",
       "23782          10.0               11074 2013-01-19 21:14:25           7   \n",
       "23781          10.0               11074 2013-01-19 21:11:44           6   \n",
       "23780          10.0               11074 2013-01-19 21:09:25           5   \n",
       "23779          10.0               11074 2013-01-19 21:08:44           4   \n",
       "23778          10.0               11074 2013-01-19 21:07:45           3   \n",
       "23775          10.0               11074 2013-01-19 21:03:48           1   \n",
       "23776          10.0               11074 2013-01-19 21:05:06           2   \n",
       "36128          17.0                4546 2013-01-30 12:17:50           7   \n",
       "36127          17.0                4546 2013-01-30 12:16:19           6   \n",
       "36126          17.0                4546 2013-01-30 12:14:21           5   \n",
       "36125          17.0                4546 2013-01-30 12:10:47           4   \n",
       "36124          17.0                4546 2013-01-30 12:08:28           3   \n",
       "36122          17.0                4546 2013-01-30 12:00:25           1   \n",
       "36123          17.0                4546 2013-01-30 12:04:10           2   \n",
       "31423          17.0                4593 2013-01-25 18:36:29           6   \n",
       "31418          17.0                4593 2013-01-25 18:33:50           5   \n",
       "31414          17.0                4593 2013-01-25 18:28:49           4   \n",
       "31408          17.0                4593 2013-01-25 18:25:08           3   \n",
       "31407          17.0                4593 2013-01-25 18:24:08           2   \n",
       "31402          17.0                4593 2013-01-25 18:21:49           1   \n",
       "31427          17.0                4593 2013-01-25 18:39:48           7   \n",
       "37031          18.0                4545 2013-01-31 11:10:11           7   \n",
       "36999          18.0                4545 2013-01-31 10:53:31           1   \n",
       "37006          18.0                4545 2013-01-31 10:55:55           2   \n",
       "37014          18.0                4545 2013-01-31 11:00:27           3   \n",
       "37021          18.0                4545 2013-01-31 11:02:47           4   \n",
       "37023          18.0                4545 2013-01-31 11:04:32           5   \n",
       "37029          18.0                4545 2013-01-31 11:08:26           6   \n",
       "37032          18.0                4545 2013-01-31 11:11:51           8   \n",
       "\n",
       "      Stop_ID          end_time  \n",
       "4691      324  1357341884000000  \n",
       "31093     324  1359125173000000  \n",
       "35500     324  1359501965000000  \n",
       "36394     324  1359588294000000  \n",
       "22810    7330  1358527691000000  \n",
       "18360     324  1358292291000000  \n",
       "16526     324  1358205908000000  \n",
       "14756     324  1358027014000000  \n",
       "13887     332  1357936486000000  \n",
       "26363     324  1358860529000000  \n",
       "10111     324  1357751819000000  \n",
       "7292      324  1357601085000000  \n",
       "8851      324  1357687489000000  \n",
       "10416     324  1357773923000000  \n",
       "13137     324  1357913565000000  \n",
       "9430     7113  1357728027000000  \n",
       "9435      127  1357728027000000  \n",
       "23760     112  1358627849000000  \n",
       "23758    7113  1358627849000000  \n",
       "27724    3163  1358938330000000  \n",
       "27725    3164  1358938330000000  \n",
       "27720    2051  1358938330000000  \n",
       "11671       6  1357838121000000  \n",
       "11667    7330  1357838121000000  \n",
       "14700      39  1358021723000000  \n",
       "14698      37  1358021723000000  \n",
       "14690     113  1358021723000000  \n",
       "14688     112  1358021723000000  \n",
       "14686    7113  1358021723000000  \n",
       "14692     114  1358021723000000  \n",
       "23782     184  1358630065000000  \n",
       "23781      40  1358630065000000  \n",
       "23780      37  1358630065000000  \n",
       "23779     115  1358630065000000  \n",
       "23778     113  1358630065000000  \n",
       "23775    7113  1358630065000000  \n",
       "23776     127  1358630065000000  \n",
       "36128     487  1359548270000000  \n",
       "36127     485  1359548270000000  \n",
       "36126     479  1359548270000000  \n",
       "36125     475  1359548270000000  \n",
       "36124    3084  1359548270000000  \n",
       "36122    7330  1359548270000000  \n",
       "36123    3162  1359548270000000  \n",
       "31423     188  1359139188000000  \n",
       "31418     186  1359139188000000  \n",
       "31414      37  1359139188000000  \n",
       "31408     112  1359139188000000  \n",
       "31407     127  1359139188000000  \n",
       "31402    7113  1359139188000000  \n",
       "31427     819  1359139188000000  \n",
       "37031     187  1359630711000000  \n",
       "36999    7113  1359630711000000  \n",
       "37006     112  1359630711000000  \n",
       "37014      37  1359630711000000  \n",
       "37021      40  1359630711000000  \n",
       "37023     146  1359630711000000  \n",
       "37029     186  1359630711000000  \n",
       "37032     188  1359630711000000  "
      ]
     },
     "execution_count": 90,
     "metadata": {},
     "output_type": "execute_result"
    }
   ],
   "source": [
    "df_check_journey_time = df.loc[df['journey_time'] < 20]\n",
    "df_check_journey_time = df_check_journey_time[['journey_time','Vehicle_Journey_ID', 'Time', 'stop_order', 'Stop_ID', 'end_time']]\n",
    "df_check_journey_time.sort_values(['journey_time'], ascending=[True])"
   ]
  },
  {
   "cell_type": "markdown",
   "metadata": {},
   "source": [
    "# 4.0 Save DF to be used in Model Analysis"
   ]
  },
  {
   "cell_type": "code",
   "execution_count": 91,
   "metadata": {
    "collapsed": true
   },
   "outputs": [],
   "source": [
    "# Save cleaned dataframe to new CSV file\n",
    "df.to_csv('csv_data/bus_route4_clean.csv', index=False)"
   ]
  },
  {
   "cell_type": "markdown",
   "metadata": {},
   "source": [
    "---"
   ]
  },
  {
   "cell_type": "code",
   "execution_count": 92,
   "metadata": {
    "collapsed": true
   },
   "outputs": [],
   "source": [
    "df_train = df[:130000]"
   ]
  },
  {
   "cell_type": "code",
   "execution_count": 93,
   "metadata": {
    "collapsed": true
   },
   "outputs": [],
   "source": [
    "df_test = df[130000:]"
   ]
  },
  {
   "cell_type": "markdown",
   "metadata": {
    "collapsed": true
   },
   "source": [
    "df_group = df.groupby(['Vehicle_Journey_ID', 'Start_date'])"
   ]
  },
  {
   "cell_type": "code",
   "execution_count": null,
   "metadata": {
    "collapsed": true
   },
   "outputs": [],
   "source": []
  }
 ],
 "metadata": {
  "anaconda-cloud": {},
  "kernelspec": {
   "display_name": "Python 3",
   "language": "python",
   "name": "python3"
  },
  "language_info": {
   "codemirror_mode": {
    "name": "ipython",
    "version": 3
   },
   "file_extension": ".py",
   "mimetype": "text/x-python",
   "name": "python",
   "nbconvert_exporter": "python",
   "pygments_lexer": "ipython3",
   "version": "3.6.1"
  }
 },
 "nbformat": 4,
 "nbformat_minor": 1
}
