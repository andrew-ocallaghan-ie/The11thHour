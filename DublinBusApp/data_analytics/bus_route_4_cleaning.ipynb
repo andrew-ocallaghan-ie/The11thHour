{
 "cells": [
  {
   "cell_type": "code",
   "execution_count": 1,
   "metadata": {
    "collapsed": false
   },
   "outputs": [
    {
     "name": "stderr",
     "output_type": "stream",
     "text": [
      "/Users/user/anaconda/lib/python3.5/site-packages/IPython/core/interactiveshell.py:2717: DtypeWarning: Columns (14) have mixed types. Specify dtype option on import or set low_memory=False.\n",
      "  interactivity=interactivity, compiler=compiler, result=result)\n"
     ]
    }
   ],
   "source": [
    "# The ultimate target feature: time from one stop to another\n",
    "\n",
    "# Imports\n",
    "import pandas as pd\n",
    "import numpy as np\n",
    "from datetime import date, datetime\n",
    "from patsy import dmatrices\n",
    "import seaborn as sns\n",
    "import matplotlib.pyplot as plt\n",
    "import matplotlib.patches as mpatches\n",
    "%matplotlib inline\n",
    "from sklearn.linear_model import LogisticRegression\n",
    "from sklearn import metrics\n",
    "from sklearn.tree import export_graphviz, DecisionTreeRegressor, DecisionTreeClassifier\n",
    "from sklearn.ensemble import RandomForestClassifier, RandomForestRegressor\n",
    "from sklearn import preprocessing\n",
    "from sklearn.pipeline import make_pipeline\n",
    "from sklearn.model_selection import GridSearchCV, train_test_split, cross_val_score\n",
    "from sklearn.metrics import mean_squared_error, r2_score\n",
    "from sklearn.externals import joblib \n",
    "from statsmodels.formula.api import ols\n",
    "\n",
    "# Read csv file into a dataframe.\n",
    "df = pd.read_csv('csv_data/route4.csv')"
   ]
  },
  {
   "cell_type": "code",
   "execution_count": null,
   "metadata": {
    "collapsed": true
   },
   "outputs": [],
   "source": []
  },
  {
   "cell_type": "markdown",
   "metadata": {},
   "source": [
    "# 1.0 Data Cleaning "
   ]
  },
  {
   "cell_type": "markdown",
   "metadata": {},
   "source": [
    "## 1.1 Rename column names"
   ]
  },
  {
   "cell_type": "code",
   "execution_count": 2,
   "metadata": {
    "collapsed": true
   },
   "outputs": [],
   "source": [
    "df = df.rename(columns={'Timeframe': 'Start_date'})"
   ]
  },
  {
   "cell_type": "markdown",
   "metadata": {},
   "source": [
    "## 1.2 Dropping duplicates"
   ]
  },
  {
   "cell_type": "code",
   "execution_count": 3,
   "metadata": {
    "collapsed": true
   },
   "outputs": [],
   "source": [
    "df=df.drop_duplicates(keep='first')"
   ]
  },
  {
   "cell_type": "markdown",
   "metadata": {},
   "source": [
    "## 1.3 Dropping constant columns or columns with missing data"
   ]
  },
  {
   "cell_type": "code",
   "execution_count": 4,
   "metadata": {
    "collapsed": true
   },
   "outputs": [],
   "source": [
    "df = df.drop('Direction', axis=1)\n",
    "df = df.drop('Unnamed: 0', axis=1)\n",
    "df = df.drop('Congestion', axis=1)\n",
    "df[df.Journey_Pattern_ID == 'null']\n",
    "df = df[df['Journey_Pattern_ID'] != '00040002']\n",
    "df = df[df['Journey_Pattern_ID'] != '00041002']"
   ]
  },
  {
   "cell_type": "markdown",
   "metadata": {},
   "source": [
    "## 1.4 Remove rows where bus is not at stop"
   ]
  },
  {
   "cell_type": "code",
   "execution_count": 5,
   "metadata": {
    "collapsed": true
   },
   "outputs": [],
   "source": [
    "df = df.loc[(df != 0).all(axis=1), :]"
   ]
  },
  {
   "cell_type": "markdown",
   "metadata": {},
   "source": [
    "## 1.5 Group to normalise time & remove rows where bus idle at stop"
   ]
  },
  {
   "cell_type": "code",
   "execution_count": 6,
   "metadata": {
    "collapsed": true
   },
   "outputs": [],
   "source": [
    "# Create empty column which will hold normalised time\n",
    "df['normal_time'] = 0"
   ]
  },
  {
   "cell_type": "code",
   "execution_count": 7,
   "metadata": {
    "collapsed": true
   },
   "outputs": [],
   "source": [
    "# Create empty column which will hold the stop order\n",
    "df['stop_order'] = 0"
   ]
  },
  {
   "cell_type": "code",
   "execution_count": 8,
   "metadata": {
    "collapsed": true
   },
   "outputs": [],
   "source": [
    "grouped_df = df.groupby(['Vehicle_Journey_ID', 'Start_date'])"
   ]
  },
  {
   "cell_type": "code",
   "execution_count": 9,
   "metadata": {
    "collapsed": true
   },
   "outputs": [],
   "source": [
    "def normalize_time(df):\n",
    "    \"\"\"Normalise the time for each journey\"\"\"\n",
    "    for i in range(df['Timestamp'].size):\n",
    "        df['normal_time'].values[i] = (df['Timestamp'].values[i] - df['Timestamp'].values[0]) / 1000000\n",
    "        \n",
    "    return df"
   ]
  },
  {
   "cell_type": "code",
   "execution_count": 10,
   "metadata": {
    "collapsed": true
   },
   "outputs": [],
   "source": [
    "norm_gb = grouped_df.apply(normalize_time)"
   ]
  },
  {
   "cell_type": "code",
   "execution_count": 11,
   "metadata": {
    "collapsed": true
   },
   "outputs": [],
   "source": [
    "grouped_df = norm_gb.groupby(['Vehicle_Journey_ID', 'Start_date'])"
   ]
  },
  {
   "cell_type": "code",
   "execution_count": 12,
   "metadata": {
    "collapsed": true
   },
   "outputs": [],
   "source": [
    "def remove_idle_at_stop(df):\n",
    "    df = df.drop_duplicates(subset='Stop_ID', keep='first')\n",
    "    \n",
    "    return df"
   ]
  },
  {
   "cell_type": "code",
   "execution_count": 13,
   "metadata": {
    "collapsed": true
   },
   "outputs": [],
   "source": [
    "norm_gb = grouped_df.apply(remove_idle_at_stop)"
   ]
  },
  {
   "cell_type": "code",
   "execution_count": 14,
   "metadata": {
    "collapsed": false
   },
   "outputs": [
    {
     "name": "stderr",
     "output_type": "stream",
     "text": [
      "/Users/user/anaconda/lib/python3.5/site-packages/ipykernel/__main__.py:1: FutureWarning: 'Vehicle_Journey_ID' is both a column name and an index level.\n",
      "Defaulting to column but this will raise an ambiguity error in a future version\n",
      "  if __name__ == '__main__':\n",
      "/Users/user/anaconda/lib/python3.5/site-packages/ipykernel/__main__.py:1: FutureWarning: 'Start_date' is both a column name and an index level.\n",
      "Defaulting to column but this will raise an ambiguity error in a future version\n",
      "  if __name__ == '__main__':\n"
     ]
    }
   ],
   "source": [
    "grouped_df = norm_gb.groupby(['Vehicle_Journey_ID', 'Start_date'])"
   ]
  },
  {
   "cell_type": "code",
   "execution_count": 15,
   "metadata": {
    "collapsed": true
   },
   "outputs": [],
   "source": [
    "def route_order(df):\n",
    "    for i in range(df['Timestamp'].size):\n",
    "        df['stop_order'].values[i] = i\n",
    "    \n",
    "    return df"
   ]
  },
  {
   "cell_type": "code",
   "execution_count": 16,
   "metadata": {
    "collapsed": true
   },
   "outputs": [],
   "source": [
    "df = grouped_df.apply(route_order)"
   ]
  },
  {
   "cell_type": "code",
   "execution_count": 17,
   "metadata": {
    "collapsed": false
   },
   "outputs": [
    {
     "name": "stderr",
     "output_type": "stream",
     "text": [
      "/Users/user/anaconda/lib/python3.5/site-packages/ipykernel/__main__.py:1: FutureWarning: 'Vehicle_Journey_ID' is both a column name and an index level.\n",
      "Defaulting to column but this will raise an ambiguity error in a future version\n",
      "  if __name__ == '__main__':\n",
      "/Users/user/anaconda/lib/python3.5/site-packages/ipykernel/__main__.py:1: FutureWarning: 'Start_date' is both a column name and an index level.\n",
      "Defaulting to column but this will raise an ambiguity error in a future version\n",
      "  if __name__ == '__main__':\n"
     ]
    }
   ],
   "source": [
    "grouped_df = df.groupby(['Vehicle_Journey_ID', 'Start_date'])"
   ]
  },
  {
   "cell_type": "code",
   "execution_count": 18,
   "metadata": {
    "collapsed": false
   },
   "outputs": [
    {
     "data": {
      "text/html": [
       "<div>\n",
       "<style>\n",
       "    .dataframe thead tr:only-child th {\n",
       "        text-align: right;\n",
       "    }\n",
       "\n",
       "    .dataframe thead th {\n",
       "        text-align: left;\n",
       "    }\n",
       "\n",
       "    .dataframe tbody tr th {\n",
       "        vertical-align: top;\n",
       "    }\n",
       "</style>\n",
       "<table border=\"1\" class=\"dataframe\">\n",
       "  <thead>\n",
       "    <tr style=\"text-align: right;\">\n",
       "      <th></th>\n",
       "      <th></th>\n",
       "      <th></th>\n",
       "      <th>Timestamp</th>\n",
       "      <th>LineID</th>\n",
       "      <th>Journey_Pattern_ID</th>\n",
       "      <th>Start_date</th>\n",
       "      <th>Vehicle_Journey_ID</th>\n",
       "      <th>Operator</th>\n",
       "      <th>Lon</th>\n",
       "      <th>Lat</th>\n",
       "      <th>Delay</th>\n",
       "      <th>Block_ID</th>\n",
       "      <th>Vehicle_ID</th>\n",
       "      <th>Stop_ID</th>\n",
       "      <th>At_Stop</th>\n",
       "      <th>normal_time</th>\n",
       "      <th>stop_order</th>\n",
       "    </tr>\n",
       "    <tr>\n",
       "      <th>Vehicle_Journey_ID</th>\n",
       "      <th>Start_date</th>\n",
       "      <th></th>\n",
       "      <th></th>\n",
       "      <th></th>\n",
       "      <th></th>\n",
       "      <th></th>\n",
       "      <th></th>\n",
       "      <th></th>\n",
       "      <th></th>\n",
       "      <th></th>\n",
       "      <th></th>\n",
       "      <th></th>\n",
       "      <th></th>\n",
       "      <th></th>\n",
       "      <th></th>\n",
       "      <th></th>\n",
       "      <th></th>\n",
       "    </tr>\n",
       "  </thead>\n",
       "  <tbody>\n",
       "    <tr>\n",
       "      <th rowspan=\"31\" valign=\"top\">4601</th>\n",
       "      <th rowspan=\"31\" valign=\"top\">2013-01-29</th>\n",
       "      <th>639880</th>\n",
       "      <td>1359448403000000</td>\n",
       "      <td>4.0</td>\n",
       "      <td>00041001</td>\n",
       "      <td>2013-01-29</td>\n",
       "      <td>4601</td>\n",
       "      <td>HN</td>\n",
       "      <td>-6.159831</td>\n",
       "      <td>53.286541</td>\n",
       "      <td>108</td>\n",
       "      <td>822025</td>\n",
       "      <td>33547</td>\n",
       "      <td>2051</td>\n",
       "      <td>1</td>\n",
       "      <td>0</td>\n",
       "      <td>0</td>\n",
       "    </tr>\n",
       "    <tr>\n",
       "      <th>640011</th>\n",
       "      <td>1359448659000000</td>\n",
       "      <td>4.0</td>\n",
       "      <td>00041001</td>\n",
       "      <td>2013-01-29</td>\n",
       "      <td>4601</td>\n",
       "      <td>HN</td>\n",
       "      <td>-6.167912</td>\n",
       "      <td>53.287037</td>\n",
       "      <td>233</td>\n",
       "      <td>822025</td>\n",
       "      <td>33547</td>\n",
       "      <td>3161</td>\n",
       "      <td>1</td>\n",
       "      <td>256</td>\n",
       "      <td>1</td>\n",
       "    </tr>\n",
       "    <tr>\n",
       "      <th>640042</th>\n",
       "      <td>1359448726000000</td>\n",
       "      <td>4.0</td>\n",
       "      <td>00041001</td>\n",
       "      <td>2013-01-29</td>\n",
       "      <td>4601</td>\n",
       "      <td>HN</td>\n",
       "      <td>-6.167534</td>\n",
       "      <td>53.289749</td>\n",
       "      <td>220</td>\n",
       "      <td>822025</td>\n",
       "      <td>33547</td>\n",
       "      <td>3162</td>\n",
       "      <td>1</td>\n",
       "      <td>323</td>\n",
       "      <td>2</td>\n",
       "    </tr>\n",
       "    <tr>\n",
       "      <th>640071</th>\n",
       "      <td>1359448781000000</td>\n",
       "      <td>4.0</td>\n",
       "      <td>00041001</td>\n",
       "      <td>2013-01-29</td>\n",
       "      <td>4601</td>\n",
       "      <td>HN</td>\n",
       "      <td>-6.166771</td>\n",
       "      <td>53.292568</td>\n",
       "      <td>220</td>\n",
       "      <td>822025</td>\n",
       "      <td>33547</td>\n",
       "      <td>3163</td>\n",
       "      <td>1</td>\n",
       "      <td>378</td>\n",
       "      <td>3</td>\n",
       "    </tr>\n",
       "    <tr>\n",
       "      <th>640121</th>\n",
       "      <td>1359448889000000</td>\n",
       "      <td>4.0</td>\n",
       "      <td>00041001</td>\n",
       "      <td>2013-01-29</td>\n",
       "      <td>4601</td>\n",
       "      <td>HN</td>\n",
       "      <td>-6.169822</td>\n",
       "      <td>53.295616</td>\n",
       "      <td>220</td>\n",
       "      <td>822025</td>\n",
       "      <td>33547</td>\n",
       "      <td>3164</td>\n",
       "      <td>1</td>\n",
       "      <td>486</td>\n",
       "      <td>4</td>\n",
       "    </tr>\n",
       "    <tr>\n",
       "      <th>640161</th>\n",
       "      <td>1359448979000000</td>\n",
       "      <td>4.0</td>\n",
       "      <td>00041001</td>\n",
       "      <td>2013-01-29</td>\n",
       "      <td>4601</td>\n",
       "      <td>HN</td>\n",
       "      <td>-6.181077</td>\n",
       "      <td>53.301456</td>\n",
       "      <td>106</td>\n",
       "      <td>822025</td>\n",
       "      <td>33547</td>\n",
       "      <td>3084</td>\n",
       "      <td>1</td>\n",
       "      <td>576</td>\n",
       "      <td>5</td>\n",
       "    </tr>\n",
       "    <tr>\n",
       "      <th>640191</th>\n",
       "      <td>1359449039000000</td>\n",
       "      <td>4.0</td>\n",
       "      <td>00041001</td>\n",
       "      <td>2013-01-29</td>\n",
       "      <td>4601</td>\n",
       "      <td>HN</td>\n",
       "      <td>-6.183967</td>\n",
       "      <td>53.302956</td>\n",
       "      <td>138</td>\n",
       "      <td>822025</td>\n",
       "      <td>33547</td>\n",
       "      <td>469</td>\n",
       "      <td>1</td>\n",
       "      <td>636</td>\n",
       "      <td>6</td>\n",
       "    </tr>\n",
       "    <tr>\n",
       "      <th>640231</th>\n",
       "      <td>1359449129000000</td>\n",
       "      <td>4.0</td>\n",
       "      <td>00041001</td>\n",
       "      <td>2013-01-29</td>\n",
       "      <td>4601</td>\n",
       "      <td>HN</td>\n",
       "      <td>-6.188910</td>\n",
       "      <td>53.305687</td>\n",
       "      <td>132</td>\n",
       "      <td>822025</td>\n",
       "      <td>33547</td>\n",
       "      <td>470</td>\n",
       "      <td>1</td>\n",
       "      <td>726</td>\n",
       "      <td>7</td>\n",
       "    </tr>\n",
       "    <tr>\n",
       "      <th>640365</th>\n",
       "      <td>1359449411000000</td>\n",
       "      <td>4.0</td>\n",
       "      <td>00041001</td>\n",
       "      <td>2013-01-29</td>\n",
       "      <td>4601</td>\n",
       "      <td>HN</td>\n",
       "      <td>-6.197320</td>\n",
       "      <td>53.309319</td>\n",
       "      <td>242</td>\n",
       "      <td>822025</td>\n",
       "      <td>33547</td>\n",
       "      <td>473</td>\n",
       "      <td>1</td>\n",
       "      <td>1008</td>\n",
       "      <td>8</td>\n",
       "    </tr>\n",
       "    <tr>\n",
       "      <th>640421</th>\n",
       "      <td>1359449519000000</td>\n",
       "      <td>4.0</td>\n",
       "      <td>00041001</td>\n",
       "      <td>2013-01-29</td>\n",
       "      <td>4601</td>\n",
       "      <td>HN</td>\n",
       "      <td>-6.201784</td>\n",
       "      <td>53.312775</td>\n",
       "      <td>253</td>\n",
       "      <td>822025</td>\n",
       "      <td>33547</td>\n",
       "      <td>475</td>\n",
       "      <td>1</td>\n",
       "      <td>1116</td>\n",
       "      <td>9</td>\n",
       "    </tr>\n",
       "    <tr>\n",
       "      <th>640460</th>\n",
       "      <td>1359449600000000</td>\n",
       "      <td>4.0</td>\n",
       "      <td>00041001</td>\n",
       "      <td>2013-01-29</td>\n",
       "      <td>4601</td>\n",
       "      <td>HN</td>\n",
       "      <td>-6.204702</td>\n",
       "      <td>53.315838</td>\n",
       "      <td>247</td>\n",
       "      <td>822025</td>\n",
       "      <td>33547</td>\n",
       "      <td>476</td>\n",
       "      <td>1</td>\n",
       "      <td>1197</td>\n",
       "      <td>10</td>\n",
       "    </tr>\n",
       "    <tr>\n",
       "      <th>640519</th>\n",
       "      <td>1359449724000000</td>\n",
       "      <td>4.0</td>\n",
       "      <td>00041001</td>\n",
       "      <td>2013-01-29</td>\n",
       "      <td>4601</td>\n",
       "      <td>HN</td>\n",
       "      <td>-6.211247</td>\n",
       "      <td>53.318165</td>\n",
       "      <td>270</td>\n",
       "      <td>822025</td>\n",
       "      <td>33547</td>\n",
       "      <td>478</td>\n",
       "      <td>1</td>\n",
       "      <td>1321</td>\n",
       "      <td>11</td>\n",
       "    </tr>\n",
       "    <tr>\n",
       "      <th>640575</th>\n",
       "      <td>1359449841000000</td>\n",
       "      <td>4.0</td>\n",
       "      <td>00041001</td>\n",
       "      <td>2013-01-29</td>\n",
       "      <td>4601</td>\n",
       "      <td>HN</td>\n",
       "      <td>-6.213334</td>\n",
       "      <td>53.319241</td>\n",
       "      <td>346</td>\n",
       "      <td>822025</td>\n",
       "      <td>33547</td>\n",
       "      <td>479</td>\n",
       "      <td>1</td>\n",
       "      <td>1438</td>\n",
       "      <td>12</td>\n",
       "    </tr>\n",
       "    <tr>\n",
       "      <th>640630</th>\n",
       "      <td>1359449948000000</td>\n",
       "      <td>4.0</td>\n",
       "      <td>00041001</td>\n",
       "      <td>2013-01-29</td>\n",
       "      <td>4601</td>\n",
       "      <td>HN</td>\n",
       "      <td>-6.216220</td>\n",
       "      <td>53.320930</td>\n",
       "      <td>394</td>\n",
       "      <td>822025</td>\n",
       "      <td>33547</td>\n",
       "      <td>480</td>\n",
       "      <td>1</td>\n",
       "      <td>1545</td>\n",
       "      <td>13</td>\n",
       "    </tr>\n",
       "    <tr>\n",
       "      <th>640689</th>\n",
       "      <td>1359450066000000</td>\n",
       "      <td>4.0</td>\n",
       "      <td>00041001</td>\n",
       "      <td>2013-01-29</td>\n",
       "      <td>4601</td>\n",
       "      <td>HN</td>\n",
       "      <td>-6.223886</td>\n",
       "      <td>53.326015</td>\n",
       "      <td>349</td>\n",
       "      <td>822025</td>\n",
       "      <td>33547</td>\n",
       "      <td>483</td>\n",
       "      <td>1</td>\n",
       "      <td>1663</td>\n",
       "      <td>14</td>\n",
       "    </tr>\n",
       "    <tr>\n",
       "      <th>640760</th>\n",
       "      <td>1359450210000000</td>\n",
       "      <td>4.0</td>\n",
       "      <td>00041001</td>\n",
       "      <td>2013-01-29</td>\n",
       "      <td>4601</td>\n",
       "      <td>HN</td>\n",
       "      <td>-6.228619</td>\n",
       "      <td>53.328331</td>\n",
       "      <td>384</td>\n",
       "      <td>822025</td>\n",
       "      <td>33547</td>\n",
       "      <td>485</td>\n",
       "      <td>1</td>\n",
       "      <td>1807</td>\n",
       "      <td>15</td>\n",
       "    </tr>\n",
       "    <tr>\n",
       "      <th>640822</th>\n",
       "      <td>1359450320000000</td>\n",
       "      <td>4.0</td>\n",
       "      <td>00041001</td>\n",
       "      <td>2013-01-29</td>\n",
       "      <td>4601</td>\n",
       "      <td>HN</td>\n",
       "      <td>-6.233802</td>\n",
       "      <td>53.330879</td>\n",
       "      <td>378</td>\n",
       "      <td>822025</td>\n",
       "      <td>33547</td>\n",
       "      <td>487</td>\n",
       "      <td>1</td>\n",
       "      <td>1917</td>\n",
       "      <td>16</td>\n",
       "    </tr>\n",
       "    <tr>\n",
       "      <th>640876</th>\n",
       "      <td>1359450421000000</td>\n",
       "      <td>4.0</td>\n",
       "      <td>00041001</td>\n",
       "      <td>2013-01-29</td>\n",
       "      <td>4601</td>\n",
       "      <td>HN</td>\n",
       "      <td>-6.235990</td>\n",
       "      <td>53.333145</td>\n",
       "      <td>407</td>\n",
       "      <td>822025</td>\n",
       "      <td>33547</td>\n",
       "      <td>488</td>\n",
       "      <td>1</td>\n",
       "      <td>2018</td>\n",
       "      <td>17</td>\n",
       "    </tr>\n",
       "    <tr>\n",
       "      <th>640916</th>\n",
       "      <td>1359450574000000</td>\n",
       "      <td>4.0</td>\n",
       "      <td>00041001</td>\n",
       "      <td>2013-01-29</td>\n",
       "      <td>4601</td>\n",
       "      <td>HN</td>\n",
       "      <td>-6.238878</td>\n",
       "      <td>53.336639</td>\n",
       "      <td>441</td>\n",
       "      <td>822025</td>\n",
       "      <td>33547</td>\n",
       "      <td>490</td>\n",
       "      <td>1</td>\n",
       "      <td>2171</td>\n",
       "      <td>18</td>\n",
       "    </tr>\n",
       "    <tr>\n",
       "      <th>640976</th>\n",
       "      <td>1359450680000000</td>\n",
       "      <td>4.0</td>\n",
       "      <td>00041001</td>\n",
       "      <td>2013-01-29</td>\n",
       "      <td>4601</td>\n",
       "      <td>HN</td>\n",
       "      <td>-6.241288</td>\n",
       "      <td>53.337879</td>\n",
       "      <td>493</td>\n",
       "      <td>822025</td>\n",
       "      <td>33547</td>\n",
       "      <td>491</td>\n",
       "      <td>1</td>\n",
       "      <td>2277</td>\n",
       "      <td>19</td>\n",
       "    </tr>\n",
       "    <tr>\n",
       "      <th>641039</th>\n",
       "      <td>1359450802000000</td>\n",
       "      <td>4.0</td>\n",
       "      <td>00041001</td>\n",
       "      <td>2013-01-29</td>\n",
       "      <td>4601</td>\n",
       "      <td>HN</td>\n",
       "      <td>-6.247320</td>\n",
       "      <td>53.339970</td>\n",
       "      <td>496</td>\n",
       "      <td>822025</td>\n",
       "      <td>33547</td>\n",
       "      <td>493</td>\n",
       "      <td>1</td>\n",
       "      <td>2399</td>\n",
       "      <td>20</td>\n",
       "    </tr>\n",
       "    <tr>\n",
       "      <th>641072</th>\n",
       "      <td>1359450861000000</td>\n",
       "      <td>4.0</td>\n",
       "      <td>00041001</td>\n",
       "      <td>2013-01-29</td>\n",
       "      <td>4601</td>\n",
       "      <td>HN</td>\n",
       "      <td>-6.251646</td>\n",
       "      <td>53.341492</td>\n",
       "      <td>441</td>\n",
       "      <td>822025</td>\n",
       "      <td>33547</td>\n",
       "      <td>494</td>\n",
       "      <td>1</td>\n",
       "      <td>2458</td>\n",
       "      <td>21</td>\n",
       "    </tr>\n",
       "    <tr>\n",
       "      <th>641168</th>\n",
       "      <td>1359451021000000</td>\n",
       "      <td>4.0</td>\n",
       "      <td>00041001</td>\n",
       "      <td>2013-01-29</td>\n",
       "      <td>4601</td>\n",
       "      <td>HN</td>\n",
       "      <td>-6.249664</td>\n",
       "      <td>53.343548</td>\n",
       "      <td>486</td>\n",
       "      <td>822025</td>\n",
       "      <td>33547</td>\n",
       "      <td>495</td>\n",
       "      <td>1</td>\n",
       "      <td>2618</td>\n",
       "      <td>22</td>\n",
       "    </tr>\n",
       "    <tr>\n",
       "      <th>641215</th>\n",
       "      <td>1359451100000000</td>\n",
       "      <td>4.0</td>\n",
       "      <td>00041001</td>\n",
       "      <td>2013-01-29</td>\n",
       "      <td>4601</td>\n",
       "      <td>HN</td>\n",
       "      <td>-6.252754</td>\n",
       "      <td>53.344841</td>\n",
       "      <td>486</td>\n",
       "      <td>822025</td>\n",
       "      <td>33547</td>\n",
       "      <td>400</td>\n",
       "      <td>1</td>\n",
       "      <td>2697</td>\n",
       "      <td>23</td>\n",
       "    </tr>\n",
       "    <tr>\n",
       "      <th>641389</th>\n",
       "      <td>1359451400000000</td>\n",
       "      <td>4.0</td>\n",
       "      <td>00041001</td>\n",
       "      <td>2013-01-29</td>\n",
       "      <td>4601</td>\n",
       "      <td>HN</td>\n",
       "      <td>-6.260931</td>\n",
       "      <td>53.350914</td>\n",
       "      <td>485</td>\n",
       "      <td>822025</td>\n",
       "      <td>33547</td>\n",
       "      <td>281</td>\n",
       "      <td>1</td>\n",
       "      <td>2997</td>\n",
       "      <td>24</td>\n",
       "    </tr>\n",
       "    <tr>\n",
       "      <th>641472</th>\n",
       "      <td>1359451541000000</td>\n",
       "      <td>4.0</td>\n",
       "      <td>00041001</td>\n",
       "      <td>2013-01-29</td>\n",
       "      <td>4601</td>\n",
       "      <td>HN</td>\n",
       "      <td>-6.264417</td>\n",
       "      <td>53.352783</td>\n",
       "      <td>458</td>\n",
       "      <td>822025</td>\n",
       "      <td>33547</td>\n",
       "      <td>6</td>\n",
       "      <td>1</td>\n",
       "      <td>3138</td>\n",
       "      <td>25</td>\n",
       "    </tr>\n",
       "    <tr>\n",
       "      <th>641593</th>\n",
       "      <td>1359451760000000</td>\n",
       "      <td>4.0</td>\n",
       "      <td>00041001</td>\n",
       "      <td>2013-01-29</td>\n",
       "      <td>4601</td>\n",
       "      <td>HN</td>\n",
       "      <td>-6.269965</td>\n",
       "      <td>53.355064</td>\n",
       "      <td>559</td>\n",
       "      <td>822025</td>\n",
       "      <td>33547</td>\n",
       "      <td>194</td>\n",
       "      <td>1</td>\n",
       "      <td>3357</td>\n",
       "      <td>26</td>\n",
       "    </tr>\n",
       "    <tr>\n",
       "      <th>641750</th>\n",
       "      <td>1359452055000000</td>\n",
       "      <td>4.0</td>\n",
       "      <td>00041001</td>\n",
       "      <td>2013-01-29</td>\n",
       "      <td>4601</td>\n",
       "      <td>HN</td>\n",
       "      <td>-6.272180</td>\n",
       "      <td>53.363560</td>\n",
       "      <td>539</td>\n",
       "      <td>822025</td>\n",
       "      <td>33547</td>\n",
       "      <td>199</td>\n",
       "      <td>1</td>\n",
       "      <td>3652</td>\n",
       "      <td>27</td>\n",
       "    </tr>\n",
       "    <tr>\n",
       "      <th>642046</th>\n",
       "      <td>1359452541000000</td>\n",
       "      <td>4.0</td>\n",
       "      <td>00041001</td>\n",
       "      <td>2013-01-29</td>\n",
       "      <td>4601</td>\n",
       "      <td>HN</td>\n",
       "      <td>-6.265268</td>\n",
       "      <td>53.388367</td>\n",
       "      <td>470</td>\n",
       "      <td>822025</td>\n",
       "      <td>33547</td>\n",
       "      <td>91</td>\n",
       "      <td>1</td>\n",
       "      <td>4138</td>\n",
       "      <td>28</td>\n",
       "    </tr>\n",
       "    <tr>\n",
       "      <th>642179</th>\n",
       "      <td>1359452767000000</td>\n",
       "      <td>4.0</td>\n",
       "      <td>00041001</td>\n",
       "      <td>2013-01-29</td>\n",
       "      <td>4601</td>\n",
       "      <td>HN</td>\n",
       "      <td>-6.264242</td>\n",
       "      <td>53.396027</td>\n",
       "      <td>537</td>\n",
       "      <td>822025</td>\n",
       "      <td>33547</td>\n",
       "      <td>94</td>\n",
       "      <td>1</td>\n",
       "      <td>4364</td>\n",
       "      <td>29</td>\n",
       "    </tr>\n",
       "    <tr>\n",
       "      <th>642715</th>\n",
       "      <td>1359453746000000</td>\n",
       "      <td>4.0</td>\n",
       "      <td>00041001</td>\n",
       "      <td>2013-01-29</td>\n",
       "      <td>4601</td>\n",
       "      <td>HN</td>\n",
       "      <td>-6.277400</td>\n",
       "      <td>53.416916</td>\n",
       "      <td>529</td>\n",
       "      <td>822025</td>\n",
       "      <td>33547</td>\n",
       "      <td>332</td>\n",
       "      <td>1</td>\n",
       "      <td>5343</td>\n",
       "      <td>30</td>\n",
       "    </tr>\n",
       "  </tbody>\n",
       "</table>\n",
       "</div>"
      ],
      "text/plain": [
       "                                             Timestamp  LineID  \\\n",
       "Vehicle_Journey_ID Start_date                                    \n",
       "4601               2013-01-29 639880  1359448403000000     4.0   \n",
       "                              640011  1359448659000000     4.0   \n",
       "                              640042  1359448726000000     4.0   \n",
       "                              640071  1359448781000000     4.0   \n",
       "                              640121  1359448889000000     4.0   \n",
       "                              640161  1359448979000000     4.0   \n",
       "                              640191  1359449039000000     4.0   \n",
       "                              640231  1359449129000000     4.0   \n",
       "                              640365  1359449411000000     4.0   \n",
       "                              640421  1359449519000000     4.0   \n",
       "                              640460  1359449600000000     4.0   \n",
       "                              640519  1359449724000000     4.0   \n",
       "                              640575  1359449841000000     4.0   \n",
       "                              640630  1359449948000000     4.0   \n",
       "                              640689  1359450066000000     4.0   \n",
       "                              640760  1359450210000000     4.0   \n",
       "                              640822  1359450320000000     4.0   \n",
       "                              640876  1359450421000000     4.0   \n",
       "                              640916  1359450574000000     4.0   \n",
       "                              640976  1359450680000000     4.0   \n",
       "                              641039  1359450802000000     4.0   \n",
       "                              641072  1359450861000000     4.0   \n",
       "                              641168  1359451021000000     4.0   \n",
       "                              641215  1359451100000000     4.0   \n",
       "                              641389  1359451400000000     4.0   \n",
       "                              641472  1359451541000000     4.0   \n",
       "                              641593  1359451760000000     4.0   \n",
       "                              641750  1359452055000000     4.0   \n",
       "                              642046  1359452541000000     4.0   \n",
       "                              642179  1359452767000000     4.0   \n",
       "                              642715  1359453746000000     4.0   \n",
       "\n",
       "                                     Journey_Pattern_ID  Start_date  \\\n",
       "Vehicle_Journey_ID Start_date                                         \n",
       "4601               2013-01-29 639880           00041001  2013-01-29   \n",
       "                              640011           00041001  2013-01-29   \n",
       "                              640042           00041001  2013-01-29   \n",
       "                              640071           00041001  2013-01-29   \n",
       "                              640121           00041001  2013-01-29   \n",
       "                              640161           00041001  2013-01-29   \n",
       "                              640191           00041001  2013-01-29   \n",
       "                              640231           00041001  2013-01-29   \n",
       "                              640365           00041001  2013-01-29   \n",
       "                              640421           00041001  2013-01-29   \n",
       "                              640460           00041001  2013-01-29   \n",
       "                              640519           00041001  2013-01-29   \n",
       "                              640575           00041001  2013-01-29   \n",
       "                              640630           00041001  2013-01-29   \n",
       "                              640689           00041001  2013-01-29   \n",
       "                              640760           00041001  2013-01-29   \n",
       "                              640822           00041001  2013-01-29   \n",
       "                              640876           00041001  2013-01-29   \n",
       "                              640916           00041001  2013-01-29   \n",
       "                              640976           00041001  2013-01-29   \n",
       "                              641039           00041001  2013-01-29   \n",
       "                              641072           00041001  2013-01-29   \n",
       "                              641168           00041001  2013-01-29   \n",
       "                              641215           00041001  2013-01-29   \n",
       "                              641389           00041001  2013-01-29   \n",
       "                              641472           00041001  2013-01-29   \n",
       "                              641593           00041001  2013-01-29   \n",
       "                              641750           00041001  2013-01-29   \n",
       "                              642046           00041001  2013-01-29   \n",
       "                              642179           00041001  2013-01-29   \n",
       "                              642715           00041001  2013-01-29   \n",
       "\n",
       "                                      Vehicle_Journey_ID Operator       Lon  \\\n",
       "Vehicle_Journey_ID Start_date                                                 \n",
       "4601               2013-01-29 639880                4601       HN -6.159831   \n",
       "                              640011                4601       HN -6.167912   \n",
       "                              640042                4601       HN -6.167534   \n",
       "                              640071                4601       HN -6.166771   \n",
       "                              640121                4601       HN -6.169822   \n",
       "                              640161                4601       HN -6.181077   \n",
       "                              640191                4601       HN -6.183967   \n",
       "                              640231                4601       HN -6.188910   \n",
       "                              640365                4601       HN -6.197320   \n",
       "                              640421                4601       HN -6.201784   \n",
       "                              640460                4601       HN -6.204702   \n",
       "                              640519                4601       HN -6.211247   \n",
       "                              640575                4601       HN -6.213334   \n",
       "                              640630                4601       HN -6.216220   \n",
       "                              640689                4601       HN -6.223886   \n",
       "                              640760                4601       HN -6.228619   \n",
       "                              640822                4601       HN -6.233802   \n",
       "                              640876                4601       HN -6.235990   \n",
       "                              640916                4601       HN -6.238878   \n",
       "                              640976                4601       HN -6.241288   \n",
       "                              641039                4601       HN -6.247320   \n",
       "                              641072                4601       HN -6.251646   \n",
       "                              641168                4601       HN -6.249664   \n",
       "                              641215                4601       HN -6.252754   \n",
       "                              641389                4601       HN -6.260931   \n",
       "                              641472                4601       HN -6.264417   \n",
       "                              641593                4601       HN -6.269965   \n",
       "                              641750                4601       HN -6.272180   \n",
       "                              642046                4601       HN -6.265268   \n",
       "                              642179                4601       HN -6.264242   \n",
       "                              642715                4601       HN -6.277400   \n",
       "\n",
       "                                            Lat  Delay  Block_ID  Vehicle_ID  \\\n",
       "Vehicle_Journey_ID Start_date                                                  \n",
       "4601               2013-01-29 639880  53.286541    108    822025       33547   \n",
       "                              640011  53.287037    233    822025       33547   \n",
       "                              640042  53.289749    220    822025       33547   \n",
       "                              640071  53.292568    220    822025       33547   \n",
       "                              640121  53.295616    220    822025       33547   \n",
       "                              640161  53.301456    106    822025       33547   \n",
       "                              640191  53.302956    138    822025       33547   \n",
       "                              640231  53.305687    132    822025       33547   \n",
       "                              640365  53.309319    242    822025       33547   \n",
       "                              640421  53.312775    253    822025       33547   \n",
       "                              640460  53.315838    247    822025       33547   \n",
       "                              640519  53.318165    270    822025       33547   \n",
       "                              640575  53.319241    346    822025       33547   \n",
       "                              640630  53.320930    394    822025       33547   \n",
       "                              640689  53.326015    349    822025       33547   \n",
       "                              640760  53.328331    384    822025       33547   \n",
       "                              640822  53.330879    378    822025       33547   \n",
       "                              640876  53.333145    407    822025       33547   \n",
       "                              640916  53.336639    441    822025       33547   \n",
       "                              640976  53.337879    493    822025       33547   \n",
       "                              641039  53.339970    496    822025       33547   \n",
       "                              641072  53.341492    441    822025       33547   \n",
       "                              641168  53.343548    486    822025       33547   \n",
       "                              641215  53.344841    486    822025       33547   \n",
       "                              641389  53.350914    485    822025       33547   \n",
       "                              641472  53.352783    458    822025       33547   \n",
       "                              641593  53.355064    559    822025       33547   \n",
       "                              641750  53.363560    539    822025       33547   \n",
       "                              642046  53.388367    470    822025       33547   \n",
       "                              642179  53.396027    537    822025       33547   \n",
       "                              642715  53.416916    529    822025       33547   \n",
       "\n",
       "                                     Stop_ID  At_Stop  normal_time  stop_order  \n",
       "Vehicle_Journey_ID Start_date                                                   \n",
       "4601               2013-01-29 639880    2051        1            0           0  \n",
       "                              640011    3161        1          256           1  \n",
       "                              640042    3162        1          323           2  \n",
       "                              640071    3163        1          378           3  \n",
       "                              640121    3164        1          486           4  \n",
       "                              640161    3084        1          576           5  \n",
       "                              640191     469        1          636           6  \n",
       "                              640231     470        1          726           7  \n",
       "                              640365     473        1         1008           8  \n",
       "                              640421     475        1         1116           9  \n",
       "                              640460     476        1         1197          10  \n",
       "                              640519     478        1         1321          11  \n",
       "                              640575     479        1         1438          12  \n",
       "                              640630     480        1         1545          13  \n",
       "                              640689     483        1         1663          14  \n",
       "                              640760     485        1         1807          15  \n",
       "                              640822     487        1         1917          16  \n",
       "                              640876     488        1         2018          17  \n",
       "                              640916     490        1         2171          18  \n",
       "                              640976     491        1         2277          19  \n",
       "                              641039     493        1         2399          20  \n",
       "                              641072     494        1         2458          21  \n",
       "                              641168     495        1         2618          22  \n",
       "                              641215     400        1         2697          23  \n",
       "                              641389     281        1         2997          24  \n",
       "                              641472       6        1         3138          25  \n",
       "                              641593     194        1         3357          26  \n",
       "                              641750     199        1         3652          27  \n",
       "                              642046      91        1         4138          28  \n",
       "                              642179      94        1         4364          29  \n",
       "                              642715     332        1         5343          30  "
      ]
     },
     "execution_count": 18,
     "metadata": {},
     "output_type": "execute_result"
    }
   ],
   "source": [
    "grouped_df.get_group((4601, '2013-01-29'))"
   ]
  },
  {
   "cell_type": "markdown",
   "metadata": {},
   "source": [
    "## 1.6 Add new features"
   ]
  },
  {
   "cell_type": "code",
   "execution_count": 19,
   "metadata": {
    "collapsed": true
   },
   "outputs": [],
   "source": [
    "df[\"Time\"] = pd.to_datetime(df['Timestamp']*1000, unit=\"ns\")"
   ]
  },
  {
   "cell_type": "code",
   "execution_count": 20,
   "metadata": {
    "collapsed": true
   },
   "outputs": [],
   "source": [
    "df['IsWeekend'] = np.where((df['Time'].dt.dayofweek > 5), 1, 0)"
   ]
  },
  {
   "cell_type": "code",
   "execution_count": 21,
   "metadata": {
    "collapsed": true
   },
   "outputs": [],
   "source": [
    "df['HourOfDay'] = df['Time'].dt.hour"
   ]
  },
  {
   "cell_type": "code",
   "execution_count": 22,
   "metadata": {
    "collapsed": true
   },
   "outputs": [],
   "source": [
    "df['DayOfWeek'] = df['Time'].dt.dayofweek"
   ]
  },
  {
   "cell_type": "code",
   "execution_count": 23,
   "metadata": {
    "collapsed": true
   },
   "outputs": [],
   "source": [
    "df['IsEveningTime'] = np.where((df['Time'].dt.hour > 17), 1, 0)"
   ]
  },
  {
   "cell_type": "code",
   "execution_count": 24,
   "metadata": {
    "collapsed": true
   },
   "outputs": [],
   "source": [
    "df['IsPeakTime'] = np.where(((df['HourOfDay'] >= 7) & (df['HourOfDay'] <= 10)) | ((df['HourOfDay'] >= 16) & (df['HourOfDay'] <= 19)), 1, 0)"
   ]
  },
  {
   "cell_type": "code",
   "execution_count": 25,
   "metadata": {
    "collapsed": true
   },
   "outputs": [],
   "source": [
    "df['SchoolHoliday'] = np.where((df['Time'].dt.date == datetime(2012, 11, 1).date()) | (\n",
    "\n",
    "df['Time'].dt.date == datetime(2012, 11, 2).date()) | (\n",
    "\n",
    "                                       df['Time'].dt.date == datetime(2013, 1, 1).date()) | (\n",
    "\n",
    "                                       df['Time'].dt.date == datetime(2013, 1, 2).date()) | (\n",
    "\n",
    "                                       df['Time'].dt.date == datetime(2013, 1, 3).date()) | (\n",
    "\n",
    "                                       df['Time'].dt.date == datetime(2013, 1, 4).date()), 1, 0)"
   ]
  },
  {
   "cell_type": "markdown",
   "metadata": {},
   "source": [
    "# 2.0 Merge Datasets"
   ]
  },
  {
   "cell_type": "markdown",
   "metadata": {},
   "source": [
    "## 2.1 Merge bus stop info"
   ]
  },
  {
   "cell_type": "code",
   "execution_count": 26,
   "metadata": {
    "collapsed": true
   },
   "outputs": [],
   "source": [
    "df_bus_stop = pd.read_csv('csv_data/busstopinfo.csv', encoding='latin-1')"
   ]
  },
  {
   "cell_type": "code",
   "execution_count": 27,
   "metadata": {
    "collapsed": false
   },
   "outputs": [],
   "source": [
    "df_bus_stop = df_bus_stop.rename(columns={'stopid': 'Stop_ID'})\n",
    "df_bus_stop = df_bus_stop.rename(columns={'fullname': 'Stop_name'})"
   ]
  },
  {
   "cell_type": "code",
   "execution_count": 28,
   "metadata": {
    "collapsed": true
   },
   "outputs": [],
   "source": [
    "df_bus_stop = df_bus_stop[['Stop_ID', 'Stop_name']]"
   ]
  },
  {
   "cell_type": "code",
   "execution_count": 29,
   "metadata": {
    "collapsed": false
   },
   "outputs": [],
   "source": [
    "df = pd.merge(df, df_bus_stop, on=['Stop_ID'])"
   ]
  },
  {
   "cell_type": "markdown",
   "metadata": {},
   "source": [
    "## 2.2 Merge weather data"
   ]
  },
  {
   "cell_type": "code",
   "execution_count": 30,
   "metadata": {
    "collapsed": true
   },
   "outputs": [],
   "source": [
    "df_weather = pd.read_csv('csv_data/weather_data.csv', encoding='latin-1')"
   ]
  },
  {
   "cell_type": "code",
   "execution_count": 31,
   "metadata": {
    "collapsed": true
   },
   "outputs": [],
   "source": [
    "df_weather = df_weather.rename(columns={'Rainfall (Yes or No)': 'Rain'})\n",
    "df_weather = df_weather.rename(columns={'Temperature C': 'Temperature'})\n",
    "df_weather = df_weather.rename(columns={'Relative Humidity (%)': 'Humidity'})\n",
    "df_weather = df_weather.rename(columns={'Over 1mm Rain?': 'Heavy_rain'})\n",
    "df_weather = df_weather.rename(columns={'Precipitation (mm)': 'Precipitation'})\n",
    "df_weather = df_weather.rename(columns={'Date': 'Time'})\n",
    "df_weather['Time'] = pd.to_datetime(df_weather['Time'])\n",
    "df_weather.sort_values(['Time'], ascending=[True], inplace=True)\n",
    "df_weather['HourOfDay'] = df_weather['Time'].dt.hour"
   ]
  },
  {
   "cell_type": "code",
   "execution_count": 32,
   "metadata": {
    "collapsed": true
   },
   "outputs": [],
   "source": [
    "df.sort_values(['Time'], ascending=[True], inplace=True)\n",
    "df_weather.sort_values(['Time'], ascending=[True], inplace=True)\n",
    "df =  pd.merge_asof(df, df_weather, on='Time')"
   ]
  },
  {
   "cell_type": "code",
   "execution_count": 33,
   "metadata": {
    "collapsed": false
   },
   "outputs": [
    {
     "data": {
      "text/plain": [
       "Index(['Timestamp', 'LineID', 'Journey_Pattern_ID', 'Start_date',\n",
       "       'Vehicle_Journey_ID', 'Operator', 'Lon', 'Lat', 'Delay', 'Block_ID',\n",
       "       'Vehicle_ID', 'Stop_ID', 'At_Stop', 'normal_time', 'stop_order', 'Time',\n",
       "       'IsWeekend', 'HourOfDay_x', 'DayOfWeek', 'IsEveningTime', 'IsPeakTime',\n",
       "       'SchoolHoliday', 'Stop_name', 'Precipitation', 'Temperature',\n",
       "       'Vapour Pressure (hPa)                ', 'Humidity',\n",
       "       'Mean Sea Level Pressure (hPa)', 'Rain', 'Heavy_rain'],\n",
       "      dtype='object')"
      ]
     },
     "execution_count": 33,
     "metadata": {},
     "output_type": "execute_result"
    }
   ],
   "source": [
    "#code from here: https://stackoverflow.com/questions/27313647/merging-two-pandas-dataframes-results-in-duplicate-columns\n",
    "\n",
    "def drop_y(df):\n",
    "    # list comprehension of the cols that end with '_y'\n",
    "    to_drop = [x for x in df if x.endswith('_y')]\n",
    "    df.drop(to_drop, axis=1, inplace=True)\n",
    "\n",
    "drop_y(df)\n",
    "df.columns"
   ]
  },
  {
   "cell_type": "code",
   "execution_count": 34,
   "metadata": {
    "collapsed": true
   },
   "outputs": [],
   "source": [
    "def rename_x(df):\n",
    "    for col in df:\n",
    "        if col.endswith('_x'):\n",
    "            df.rename(columns={col:col.rstrip('_x')}, inplace=True)\n",
    "rename_x(df)"
   ]
  },
  {
   "cell_type": "markdown",
   "metadata": {},
   "source": [
    "# 3.0 Remove and categories columns"
   ]
  },
  {
   "cell_type": "markdown",
   "metadata": {},
   "source": [
    "## 3.1 Drop missing values"
   ]
  },
  {
   "cell_type": "code",
   "execution_count": 35,
   "metadata": {
    "collapsed": true
   },
   "outputs": [],
   "source": [
    "df = df[df['Journey_Pattern_ID'] != 'null']"
   ]
  },
  {
   "cell_type": "markdown",
   "metadata": {},
   "source": [
    "## 3.2 Categorise to continuous and categorical"
   ]
  },
  {
   "cell_type": "code",
   "execution_count": 36,
   "metadata": {
    "collapsed": false
   },
   "outputs": [],
   "source": [
    "df['IsWeekend'] = df['IsWeekend'].astype('category')\n",
    "df['HourOfDay'] = df['HourOfDay'].astype('category')\n",
    "df['IsEveningTime'] = df['IsEveningTime'].astype('category')\n",
    "df['SchoolHoliday'] = df['SchoolHoliday'].astype('category')\n",
    "df['IsPeakTime'] = df['IsPeakTime'].astype('category')\n",
    "df['Operator'] = df['Operator'].astype('category')\n",
    "df['At_Stop'] = df['At_Stop'].astype('category')\n",
    "categorical_columns = df.select_dtypes(['category']).columns"
   ]
  },
  {
   "cell_type": "code",
   "execution_count": 37,
   "metadata": {
    "collapsed": true
   },
   "outputs": [],
   "source": [
    "continuous_columns = df.select_dtypes(['int64', 'float64']).columns"
   ]
  },
  {
   "cell_type": "markdown",
   "metadata": {},
   "source": [
    "## 3.3 Drop columns no longer needed"
   ]
  },
  {
   "cell_type": "code",
   "execution_count": 38,
   "metadata": {
    "collapsed": true
   },
   "outputs": [],
   "source": [
    "df = df.drop('Lat', axis=1)\n",
    "df = df.drop('Lon', axis=1)\n",
    "df = df.drop('Block_ID', axis=1)\n",
    "df = df.drop('Operator', axis=1)"
   ]
  },
  {
   "cell_type": "markdown",
   "metadata": {},
   "source": [
    "## 3.4 Create time to destination feature"
   ]
  },
  {
   "cell_type": "code",
   "execution_count": 39,
   "metadata": {
    "collapsed": true
   },
   "outputs": [],
   "source": [
    "df['end_time'] = df.groupby(['stop_order','Journey_Pattern_ID', 'Start_date', 'HourOfDay'])['Timestamp'].transform(max)"
   ]
  },
  {
   "cell_type": "code",
   "execution_count": 40,
   "metadata": {
    "collapsed": true
   },
   "outputs": [],
   "source": [
    "df['time_diff_to_destination'] = df['end_time'] - df['Timestamp']"
   ]
  },
  {
   "cell_type": "code",
   "execution_count": 41,
   "metadata": {
    "collapsed": true
   },
   "outputs": [],
   "source": [
    "df['distance_to_end'] = df.stop_order.max() - df.stop_order"
   ]
  },
  {
   "cell_type": "code",
   "execution_count": 42,
   "metadata": {
    "collapsed": false
   },
   "outputs": [
    {
     "data": {
      "text/plain": [
       "Index(['Timestamp', 'LineID', 'Journey_Pattern_ID', 'Start_date',\n",
       "       'Vehicle_Journey_ID', 'Delay', 'Vehicle_ID', 'Stop_ID', 'At_Stop',\n",
       "       'normal_time', 'stop_order', 'Time', 'IsWeekend', 'HourOfDay',\n",
       "       'DayOfWeek', 'IsEveningTime', 'IsPeakTime', 'SchoolHoliday',\n",
       "       'Stop_name', 'Precipitation', 'Temperature',\n",
       "       'Vapour Pressure (hPa)                ', 'Humidity',\n",
       "       'Mean Sea Level Pressure (hPa)', 'Rain', 'Heavy_rain', 'end_time',\n",
       "       'time_diff_to_destination', 'distance_to_end'],\n",
       "      dtype='object')"
      ]
     },
     "execution_count": 42,
     "metadata": {},
     "output_type": "execute_result"
    }
   ],
   "source": [
    "df.columns"
   ]
  },
  {
   "cell_type": "markdown",
   "metadata": {},
   "source": [
    "# 4.0 Save DF to be used in Model Analysis"
   ]
  },
  {
   "cell_type": "code",
   "execution_count": 43,
   "metadata": {
    "collapsed": true
   },
   "outputs": [],
   "source": [
    "# Save cleaned dataframe to new CSV file\n",
    "df.to_csv('csv_data/bus_route4_clean.csv', index=False)"
   ]
  },
  {
   "cell_type": "markdown",
   "metadata": {},
   "source": [
    "---"
   ]
  },
  {
   "cell_type": "code",
   "execution_count": 44,
   "metadata": {
    "collapsed": true
   },
   "outputs": [],
   "source": [
    "# df_train = df[:130000]"
   ]
  },
  {
   "cell_type": "code",
   "execution_count": 45,
   "metadata": {
    "collapsed": true
   },
   "outputs": [],
   "source": [
    "# df_test = df[130000:]"
   ]
  },
  {
   "cell_type": "code",
   "execution_count": 46,
   "metadata": {
    "collapsed": true
   },
   "outputs": [],
   "source": [
    "# df_group = df.groupby(['Vehicle_Journey_ID', 'Start_date'])"
   ]
  },
  {
   "cell_type": "code",
   "execution_count": 47,
   "metadata": {
    "collapsed": true
   },
   "outputs": [],
   "source": [
    "# for k, g in df_group:\n",
    "#     model = ols('time_diff_to_destination ~ distance_to_end + Rain + Temperature +Humidity + IsWeekend +HourOfDay + SchoolHoliday', g)\n",
    "#     results = model.fit()\n",
    "#     print(results.summary())"
   ]
  }
 ],
 "metadata": {
  "anaconda-cloud": {},
  "kernelspec": {
   "display_name": "Python 3",
   "language": "python",
   "name": "python3"
  },
  "language_info": {
   "codemirror_mode": {
    "name": "ipython",
    "version": 3
   },
   "file_extension": ".py",
   "mimetype": "text/x-python",
   "name": "python",
   "nbconvert_exporter": "python",
   "pygments_lexer": "ipython3",
<<<<<<< HEAD
   "version": "3.5.3"
=======
   "version": "3.6.0"
>>>>>>> ecb38424ae24ac532584ed2c0d53f7aa118f15f7
  }
 },
 "nbformat": 4,
 "nbformat_minor": 1
}
