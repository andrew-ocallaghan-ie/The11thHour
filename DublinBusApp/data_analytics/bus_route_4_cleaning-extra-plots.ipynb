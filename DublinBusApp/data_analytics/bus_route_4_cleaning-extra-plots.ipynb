{
 "cells": [
  {
   "cell_type": "code",
   "execution_count": 1,
   "metadata": {
    "collapsed": false
   },
   "outputs": [
    {
     "name": "stderr",
     "output_type": "stream",
     "text": [
      "/Users/user/anaconda/lib/python3.5/site-packages/IPython/core/interactiveshell.py:2717: DtypeWarning: Columns (14) have mixed types. Specify dtype option on import or set low_memory=False.\n",
      "  interactivity=interactivity, compiler=compiler, result=result)\n"
     ]
    }
   ],
   "source": [
    "# The ultimate target feature: time from one stop to another\n",
    "\n",
    "# Imports\n",
    "import pandas as pd\n",
    "import numpy as np\n",
    "from datetime import date, datetime\n",
    "from patsy import dmatrices\n",
    "import seaborn as sns\n",
    "import matplotlib.pyplot as plt\n",
    "import matplotlib.patches as mpatches\n",
    "%matplotlib inline\n",
    "from sklearn.linear_model import LogisticRegression\n",
    "from sklearn import metrics\n",
    "from sklearn.tree import export_graphviz, DecisionTreeRegressor, DecisionTreeClassifier\n",
    "from sklearn.ensemble import RandomForestClassifier, RandomForestRegressor\n",
    "from sklearn import preprocessing\n",
    "from sklearn.pipeline import make_pipeline\n",
    "from sklearn.model_selection import GridSearchCV, train_test_split, cross_val_score\n",
    "from sklearn.metrics import mean_squared_error, r2_score\n",
    "from sklearn.externals import joblib \n",
    "from statsmodels.formula.api import ols\n",
    "\n",
    "# Read csv file into a dataframe.\n",
    "df = pd.read_csv('csv_data/route4.csv')"
   ]
  },
  {
   "cell_type": "markdown",
   "metadata": {},
   "source": [
    "# 1.0 Data Cleaning "
   ]
  },
  {
   "cell_type": "markdown",
   "metadata": {},
   "source": [
    "## 1.1 Rename column names"
   ]
  },
  {
   "cell_type": "code",
   "execution_count": 2,
   "metadata": {
    "collapsed": false
   },
   "outputs": [],
   "source": [
    "df = df.rename(columns={'Timeframe': 'Start_date'})"
   ]
  },
  {
   "cell_type": "markdown",
   "metadata": {},
   "source": [
    "## 1.2 Dropping duplicates"
   ]
  },
  {
   "cell_type": "code",
   "execution_count": 3,
   "metadata": {
    "collapsed": true
   },
   "outputs": [],
   "source": [
    "df=df.drop_duplicates(keep='first')"
   ]
  },
  {
   "cell_type": "markdown",
   "metadata": {},
   "source": [
    "## 1.3 Dropping constant columns or columns with missing data"
   ]
  },
  {
   "cell_type": "code",
   "execution_count": 4,
   "metadata": {
    "collapsed": true
   },
   "outputs": [],
   "source": [
    "df = df.drop('Direction', axis=1)\n",
    "df = df.drop('Unnamed: 0', axis=1)\n",
    "df = df.drop('Congestion', axis=1)\n",
    "df[df.Journey_Pattern_ID == 'null']\n",
    "df = df[df['Journey_Pattern_ID'] != '00040002']\n",
    "df = df[df['Journey_Pattern_ID'] != '00041002']"
   ]
  },
  {
   "cell_type": "markdown",
   "metadata": {},
   "source": [
    "## 1.4 Remove rows where bus is not at stop"
   ]
  },
  {
   "cell_type": "code",
   "execution_count": 5,
   "metadata": {
    "collapsed": true
   },
   "outputs": [],
   "source": [
    "df = df.loc[(df != 0).all(axis=1), :]"
   ]
  },
  {
   "cell_type": "markdown",
   "metadata": {},
   "source": [
    "## 1.5 Group to normalise time & remove rows where bus idle at stop"
   ]
  },
  {
   "cell_type": "code",
   "execution_count": 6,
   "metadata": {
    "collapsed": true
   },
   "outputs": [],
   "source": [
    "# Create empty column which will hold normalised time\n",
    "df['normal_time'] = 0"
   ]
  },
  {
   "cell_type": "code",
   "execution_count": 7,
   "metadata": {
    "collapsed": true
   },
   "outputs": [],
   "source": [
    "# Create empty column which will hold the stop order\n",
    "df['stop_order'] = 0"
   ]
  },
  {
   "cell_type": "code",
   "execution_count": 8,
   "metadata": {
    "collapsed": false
   },
   "outputs": [],
   "source": [
    "grouped_df = df.groupby(['Vehicle_Journey_ID', 'Start_date'])"
   ]
  },
  {
   "cell_type": "code",
   "execution_count": 9,
   "metadata": {
    "collapsed": true
   },
   "outputs": [],
   "source": [
    "def normalize_time(df):\n",
    "    \"\"\"Normalise the time for each journey\"\"\"\n",
    "    for i in range(df['Timestamp'].size):\n",
    "        df['normal_time'].values[i] = (df['Timestamp'].values[i] - df['Timestamp'].values[0]) / 1000000\n",
    "        \n",
    "    return df"
   ]
  },
  {
   "cell_type": "code",
   "execution_count": 10,
   "metadata": {
    "collapsed": true
   },
   "outputs": [],
   "source": [
    "norm_gb = grouped_df.apply(normalize_time)"
   ]
  },
  {
   "cell_type": "code",
   "execution_count": 11,
   "metadata": {
    "collapsed": false
   },
   "outputs": [],
   "source": [
    "grouped_df = norm_gb.groupby(['Vehicle_Journey_ID', 'Start_date'])"
   ]
  },
  {
   "cell_type": "code",
   "execution_count": 12,
   "metadata": {
    "collapsed": true
   },
   "outputs": [],
   "source": [
    "def remove_idle_at_stop(df):\n",
    "    df = df.drop_duplicates(subset='Stop_ID', keep='first')\n",
    "    \n",
    "    return df"
   ]
  },
  {
   "cell_type": "code",
   "execution_count": 13,
   "metadata": {
    "collapsed": true
   },
   "outputs": [],
   "source": [
    "norm_gb = grouped_df.apply(remove_idle_at_stop)"
   ]
  },
  {
   "cell_type": "code",
   "execution_count": 14,
   "metadata": {
    "collapsed": false,
    "scrolled": true
   },
   "outputs": [
    {
     "name": "stderr",
     "output_type": "stream",
     "text": [
      "/Users/user/anaconda/lib/python3.5/site-packages/ipykernel/__main__.py:1: FutureWarning: 'Vehicle_Journey_ID' is both a column name and an index level.\n",
      "Defaulting to column but this will raise an ambiguity error in a future version\n",
      "  if __name__ == '__main__':\n",
      "/Users/user/anaconda/lib/python3.5/site-packages/ipykernel/__main__.py:1: FutureWarning: 'Start_date' is both a column name and an index level.\n",
      "Defaulting to column but this will raise an ambiguity error in a future version\n",
      "  if __name__ == '__main__':\n"
     ]
    }
   ],
   "source": [
    "grouped_df = norm_gb.groupby(['Vehicle_Journey_ID', 'Start_date'])"
   ]
  },
  {
   "cell_type": "code",
   "execution_count": 15,
   "metadata": {
    "collapsed": true
   },
   "outputs": [],
   "source": [
    "def route_order(df):\n",
    "    for i in range(df['Timestamp'].size):\n",
    "        df['stop_order'].values[i] = i+1\n",
    "    \n",
    "    return df"
   ]
  },
  {
   "cell_type": "code",
   "execution_count": 16,
   "metadata": {
    "collapsed": true
   },
   "outputs": [],
   "source": [
    "df = grouped_df.apply(route_order)"
   ]
  },
  {
   "cell_type": "code",
   "execution_count": 17,
   "metadata": {
    "collapsed": false
   },
   "outputs": [
    {
     "name": "stderr",
     "output_type": "stream",
     "text": [
      "/Users/user/anaconda/lib/python3.5/site-packages/ipykernel/__main__.py:1: FutureWarning: 'Vehicle_Journey_ID' is both a column name and an index level.\n",
      "Defaulting to column but this will raise an ambiguity error in a future version\n",
      "  if __name__ == '__main__':\n",
      "/Users/user/anaconda/lib/python3.5/site-packages/ipykernel/__main__.py:1: FutureWarning: 'Start_date' is both a column name and an index level.\n",
      "Defaulting to column but this will raise an ambiguity error in a future version\n",
      "  if __name__ == '__main__':\n"
     ]
    }
   ],
   "source": [
    "grouped_df = df.groupby(['Vehicle_Journey_ID', 'Start_date'])"
   ]
  },
  {
   "cell_type": "code",
   "execution_count": 18,
   "metadata": {
    "collapsed": true
   },
   "outputs": [],
   "source": [
    "#removed crystallising end stop as take that out later on - for flexibility to run checks beforehand\n",
    "#have to add stops near the beginning as just the first stop is not capturing all journies, drivers must not be setting the \n",
    "#vehicle journey ID before starting off\n",
    "def stop_start_only(df):\n",
    "    if ( (df['Stop_ID'][0] == '7330') | (df['Stop_ID'][0] == '7113') | (df['Stop_ID'][0] == '324') | (df['Stop_ID'][0] == '327') | (df['Stop_ID'][0] == '2051')| (df['Stop_ID'][0] == '6086')):\n",
    "                                                                        \n",
    "        df['full_trip'] = 1\n",
    "    return df"
   ]
  },
  {
   "cell_type": "code",
   "execution_count": 19,
   "metadata": {
    "collapsed": true
   },
   "outputs": [],
   "source": [
    "df = grouped_df.apply(stop_start_only)"
   ]
  },
  {
   "cell_type": "code",
   "execution_count": 20,
   "metadata": {
    "collapsed": false
   },
   "outputs": [],
   "source": [
    "df = df.loc[df['full_trip'] == 1]"
   ]
  },
  {
   "cell_type": "markdown",
   "metadata": {},
   "source": [
    "## 1.6 Add new features"
   ]
  },
  {
   "cell_type": "code",
   "execution_count": 21,
   "metadata": {
    "collapsed": true
   },
   "outputs": [],
   "source": [
    "df[\"Time\"] = pd.to_datetime(df['Timestamp']*1000, unit=\"ns\")"
   ]
  },
  {
   "cell_type": "code",
   "execution_count": 22,
   "metadata": {
    "collapsed": true
   },
   "outputs": [],
   "source": [
    "df['IsWeekend'] = np.where((df['Time'].dt.dayofweek > 5), 1, 0)"
   ]
  },
  {
   "cell_type": "code",
   "execution_count": 23,
   "metadata": {
    "collapsed": true
   },
   "outputs": [],
   "source": [
    "df['HourOfDay'] = df['Time'].dt.hour"
   ]
  },
  {
   "cell_type": "code",
   "execution_count": 24,
   "metadata": {
    "collapsed": false
   },
   "outputs": [],
   "source": [
    "df['MinsOfHour'] = df['Time'].dt.minute"
   ]
  },
  {
   "cell_type": "code",
   "execution_count": 25,
   "metadata": {
    "collapsed": true
   },
   "outputs": [],
   "source": [
    "df['DayOfWeek'] = df['Time'].dt.dayofweek"
   ]
  },
  {
   "cell_type": "code",
   "execution_count": 26,
   "metadata": {
    "collapsed": true
   },
   "outputs": [],
   "source": [
    "df['IsEveningTime'] = np.where((df['Time'].dt.hour > 17), 1, 0)"
   ]
  },
  {
   "cell_type": "code",
   "execution_count": 27,
   "metadata": {
    "collapsed": false
   },
   "outputs": [],
   "source": [
    "df['Direction_north'] = np.where((df['Journey_Pattern_ID'] == '00041001'), 1,0)"
   ]
  },
  {
   "cell_type": "code",
   "execution_count": 28,
   "metadata": {
    "collapsed": false
   },
   "outputs": [],
   "source": [
    "df['IsPeakTime'] = np.where(((df['HourOfDay'] >= 7) & (df['HourOfDay'] <= 10)) | ((df['HourOfDay'] >= 16) & (df['HourOfDay'] <= 19)), 1, 0)"
   ]
  },
  {
   "cell_type": "code",
   "execution_count": 29,
   "metadata": {
    "collapsed": false
   },
   "outputs": [],
   "source": [
    "df['RDS_Event'] = np.where((df['Time'].dt.date == datetime(2013, 1, 27).date()), 1, 0)"
   ]
  },
  {
   "cell_type": "code",
   "execution_count": 30,
   "metadata": {
    "collapsed": false
   },
   "outputs": [],
   "source": [
    "df['BankHoliday'] = np.where((df['Time'].dt.date == datetime(2013, 1, 1).date()), 1, 0)"
   ]
  },
  {
   "cell_type": "code",
   "execution_count": 31,
   "metadata": {
    "collapsed": false
   },
   "outputs": [],
   "source": [
    "df['SchoolHoliday'] = np.where((df['Time'].dt.date == datetime(2012, 11, 1).date()) | (\n",
    "\n",
    "df['Time'].dt.date == datetime(2012, 11, 2).date()) | (\n",
    "\n",
    "                                       df['Time'].dt.date == datetime(2013, 1, 1).date()) | (\n",
    "\n",
    "                                       df['Time'].dt.date == datetime(2013, 1, 2).date()) | (\n",
    "\n",
    "                                       df['Time'].dt.date == datetime(2013, 1, 3).date()) | (\n",
    "\n",
    "                                       df['Time'].dt.date == datetime(2013, 1, 4).date()), 1, 0)"
   ]
  },
  {
   "cell_type": "markdown",
   "metadata": {},
   "source": [
    "# 2.0 Merge Datasets"
   ]
  },
  {
   "cell_type": "markdown",
   "metadata": {},
   "source": [
    "## 2.1 Merge bus stop info"
   ]
  },
  {
   "cell_type": "code",
   "execution_count": 32,
   "metadata": {
    "collapsed": true
   },
   "outputs": [],
   "source": [
    "df_bus_stop = pd.read_csv('csv_data/busstopinfo.csv', encoding='latin-1')"
   ]
  },
  {
   "cell_type": "code",
   "execution_count": 33,
   "metadata": {
    "collapsed": false
   },
   "outputs": [],
   "source": [
    "df_bus_stop = df_bus_stop.rename(columns={'stopid': 'Stop_ID'})\n",
    "df_bus_stop = df_bus_stop.rename(columns={'fullname': 'Stop_name'})"
   ]
  },
  {
   "cell_type": "code",
   "execution_count": 34,
   "metadata": {
    "collapsed": true
   },
   "outputs": [],
   "source": [
    "df_bus_stop = df_bus_stop[['Stop_ID', 'Stop_name']]"
   ]
  },
  {
   "cell_type": "code",
   "execution_count": 35,
   "metadata": {
    "collapsed": false
   },
   "outputs": [],
   "source": [
    "df = pd.merge(df, df_bus_stop, on=['Stop_ID'])"
   ]
  },
  {
   "cell_type": "code",
   "execution_count": 36,
   "metadata": {
    "collapsed": false
   },
   "outputs": [],
   "source": [
    "grouped_df = df.groupby(['Vehicle_Journey_ID', 'Start_date'])"
   ]
  },
  {
   "cell_type": "code",
   "execution_count": 37,
   "metadata": {
    "collapsed": false
   },
   "outputs": [
    {
     "data": {
      "text/html": [
       "<div>\n",
       "<style>\n",
       "    .dataframe thead tr:only-child th {\n",
       "        text-align: right;\n",
       "    }\n",
       "\n",
       "    .dataframe thead th {\n",
       "        text-align: left;\n",
       "    }\n",
       "\n",
       "    .dataframe tbody tr th {\n",
       "        vertical-align: top;\n",
       "    }\n",
       "</style>\n",
       "<table border=\"1\" class=\"dataframe\">\n",
       "  <thead>\n",
       "    <tr style=\"text-align: right;\">\n",
       "      <th></th>\n",
       "      <th>At_Stop</th>\n",
       "      <th>Block_ID</th>\n",
       "      <th>Delay</th>\n",
       "      <th>Journey_Pattern_ID</th>\n",
       "      <th>Lat</th>\n",
       "      <th>LineID</th>\n",
       "      <th>Lon</th>\n",
       "      <th>Operator</th>\n",
       "      <th>Start_date</th>\n",
       "      <th>Stop_ID</th>\n",
       "      <th>...</th>\n",
       "      <th>HourOfDay</th>\n",
       "      <th>MinsOfHour</th>\n",
       "      <th>DayOfWeek</th>\n",
       "      <th>IsEveningTime</th>\n",
       "      <th>Direction_north</th>\n",
       "      <th>IsPeakTime</th>\n",
       "      <th>RDS_Event</th>\n",
       "      <th>BankHoliday</th>\n",
       "      <th>SchoolHoliday</th>\n",
       "      <th>Stop_name</th>\n",
       "    </tr>\n",
       "  </thead>\n",
       "  <tbody>\n",
       "    <tr>\n",
       "      <th>19130</th>\n",
       "      <td>1</td>\n",
       "      <td>4003</td>\n",
       "      <td>42</td>\n",
       "      <td>00040001</td>\n",
       "      <td>53.402534</td>\n",
       "      <td>4.0</td>\n",
       "      <td>-6.264970</td>\n",
       "      <td>HN</td>\n",
       "      <td>2013-01-03</td>\n",
       "      <td>7113</td>\n",
       "      <td>...</td>\n",
       "      <td>8</td>\n",
       "      <td>21</td>\n",
       "      <td>3</td>\n",
       "      <td>0</td>\n",
       "      <td>0</td>\n",
       "      <td>1</td>\n",
       "      <td>0</td>\n",
       "      <td>0</td>\n",
       "      <td>1</td>\n",
       "      <td>Ballymun Road</td>\n",
       "    </tr>\n",
       "    <tr>\n",
       "      <th>19680</th>\n",
       "      <td>1</td>\n",
       "      <td>4003</td>\n",
       "      <td>42</td>\n",
       "      <td>00040001</td>\n",
       "      <td>53.399124</td>\n",
       "      <td>4.0</td>\n",
       "      <td>-6.263812</td>\n",
       "      <td>HN</td>\n",
       "      <td>2013-01-03</td>\n",
       "      <td>127</td>\n",
       "      <td>...</td>\n",
       "      <td>8</td>\n",
       "      <td>23</td>\n",
       "      <td>3</td>\n",
       "      <td>0</td>\n",
       "      <td>0</td>\n",
       "      <td>1</td>\n",
       "      <td>0</td>\n",
       "      <td>0</td>\n",
       "      <td>1</td>\n",
       "      <td>Ballymun Road</td>\n",
       "    </tr>\n",
       "    <tr>\n",
       "      <th>20140</th>\n",
       "      <td>1</td>\n",
       "      <td>4003</td>\n",
       "      <td>97</td>\n",
       "      <td>00040001</td>\n",
       "      <td>53.396149</td>\n",
       "      <td>4.0</td>\n",
       "      <td>-6.264059</td>\n",
       "      <td>HN</td>\n",
       "      <td>2013-01-03</td>\n",
       "      <td>112</td>\n",
       "      <td>...</td>\n",
       "      <td>8</td>\n",
       "      <td>26</td>\n",
       "      <td>3</td>\n",
       "      <td>0</td>\n",
       "      <td>0</td>\n",
       "      <td>1</td>\n",
       "      <td>0</td>\n",
       "      <td>0</td>\n",
       "      <td>1</td>\n",
       "      <td>Ballymun Road</td>\n",
       "    </tr>\n",
       "    <tr>\n",
       "      <th>20982</th>\n",
       "      <td>1</td>\n",
       "      <td>4003</td>\n",
       "      <td>23</td>\n",
       "      <td>00040001</td>\n",
       "      <td>53.385361</td>\n",
       "      <td>4.0</td>\n",
       "      <td>-6.265003</td>\n",
       "      <td>HN</td>\n",
       "      <td>2013-01-03</td>\n",
       "      <td>37</td>\n",
       "      <td>...</td>\n",
       "      <td>8</td>\n",
       "      <td>30</td>\n",
       "      <td>3</td>\n",
       "      <td>0</td>\n",
       "      <td>0</td>\n",
       "      <td>1</td>\n",
       "      <td>0</td>\n",
       "      <td>0</td>\n",
       "      <td>1</td>\n",
       "      <td>Ballymun Road</td>\n",
       "    </tr>\n",
       "    <tr>\n",
       "      <th>22072</th>\n",
       "      <td>1</td>\n",
       "      <td>4003</td>\n",
       "      <td>-369</td>\n",
       "      <td>00040001</td>\n",
       "      <td>53.365372</td>\n",
       "      <td>4.0</td>\n",
       "      <td>-6.271678</td>\n",
       "      <td>HN</td>\n",
       "      <td>2013-01-03</td>\n",
       "      <td>186</td>\n",
       "      <td>...</td>\n",
       "      <td>8</td>\n",
       "      <td>36</td>\n",
       "      <td>3</td>\n",
       "      <td>0</td>\n",
       "      <td>0</td>\n",
       "      <td>1</td>\n",
       "      <td>0</td>\n",
       "      <td>0</td>\n",
       "      <td>1</td>\n",
       "      <td>Prospect Road</td>\n",
       "    </tr>\n",
       "    <tr>\n",
       "      <th>22499</th>\n",
       "      <td>1</td>\n",
       "      <td>4003</td>\n",
       "      <td>-426</td>\n",
       "      <td>00040001</td>\n",
       "      <td>53.362782</td>\n",
       "      <td>4.0</td>\n",
       "      <td>-6.272560</td>\n",
       "      <td>HN</td>\n",
       "      <td>2013-01-03</td>\n",
       "      <td>187</td>\n",
       "      <td>...</td>\n",
       "      <td>8</td>\n",
       "      <td>37</td>\n",
       "      <td>3</td>\n",
       "      <td>0</td>\n",
       "      <td>0</td>\n",
       "      <td>1</td>\n",
       "      <td>0</td>\n",
       "      <td>0</td>\n",
       "      <td>1</td>\n",
       "      <td>Phibsboro Road</td>\n",
       "    </tr>\n",
       "    <tr>\n",
       "      <th>23002</th>\n",
       "      <td>1</td>\n",
       "      <td>4003</td>\n",
       "      <td>-401</td>\n",
       "      <td>00040001</td>\n",
       "      <td>53.360115</td>\n",
       "      <td>4.0</td>\n",
       "      <td>-6.272670</td>\n",
       "      <td>HN</td>\n",
       "      <td>2013-01-03</td>\n",
       "      <td>188</td>\n",
       "      <td>...</td>\n",
       "      <td>8</td>\n",
       "      <td>38</td>\n",
       "      <td>3</td>\n",
       "      <td>0</td>\n",
       "      <td>0</td>\n",
       "      <td>1</td>\n",
       "      <td>0</td>\n",
       "      <td>0</td>\n",
       "      <td>1</td>\n",
       "      <td>Phibsboro Road</td>\n",
       "    </tr>\n",
       "    <tr>\n",
       "      <th>23467</th>\n",
       "      <td>1</td>\n",
       "      <td>4003</td>\n",
       "      <td>-527</td>\n",
       "      <td>00040001</td>\n",
       "      <td>53.352112</td>\n",
       "      <td>4.0</td>\n",
       "      <td>-6.261073</td>\n",
       "      <td>HN</td>\n",
       "      <td>2013-01-03</td>\n",
       "      <td>4725</td>\n",
       "      <td>...</td>\n",
       "      <td>8</td>\n",
       "      <td>46</td>\n",
       "      <td>3</td>\n",
       "      <td>0</td>\n",
       "      <td>0</td>\n",
       "      <td>1</td>\n",
       "      <td>0</td>\n",
       "      <td>0</td>\n",
       "      <td>1</td>\n",
       "      <td>O'Connell St</td>\n",
       "    </tr>\n",
       "    <tr>\n",
       "      <th>24078</th>\n",
       "      <td>1</td>\n",
       "      <td>4003</td>\n",
       "      <td>-514</td>\n",
       "      <td>00040001</td>\n",
       "      <td>53.347191</td>\n",
       "      <td>4.0</td>\n",
       "      <td>-6.258871</td>\n",
       "      <td>HN</td>\n",
       "      <td>2013-01-03</td>\n",
       "      <td>273</td>\n",
       "      <td>...</td>\n",
       "      <td>8</td>\n",
       "      <td>50</td>\n",
       "      <td>3</td>\n",
       "      <td>0</td>\n",
       "      <td>0</td>\n",
       "      <td>1</td>\n",
       "      <td>0</td>\n",
       "      <td>0</td>\n",
       "      <td>1</td>\n",
       "      <td>O'Connell St</td>\n",
       "    </tr>\n",
       "    <tr>\n",
       "      <th>24674</th>\n",
       "      <td>1</td>\n",
       "      <td>4003</td>\n",
       "      <td>-543</td>\n",
       "      <td>00040001</td>\n",
       "      <td>53.342419</td>\n",
       "      <td>4.0</td>\n",
       "      <td>-6.255597</td>\n",
       "      <td>HN</td>\n",
       "      <td>2013-01-03</td>\n",
       "      <td>405</td>\n",
       "      <td>...</td>\n",
       "      <td>8</td>\n",
       "      <td>54</td>\n",
       "      <td>3</td>\n",
       "      <td>0</td>\n",
       "      <td>0</td>\n",
       "      <td>1</td>\n",
       "      <td>0</td>\n",
       "      <td>0</td>\n",
       "      <td>1</td>\n",
       "      <td>Nassau Street</td>\n",
       "    </tr>\n",
       "    <tr>\n",
       "      <th>25205</th>\n",
       "      <td>1</td>\n",
       "      <td>4003</td>\n",
       "      <td>-600</td>\n",
       "      <td>00040001</td>\n",
       "      <td>53.338043</td>\n",
       "      <td>4.0</td>\n",
       "      <td>-6.241783</td>\n",
       "      <td>HN</td>\n",
       "      <td>2013-01-03</td>\n",
       "      <td>411</td>\n",
       "      <td>...</td>\n",
       "      <td>8</td>\n",
       "      <td>59</td>\n",
       "      <td>3</td>\n",
       "      <td>0</td>\n",
       "      <td>0</td>\n",
       "      <td>1</td>\n",
       "      <td>0</td>\n",
       "      <td>0</td>\n",
       "      <td>1</td>\n",
       "      <td>Mount St</td>\n",
       "    </tr>\n",
       "    <tr>\n",
       "      <th>25922</th>\n",
       "      <td>1</td>\n",
       "      <td>4003</td>\n",
       "      <td>-580</td>\n",
       "      <td>00040001</td>\n",
       "      <td>53.330238</td>\n",
       "      <td>4.0</td>\n",
       "      <td>-6.233015</td>\n",
       "      <td>HN</td>\n",
       "      <td>2013-01-03</td>\n",
       "      <td>415</td>\n",
       "      <td>...</td>\n",
       "      <td>9</td>\n",
       "      <td>4</td>\n",
       "      <td>3</td>\n",
       "      <td>0</td>\n",
       "      <td>0</td>\n",
       "      <td>1</td>\n",
       "      <td>0</td>\n",
       "      <td>0</td>\n",
       "      <td>1</td>\n",
       "      <td>Pembroke Road</td>\n",
       "    </tr>\n",
       "    <tr>\n",
       "      <th>26346</th>\n",
       "      <td>1</td>\n",
       "      <td>4003</td>\n",
       "      <td>-533</td>\n",
       "      <td>00040001</td>\n",
       "      <td>53.328552</td>\n",
       "      <td>4.0</td>\n",
       "      <td>-6.229381</td>\n",
       "      <td>HN</td>\n",
       "      <td>2013-01-03</td>\n",
       "      <td>416</td>\n",
       "      <td>...</td>\n",
       "      <td>9</td>\n",
       "      <td>6</td>\n",
       "      <td>3</td>\n",
       "      <td>0</td>\n",
       "      <td>0</td>\n",
       "      <td>1</td>\n",
       "      <td>0</td>\n",
       "      <td>0</td>\n",
       "      <td>1</td>\n",
       "      <td>Ballsbridge</td>\n",
       "    </tr>\n",
       "    <tr>\n",
       "      <th>26750</th>\n",
       "      <td>1</td>\n",
       "      <td>4003</td>\n",
       "      <td>-496</td>\n",
       "      <td>00040001</td>\n",
       "      <td>53.321838</td>\n",
       "      <td>4.0</td>\n",
       "      <td>-6.217536</td>\n",
       "      <td>HN</td>\n",
       "      <td>2013-01-03</td>\n",
       "      <td>420</td>\n",
       "      <td>...</td>\n",
       "      <td>9</td>\n",
       "      <td>10</td>\n",
       "      <td>3</td>\n",
       "      <td>0</td>\n",
       "      <td>0</td>\n",
       "      <td>1</td>\n",
       "      <td>0</td>\n",
       "      <td>0</td>\n",
       "      <td>1</td>\n",
       "      <td>Merrion Road</td>\n",
       "    </tr>\n",
       "    <tr>\n",
       "      <th>26900</th>\n",
       "      <td>1</td>\n",
       "      <td>4003</td>\n",
       "      <td>-513</td>\n",
       "      <td>00040001</td>\n",
       "      <td>53.318005</td>\n",
       "      <td>4.0</td>\n",
       "      <td>-6.210329</td>\n",
       "      <td>HN</td>\n",
       "      <td>2013-01-03</td>\n",
       "      <td>422</td>\n",
       "      <td>...</td>\n",
       "      <td>9</td>\n",
       "      <td>12</td>\n",
       "      <td>3</td>\n",
       "      <td>0</td>\n",
       "      <td>0</td>\n",
       "      <td>1</td>\n",
       "      <td>0</td>\n",
       "      <td>0</td>\n",
       "      <td>1</td>\n",
       "      <td>Merrion Road</td>\n",
       "    </tr>\n",
       "    <tr>\n",
       "      <th>27463</th>\n",
       "      <td>1</td>\n",
       "      <td>4003</td>\n",
       "      <td>-465</td>\n",
       "      <td>00040001</td>\n",
       "      <td>53.301247</td>\n",
       "      <td>4.0</td>\n",
       "      <td>-6.180648</td>\n",
       "      <td>HN</td>\n",
       "      <td>2013-01-03</td>\n",
       "      <td>6334</td>\n",
       "      <td>...</td>\n",
       "      <td>9</td>\n",
       "      <td>20</td>\n",
       "      <td>3</td>\n",
       "      <td>0</td>\n",
       "      <td>0</td>\n",
       "      <td>1</td>\n",
       "      <td>0</td>\n",
       "      <td>0</td>\n",
       "      <td>1</td>\n",
       "      <td>Frascati Road</td>\n",
       "    </tr>\n",
       "    <tr>\n",
       "      <th>27950</th>\n",
       "      <td>1</td>\n",
       "      <td>4003</td>\n",
       "      <td>-46</td>\n",
       "      <td>00040001</td>\n",
       "      <td>53.288601</td>\n",
       "      <td>4.0</td>\n",
       "      <td>-6.153650</td>\n",
       "      <td>HN</td>\n",
       "      <td>2013-01-03</td>\n",
       "      <td>7226</td>\n",
       "      <td>...</td>\n",
       "      <td>9</td>\n",
       "      <td>35</td>\n",
       "      <td>3</td>\n",
       "      <td>0</td>\n",
       "      <td>0</td>\n",
       "      <td>1</td>\n",
       "      <td>0</td>\n",
       "      <td>0</td>\n",
       "      <td>1</td>\n",
       "      <td>Monkstown Ave</td>\n",
       "    </tr>\n",
       "    <tr>\n",
       "      <th>28299</th>\n",
       "      <td>1</td>\n",
       "      <td>4003</td>\n",
       "      <td>-425</td>\n",
       "      <td>00040001</td>\n",
       "      <td>53.286587</td>\n",
       "      <td>4.0</td>\n",
       "      <td>-6.159684</td>\n",
       "      <td>HN</td>\n",
       "      <td>2013-01-03</td>\n",
       "      <td>2026</td>\n",
       "      <td>...</td>\n",
       "      <td>9</td>\n",
       "      <td>27</td>\n",
       "      <td>3</td>\n",
       "      <td>0</td>\n",
       "      <td>0</td>\n",
       "      <td>1</td>\n",
       "      <td>0</td>\n",
       "      <td>0</td>\n",
       "      <td>1</td>\n",
       "      <td>Monkstown Ave</td>\n",
       "    </tr>\n",
       "    <tr>\n",
       "      <th>28758</th>\n",
       "      <td>1</td>\n",
       "      <td>4003</td>\n",
       "      <td>-40</td>\n",
       "      <td>00040001</td>\n",
       "      <td>53.380424</td>\n",
       "      <td>4.0</td>\n",
       "      <td>-6.265748</td>\n",
       "      <td>HN</td>\n",
       "      <td>2013-01-03</td>\n",
       "      <td>39</td>\n",
       "      <td>...</td>\n",
       "      <td>8</td>\n",
       "      <td>31</td>\n",
       "      <td>3</td>\n",
       "      <td>0</td>\n",
       "      <td>0</td>\n",
       "      <td>1</td>\n",
       "      <td>0</td>\n",
       "      <td>0</td>\n",
       "      <td>1</td>\n",
       "      <td>Ballymun Road</td>\n",
       "    </tr>\n",
       "    <tr>\n",
       "      <th>29026</th>\n",
       "      <td>1</td>\n",
       "      <td>4003</td>\n",
       "      <td>-432</td>\n",
       "      <td>00040001</td>\n",
       "      <td>53.355110</td>\n",
       "      <td>4.0</td>\n",
       "      <td>-6.273461</td>\n",
       "      <td>HN</td>\n",
       "      <td>2013-01-03</td>\n",
       "      <td>190</td>\n",
       "      <td>...</td>\n",
       "      <td>8</td>\n",
       "      <td>40</td>\n",
       "      <td>3</td>\n",
       "      <td>0</td>\n",
       "      <td>0</td>\n",
       "      <td>1</td>\n",
       "      <td>0</td>\n",
       "      <td>0</td>\n",
       "      <td>1</td>\n",
       "      <td>Phibsboro Road</td>\n",
       "    </tr>\n",
       "    <tr>\n",
       "      <th>29799</th>\n",
       "      <td>1</td>\n",
       "      <td>4003</td>\n",
       "      <td>-599</td>\n",
       "      <td>00040001</td>\n",
       "      <td>53.340092</td>\n",
       "      <td>4.0</td>\n",
       "      <td>-6.247671</td>\n",
       "      <td>HN</td>\n",
       "      <td>2013-01-03</td>\n",
       "      <td>409</td>\n",
       "      <td>...</td>\n",
       "      <td>8</td>\n",
       "      <td>57</td>\n",
       "      <td>3</td>\n",
       "      <td>0</td>\n",
       "      <td>0</td>\n",
       "      <td>1</td>\n",
       "      <td>0</td>\n",
       "      <td>0</td>\n",
       "      <td>1</td>\n",
       "      <td>Merrion Sq</td>\n",
       "    </tr>\n",
       "    <tr>\n",
       "      <th>30098</th>\n",
       "      <td>1</td>\n",
       "      <td>4003</td>\n",
       "      <td>-616</td>\n",
       "      <td>00040001</td>\n",
       "      <td>53.338776</td>\n",
       "      <td>4.0</td>\n",
       "      <td>-6.243891</td>\n",
       "      <td>HN</td>\n",
       "      <td>2013-01-03</td>\n",
       "      <td>410</td>\n",
       "      <td>...</td>\n",
       "      <td>8</td>\n",
       "      <td>58</td>\n",
       "      <td>3</td>\n",
       "      <td>0</td>\n",
       "      <td>0</td>\n",
       "      <td>1</td>\n",
       "      <td>0</td>\n",
       "      <td>0</td>\n",
       "      <td>1</td>\n",
       "      <td>Mount St</td>\n",
       "    </tr>\n",
       "    <tr>\n",
       "      <th>30651</th>\n",
       "      <td>1</td>\n",
       "      <td>4003</td>\n",
       "      <td>-427</td>\n",
       "      <td>00040001</td>\n",
       "      <td>53.295761</td>\n",
       "      <td>4.0</td>\n",
       "      <td>-6.169871</td>\n",
       "      <td>HN</td>\n",
       "      <td>2013-01-03</td>\n",
       "      <td>3114</td>\n",
       "      <td>...</td>\n",
       "      <td>9</td>\n",
       "      <td>23</td>\n",
       "      <td>3</td>\n",
       "      <td>0</td>\n",
       "      <td>0</td>\n",
       "      <td>1</td>\n",
       "      <td>0</td>\n",
       "      <td>0</td>\n",
       "      <td>1</td>\n",
       "      <td>Stradbrook Rd</td>\n",
       "    </tr>\n",
       "    <tr>\n",
       "      <th>31203</th>\n",
       "      <td>1</td>\n",
       "      <td>4003</td>\n",
       "      <td>67</td>\n",
       "      <td>00040001</td>\n",
       "      <td>53.392265</td>\n",
       "      <td>4.0</td>\n",
       "      <td>-6.263807</td>\n",
       "      <td>HN</td>\n",
       "      <td>2013-01-03</td>\n",
       "      <td>113</td>\n",
       "      <td>...</td>\n",
       "      <td>8</td>\n",
       "      <td>27</td>\n",
       "      <td>3</td>\n",
       "      <td>0</td>\n",
       "      <td>0</td>\n",
       "      <td>1</td>\n",
       "      <td>0</td>\n",
       "      <td>0</td>\n",
       "      <td>1</td>\n",
       "      <td>Ballymun Road</td>\n",
       "    </tr>\n",
       "    <tr>\n",
       "      <th>31553</th>\n",
       "      <td>1</td>\n",
       "      <td>4003</td>\n",
       "      <td>-591</td>\n",
       "      <td>00040001</td>\n",
       "      <td>53.340919</td>\n",
       "      <td>4.0</td>\n",
       "      <td>-6.250031</td>\n",
       "      <td>HN</td>\n",
       "      <td>2013-01-03</td>\n",
       "      <td>408</td>\n",
       "      <td>...</td>\n",
       "      <td>8</td>\n",
       "      <td>56</td>\n",
       "      <td>3</td>\n",
       "      <td>0</td>\n",
       "      <td>0</td>\n",
       "      <td>1</td>\n",
       "      <td>0</td>\n",
       "      <td>0</td>\n",
       "      <td>1</td>\n",
       "      <td>Merrion Sq</td>\n",
       "    </tr>\n",
       "    <tr>\n",
       "      <th>31905</th>\n",
       "      <td>1</td>\n",
       "      <td>4003</td>\n",
       "      <td>-581</td>\n",
       "      <td>00040001</td>\n",
       "      <td>53.335163</td>\n",
       "      <td>4.0</td>\n",
       "      <td>-6.237385</td>\n",
       "      <td>HN</td>\n",
       "      <td>2013-01-03</td>\n",
       "      <td>412</td>\n",
       "      <td>...</td>\n",
       "      <td>9</td>\n",
       "      <td>1</td>\n",
       "      <td>3</td>\n",
       "      <td>0</td>\n",
       "      <td>0</td>\n",
       "      <td>1</td>\n",
       "      <td>0</td>\n",
       "      <td>0</td>\n",
       "      <td>1</td>\n",
       "      <td>Northumberland Rd</td>\n",
       "    </tr>\n",
       "    <tr>\n",
       "      <th>32834</th>\n",
       "      <td>1</td>\n",
       "      <td>4003</td>\n",
       "      <td>-484</td>\n",
       "      <td>00040001</td>\n",
       "      <td>53.315273</td>\n",
       "      <td>4.0</td>\n",
       "      <td>-6.203786</td>\n",
       "      <td>HN</td>\n",
       "      <td>2013-01-03</td>\n",
       "      <td>424</td>\n",
       "      <td>...</td>\n",
       "      <td>9</td>\n",
       "      <td>15</td>\n",
       "      <td>3</td>\n",
       "      <td>0</td>\n",
       "      <td>0</td>\n",
       "      <td>1</td>\n",
       "      <td>0</td>\n",
       "      <td>0</td>\n",
       "      <td>1</td>\n",
       "      <td>Merrion Road</td>\n",
       "    </tr>\n",
       "    <tr>\n",
       "      <th>34482</th>\n",
       "      <td>1</td>\n",
       "      <td>4003</td>\n",
       "      <td>-496</td>\n",
       "      <td>00040001</td>\n",
       "      <td>53.319920</td>\n",
       "      <td>4.0</td>\n",
       "      <td>-6.214526</td>\n",
       "      <td>HN</td>\n",
       "      <td>2013-01-03</td>\n",
       "      <td>421</td>\n",
       "      <td>...</td>\n",
       "      <td>9</td>\n",
       "      <td>11</td>\n",
       "      <td>3</td>\n",
       "      <td>0</td>\n",
       "      <td>0</td>\n",
       "      <td>1</td>\n",
       "      <td>0</td>\n",
       "      <td>0</td>\n",
       "      <td>1</td>\n",
       "      <td>Merrion Road</td>\n",
       "    </tr>\n",
       "    <tr>\n",
       "      <th>34845</th>\n",
       "      <td>1</td>\n",
       "      <td>4003</td>\n",
       "      <td>-479</td>\n",
       "      <td>00040001</td>\n",
       "      <td>53.323895</td>\n",
       "      <td>4.0</td>\n",
       "      <td>-6.220490</td>\n",
       "      <td>HN</td>\n",
       "      <td>2013-01-03</td>\n",
       "      <td>419</td>\n",
       "      <td>...</td>\n",
       "      <td>9</td>\n",
       "      <td>10</td>\n",
       "      <td>3</td>\n",
       "      <td>0</td>\n",
       "      <td>0</td>\n",
       "      <td>1</td>\n",
       "      <td>0</td>\n",
       "      <td>0</td>\n",
       "      <td>1</td>\n",
       "      <td>Merrion Road</td>\n",
       "    </tr>\n",
       "    <tr>\n",
       "      <th>35009</th>\n",
       "      <td>1</td>\n",
       "      <td>4003</td>\n",
       "      <td>-402</td>\n",
       "      <td>00040001</td>\n",
       "      <td>53.290005</td>\n",
       "      <td>4.0</td>\n",
       "      <td>-6.167232</td>\n",
       "      <td>HN</td>\n",
       "      <td>2013-01-03</td>\n",
       "      <td>3116</td>\n",
       "      <td>...</td>\n",
       "      <td>9</td>\n",
       "      <td>25</td>\n",
       "      <td>3</td>\n",
       "      <td>0</td>\n",
       "      <td>0</td>\n",
       "      <td>1</td>\n",
       "      <td>0</td>\n",
       "      <td>0</td>\n",
       "      <td>1</td>\n",
       "      <td>Rowan Pk</td>\n",
       "    </tr>\n",
       "    <tr>\n",
       "      <th>35254</th>\n",
       "      <td>1</td>\n",
       "      <td>4003</td>\n",
       "      <td>-450</td>\n",
       "      <td>00040001</td>\n",
       "      <td>53.310863</td>\n",
       "      <td>4.0</td>\n",
       "      <td>-6.199884</td>\n",
       "      <td>HN</td>\n",
       "      <td>2013-01-03</td>\n",
       "      <td>426</td>\n",
       "      <td>...</td>\n",
       "      <td>9</td>\n",
       "      <td>16</td>\n",
       "      <td>3</td>\n",
       "      <td>0</td>\n",
       "      <td>0</td>\n",
       "      <td>1</td>\n",
       "      <td>0</td>\n",
       "      <td>0</td>\n",
       "      <td>1</td>\n",
       "      <td>Rock Road</td>\n",
       "    </tr>\n",
       "    <tr>\n",
       "      <th>35463</th>\n",
       "      <td>1</td>\n",
       "      <td>4003</td>\n",
       "      <td>-459</td>\n",
       "      <td>00040001</td>\n",
       "      <td>53.317089</td>\n",
       "      <td>4.0</td>\n",
       "      <td>-6.207413</td>\n",
       "      <td>HN</td>\n",
       "      <td>2013-01-03</td>\n",
       "      <td>423</td>\n",
       "      <td>...</td>\n",
       "      <td>9</td>\n",
       "      <td>14</td>\n",
       "      <td>3</td>\n",
       "      <td>0</td>\n",
       "      <td>0</td>\n",
       "      <td>1</td>\n",
       "      <td>0</td>\n",
       "      <td>0</td>\n",
       "      <td>1</td>\n",
       "      <td>Merrion Road</td>\n",
       "    </tr>\n",
       "    <tr>\n",
       "      <th>36422</th>\n",
       "      <td>1</td>\n",
       "      <td>4003</td>\n",
       "      <td>42</td>\n",
       "      <td>00040001</td>\n",
       "      <td>53.413181</td>\n",
       "      <td>4.0</td>\n",
       "      <td>-6.265451</td>\n",
       "      <td>HN</td>\n",
       "      <td>2013-01-03</td>\n",
       "      <td>327</td>\n",
       "      <td>...</td>\n",
       "      <td>8</td>\n",
       "      <td>18</td>\n",
       "      <td>3</td>\n",
       "      <td>0</td>\n",
       "      <td>0</td>\n",
       "      <td>1</td>\n",
       "      <td>0</td>\n",
       "      <td>0</td>\n",
       "      <td>1</td>\n",
       "      <td>Ballymun Road</td>\n",
       "    </tr>\n",
       "  </tbody>\n",
       "</table>\n",
       "<p>33 rows × 28 columns</p>\n",
       "</div>"
      ],
      "text/plain": [
       "       At_Stop  Block_ID  Delay Journey_Pattern_ID        Lat  LineID  \\\n",
       "19130        1      4003     42           00040001  53.402534     4.0   \n",
       "19680        1      4003     42           00040001  53.399124     4.0   \n",
       "20140        1      4003     97           00040001  53.396149     4.0   \n",
       "20982        1      4003     23           00040001  53.385361     4.0   \n",
       "22072        1      4003   -369           00040001  53.365372     4.0   \n",
       "22499        1      4003   -426           00040001  53.362782     4.0   \n",
       "23002        1      4003   -401           00040001  53.360115     4.0   \n",
       "23467        1      4003   -527           00040001  53.352112     4.0   \n",
       "24078        1      4003   -514           00040001  53.347191     4.0   \n",
       "24674        1      4003   -543           00040001  53.342419     4.0   \n",
       "25205        1      4003   -600           00040001  53.338043     4.0   \n",
       "25922        1      4003   -580           00040001  53.330238     4.0   \n",
       "26346        1      4003   -533           00040001  53.328552     4.0   \n",
       "26750        1      4003   -496           00040001  53.321838     4.0   \n",
       "26900        1      4003   -513           00040001  53.318005     4.0   \n",
       "27463        1      4003   -465           00040001  53.301247     4.0   \n",
       "27950        1      4003    -46           00040001  53.288601     4.0   \n",
       "28299        1      4003   -425           00040001  53.286587     4.0   \n",
       "28758        1      4003    -40           00040001  53.380424     4.0   \n",
       "29026        1      4003   -432           00040001  53.355110     4.0   \n",
       "29799        1      4003   -599           00040001  53.340092     4.0   \n",
       "30098        1      4003   -616           00040001  53.338776     4.0   \n",
       "30651        1      4003   -427           00040001  53.295761     4.0   \n",
       "31203        1      4003     67           00040001  53.392265     4.0   \n",
       "31553        1      4003   -591           00040001  53.340919     4.0   \n",
       "31905        1      4003   -581           00040001  53.335163     4.0   \n",
       "32834        1      4003   -484           00040001  53.315273     4.0   \n",
       "34482        1      4003   -496           00040001  53.319920     4.0   \n",
       "34845        1      4003   -479           00040001  53.323895     4.0   \n",
       "35009        1      4003   -402           00040001  53.290005     4.0   \n",
       "35254        1      4003   -450           00040001  53.310863     4.0   \n",
       "35463        1      4003   -459           00040001  53.317089     4.0   \n",
       "36422        1      4003     42           00040001  53.413181     4.0   \n",
       "\n",
       "            Lon Operator  Start_date Stop_ID        ...          HourOfDay  \\\n",
       "19130 -6.264970       HN  2013-01-03    7113        ...                  8   \n",
       "19680 -6.263812       HN  2013-01-03     127        ...                  8   \n",
       "20140 -6.264059       HN  2013-01-03     112        ...                  8   \n",
       "20982 -6.265003       HN  2013-01-03      37        ...                  8   \n",
       "22072 -6.271678       HN  2013-01-03     186        ...                  8   \n",
       "22499 -6.272560       HN  2013-01-03     187        ...                  8   \n",
       "23002 -6.272670       HN  2013-01-03     188        ...                  8   \n",
       "23467 -6.261073       HN  2013-01-03    4725        ...                  8   \n",
       "24078 -6.258871       HN  2013-01-03     273        ...                  8   \n",
       "24674 -6.255597       HN  2013-01-03     405        ...                  8   \n",
       "25205 -6.241783       HN  2013-01-03     411        ...                  8   \n",
       "25922 -6.233015       HN  2013-01-03     415        ...                  9   \n",
       "26346 -6.229381       HN  2013-01-03     416        ...                  9   \n",
       "26750 -6.217536       HN  2013-01-03     420        ...                  9   \n",
       "26900 -6.210329       HN  2013-01-03     422        ...                  9   \n",
       "27463 -6.180648       HN  2013-01-03    6334        ...                  9   \n",
       "27950 -6.153650       HN  2013-01-03    7226        ...                  9   \n",
       "28299 -6.159684       HN  2013-01-03    2026        ...                  9   \n",
       "28758 -6.265748       HN  2013-01-03      39        ...                  8   \n",
       "29026 -6.273461       HN  2013-01-03     190        ...                  8   \n",
       "29799 -6.247671       HN  2013-01-03     409        ...                  8   \n",
       "30098 -6.243891       HN  2013-01-03     410        ...                  8   \n",
       "30651 -6.169871       HN  2013-01-03    3114        ...                  9   \n",
       "31203 -6.263807       HN  2013-01-03     113        ...                  8   \n",
       "31553 -6.250031       HN  2013-01-03     408        ...                  8   \n",
       "31905 -6.237385       HN  2013-01-03     412        ...                  9   \n",
       "32834 -6.203786       HN  2013-01-03     424        ...                  9   \n",
       "34482 -6.214526       HN  2013-01-03     421        ...                  9   \n",
       "34845 -6.220490       HN  2013-01-03     419        ...                  9   \n",
       "35009 -6.167232       HN  2013-01-03    3116        ...                  9   \n",
       "35254 -6.199884       HN  2013-01-03     426        ...                  9   \n",
       "35463 -6.207413       HN  2013-01-03     423        ...                  9   \n",
       "36422 -6.265451       HN  2013-01-03     327        ...                  8   \n",
       "\n",
       "       MinsOfHour  DayOfWeek  IsEveningTime  Direction_north  IsPeakTime  \\\n",
       "19130          21          3              0                0           1   \n",
       "19680          23          3              0                0           1   \n",
       "20140          26          3              0                0           1   \n",
       "20982          30          3              0                0           1   \n",
       "22072          36          3              0                0           1   \n",
       "22499          37          3              0                0           1   \n",
       "23002          38          3              0                0           1   \n",
       "23467          46          3              0                0           1   \n",
       "24078          50          3              0                0           1   \n",
       "24674          54          3              0                0           1   \n",
       "25205          59          3              0                0           1   \n",
       "25922           4          3              0                0           1   \n",
       "26346           6          3              0                0           1   \n",
       "26750          10          3              0                0           1   \n",
       "26900          12          3              0                0           1   \n",
       "27463          20          3              0                0           1   \n",
       "27950          35          3              0                0           1   \n",
       "28299          27          3              0                0           1   \n",
       "28758          31          3              0                0           1   \n",
       "29026          40          3              0                0           1   \n",
       "29799          57          3              0                0           1   \n",
       "30098          58          3              0                0           1   \n",
       "30651          23          3              0                0           1   \n",
       "31203          27          3              0                0           1   \n",
       "31553          56          3              0                0           1   \n",
       "31905           1          3              0                0           1   \n",
       "32834          15          3              0                0           1   \n",
       "34482          11          3              0                0           1   \n",
       "34845          10          3              0                0           1   \n",
       "35009          25          3              0                0           1   \n",
       "35254          16          3              0                0           1   \n",
       "35463          14          3              0                0           1   \n",
       "36422          18          3              0                0           1   \n",
       "\n",
       "      RDS_Event  BankHoliday  SchoolHoliday          Stop_name  \n",
       "19130         0            0              1      Ballymun Road  \n",
       "19680         0            0              1      Ballymun Road  \n",
       "20140         0            0              1      Ballymun Road  \n",
       "20982         0            0              1      Ballymun Road  \n",
       "22072         0            0              1      Prospect Road  \n",
       "22499         0            0              1     Phibsboro Road  \n",
       "23002         0            0              1     Phibsboro Road  \n",
       "23467         0            0              1       O'Connell St  \n",
       "24078         0            0              1       O'Connell St  \n",
       "24674         0            0              1      Nassau Street  \n",
       "25205         0            0              1           Mount St  \n",
       "25922         0            0              1      Pembroke Road  \n",
       "26346         0            0              1        Ballsbridge  \n",
       "26750         0            0              1       Merrion Road  \n",
       "26900         0            0              1       Merrion Road  \n",
       "27463         0            0              1      Frascati Road  \n",
       "27950         0            0              1      Monkstown Ave  \n",
       "28299         0            0              1      Monkstown Ave  \n",
       "28758         0            0              1      Ballymun Road  \n",
       "29026         0            0              1     Phibsboro Road  \n",
       "29799         0            0              1         Merrion Sq  \n",
       "30098         0            0              1           Mount St  \n",
       "30651         0            0              1      Stradbrook Rd  \n",
       "31203         0            0              1      Ballymun Road  \n",
       "31553         0            0              1         Merrion Sq  \n",
       "31905         0            0              1  Northumberland Rd  \n",
       "32834         0            0              1       Merrion Road  \n",
       "34482         0            0              1       Merrion Road  \n",
       "34845         0            0              1       Merrion Road  \n",
       "35009         0            0              1           Rowan Pk  \n",
       "35254         0            0              1          Rock Road  \n",
       "35463         0            0              1       Merrion Road  \n",
       "36422         0            0              1      Ballymun Road  \n",
       "\n",
       "[33 rows x 28 columns]"
      ]
     },
     "execution_count": 37,
     "metadata": {},
     "output_type": "execute_result"
    }
   ],
   "source": [
    "grouped_df.get_group((4558, '2013-01-03'))"
   ]
  },
  {
   "cell_type": "code",
   "execution_count": 38,
   "metadata": {
    "collapsed": false
   },
   "outputs": [
    {
     "data": {
      "text/html": [
       "<div>\n",
       "<style>\n",
       "    .dataframe thead tr:only-child th {\n",
       "        text-align: right;\n",
       "    }\n",
       "\n",
       "    .dataframe thead th {\n",
       "        text-align: left;\n",
       "    }\n",
       "\n",
       "    .dataframe tbody tr th {\n",
       "        vertical-align: top;\n",
       "    }\n",
       "</style>\n",
       "<table border=\"1\" class=\"dataframe\">\n",
       "  <thead>\n",
       "    <tr style=\"text-align: right;\">\n",
       "      <th></th>\n",
       "      <th>At_Stop</th>\n",
       "      <th>Block_ID</th>\n",
       "      <th>Delay</th>\n",
       "      <th>Journey_Pattern_ID</th>\n",
       "      <th>Lat</th>\n",
       "      <th>LineID</th>\n",
       "      <th>Lon</th>\n",
       "      <th>Operator</th>\n",
       "      <th>Start_date</th>\n",
       "      <th>Stop_ID</th>\n",
       "      <th>...</th>\n",
       "      <th>HourOfDay</th>\n",
       "      <th>MinsOfHour</th>\n",
       "      <th>DayOfWeek</th>\n",
       "      <th>IsEveningTime</th>\n",
       "      <th>Direction_north</th>\n",
       "      <th>IsPeakTime</th>\n",
       "      <th>RDS_Event</th>\n",
       "      <th>BankHoliday</th>\n",
       "      <th>SchoolHoliday</th>\n",
       "      <th>Stop_name</th>\n",
       "    </tr>\n",
       "  </thead>\n",
       "  <tbody>\n",
       "    <tr>\n",
       "      <th>531</th>\n",
       "      <td>1</td>\n",
       "      <td>4001</td>\n",
       "      <td>7</td>\n",
       "      <td>00041001</td>\n",
       "      <td>53.286362</td>\n",
       "      <td>4.0</td>\n",
       "      <td>-6.165994</td>\n",
       "      <td>HN</td>\n",
       "      <td>2013-01-15</td>\n",
       "      <td>6086</td>\n",
       "      <td>...</td>\n",
       "      <td>6</td>\n",
       "      <td>48</td>\n",
       "      <td>1</td>\n",
       "      <td>0</td>\n",
       "      <td>1</td>\n",
       "      <td>0</td>\n",
       "      <td>0</td>\n",
       "      <td>0</td>\n",
       "      <td>0</td>\n",
       "      <td>Link Road</td>\n",
       "    </tr>\n",
       "    <tr>\n",
       "      <th>1227</th>\n",
       "      <td>1</td>\n",
       "      <td>4001</td>\n",
       "      <td>7</td>\n",
       "      <td>00041001</td>\n",
       "      <td>53.292568</td>\n",
       "      <td>4.0</td>\n",
       "      <td>-6.166771</td>\n",
       "      <td>HN</td>\n",
       "      <td>2013-01-15</td>\n",
       "      <td>3163</td>\n",
       "      <td>...</td>\n",
       "      <td>6</td>\n",
       "      <td>51</td>\n",
       "      <td>1</td>\n",
       "      <td>0</td>\n",
       "      <td>1</td>\n",
       "      <td>0</td>\n",
       "      <td>0</td>\n",
       "      <td>0</td>\n",
       "      <td>0</td>\n",
       "      <td>Stradbrook Rd</td>\n",
       "    </tr>\n",
       "    <tr>\n",
       "      <th>1571</th>\n",
       "      <td>1</td>\n",
       "      <td>4001</td>\n",
       "      <td>-159</td>\n",
       "      <td>00041001</td>\n",
       "      <td>53.301456</td>\n",
       "      <td>4.0</td>\n",
       "      <td>-6.181077</td>\n",
       "      <td>HN</td>\n",
       "      <td>2013-01-15</td>\n",
       "      <td>3084</td>\n",
       "      <td>...</td>\n",
       "      <td>6</td>\n",
       "      <td>55</td>\n",
       "      <td>1</td>\n",
       "      <td>0</td>\n",
       "      <td>1</td>\n",
       "      <td>0</td>\n",
       "      <td>0</td>\n",
       "      <td>0</td>\n",
       "      <td>0</td>\n",
       "      <td>Frascati Road</td>\n",
       "    </tr>\n",
       "    <tr>\n",
       "      <th>2261</th>\n",
       "      <td>1</td>\n",
       "      <td>4001</td>\n",
       "      <td>-174</td>\n",
       "      <td>00041001</td>\n",
       "      <td>53.307972</td>\n",
       "      <td>4.0</td>\n",
       "      <td>-6.194847</td>\n",
       "      <td>HN</td>\n",
       "      <td>2013-01-15</td>\n",
       "      <td>472</td>\n",
       "      <td>...</td>\n",
       "      <td>6</td>\n",
       "      <td>59</td>\n",
       "      <td>1</td>\n",
       "      <td>0</td>\n",
       "      <td>1</td>\n",
       "      <td>0</td>\n",
       "      <td>0</td>\n",
       "      <td>0</td>\n",
       "      <td>0</td>\n",
       "      <td>Rock Road</td>\n",
       "    </tr>\n",
       "    <tr>\n",
       "      <th>2673</th>\n",
       "      <td>1</td>\n",
       "      <td>4001</td>\n",
       "      <td>-217</td>\n",
       "      <td>00041001</td>\n",
       "      <td>53.310928</td>\n",
       "      <td>4.0</td>\n",
       "      <td>-6.199994</td>\n",
       "      <td>HN</td>\n",
       "      <td>2013-01-15</td>\n",
       "      <td>4705</td>\n",
       "      <td>...</td>\n",
       "      <td>7</td>\n",
       "      <td>0</td>\n",
       "      <td>1</td>\n",
       "      <td>0</td>\n",
       "      <td>1</td>\n",
       "      <td>1</td>\n",
       "      <td>0</td>\n",
       "      <td>0</td>\n",
       "      <td>0</td>\n",
       "      <td>Rock Road</td>\n",
       "    </tr>\n",
       "    <tr>\n",
       "      <th>2883</th>\n",
       "      <td>1</td>\n",
       "      <td>4001</td>\n",
       "      <td>-199</td>\n",
       "      <td>00041001</td>\n",
       "      <td>53.312775</td>\n",
       "      <td>4.0</td>\n",
       "      <td>-6.201784</td>\n",
       "      <td>HN</td>\n",
       "      <td>2013-01-15</td>\n",
       "      <td>475</td>\n",
       "      <td>...</td>\n",
       "      <td>7</td>\n",
       "      <td>1</td>\n",
       "      <td>1</td>\n",
       "      <td>0</td>\n",
       "      <td>1</td>\n",
       "      <td>1</td>\n",
       "      <td>0</td>\n",
       "      <td>0</td>\n",
       "      <td>0</td>\n",
       "      <td>Rock Road</td>\n",
       "    </tr>\n",
       "    <tr>\n",
       "      <th>3343</th>\n",
       "      <td>1</td>\n",
       "      <td>4001</td>\n",
       "      <td>-187</td>\n",
       "      <td>00041001</td>\n",
       "      <td>53.318165</td>\n",
       "      <td>4.0</td>\n",
       "      <td>-6.211247</td>\n",
       "      <td>HN</td>\n",
       "      <td>2013-01-15</td>\n",
       "      <td>478</td>\n",
       "      <td>...</td>\n",
       "      <td>7</td>\n",
       "      <td>4</td>\n",
       "      <td>1</td>\n",
       "      <td>0</td>\n",
       "      <td>1</td>\n",
       "      <td>1</td>\n",
       "      <td>0</td>\n",
       "      <td>0</td>\n",
       "      <td>0</td>\n",
       "      <td>Merrion Road</td>\n",
       "    </tr>\n",
       "    <tr>\n",
       "      <th>4316</th>\n",
       "      <td>1</td>\n",
       "      <td>4001</td>\n",
       "      <td>-166</td>\n",
       "      <td>00041001</td>\n",
       "      <td>53.328331</td>\n",
       "      <td>4.0</td>\n",
       "      <td>-6.228619</td>\n",
       "      <td>HN</td>\n",
       "      <td>2013-01-15</td>\n",
       "      <td>485</td>\n",
       "      <td>...</td>\n",
       "      <td>7</td>\n",
       "      <td>10</td>\n",
       "      <td>1</td>\n",
       "      <td>0</td>\n",
       "      <td>1</td>\n",
       "      <td>1</td>\n",
       "      <td>0</td>\n",
       "      <td>0</td>\n",
       "      <td>0</td>\n",
       "      <td>Ballsbridge</td>\n",
       "    </tr>\n",
       "    <tr>\n",
       "      <th>4949</th>\n",
       "      <td>1</td>\n",
       "      <td>4001</td>\n",
       "      <td>-161</td>\n",
       "      <td>00041001</td>\n",
       "      <td>53.330879</td>\n",
       "      <td>4.0</td>\n",
       "      <td>-6.233802</td>\n",
       "      <td>HN</td>\n",
       "      <td>2013-01-15</td>\n",
       "      <td>487</td>\n",
       "      <td>...</td>\n",
       "      <td>7</td>\n",
       "      <td>12</td>\n",
       "      <td>1</td>\n",
       "      <td>0</td>\n",
       "      <td>1</td>\n",
       "      <td>1</td>\n",
       "      <td>0</td>\n",
       "      <td>0</td>\n",
       "      <td>0</td>\n",
       "      <td>Pembroke Road</td>\n",
       "    </tr>\n",
       "    <tr>\n",
       "      <th>5825</th>\n",
       "      <td>1</td>\n",
       "      <td>4001</td>\n",
       "      <td>-209</td>\n",
       "      <td>00041001</td>\n",
       "      <td>53.337879</td>\n",
       "      <td>4.0</td>\n",
       "      <td>-6.241288</td>\n",
       "      <td>HN</td>\n",
       "      <td>2013-01-15</td>\n",
       "      <td>491</td>\n",
       "      <td>...</td>\n",
       "      <td>7</td>\n",
       "      <td>15</td>\n",
       "      <td>1</td>\n",
       "      <td>0</td>\n",
       "      <td>1</td>\n",
       "      <td>1</td>\n",
       "      <td>0</td>\n",
       "      <td>0</td>\n",
       "      <td>0</td>\n",
       "      <td>Mount St</td>\n",
       "    </tr>\n",
       "    <tr>\n",
       "      <th>6773</th>\n",
       "      <td>1</td>\n",
       "      <td>4001</td>\n",
       "      <td>-246</td>\n",
       "      <td>00041001</td>\n",
       "      <td>53.341492</td>\n",
       "      <td>4.0</td>\n",
       "      <td>-6.251646</td>\n",
       "      <td>HN</td>\n",
       "      <td>2013-01-15</td>\n",
       "      <td>494</td>\n",
       "      <td>...</td>\n",
       "      <td>7</td>\n",
       "      <td>17</td>\n",
       "      <td>1</td>\n",
       "      <td>0</td>\n",
       "      <td>1</td>\n",
       "      <td>1</td>\n",
       "      <td>0</td>\n",
       "      <td>0</td>\n",
       "      <td>0</td>\n",
       "      <td>Clare Street</td>\n",
       "    </tr>\n",
       "    <tr>\n",
       "      <th>7435</th>\n",
       "      <td>1</td>\n",
       "      <td>4001</td>\n",
       "      <td>-240</td>\n",
       "      <td>00041001</td>\n",
       "      <td>53.343548</td>\n",
       "      <td>4.0</td>\n",
       "      <td>-6.249664</td>\n",
       "      <td>HN</td>\n",
       "      <td>2013-01-15</td>\n",
       "      <td>495</td>\n",
       "      <td>...</td>\n",
       "      <td>7</td>\n",
       "      <td>19</td>\n",
       "      <td>1</td>\n",
       "      <td>0</td>\n",
       "      <td>1</td>\n",
       "      <td>1</td>\n",
       "      <td>0</td>\n",
       "      <td>0</td>\n",
       "      <td>0</td>\n",
       "      <td>Westland Row</td>\n",
       "    </tr>\n",
       "    <tr>\n",
       "      <th>7886</th>\n",
       "      <td>1</td>\n",
       "      <td>4001</td>\n",
       "      <td>-258</td>\n",
       "      <td>00041001</td>\n",
       "      <td>53.344841</td>\n",
       "      <td>4.0</td>\n",
       "      <td>-6.252754</td>\n",
       "      <td>HN</td>\n",
       "      <td>2013-01-15</td>\n",
       "      <td>400</td>\n",
       "      <td>...</td>\n",
       "      <td>7</td>\n",
       "      <td>20</td>\n",
       "      <td>1</td>\n",
       "      <td>0</td>\n",
       "      <td>1</td>\n",
       "      <td>1</td>\n",
       "      <td>0</td>\n",
       "      <td>0</td>\n",
       "      <td>0</td>\n",
       "      <td>Pearse Street</td>\n",
       "    </tr>\n",
       "    <tr>\n",
       "      <th>8317</th>\n",
       "      <td>1</td>\n",
       "      <td>4001</td>\n",
       "      <td>-267</td>\n",
       "      <td>00041001</td>\n",
       "      <td>53.350914</td>\n",
       "      <td>4.0</td>\n",
       "      <td>-6.260931</td>\n",
       "      <td>HN</td>\n",
       "      <td>2013-01-15</td>\n",
       "      <td>281</td>\n",
       "      <td>...</td>\n",
       "      <td>7</td>\n",
       "      <td>24</td>\n",
       "      <td>1</td>\n",
       "      <td>0</td>\n",
       "      <td>1</td>\n",
       "      <td>1</td>\n",
       "      <td>0</td>\n",
       "      <td>0</td>\n",
       "      <td>0</td>\n",
       "      <td>O'Connell St</td>\n",
       "    </tr>\n",
       "    <tr>\n",
       "      <th>9061</th>\n",
       "      <td>1</td>\n",
       "      <td>4001</td>\n",
       "      <td>-255</td>\n",
       "      <td>00041001</td>\n",
       "      <td>53.352783</td>\n",
       "      <td>4.0</td>\n",
       "      <td>-6.264417</td>\n",
       "      <td>HN</td>\n",
       "      <td>2013-01-15</td>\n",
       "      <td>6</td>\n",
       "      <td>...</td>\n",
       "      <td>7</td>\n",
       "      <td>26</td>\n",
       "      <td>1</td>\n",
       "      <td>0</td>\n",
       "      <td>1</td>\n",
       "      <td>1</td>\n",
       "      <td>0</td>\n",
       "      <td>0</td>\n",
       "      <td>0</td>\n",
       "      <td>Parnell Square</td>\n",
       "    </tr>\n",
       "    <tr>\n",
       "      <th>9540</th>\n",
       "      <td>1</td>\n",
       "      <td>4001</td>\n",
       "      <td>-226</td>\n",
       "      <td>00041001</td>\n",
       "      <td>53.355000</td>\n",
       "      <td>4.0</td>\n",
       "      <td>-6.273500</td>\n",
       "      <td>HN</td>\n",
       "      <td>2013-01-15</td>\n",
       "      <td>195</td>\n",
       "      <td>...</td>\n",
       "      <td>7</td>\n",
       "      <td>30</td>\n",
       "      <td>1</td>\n",
       "      <td>0</td>\n",
       "      <td>1</td>\n",
       "      <td>1</td>\n",
       "      <td>0</td>\n",
       "      <td>0</td>\n",
       "      <td>0</td>\n",
       "      <td>Phibsboro Road</td>\n",
       "    </tr>\n",
       "    <tr>\n",
       "      <th>9847</th>\n",
       "      <td>1</td>\n",
       "      <td>4001</td>\n",
       "      <td>-234</td>\n",
       "      <td>00041001</td>\n",
       "      <td>53.361622</td>\n",
       "      <td>4.0</td>\n",
       "      <td>-6.272702</td>\n",
       "      <td>HN</td>\n",
       "      <td>2013-01-15</td>\n",
       "      <td>198</td>\n",
       "      <td>...</td>\n",
       "      <td>7</td>\n",
       "      <td>33</td>\n",
       "      <td>1</td>\n",
       "      <td>0</td>\n",
       "      <td>1</td>\n",
       "      <td>1</td>\n",
       "      <td>0</td>\n",
       "      <td>0</td>\n",
       "      <td>0</td>\n",
       "      <td>Phibsboro Road</td>\n",
       "    </tr>\n",
       "    <tr>\n",
       "      <th>10881</th>\n",
       "      <td>1</td>\n",
       "      <td>4001</td>\n",
       "      <td>-206</td>\n",
       "      <td>00041001</td>\n",
       "      <td>53.404251</td>\n",
       "      <td>4.0</td>\n",
       "      <td>-6.265346</td>\n",
       "      <td>HN</td>\n",
       "      <td>2013-01-15</td>\n",
       "      <td>322</td>\n",
       "      <td>...</td>\n",
       "      <td>7</td>\n",
       "      <td>47</td>\n",
       "      <td>1</td>\n",
       "      <td>0</td>\n",
       "      <td>1</td>\n",
       "      <td>1</td>\n",
       "      <td>0</td>\n",
       "      <td>0</td>\n",
       "      <td>0</td>\n",
       "      <td>Ballymun Road</td>\n",
       "    </tr>\n",
       "    <tr>\n",
       "      <th>11122</th>\n",
       "      <td>1</td>\n",
       "      <td>4001</td>\n",
       "      <td>-118</td>\n",
       "      <td>00041001</td>\n",
       "      <td>53.417168</td>\n",
       "      <td>4.0</td>\n",
       "      <td>-6.277483</td>\n",
       "      <td>HN</td>\n",
       "      <td>2013-01-15</td>\n",
       "      <td>332</td>\n",
       "      <td>...</td>\n",
       "      <td>7</td>\n",
       "      <td>53</td>\n",
       "      <td>1</td>\n",
       "      <td>0</td>\n",
       "      <td>1</td>\n",
       "      <td>1</td>\n",
       "      <td>0</td>\n",
       "      <td>0</td>\n",
       "      <td>0</td>\n",
       "      <td>Harristown</td>\n",
       "    </tr>\n",
       "    <tr>\n",
       "      <th>11982</th>\n",
       "      <td>1</td>\n",
       "      <td>4001</td>\n",
       "      <td>-47</td>\n",
       "      <td>00041001</td>\n",
       "      <td>53.295616</td>\n",
       "      <td>4.0</td>\n",
       "      <td>-6.169822</td>\n",
       "      <td>HN</td>\n",
       "      <td>2013-01-15</td>\n",
       "      <td>3164</td>\n",
       "      <td>...</td>\n",
       "      <td>6</td>\n",
       "      <td>52</td>\n",
       "      <td>1</td>\n",
       "      <td>0</td>\n",
       "      <td>1</td>\n",
       "      <td>0</td>\n",
       "      <td>0</td>\n",
       "      <td>0</td>\n",
       "      <td>0</td>\n",
       "      <td>Stradbrook Rd</td>\n",
       "    </tr>\n",
       "    <tr>\n",
       "      <th>12360</th>\n",
       "      <td>1</td>\n",
       "      <td>4001</td>\n",
       "      <td>-187</td>\n",
       "      <td>00041001</td>\n",
       "      <td>53.316917</td>\n",
       "      <td>4.0</td>\n",
       "      <td>-6.206925</td>\n",
       "      <td>HN</td>\n",
       "      <td>2013-01-15</td>\n",
       "      <td>477</td>\n",
       "      <td>...</td>\n",
       "      <td>7</td>\n",
       "      <td>3</td>\n",
       "      <td>1</td>\n",
       "      <td>0</td>\n",
       "      <td>1</td>\n",
       "      <td>1</td>\n",
       "      <td>0</td>\n",
       "      <td>0</td>\n",
       "      <td>0</td>\n",
       "      <td>Merrion Road</td>\n",
       "    </tr>\n",
       "    <tr>\n",
       "      <th>12591</th>\n",
       "      <td>1</td>\n",
       "      <td>4001</td>\n",
       "      <td>-106</td>\n",
       "      <td>00041001</td>\n",
       "      <td>53.319241</td>\n",
       "      <td>4.0</td>\n",
       "      <td>-6.213334</td>\n",
       "      <td>HN</td>\n",
       "      <td>2013-01-15</td>\n",
       "      <td>479</td>\n",
       "      <td>...</td>\n",
       "      <td>7</td>\n",
       "      <td>6</td>\n",
       "      <td>1</td>\n",
       "      <td>0</td>\n",
       "      <td>1</td>\n",
       "      <td>1</td>\n",
       "      <td>0</td>\n",
       "      <td>0</td>\n",
       "      <td>0</td>\n",
       "      <td>Merrion Road</td>\n",
       "    </tr>\n",
       "    <tr>\n",
       "      <th>13147</th>\n",
       "      <td>1</td>\n",
       "      <td>4001</td>\n",
       "      <td>-211</td>\n",
       "      <td>00041001</td>\n",
       "      <td>53.336639</td>\n",
       "      <td>4.0</td>\n",
       "      <td>-6.238878</td>\n",
       "      <td>HN</td>\n",
       "      <td>2013-01-15</td>\n",
       "      <td>490</td>\n",
       "      <td>...</td>\n",
       "      <td>7</td>\n",
       "      <td>14</td>\n",
       "      <td>1</td>\n",
       "      <td>0</td>\n",
       "      <td>1</td>\n",
       "      <td>1</td>\n",
       "      <td>0</td>\n",
       "      <td>0</td>\n",
       "      <td>0</td>\n",
       "      <td>Northumberland Rd</td>\n",
       "    </tr>\n",
       "    <tr>\n",
       "      <th>13743</th>\n",
       "      <td>1</td>\n",
       "      <td>4001</td>\n",
       "      <td>-214</td>\n",
       "      <td>00041001</td>\n",
       "      <td>53.367348</td>\n",
       "      <td>4.0</td>\n",
       "      <td>-6.271604</td>\n",
       "      <td>HN</td>\n",
       "      <td>2013-01-15</td>\n",
       "      <td>200</td>\n",
       "      <td>...</td>\n",
       "      <td>7</td>\n",
       "      <td>35</td>\n",
       "      <td>1</td>\n",
       "      <td>0</td>\n",
       "      <td>1</td>\n",
       "      <td>1</td>\n",
       "      <td>0</td>\n",
       "      <td>0</td>\n",
       "      <td>0</td>\n",
       "      <td>Prospect Way</td>\n",
       "    </tr>\n",
       "    <tr>\n",
       "      <th>14078</th>\n",
       "      <td>1</td>\n",
       "      <td>4001</td>\n",
       "      <td>-271</td>\n",
       "      <td>00041001</td>\n",
       "      <td>53.384956</td>\n",
       "      <td>4.0</td>\n",
       "      <td>-6.265242</td>\n",
       "      <td>HN</td>\n",
       "      <td>2013-01-15</td>\n",
       "      <td>4680</td>\n",
       "      <td>...</td>\n",
       "      <td>7</td>\n",
       "      <td>40</td>\n",
       "      <td>1</td>\n",
       "      <td>0</td>\n",
       "      <td>1</td>\n",
       "      <td>1</td>\n",
       "      <td>0</td>\n",
       "      <td>0</td>\n",
       "      <td>0</td>\n",
       "      <td>Ballymun Road</td>\n",
       "    </tr>\n",
       "    <tr>\n",
       "      <th>14522</th>\n",
       "      <td>1</td>\n",
       "      <td>4001</td>\n",
       "      <td>-252</td>\n",
       "      <td>00041001</td>\n",
       "      <td>53.396027</td>\n",
       "      <td>4.0</td>\n",
       "      <td>-6.264242</td>\n",
       "      <td>HN</td>\n",
       "      <td>2013-01-15</td>\n",
       "      <td>94</td>\n",
       "      <td>...</td>\n",
       "      <td>7</td>\n",
       "      <td>43</td>\n",
       "      <td>1</td>\n",
       "      <td>0</td>\n",
       "      <td>1</td>\n",
       "      <td>1</td>\n",
       "      <td>0</td>\n",
       "      <td>0</td>\n",
       "      <td>0</td>\n",
       "      <td>Ballymun Road</td>\n",
       "    </tr>\n",
       "    <tr>\n",
       "      <th>15075</th>\n",
       "      <td>1</td>\n",
       "      <td>4001</td>\n",
       "      <td>-134</td>\n",
       "      <td>00041001</td>\n",
       "      <td>53.302956</td>\n",
       "      <td>4.0</td>\n",
       "      <td>-6.183967</td>\n",
       "      <td>HN</td>\n",
       "      <td>2013-01-15</td>\n",
       "      <td>469</td>\n",
       "      <td>...</td>\n",
       "      <td>6</td>\n",
       "      <td>56</td>\n",
       "      <td>1</td>\n",
       "      <td>0</td>\n",
       "      <td>1</td>\n",
       "      <td>0</td>\n",
       "      <td>0</td>\n",
       "      <td>0</td>\n",
       "      <td>0</td>\n",
       "      <td>Rock Road</td>\n",
       "    </tr>\n",
       "    <tr>\n",
       "      <th>16079</th>\n",
       "      <td>1</td>\n",
       "      <td>4001</td>\n",
       "      <td>-187</td>\n",
       "      <td>00041001</td>\n",
       "      <td>53.315838</td>\n",
       "      <td>4.0</td>\n",
       "      <td>-6.204702</td>\n",
       "      <td>HN</td>\n",
       "      <td>2013-01-15</td>\n",
       "      <td>476</td>\n",
       "      <td>...</td>\n",
       "      <td>7</td>\n",
       "      <td>3</td>\n",
       "      <td>1</td>\n",
       "      <td>0</td>\n",
       "      <td>1</td>\n",
       "      <td>1</td>\n",
       "      <td>0</td>\n",
       "      <td>0</td>\n",
       "      <td>0</td>\n",
       "      <td>Rock Road</td>\n",
       "    </tr>\n",
       "    <tr>\n",
       "      <th>16567</th>\n",
       "      <td>1</td>\n",
       "      <td>4001</td>\n",
       "      <td>7</td>\n",
       "      <td>00041001</td>\n",
       "      <td>53.288651</td>\n",
       "      <td>4.0</td>\n",
       "      <td>-6.153316</td>\n",
       "      <td>HN</td>\n",
       "      <td>2013-01-15</td>\n",
       "      <td>7330</td>\n",
       "      <td>...</td>\n",
       "      <td>6</td>\n",
       "      <td>45</td>\n",
       "      <td>1</td>\n",
       "      <td>0</td>\n",
       "      <td>1</td>\n",
       "      <td>0</td>\n",
       "      <td>0</td>\n",
       "      <td>0</td>\n",
       "      <td>0</td>\n",
       "      <td>Monkstown Ave</td>\n",
       "    </tr>\n",
       "    <tr>\n",
       "      <th>16721</th>\n",
       "      <td>1</td>\n",
       "      <td>4001</td>\n",
       "      <td>-179</td>\n",
       "      <td>00041001</td>\n",
       "      <td>53.306904</td>\n",
       "      <td>4.0</td>\n",
       "      <td>-6.191032</td>\n",
       "      <td>HN</td>\n",
       "      <td>2013-01-15</td>\n",
       "      <td>471</td>\n",
       "      <td>...</td>\n",
       "      <td>6</td>\n",
       "      <td>58</td>\n",
       "      <td>1</td>\n",
       "      <td>0</td>\n",
       "      <td>1</td>\n",
       "      <td>0</td>\n",
       "      <td>0</td>\n",
       "      <td>0</td>\n",
       "      <td>0</td>\n",
       "      <td>Rock Road</td>\n",
       "    </tr>\n",
       "    <tr>\n",
       "      <th>16788</th>\n",
       "      <td>1</td>\n",
       "      <td>4001</td>\n",
       "      <td>-47</td>\n",
       "      <td>00041001</td>\n",
       "      <td>53.320930</td>\n",
       "      <td>4.0</td>\n",
       "      <td>-6.216220</td>\n",
       "      <td>HN</td>\n",
       "      <td>2013-01-15</td>\n",
       "      <td>480</td>\n",
       "      <td>...</td>\n",
       "      <td>7</td>\n",
       "      <td>8</td>\n",
       "      <td>1</td>\n",
       "      <td>0</td>\n",
       "      <td>1</td>\n",
       "      <td>1</td>\n",
       "      <td>0</td>\n",
       "      <td>0</td>\n",
       "      <td>0</td>\n",
       "      <td>Merrion Road</td>\n",
       "    </tr>\n",
       "    <tr>\n",
       "      <th>17004</th>\n",
       "      <td>1</td>\n",
       "      <td>4001</td>\n",
       "      <td>-252</td>\n",
       "      <td>00041001</td>\n",
       "      <td>53.392296</td>\n",
       "      <td>4.0</td>\n",
       "      <td>-6.264063</td>\n",
       "      <td>HN</td>\n",
       "      <td>2013-01-15</td>\n",
       "      <td>93</td>\n",
       "      <td>...</td>\n",
       "      <td>7</td>\n",
       "      <td>42</td>\n",
       "      <td>1</td>\n",
       "      <td>0</td>\n",
       "      <td>1</td>\n",
       "      <td>1</td>\n",
       "      <td>0</td>\n",
       "      <td>0</td>\n",
       "      <td>0</td>\n",
       "      <td>Ballymun Road</td>\n",
       "    </tr>\n",
       "    <tr>\n",
       "      <th>17291</th>\n",
       "      <td>1</td>\n",
       "      <td>4001</td>\n",
       "      <td>-222</td>\n",
       "      <td>00041001</td>\n",
       "      <td>53.402248</td>\n",
       "      <td>4.0</td>\n",
       "      <td>-6.265352</td>\n",
       "      <td>HN</td>\n",
       "      <td>2013-01-15</td>\n",
       "      <td>6182</td>\n",
       "      <td>...</td>\n",
       "      <td>7</td>\n",
       "      <td>46</td>\n",
       "      <td>1</td>\n",
       "      <td>0</td>\n",
       "      <td>1</td>\n",
       "      <td>1</td>\n",
       "      <td>0</td>\n",
       "      <td>0</td>\n",
       "      <td>0</td>\n",
       "      <td>Ballymun Road</td>\n",
       "    </tr>\n",
       "  </tbody>\n",
       "</table>\n",
       "<p>33 rows × 28 columns</p>\n",
       "</div>"
      ],
      "text/plain": [
       "       At_Stop  Block_ID  Delay Journey_Pattern_ID        Lat  LineID  \\\n",
       "531          1      4001      7           00041001  53.286362     4.0   \n",
       "1227         1      4001      7           00041001  53.292568     4.0   \n",
       "1571         1      4001   -159           00041001  53.301456     4.0   \n",
       "2261         1      4001   -174           00041001  53.307972     4.0   \n",
       "2673         1      4001   -217           00041001  53.310928     4.0   \n",
       "2883         1      4001   -199           00041001  53.312775     4.0   \n",
       "3343         1      4001   -187           00041001  53.318165     4.0   \n",
       "4316         1      4001   -166           00041001  53.328331     4.0   \n",
       "4949         1      4001   -161           00041001  53.330879     4.0   \n",
       "5825         1      4001   -209           00041001  53.337879     4.0   \n",
       "6773         1      4001   -246           00041001  53.341492     4.0   \n",
       "7435         1      4001   -240           00041001  53.343548     4.0   \n",
       "7886         1      4001   -258           00041001  53.344841     4.0   \n",
       "8317         1      4001   -267           00041001  53.350914     4.0   \n",
       "9061         1      4001   -255           00041001  53.352783     4.0   \n",
       "9540         1      4001   -226           00041001  53.355000     4.0   \n",
       "9847         1      4001   -234           00041001  53.361622     4.0   \n",
       "10881        1      4001   -206           00041001  53.404251     4.0   \n",
       "11122        1      4001   -118           00041001  53.417168     4.0   \n",
       "11982        1      4001    -47           00041001  53.295616     4.0   \n",
       "12360        1      4001   -187           00041001  53.316917     4.0   \n",
       "12591        1      4001   -106           00041001  53.319241     4.0   \n",
       "13147        1      4001   -211           00041001  53.336639     4.0   \n",
       "13743        1      4001   -214           00041001  53.367348     4.0   \n",
       "14078        1      4001   -271           00041001  53.384956     4.0   \n",
       "14522        1      4001   -252           00041001  53.396027     4.0   \n",
       "15075        1      4001   -134           00041001  53.302956     4.0   \n",
       "16079        1      4001   -187           00041001  53.315838     4.0   \n",
       "16567        1      4001      7           00041001  53.288651     4.0   \n",
       "16721        1      4001   -179           00041001  53.306904     4.0   \n",
       "16788        1      4001    -47           00041001  53.320930     4.0   \n",
       "17004        1      4001   -252           00041001  53.392296     4.0   \n",
       "17291        1      4001   -222           00041001  53.402248     4.0   \n",
       "\n",
       "            Lon Operator  Start_date Stop_ID        ...          HourOfDay  \\\n",
       "531   -6.165994       HN  2013-01-15    6086        ...                  6   \n",
       "1227  -6.166771       HN  2013-01-15    3163        ...                  6   \n",
       "1571  -6.181077       HN  2013-01-15    3084        ...                  6   \n",
       "2261  -6.194847       HN  2013-01-15     472        ...                  6   \n",
       "2673  -6.199994       HN  2013-01-15    4705        ...                  7   \n",
       "2883  -6.201784       HN  2013-01-15     475        ...                  7   \n",
       "3343  -6.211247       HN  2013-01-15     478        ...                  7   \n",
       "4316  -6.228619       HN  2013-01-15     485        ...                  7   \n",
       "4949  -6.233802       HN  2013-01-15     487        ...                  7   \n",
       "5825  -6.241288       HN  2013-01-15     491        ...                  7   \n",
       "6773  -6.251646       HN  2013-01-15     494        ...                  7   \n",
       "7435  -6.249664       HN  2013-01-15     495        ...                  7   \n",
       "7886  -6.252754       HN  2013-01-15     400        ...                  7   \n",
       "8317  -6.260931       HN  2013-01-15     281        ...                  7   \n",
       "9061  -6.264417       HN  2013-01-15       6        ...                  7   \n",
       "9540  -6.273500       HN  2013-01-15     195        ...                  7   \n",
       "9847  -6.272702       HN  2013-01-15     198        ...                  7   \n",
       "10881 -6.265346       HN  2013-01-15     322        ...                  7   \n",
       "11122 -6.277483       HN  2013-01-15     332        ...                  7   \n",
       "11982 -6.169822       HN  2013-01-15    3164        ...                  6   \n",
       "12360 -6.206925       HN  2013-01-15     477        ...                  7   \n",
       "12591 -6.213334       HN  2013-01-15     479        ...                  7   \n",
       "13147 -6.238878       HN  2013-01-15     490        ...                  7   \n",
       "13743 -6.271604       HN  2013-01-15     200        ...                  7   \n",
       "14078 -6.265242       HN  2013-01-15    4680        ...                  7   \n",
       "14522 -6.264242       HN  2013-01-15      94        ...                  7   \n",
       "15075 -6.183967       HN  2013-01-15     469        ...                  6   \n",
       "16079 -6.204702       HN  2013-01-15     476        ...                  7   \n",
       "16567 -6.153316       HN  2013-01-15    7330        ...                  6   \n",
       "16721 -6.191032       HN  2013-01-15     471        ...                  6   \n",
       "16788 -6.216220       HN  2013-01-15     480        ...                  7   \n",
       "17004 -6.264063       HN  2013-01-15      93        ...                  7   \n",
       "17291 -6.265352       HN  2013-01-15    6182        ...                  7   \n",
       "\n",
       "       MinsOfHour  DayOfWeek  IsEveningTime  Direction_north  IsPeakTime  \\\n",
       "531            48          1              0                1           0   \n",
       "1227           51          1              0                1           0   \n",
       "1571           55          1              0                1           0   \n",
       "2261           59          1              0                1           0   \n",
       "2673            0          1              0                1           1   \n",
       "2883            1          1              0                1           1   \n",
       "3343            4          1              0                1           1   \n",
       "4316           10          1              0                1           1   \n",
       "4949           12          1              0                1           1   \n",
       "5825           15          1              0                1           1   \n",
       "6773           17          1              0                1           1   \n",
       "7435           19          1              0                1           1   \n",
       "7886           20          1              0                1           1   \n",
       "8317           24          1              0                1           1   \n",
       "9061           26          1              0                1           1   \n",
       "9540           30          1              0                1           1   \n",
       "9847           33          1              0                1           1   \n",
       "10881          47          1              0                1           1   \n",
       "11122          53          1              0                1           1   \n",
       "11982          52          1              0                1           0   \n",
       "12360           3          1              0                1           1   \n",
       "12591           6          1              0                1           1   \n",
       "13147          14          1              0                1           1   \n",
       "13743          35          1              0                1           1   \n",
       "14078          40          1              0                1           1   \n",
       "14522          43          1              0                1           1   \n",
       "15075          56          1              0                1           0   \n",
       "16079           3          1              0                1           1   \n",
       "16567          45          1              0                1           0   \n",
       "16721          58          1              0                1           0   \n",
       "16788           8          1              0                1           1   \n",
       "17004          42          1              0                1           1   \n",
       "17291          46          1              0                1           1   \n",
       "\n",
       "      RDS_Event  BankHoliday  SchoolHoliday          Stop_name  \n",
       "531           0            0              0          Link Road  \n",
       "1227          0            0              0      Stradbrook Rd  \n",
       "1571          0            0              0      Frascati Road  \n",
       "2261          0            0              0          Rock Road  \n",
       "2673          0            0              0          Rock Road  \n",
       "2883          0            0              0          Rock Road  \n",
       "3343          0            0              0       Merrion Road  \n",
       "4316          0            0              0        Ballsbridge  \n",
       "4949          0            0              0      Pembroke Road  \n",
       "5825          0            0              0           Mount St  \n",
       "6773          0            0              0       Clare Street  \n",
       "7435          0            0              0       Westland Row  \n",
       "7886          0            0              0      Pearse Street  \n",
       "8317          0            0              0       O'Connell St  \n",
       "9061          0            0              0     Parnell Square  \n",
       "9540          0            0              0     Phibsboro Road  \n",
       "9847          0            0              0     Phibsboro Road  \n",
       "10881         0            0              0      Ballymun Road  \n",
       "11122         0            0              0         Harristown  \n",
       "11982         0            0              0      Stradbrook Rd  \n",
       "12360         0            0              0       Merrion Road  \n",
       "12591         0            0              0       Merrion Road  \n",
       "13147         0            0              0  Northumberland Rd  \n",
       "13743         0            0              0       Prospect Way  \n",
       "14078         0            0              0      Ballymun Road  \n",
       "14522         0            0              0      Ballymun Road  \n",
       "15075         0            0              0          Rock Road  \n",
       "16079         0            0              0          Rock Road  \n",
       "16567         0            0              0      Monkstown Ave  \n",
       "16721         0            0              0          Rock Road  \n",
       "16788         0            0              0       Merrion Road  \n",
       "17004         0            0              0      Ballymun Road  \n",
       "17291         0            0              0      Ballymun Road  \n",
       "\n",
       "[33 rows x 28 columns]"
      ]
     },
     "execution_count": 38,
     "metadata": {},
     "output_type": "execute_result"
    }
   ],
   "source": [
    "grouped_df.get_group((4542, '2013-01-15'))"
   ]
  },
  {
   "cell_type": "code",
   "execution_count": 39,
   "metadata": {
    "collapsed": false
   },
   "outputs": [
    {
     "data": {
      "text/plain": [
       "(36429, 28)"
      ]
     },
     "execution_count": 39,
     "metadata": {},
     "output_type": "execute_result"
    }
   ],
   "source": [
    "df.shape"
   ]
  },
  {
   "cell_type": "markdown",
   "metadata": {},
   "source": [
    "## 2.2 Merge weather data"
   ]
  },
  {
   "cell_type": "code",
   "execution_count": 40,
   "metadata": {
    "collapsed": true
   },
   "outputs": [],
   "source": [
    "df_weather = pd.read_csv('csv_data/weather_data.csv', encoding='latin-1')"
   ]
  },
  {
   "cell_type": "code",
   "execution_count": 41,
   "metadata": {
    "collapsed": true
   },
   "outputs": [],
   "source": [
    "df_weather = df_weather.rename(columns={'Rainfall (Yes or No)': 'Rain'})\n",
    "df_weather = df_weather.rename(columns={'Temperature C': 'Temperature'})\n",
    "df_weather = df_weather.rename(columns={'Relative Humidity (%)': 'Humidity'})\n",
    "df_weather = df_weather.rename(columns={'Over 1mm Rain?': 'Heavy_rain'})\n",
    "df_weather = df_weather.rename(columns={'Precipitation (mm)': 'Precipitation'})\n",
    "df_weather = df_weather.rename(columns={'Date': 'Time'})\n",
    "df_weather['Time'] = pd.to_datetime(df_weather['Time'])\n",
    "df_weather.sort_values(['Time'], ascending=[True], inplace=True)\n",
    "df_weather['HourOfDay'] = df_weather['Time'].dt.hour"
   ]
  },
  {
   "cell_type": "code",
   "execution_count": 42,
   "metadata": {
    "collapsed": true
   },
   "outputs": [],
   "source": [
    "df.sort_values(['Time'], ascending=[True], inplace=True)\n",
    "df_weather.sort_values(['Time'], ascending=[True], inplace=True)\n",
    "df =  pd.merge_asof(df, df_weather, on='Time')"
   ]
  },
  {
   "cell_type": "code",
   "execution_count": 43,
   "metadata": {
    "collapsed": false
   },
   "outputs": [
    {
     "data": {
      "text/plain": [
       "Index(['At_Stop', 'Block_ID', 'Delay', 'Journey_Pattern_ID', 'Lat', 'LineID',\n",
       "       'Lon', 'Operator', 'Start_date', 'Stop_ID', 'Timestamp', 'Vehicle_ID',\n",
       "       'Vehicle_Journey_ID', 'full_trip', 'normal_time', 'stop_order', 'Time',\n",
       "       'IsWeekend', 'HourOfDay_x', 'MinsOfHour', 'DayOfWeek', 'IsEveningTime',\n",
       "       'Direction_north', 'IsPeakTime', 'RDS_Event', 'BankHoliday',\n",
       "       'SchoolHoliday', 'Stop_name', 'Precipitation', 'Temperature',\n",
       "       'Vapour Pressure (hPa)                ', 'Humidity',\n",
       "       'Mean Sea Level Pressure (hPa)', 'Rain', 'Heavy_rain'],\n",
       "      dtype='object')"
      ]
     },
     "execution_count": 43,
     "metadata": {},
     "output_type": "execute_result"
    }
   ],
   "source": [
    "#code from here: https://stackoverflow.com/questions/27313647/merging-two-pandas-dataframes-results-in-duplicate-columns\n",
    "\n",
    "def drop_y(df):\n",
    "    # list comprehension of the cols that end with '_y'\n",
    "    to_drop = [x for x in df if x.endswith('_y')]\n",
    "    df.drop(to_drop, axis=1, inplace=True)\n",
    "\n",
    "drop_y(df)\n",
    "df.columns"
   ]
  },
  {
   "cell_type": "code",
   "execution_count": 44,
   "metadata": {
    "collapsed": true
   },
   "outputs": [],
   "source": [
    "def rename_x(df):\n",
    "    for col in df:\n",
    "        if col.endswith('_x'):\n",
    "            df.rename(columns={col:col.rstrip('_x')}, inplace=True)\n",
    "rename_x(df)"
   ]
  },
  {
   "cell_type": "code",
   "execution_count": 45,
   "metadata": {
    "collapsed": false
   },
   "outputs": [],
   "source": [
    "df['Proper_rain'] = np.where(((df['Precipitation'] < 2.3) & (df['Precipitation'] > 1.7) & (df['IsPeakTime']==1)), 1, 0)"
   ]
  },
  {
   "cell_type": "markdown",
   "metadata": {},
   "source": [
    "# 3.0 Remove and categories columns"
   ]
  },
  {
   "cell_type": "markdown",
   "metadata": {},
   "source": [
    "## 3.1 Drop missing values"
   ]
  },
  {
   "cell_type": "code",
   "execution_count": 46,
   "metadata": {
    "collapsed": true
   },
   "outputs": [],
   "source": [
    "df = df[df['Journey_Pattern_ID'] != 'null']"
   ]
  },
  {
   "cell_type": "markdown",
   "metadata": {},
   "source": [
    "## 3.2 Categorise to continuous and categorical"
   ]
  },
  {
   "cell_type": "code",
   "execution_count": 47,
   "metadata": {
    "collapsed": false
   },
   "outputs": [],
   "source": [
    "df['IsWeekend'] = df['IsWeekend'].astype('category')\n",
    "df['HourOfDay'] = df['HourOfDay'].astype('category')\n",
    "df['IsEveningTime'] = df['IsEveningTime'].astype('category')\n",
    "df['SchoolHoliday'] = df['SchoolHoliday'].astype('category')\n",
    "df['IsPeakTime'] = df['IsPeakTime'].astype('category')\n",
    "df['Operator'] = df['Operator'].astype('category')\n",
    "df['At_Stop'] = df['At_Stop'].astype('category')\n",
    "categorical_columns = df.select_dtypes(['category']).columns"
   ]
  },
  {
   "cell_type": "code",
   "execution_count": 48,
   "metadata": {
    "collapsed": true
   },
   "outputs": [],
   "source": [
    "continuous_columns = df.select_dtypes(['int64', 'float64']).columns"
   ]
  },
  {
   "cell_type": "markdown",
   "metadata": {},
   "source": [
    "## 3.3 Drop columns no longer needed"
   ]
  },
  {
   "cell_type": "code",
   "execution_count": 49,
   "metadata": {
    "collapsed": false
   },
   "outputs": [],
   "source": [
    "df = df.drop('Lat', axis=1)\n",
    "df = df.drop('Lon', axis=1)\n",
    "df = df.drop('Block_ID', axis=1)\n",
    "df = df.drop('Operator', axis=1)"
   ]
  },
  {
   "cell_type": "markdown",
   "metadata": {},
   "source": [
    "## 3.4 Create time to destination feature"
   ]
  },
  {
   "cell_type": "code",
   "execution_count": 50,
   "metadata": {
    "collapsed": true
   },
   "outputs": [],
   "source": [
    "df['end_time'] = df.groupby(['Vehicle_Journey_ID', 'Start_date'])['Timestamp'].transform(max)"
   ]
  },
  {
   "cell_type": "code",
   "execution_count": 51,
   "metadata": {
    "collapsed": true
   },
   "outputs": [],
   "source": [
    "df['start_time'] = df.groupby(['Vehicle_Journey_ID', 'Start_date'])['Timestamp'].transform(min)"
   ]
  },
  {
   "cell_type": "code",
   "execution_count": 52,
   "metadata": {
    "collapsed": false
   },
   "outputs": [
    {
     "data": {
      "text/plain": [
       "(36370, 35)"
      ]
     },
     "execution_count": 52,
     "metadata": {},
     "output_type": "execute_result"
    }
   ],
   "source": [
    "df['time_diff_to_destination'] = df['end_time'] - df['Timestamp']\n",
    "df.shape"
   ]
  },
  {
   "cell_type": "code",
   "execution_count": 53,
   "metadata": {
    "collapsed": false
   },
   "outputs": [
    {
     "data": {
      "text/plain": [
       "(6071, 35)"
      ]
     },
     "execution_count": 53,
     "metadata": {},
     "output_type": "execute_result"
    }
   ],
   "source": [
    "df_count = df.loc[(df.DayOfWeek == 0)]\n",
    "df_count.shape"
   ]
  },
  {
   "cell_type": "code",
   "execution_count": 54,
   "metadata": {
    "collapsed": false
   },
   "outputs": [],
   "source": [
    "df['late'] = ((df['end_time'] - df['start_time']) )\n",
    "df['time_travelling'] = ((df['Timestamp'] - df['start_time']) )\n",
    "df['journey_time'] = pd.to_timedelta(df['late']*1000, unit=\"ns\").astype('timedelta64[m]')\n",
    "df['mins_late'] = ((df['journey_time'].astype(int) - 60))\n",
    "df['late'] = np.where((df['mins_late'] > 1), 1, 0)\n",
    "df = df.loc[ (df.Stop_ID == '7226') | (df.Stop_ID == '322') | (df.Stop_ID == '332') | (df.Stop_ID == '6085')| (df.Stop_ID == '2026')]\n",
    "df['speed']= ((df['time_travelling'].astype('float64') / df['stop_order'].astype('float64')) )"
   ]
  },
  {
   "cell_type": "code",
   "execution_count": 55,
   "metadata": {
    "collapsed": false
   },
   "outputs": [
    {
     "data": {
      "text/plain": [
       "(284, 40)"
      ]
     },
     "execution_count": 55,
     "metadata": {},
     "output_type": "execute_result"
    }
   ],
   "source": [
    "df_count = df.loc[(df.DayOfWeek == 0)]\n",
    "df_count.shape"
   ]
  },
  {
   "cell_type": "code",
   "execution_count": 56,
   "metadata": {
    "collapsed": false
   },
   "outputs": [],
   "source": [
    "#df = df.loc[(df.Stop_ID == '7113') | (df.Stop_ID == '7330') | (df.Stop_ID == '7226') | (df.Stop_ID == '322')]"
   ]
  },
  {
   "cell_type": "code",
   "execution_count": 57,
   "metadata": {
    "collapsed": false
   },
   "outputs": [
    {
     "data": {
      "text/plain": [
       "Index(['At_Stop', 'Delay', 'Journey_Pattern_ID', 'LineID', 'Start_date',\n",
       "       'Stop_ID', 'Timestamp', 'Vehicle_ID', 'Vehicle_Journey_ID', 'full_trip',\n",
       "       'normal_time', 'stop_order', 'Time', 'IsWeekend', 'HourOfDay',\n",
       "       'MinsOfHour', 'DayOfWeek', 'IsEveningTime', 'Direction_north',\n",
       "       'IsPeakTime', 'RDS_Event', 'BankHoliday', 'SchoolHoliday', 'Stop_name',\n",
       "       'Precipitation', 'Temperature', 'Vapour Pressure (hPa)                ',\n",
       "       'Humidity', 'Mean Sea Level Pressure (hPa)', 'Rain', 'Heavy_rain',\n",
       "       'Proper_rain', 'end_time', 'start_time', 'time_diff_to_destination',\n",
       "       'late', 'time_travelling', 'journey_time', 'mins_late', 'speed'],\n",
       "      dtype='object')"
      ]
     },
     "execution_count": 57,
     "metadata": {},
     "output_type": "execute_result"
    }
   ],
   "source": [
    "df.columns"
   ]
  },
  {
   "cell_type": "code",
   "execution_count": 58,
   "metadata": {
    "collapsed": false,
    "scrolled": true
   },
   "outputs": [],
   "source": [
    "#grouped_df.get_group((4601, '2013-01-29'))"
   ]
  },
  {
   "cell_type": "code",
   "execution_count": 59,
   "metadata": {
    "collapsed": false
   },
   "outputs": [],
   "source": [
    "df['Vehicle_Journey_ID'] = pd.to_numeric(df['Vehicle_Journey_ID'], errors='coerce')"
   ]
  },
  {
   "cell_type": "markdown",
   "metadata": {},
   "source": [
    "#    # Extra plots"
   ]
  },
  {
   "cell_type": "code",
   "execution_count": 60,
   "metadata": {
    "collapsed": false
   },
   "outputs": [
    {
     "data": {
      "text/plain": [
       "<matplotlib.figure.Figure at 0x11c9a5940>"
      ]
     },
     "metadata": {},
     "output_type": "display_data"
    },
    {
     "data": {
      "image/png": "[encoded data removed]",
      "text/plain": [
       "<matplotlib.figure.Figure at 0x11a81ce48>"
      ]
     },
     "metadata": {},
     "output_type": "display_data"
    }
   ],
   "source": [
    "plt.figure()\n",
    "flierprops = dict(marker='o', markerfacecolor='green', markersize=6,\n",
    "                  linestyle='none')\n",
    "bp = df.boxplot(column=['journey_time'], by=['HourOfDay'], flierprops=flierprops, figsize=(10,7))\n",
    "plt.savefig('Temp_to_late.pdf')"
   ]
  },
  {
   "cell_type": "code",
   "execution_count": 61,
   "metadata": {
    "collapsed": false
   },
   "outputs": [
    {
     "data": {
      "text/plain": [
       "<matplotlib.figure.Figure at 0x11bc0ce48>"
      ]
     },
     "metadata": {},
     "output_type": "display_data"
    },
    {
     "data": {
      "image/png": "[encoded data removed]",
      "text/plain": [
       "<matplotlib.figure.Figure at 0x11fd87e10>"
      ]
     },
     "metadata": {},
     "output_type": "display_data"
    }
   ],
   "source": [
    "plt.figure()\n",
    "flierprops = dict(marker='o', markerfacecolor='green', markersize=6,\n",
    "                  linestyle='none')\n",
    "bp = df.boxplot(column=['journey_time'], by=['MinsOfHour'], flierprops=flierprops, figsize=(10,7))\n",
    "plt.savefig('Mins_to_journey_time.pdf')"
   ]
  },
  {
   "cell_type": "code",
   "execution_count": 62,
   "metadata": {
    "collapsed": false
   },
   "outputs": [
    {
     "data": {
      "text/plain": [
       "<matplotlib.figure.Figure at 0x11bc0c3c8>"
      ]
     },
     "metadata": {},
     "output_type": "display_data"
    },
    {
     "data": {
      "image/png": "[encoded data removed]",
      "text/plain": [
       "<matplotlib.figure.Figure at 0x11e453c88>"
      ]
     },
     "metadata": {},
     "output_type": "display_data"
    }
   ],
   "source": [
    "plt.figure()\n",
    "flierprops = dict(marker='o', markerfacecolor='green', markersize=6,\n",
    "                  linestyle='none')\n",
    "bp = df.boxplot(column=['journey_time'], by=['DayOfWeek'], flierprops=flierprops, figsize=(10,7))\n",
    "plt.savefig('Rain_to_DayOfWeek_chart.pdf')"
   ]
  },
  {
   "cell_type": "markdown",
   "metadata": {},
   "source": [
    "What is this telling us that there are absolutely no outliers here?"
   ]
  },
  {
   "cell_type": "code",
   "execution_count": 63,
   "metadata": {
    "collapsed": false
   },
   "outputs": [
    {
     "data": {
      "text/plain": [
       "<matplotlib.figure.Figure at 0x120b93048>"
      ]
     },
     "metadata": {},
     "output_type": "display_data"
    },
    {
     "data": {
      "image/png": "[encoded data removed]",
      "text/plain": [
       "<matplotlib.figure.Figure at 0x11b2a6a58>"
      ]
     },
     "metadata": {},
     "output_type": "display_data"
    }
   ],
   "source": [
    "plt.figure()\n",
    "flierprops = dict(marker='o', markerfacecolor='green', markersize=6,\n",
    "                  linestyle='none')\n",
    "bp = df.boxplot(column=['journey_time'], by=['Precipitation'], flierprops=flierprops, figsize=(10,7))\n",
    "plt.savefig('Rain_to_late.pdf')"
   ]
  },
  {
   "cell_type": "code",
   "execution_count": 64,
   "metadata": {
    "collapsed": false
   },
   "outputs": [
    {
     "data": {
      "text/plain": [
       "<matplotlib.figure.Figure at 0x11ac13d68>"
      ]
     },
     "metadata": {},
     "output_type": "display_data"
    },
    {
     "data": {
      "image/png": "[encoded data removed]",
      "text/plain": [
       "<matplotlib.figure.Figure at 0x11b289b70>"
      ]
     },
     "metadata": {},
     "output_type": "display_data"
    }
   ],
   "source": [
    "plt.figure()\n",
    "flierprops = dict(marker='o', markerfacecolor='green', markersize=6,\n",
    "                  linestyle='none')\n",
    "bp = df.boxplot(column=['journey_time'], by=['Direction_north'], flierprops=flierprops, figsize=(10,7))\n",
    "plt.savefig('Journey_Pattern_ID_to_late.pdf')"
   ]
  },
  {
   "cell_type": "markdown",
   "metadata": {},
   "source": [
    "Represents direction"
   ]
  },
  {
   "cell_type": "code",
   "execution_count": 65,
   "metadata": {
    "collapsed": false,
    "scrolled": true
   },
   "outputs": [
    {
     "data": {
      "text/plain": [
       "<matplotlib.axes._subplots.AxesSubplot at 0x11ac1b2e8>"
      ]
     },
     "execution_count": 65,
     "metadata": {},
     "output_type": "execute_result"
    },
    {
     "data": {
      "image/png": "[encoded data removed]",
      "text/plain": [
       "<matplotlib.figure.Figure at 0x11f1f0630>"
      ]
     },
     "metadata": {},
     "output_type": "display_data"
    }
   ],
   "source": [
    "df.Vehicle_Journey_ID.value_counts().plot(kind='bar')"
   ]
  },
  {
   "cell_type": "markdown",
   "metadata": {},
   "source": [
    "More buses running certain vehicle journey IDs"
   ]
  },
  {
   "cell_type": "code",
   "execution_count": 66,
   "metadata": {
    "collapsed": false
   },
   "outputs": [
    {
     "data": {
      "text/plain": [
       "array([15475, 15488, 15493, 15483,  4894,  4905,  4542,  4951,  4572,\n",
       "        4585,  4936,  4915,  4906,  4952,  4543,  4558,  4575,  4925,\n",
       "        4573,  4601,  4586,  4916,  4559,  4587,  4917,  4545,  4954,\n",
       "        4918,  4898,  4561,  4579,  4590,  4929,  4957,  4591,  4549,\n",
       "        4592,  4913,  4902,  4582,  4959,  4933,  4593,  4903,  4934,\n",
       "        4945,  4904,  4568,  4949,  4555,  4895,  4896,  4937,  4544,\n",
       "        4926,  4938,  4897,  4577,  4560,  4588,  4919,  4940,  4547,\n",
       "        4562,  4920,  4563,  4942,  4564,  4565,  4932,  4944,  4923,\n",
       "        4924,  4935,  4597,  4557,  4907,  4576,  4908,  4927,  4955,\n",
       "        4910,  4911,  4580,  4958,  4550,  4594,  4595,  4947,  4946,\n",
       "       11064, 11346, 11078, 11066, 11347, 11079, 11067, 11080, 11353,\n",
       "       11068, 11349, 11092, 11093, 11339, 11351, 11083, 11096, 11097,\n",
       "       11088, 15486, 15487, 15478, 15664, 15489, 15479, 15666, 15481,\n",
       "       15482, 15670, 15495, 15485,  4556,  4953,  4928,  4900,  4921,\n",
       "        4943,  4914,  4552,  4584,  4598,  4569,  4546,  4589,  4912,\n",
       "        4574,  4939,  4931,  4596,  4553,  4578,  4909,  4941,  4930,\n",
       "        4901,  4922,  4551,  4583,  4566,  4950, 11065, 11091, 11338,\n",
       "       11082, 11350, 11070, 11071, 11084, 11357, 11095, 11072, 11085,\n",
       "       11099, 11344, 11075, 15476, 15663, 15480, 15669, 15484,  4956,\n",
       "        4960,  4948,  4554,  4899,  4548, 11334, 11090, 11336, 11348,\n",
       "       11337, 11094, 11342, 15477, 15665, 15494,  4567, 11335, 11354, 11074])"
      ]
     },
     "execution_count": 66,
     "metadata": {},
     "output_type": "execute_result"
    }
   ],
   "source": [
    "df.Vehicle_Journey_ID.unique()"
   ]
  },
  {
   "cell_type": "code",
   "execution_count": 67,
   "metadata": {
    "collapsed": false
   },
   "outputs": [
    {
     "name": "stdout",
     "output_type": "stream",
     "text": [
      "                            OLS Regression Results                            \n",
      "==============================================================================\n",
      "Dep. Variable:           journey_time   R-squared:                       0.028\n",
      "Model:                            OLS   Adj. R-squared:                  0.028\n",
      "Method:                 Least Squares   F-statistic:                     45.12\n",
      "Date:                Fri, 30 Jun 2017   Prob (F-statistic):           2.58e-11\n",
      "Time:                        13:15:48   Log-Likelihood:                -5894.0\n",
      "No. Observations:                1561   AIC:                         1.179e+04\n",
      "Df Residuals:                    1559   BIC:                         1.180e+04\n",
      "Df Model:                           1                                         \n",
      "Covariance Type:            nonrobust                                         \n",
      "===============================================================================\n",
      "                  coef    std err          t      P>|t|      [0.025      0.975]\n",
      "-------------------------------------------------------------------------------\n",
      "Intercept      64.6304      0.270    239.609      0.000      64.101      65.159\n",
      "Proper_rain    13.7770      2.051      6.717      0.000       9.754      17.800\n",
      "==============================================================================\n",
      "Omnibus:                       13.882   Durbin-Watson:                   0.575\n",
      "Prob(Omnibus):                  0.001   Jarque-Bera (JB):               20.971\n",
      "Skew:                          -0.006   Prob(JB):                     2.79e-05\n",
      "Kurtosis:                       3.568   Cond. No.                         7.67\n",
      "==============================================================================\n",
      "\n",
      "Warnings:\n",
      "[1] Standard Errors assume that the covariance matrix of the errors is correctly specified.\n"
     ]
    }
   ],
   "source": [
    "import statsmodels.formula.api as sm\n",
    "\n",
    "# Train all continuous features.\n",
    "check1 = sm.ols(formula=\"journey_time ~ Proper_rain\", data=df).fit()\n",
    "# Print the weights learned for each feature.\n",
    "print(check1.summary())"
   ]
  },
  {
   "cell_type": "code",
   "execution_count": 68,
   "metadata": {
    "collapsed": false
   },
   "outputs": [
    {
     "data": {
      "text/plain": [
       "<matplotlib.axes._subplots.AxesSubplot at 0x11c34bba8>"
      ]
     },
     "execution_count": 68,
     "metadata": {},
     "output_type": "execute_result"
    },
    {
     "data": {
      "image/png": "[encoded data removed]",
      "text/plain": [
       "<matplotlib.figure.Figure at 0x120b6acc0>"
      ]
     },
     "metadata": {},
     "output_type": "display_data"
    }
   ],
   "source": [
    "df.plot(kind = 'scatter', y='journey_time', x='Humidity')"
   ]
  },
  {
   "cell_type": "code",
   "execution_count": 69,
   "metadata": {
    "collapsed": false
   },
   "outputs": [
    {
     "data": {
      "text/plain": [
       "<matplotlib.axes._subplots.AxesSubplot at 0x11c6259b0>"
      ]
     },
     "execution_count": 69,
     "metadata": {},
     "output_type": "execute_result"
    },
    {
     "data": {
      "image/png": "[encoded data removed]",
      "text/plain": [
       "<matplotlib.figure.Figure at 0x11ac7e2b0>"
      ]
     },
     "metadata": {},
     "output_type": "display_data"
    }
   ],
   "source": [
    "df.plot(kind = 'scatter', y='journey_time', x='Precipitation')"
   ]
  },
  {
   "cell_type": "code",
   "execution_count": 70,
   "metadata": {
    "collapsed": false
   },
   "outputs": [
    {
     "data": {
      "text/plain": [
       "<matplotlib.axes._subplots.AxesSubplot at 0x11c35e1d0>"
      ]
     },
     "execution_count": 70,
     "metadata": {},
     "output_type": "execute_result"
    },
    {
     "data": {
      "image/png": "[encoded data removed]",
      "text/plain": [
       "<matplotlib.figure.Figure at 0x11ba1a978>"
      ]
     },
     "metadata": {},
     "output_type": "display_data"
    }
   ],
   "source": [
    "df.plot(kind = 'scatter', y='journey_time', x='Temperature')"
   ]
  },
  {
   "cell_type": "code",
   "execution_count": 71,
   "metadata": {
    "collapsed": false
   },
   "outputs": [
    {
     "data": {
      "text/plain": [
       "array([ 4585,  4906,  4543,  4575,  4925,  4601,  4586,  4917,  4545,\n",
       "        4954,  4918,  4898,  4561,  4579,  4929,  4591,  4549,  4592,\n",
       "        4913,  4902,  4959,  4933,  4593,  4903,  4936,  4895,  4952,\n",
       "        4558,  4916,  4937,  4544,  4587,  4938,  4577,  4560,  4588,\n",
       "        4919,  4940,  4547,  4562,  4920,  4563,  4564,  4565,  4932,\n",
       "        4944,  4915,  4907,  4576,  4908,  4927,  4955,  4911,  4580,\n",
       "        4958,  4550,  4594,  4923, 11080, 11349, 11093, 11339, 11083,\n",
       "       15664, 15489,  4951,  4897,  4928,  4590,  4900,  4943,  4582,\n",
       "        4573,  4953,  4546,  4912,  4926,  4910,  4942,  4931,  4572,\n",
       "        4559,  4578,  4589,  4921,  4914,  4896,  4909,  4941,  4957,\n",
       "        4930,  4901,  4922,  4934, 11353, 11091, 11338, 11350, 11070,\n",
       "       11351, 11071, 11357, 11095, 11085, 15663, 15488,  4956,  4905,\n",
       "        4542,  4899,  4548,  4551, 11336, 11348, 11337, 11094,  4574,\n",
       "        4960,  4945,  4566,  4584, 11335, 11347, 11090, 11354, 11092,\n",
       "       15665, 15481])"
      ]
     },
     "execution_count": 71,
     "metadata": {},
     "output_type": "execute_result"
    }
   ],
   "source": [
    "df_check_journey_ID = df.loc[df['mins_late'] > 1]\n",
    "df_check_journey_ID = df_check_journey_ID[['late','Vehicle_Journey_ID']]\n",
    "df_check_journey_ID.Vehicle_Journey_ID.unique()"
   ]
  },
  {
   "cell_type": "markdown",
   "metadata": {},
   "source": [
    "If Vehicle Journey ID starts with 9 it is never late"
   ]
  },
  {
   "cell_type": "code",
   "execution_count": 72,
   "metadata": {
    "collapsed": false
   },
   "outputs": [
    {
     "data": {
      "text/plain": [
       "297     2013-01-02 08:22:59\n",
       "1574    2013-01-03 08:21:18\n",
       "3136    2013-01-04 08:29:35\n",
       "5791    2013-01-07 08:41:04\n",
       "10580   2013-01-10 08:30:42\n",
       "12208   2013-01-11 08:41:11\n",
       "15216   2013-01-14 08:41:52\n",
       "16599   2013-01-15 08:39:06\n",
       "21640   2013-01-18 08:35:24\n",
       "24043   2013-01-21 08:41:30\n",
       "25498   2013-01-22 08:32:19\n",
       "27029   2013-01-23 08:42:54\n",
       "32345   2013-01-28 08:38:46\n",
       "33687   2013-01-29 08:43:20\n",
       "Name: Time, dtype: datetime64[ns]"
      ]
     },
     "execution_count": 72,
     "metadata": {},
     "output_type": "execute_result"
    }
   ],
   "source": [
    "df_check_2 = df.loc[(df.Vehicle_Journey_ID == 4585) & (df.Stop_ID == '7226')]\n",
    "df_check_2.Time"
   ]
  },
  {
   "cell_type": "code",
   "execution_count": 73,
   "metadata": {
    "collapsed": false
   },
   "outputs": [
    {
     "data": {
      "text/plain": [
       "(0, 100)"
      ]
     },
     "execution_count": 73,
     "metadata": {},
     "output_type": "execute_result"
    },
    {
     "data": {
      "image/png": "[encoded data removed]",
      "text/plain": [
       "<matplotlib.figure.Figure at 0x11e490ac8>"
      ]
     },
     "metadata": {},
     "output_type": "display_data"
    }
   ],
   "source": [
    "SchoolHoliday = pd.unique(df.SchoolHoliday.ravel())\n",
    "\n",
    "# Insert a new column called 'percent' and fill it with 0s\n",
    "df['percent'] = 0\n",
    "\n",
    "for p in SchoolHoliday:\n",
    "    count = 1 / df[df.SchoolHoliday == p].count()['late']\n",
    "    index_list = df[df['SchoolHoliday'] == p].index.tolist()\n",
    "    for i in index_list:\n",
    "        df.loc[i, 'percent'] = count * 100\n",
    "        \n",
    "# Group dataframe and sum percent\n",
    "group = df[['percent','SchoolHoliday','late']].groupby(['SchoolHoliday','late']).sum()\n",
    "\n",
    "# Plot values of group in a stacked bar chart\n",
    "my_plot = group.unstack().plot(kind='bar', stacked=True, title=\"SchoolHoliday by Late\", figsize=(15,7))\n",
    "\n",
    "# Define label colours and text and add to the plot\n",
    "red_patch = mpatches.Patch(color='green', label='Late')\n",
    "blue_patch = mpatches.Patch(color='blue', label='NotLate')\n",
    "my_plot.legend(handles=[red_patch, blue_patch], frameon = True)\n",
    "\n",
    "# Define x and y labels and min and max values for the y axis\n",
    "my_plot.set_xlabel(\"SchoolHoliday\")\n",
    "my_plot.set_ylabel(\"late\")\n",
    "my_plot.set_ylim([0,100])"
   ]
  },
  {
   "cell_type": "code",
   "execution_count": 74,
   "metadata": {
    "collapsed": false
   },
   "outputs": [
    {
     "data": {
      "text/plain": [
       "(0, 100)"
      ]
     },
     "execution_count": 74,
     "metadata": {},
     "output_type": "execute_result"
    },
    {
     "data": {
      "image/png": "[encoded data removed]",
      "text/plain": [
       "<matplotlib.figure.Figure at 0x12003e630>"
      ]
     },
     "metadata": {},
     "output_type": "display_data"
    }
   ],
   "source": [
    "BankHoliday = pd.unique(df.BankHoliday.ravel())\n",
    "\n",
    "# Insert a new column called 'percent' and fill it with 0s\n",
    "df['percent'] = 0\n",
    "\n",
    "for p in BankHoliday:\n",
    "    count = 1 / df[df.BankHoliday == p].count()['late']\n",
    "    index_list = df[df['BankHoliday'] == p].index.tolist()\n",
    "    for i in index_list:\n",
    "        df.loc[i, 'percent'] = count * 100\n",
    "        \n",
    "# Group dataframe and sum percent\n",
    "group = df[['percent','BankHoliday','late']].groupby(['BankHoliday','late']).sum()\n",
    "\n",
    "# Plot values of group in a stacked bar chart\n",
    "my_plot = group.unstack().plot(kind='bar', stacked=True, title=\"BankHoliday by Late\", figsize=(15,7))\n",
    "\n",
    "# Define label colours and text and add to the plot\n",
    "red_patch = mpatches.Patch(color='green', label='Late')\n",
    "blue_patch = mpatches.Patch(color='blue', label='NotLate')\n",
    "my_plot.legend(handles=[red_patch, blue_patch], frameon = True)\n",
    "\n",
    "# Define x and y labels and min and max values for the y axis\n",
    "my_plot.set_xlabel(\"BankHoliday\")\n",
    "my_plot.set_ylabel(\"late\")\n",
    "my_plot.set_ylim([0,100])"
   ]
  },
  {
   "cell_type": "code",
   "execution_count": 75,
   "metadata": {
    "collapsed": false
   },
   "outputs": [
    {
     "data": {
      "text/plain": [
       "(0, 100)"
      ]
     },
     "execution_count": 75,
     "metadata": {},
     "output_type": "execute_result"
    },
    {
     "data": {
      "image/png": "[encoded data removed]",
      "text/plain": [
       "<matplotlib.figure.Figure at 0x11afa5208>"
      ]
     },
     "metadata": {},
     "output_type": "display_data"
    }
   ],
   "source": [
    "IsWeekend = pd.unique(df.IsWeekend.ravel())\n",
    "\n",
    "# Insert a new column called 'percent' and fill it with 0s\n",
    "df['percent'] = 0\n",
    "\n",
    "for p in SchoolHoliday:\n",
    "    count = 1 / df[df.IsWeekend == p].count()['late']\n",
    "    index_list = df[df['IsWeekend'] == p].index.tolist()\n",
    "    for i in index_list:\n",
    "        df.loc[i, 'percent'] = count * 100\n",
    "        \n",
    "# Group dataframe and sum percent\n",
    "group = df[['percent','IsWeekend','late']].groupby(['IsWeekend','late']).sum()\n",
    "\n",
    "# Plot values of group in a stacked bar chart\n",
    "my_plot = group.unstack().plot(kind='bar', stacked=True, title=\"IsWeekend by Late\", figsize=(15,7))\n",
    "\n",
    "# Define label colours and text and add to the plot\n",
    "red_patch = mpatches.Patch(color='green', label='Late')\n",
    "blue_patch = mpatches.Patch(color='blue', label='NotLate')\n",
    "my_plot.legend(handles=[red_patch, blue_patch], frameon = True)\n",
    "\n",
    "# Define x and y labels and min and max values for the y axis\n",
    "my_plot.set_xlabel(\"IsWeekend\")\n",
    "my_plot.set_ylabel(\"late\")\n",
    "my_plot.set_ylim([0,100])"
   ]
  },
  {
   "cell_type": "code",
   "execution_count": 76,
   "metadata": {
    "collapsed": false
   },
   "outputs": [
    {
     "data": {
      "text/plain": [
       "(0, 100)"
      ]
     },
     "execution_count": 76,
     "metadata": {},
     "output_type": "execute_result"
    },
    {
     "data": {
      "image/png": "[encoded data removed]",
      "text/plain": [
       "<matplotlib.figure.Figure at 0x11a612f60>"
      ]
     },
     "metadata": {},
     "output_type": "display_data"
    }
   ],
   "source": [
    "# Group dataframe  and sum percent\n",
    "group = df[['percent','DayOfWeek','late']].groupby(['DayOfWeek','late']).sum()\n",
    "\n",
    "# Plot values of group in a stacked bar chart\n",
    "my_plot = group.unstack().plot(kind='bar', stacked=True, title=\"DayOfWeek by Late\", figsize=(15,7))\n",
    "\n",
    "# Define label colours and text and add to the plot\n",
    "red_patch = mpatches.Patch(color='green', label='Late')\n",
    "blue_patch = mpatches.Patch(color='blue', label='NotLate')\n",
    "my_plot.legend(handles=[red_patch, blue_patch], frameon = True)\n",
    "\n",
    "# Define x and y labels and min and max values for the y axis\n",
    "my_plot.set_xlabel(\"DayOfWeek\")\n",
    "my_plot.set_ylabel(\"late\")\n",
    "my_plot.set_ylim([0,100])"
   ]
  },
  {
   "cell_type": "code",
   "execution_count": 77,
   "metadata": {
    "collapsed": false
   },
   "outputs": [
    {
     "data": {
      "text/plain": [
       "(0, 100)"
      ]
     },
     "execution_count": 77,
     "metadata": {},
     "output_type": "execute_result"
    },
    {
     "data": {
      "image/png": "[encoded data removed]",
      "text/plain": [
       "<matplotlib.figure.Figure at 0x11acd7940>"
      ]
     },
     "metadata": {},
     "output_type": "display_data"
    }
   ],
   "source": [
    "# Group dataframe and sum percent\n",
    "group = df[['percent','HourOfDay','late']].groupby(['HourOfDay','late']).sum()\n",
    "\n",
    "# Plot values of group in a stacked bar chart\n",
    "my_plot = group.unstack().plot(kind='bar', stacked=True, title=\"HourOfDay by Late\", figsize=(15,7))\n",
    "\n",
    "# Define label colours and text and add to the plot\n",
    "red_patch = mpatches.Patch(color='green', label='Late')\n",
    "blue_patch = mpatches.Patch(color='blue', label='NotLate')\n",
    "my_plot.legend(handles=[red_patch, blue_patch], frameon = True)\n",
    "\n",
    "# Define x and y labels and min and max values for the y axis\n",
    "my_plot.set_xlabel(\"HourOfDay\")\n",
    "my_plot.set_ylabel(\"late\")\n",
    "my_plot.set_ylim([0,100])"
   ]
  },
  {
   "cell_type": "code",
   "execution_count": 78,
   "metadata": {
    "collapsed": false
   },
   "outputs": [],
   "source": [
    "bins=[10,20,30,40,50,60,70,80,90,100,110]"
   ]
  },
  {
   "cell_type": "code",
   "execution_count": 79,
   "metadata": {
    "collapsed": false
   },
   "outputs": [
    {
     "data": {
      "text/plain": [
       "array([ 4,  5,  6,  7,  3,  8,  9,  0, 10])"
      ]
     },
     "execution_count": 79,
     "metadata": {},
     "output_type": "execute_result"
    }
   ],
   "source": [
    "df['time_bins'] = np.digitize(df.journey_time.values, bins=bins)\n",
    "df.time_bins.unique()"
   ]
  },
  {
   "cell_type": "code",
   "execution_count": 80,
   "metadata": {
    "collapsed": false
   },
   "outputs": [
    {
     "data": {
      "text/plain": [
       "(1561, 42)"
      ]
     },
     "execution_count": 80,
     "metadata": {},
     "output_type": "execute_result"
    }
   ],
   "source": [
    "df.shape"
   ]
  },
  {
   "cell_type": "code",
   "execution_count": 81,
   "metadata": {
    "collapsed": false
   },
   "outputs": [
    {
     "data": {
      "text/html": [
       "<div>\n",
       "<style>\n",
       "    .dataframe thead tr:only-child th {\n",
       "        text-align: right;\n",
       "    }\n",
       "\n",
       "    .dataframe thead th {\n",
       "        text-align: left;\n",
       "    }\n",
       "\n",
       "    .dataframe tbody tr th {\n",
       "        vertical-align: top;\n",
       "    }\n",
       "</style>\n",
       "<table border=\"1\" class=\"dataframe\">\n",
       "  <thead>\n",
       "    <tr style=\"text-align: right;\">\n",
       "      <th></th>\n",
       "      <th>journey_time</th>\n",
       "      <th>Vehicle_Journey_ID</th>\n",
       "      <th>Time</th>\n",
       "      <th>stop_order</th>\n",
       "      <th>Stop_ID</th>\n",
       "      <th>end_time</th>\n",
       "    </tr>\n",
       "  </thead>\n",
       "  <tbody>\n",
       "    <tr>\n",
       "      <th>13660</th>\n",
       "      <td>0.0</td>\n",
       "      <td>4904</td>\n",
       "      <td>2013-01-11 20:34:46</td>\n",
       "      <td>2</td>\n",
       "      <td>332</td>\n",
       "      <td>1357936486000000</td>\n",
       "    </tr>\n",
       "  </tbody>\n",
       "</table>\n",
       "</div>"
      ],
      "text/plain": [
       "       journey_time  Vehicle_Journey_ID                Time  stop_order  \\\n",
       "13660           0.0                4904 2013-01-11 20:34:46           2   \n",
       "\n",
       "      Stop_ID          end_time  \n",
       "13660     332  1357936486000000  "
      ]
     },
     "execution_count": 81,
     "metadata": {},
     "output_type": "execute_result"
    }
   ],
   "source": [
    "df_check_journey_time = df.loc[df['journey_time'] < 20]\n",
    "df_check_journey_time = df_check_journey_time[['journey_time','Vehicle_Journey_ID', 'Time', 'stop_order', 'Stop_ID', 'end_time']]\n",
    "df_check_journey_time.sort_values(['journey_time'], ascending=[True])"
   ]
  },
  {
   "cell_type": "markdown",
   "metadata": {},
   "source": [
    "# 4.0 Save DF to be used in Model Analysis"
   ]
  },
  {
   "cell_type": "code",
   "execution_count": 82,
   "metadata": {
    "collapsed": true
   },
   "outputs": [],
   "source": [
    "# Save cleaned dataframe to new CSV file\n",
    "df.to_csv('csv_data/bus_route4_clean.csv', index=False)"
   ]
  },
  {
   "cell_type": "markdown",
   "metadata": {},
   "source": [
    "---"
   ]
  },
  {
   "cell_type": "code",
   "execution_count": 83,
   "metadata": {
    "collapsed": true
   },
   "outputs": [],
   "source": [
    "df_train = df[:130000]"
   ]
  },
  {
   "cell_type": "code",
   "execution_count": 84,
   "metadata": {
    "collapsed": true
   },
   "outputs": [],
   "source": [
    "df_test = df[130000:]"
   ]
  },
  {
   "cell_type": "markdown",
   "metadata": {
    "collapsed": true
   },
   "source": [
    "df_group = df.groupby(['Vehicle_Journey_ID', 'Start_date'])"
   ]
  },
  {
   "cell_type": "code",
   "execution_count": null,
   "metadata": {
    "collapsed": true
   },
   "outputs": [],
   "source": []
  }
 ],
 "metadata": {
  "anaconda-cloud": {},
  "kernelspec": {
   "display_name": "Python [default]",
   "language": "python",
   "name": "python3"
  },
  "language_info": {
   "codemirror_mode": {
    "name": "ipython",
    "version": 3
   },
   "file_extension": ".py",
   "mimetype": "text/x-python",
   "name": "python",
   "nbconvert_exporter": "python",
   "pygments_lexer": "ipython3",
   "version": "3.5.2"
  }
 },
 "nbformat": 4,
 "nbformat_minor": 1
}
